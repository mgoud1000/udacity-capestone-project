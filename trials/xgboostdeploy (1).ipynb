{
 "cells": [
  {
   "cell_type": "code",
   "execution_count": 2,
   "id": "64df4ccc-6637-42b3-8a50-955a93856804",
   "metadata": {},
   "outputs": [],
   "source": [
    "import boto3\n",
    "s3=boto3.resource('s3')"
   ]
  },
  {
   "cell_type": "code",
   "execution_count": 6,
   "id": "6dee833c-a592-47a6-96f8-75e9e1305b8f",
   "metadata": {},
   "outputs": [
    {
     "name": "stdout",
     "output_type": "stream",
     "text": [
      "S3 bucket fractionatordata was created\n"
     ]
    }
   ],
   "source": [
    "bucket_name='fractionatordata'\n",
    "try:\n",
    "    s3.create_bucket(Bucket=bucket_name)\n",
    "    print(\"S3 bucket {} was created\".format(bucket_name))\n",
    "except Exception as e:\n",
    "    print(\"S3 error: \",e)"
   ]
  },
  {
   "cell_type": "code",
   "execution_count": 8,
   "id": "20c4fc09-706e-4302-bff0-5b5212a63348",
   "metadata": {},
   "outputs": [],
   "source": [
    "import numpy as np\n",
    "import matplotlib.pyplot as plt\n",
    "import pandas as pd\n",
    "import sklearn\n",
    "from scipy import stats\n",
    "from sklearn.metrics import mean_absolute_error \n",
    "from sklearn.metrics import mean_squared_error \n",
    "from sklearn.metrics import median_absolute_error\n",
    "from datetime import date\n",
    "from sklearn.preprocessing import MinMaxScaler\n"
   ]
  },
  {
   "cell_type": "code",
   "execution_count": 9,
   "id": "a2a75a31-2158-429c-ae64-bf8954a97c79",
   "metadata": {},
   "outputs": [],
   "source": [
    "df=pd.read_csv('Fractionator.csv')"
   ]
  },
  {
   "cell_type": "code",
   "execution_count": 10,
   "id": "bf997e2e-fc26-469a-800e-0f09135b4005",
   "metadata": {},
   "outputs": [],
   "source": [
    "df['Time']=pd.to_datetime(df['Time'])"
   ]
  },
  {
   "cell_type": "code",
   "execution_count": 11,
   "id": "38caa96e-d776-4ff3-b890-17df9c287827",
   "metadata": {},
   "outputs": [],
   "source": [
    "df=df[(np.abs(stats.zscore(df[\"AI_2020_OVERHEAD_C5'S_MOL\"])) < 3)]"
   ]
  },
  {
   "cell_type": "code",
   "execution_count": 12,
   "id": "d7fedc69-d502-4ef8-9089-63809e2a3bfa",
   "metadata": {},
   "outputs": [],
   "source": [
    "df.rename(columns = {\"AI_2020_OVERHEAD_C5'S_MOL\":\"AI_top\",\"AI_2021_MIDDLE_C7'S_MOL\":\"AI_middle\",\"AI_2022_BOTTOM_C3'S_MOL\":\"AI_bottom\",\n",
    "                          'FIC_2100_PV_FEED_FURNACE_FUEL_SCFH':'Furnace' ,'FIC_2004_PV_TOP_REFLUX_MBBL/D':'Reflux_top',\n",
    "                    'FI-2005_PV_FEED_FLOW_MBBL/D':'Feed'\n",
    " }, inplace = True)"
   ]
  },
  {
   "cell_type": "code",
   "execution_count": 13,
   "id": "c5f03b5c-eb1b-41e4-8974-703cb0306043",
   "metadata": {},
   "outputs": [],
   "source": [
    "df_uni=df[['AI_top','Furnace','Feed','Reflux_top',]]"
   ]
  },
  {
   "cell_type": "code",
   "execution_count": 14,
   "id": "50c85427-dbb3-492a-8647-229b7d6b782c",
   "metadata": {},
   "outputs": [],
   "source": [
    "df_Xgb=df_uni[['AI_top']]"
   ]
  },
  {
   "cell_type": "code",
   "execution_count": 15,
   "id": "5ca219b6-282f-44b4-9934-ff19415f9cdb",
   "metadata": {},
   "outputs": [
    {
     "data": {
      "text/html": [
       "<div>\n",
       "<style scoped>\n",
       "    .dataframe tbody tr th:only-of-type {\n",
       "        vertical-align: middle;\n",
       "    }\n",
       "\n",
       "    .dataframe tbody tr th {\n",
       "        vertical-align: top;\n",
       "    }\n",
       "\n",
       "    .dataframe thead th {\n",
       "        text-align: right;\n",
       "    }\n",
       "</style>\n",
       "<table border=\"1\" class=\"dataframe\">\n",
       "  <thead>\n",
       "    <tr style=\"text-align: right;\">\n",
       "      <th></th>\n",
       "      <th>AI_top</th>\n",
       "    </tr>\n",
       "  </thead>\n",
       "  <tbody>\n",
       "    <tr>\n",
       "      <th>0</th>\n",
       "      <td>2.00000</td>\n",
       "    </tr>\n",
       "    <tr>\n",
       "      <th>1</th>\n",
       "      <td>2.00360</td>\n",
       "    </tr>\n",
       "    <tr>\n",
       "      <th>2</th>\n",
       "      <td>2.00870</td>\n",
       "    </tr>\n",
       "    <tr>\n",
       "      <th>3</th>\n",
       "      <td>2.00385</td>\n",
       "    </tr>\n",
       "    <tr>\n",
       "      <th>4</th>\n",
       "      <td>1.99852</td>\n",
       "    </tr>\n",
       "  </tbody>\n",
       "</table>\n",
       "</div>"
      ],
      "text/plain": [
       "    AI_top\n",
       "0  2.00000\n",
       "1  2.00360\n",
       "2  2.00870\n",
       "3  2.00385\n",
       "4  1.99852"
      ]
     },
     "execution_count": 15,
     "metadata": {},
     "output_type": "execute_result"
    }
   ],
   "source": [
    "df_Xgb.head()"
   ]
  },
  {
   "cell_type": "code",
   "execution_count": 64,
   "id": "c3d96332-bd22-4a3a-91f2-5b3406e5f4f0",
   "metadata": {},
   "outputs": [],
   "source": [
    "def df_to_X_y(df, window_size=10):\n",
    "  df_np = df_Xgb.to_numpy()\n",
    "  X = []\n",
    "  y = []\n",
    "  for i in range(len(df_np)-window_size):\n",
    "    row = [r for r in df_np[i:i+window_size]]\n",
    "    X.append(row)\n",
    "    label = df_np[i+window_size][0]\n",
    "    y.append(label)\n",
    "  return np.array(X), np.array(y)"
   ]
  },
  {
   "cell_type": "code",
   "execution_count": 65,
   "id": "659df495-5a81-4995-bc41-d9a7d6156d0b",
   "metadata": {},
   "outputs": [
    {
     "data": {
      "text/plain": [
       "((5719, 10, 1), (5719,))"
      ]
     },
     "execution_count": 65,
     "metadata": {},
     "output_type": "execute_result"
    }
   ],
   "source": [
    "X,y= df_to_X_y(df_Xgb,window_size=10)\n",
    "X.shape, y.shape"
   ]
  },
  {
   "cell_type": "code",
   "execution_count": 66,
   "id": "35c73c7b-18cc-4d87-a9f5-1ec842fd44a5",
   "metadata": {},
   "outputs": [
    {
     "name": "stdout",
     "output_type": "stream",
     "text": [
      "(5719,)\n"
     ]
    },
    {
     "data": {
      "text/plain": [
       "(5719, 10)"
      ]
     },
     "execution_count": 66,
     "metadata": {},
     "output_type": "execute_result"
    }
   ],
   "source": [
    "y=y.reshape([5719])\n",
    "print(y.shape)\n",
    "X=X.reshape([5719,10])\n",
    "X.shape"
   ]
  },
  {
   "cell_type": "code",
   "execution_count": 69,
   "id": "aa241d4d-fed3-493f-b5bb-41385d956cca",
   "metadata": {
    "tags": []
   },
   "outputs": [
    {
     "data": {
      "text/html": [
       "<div>\n",
       "<style scoped>\n",
       "    .dataframe tbody tr th:only-of-type {\n",
       "        vertical-align: middle;\n",
       "    }\n",
       "\n",
       "    .dataframe tbody tr th {\n",
       "        vertical-align: top;\n",
       "    }\n",
       "\n",
       "    .dataframe thead th {\n",
       "        text-align: right;\n",
       "    }\n",
       "</style>\n",
       "<table border=\"1\" class=\"dataframe\">\n",
       "  <thead>\n",
       "    <tr style=\"text-align: right;\">\n",
       "      <th></th>\n",
       "      <th>t0</th>\n",
       "      <th>t1</th>\n",
       "      <th>t2</th>\n",
       "      <th>t3</th>\n",
       "      <th>t4</th>\n",
       "      <th>t5</th>\n",
       "      <th>t6</th>\n",
       "      <th>t7</th>\n",
       "      <th>t8</th>\n",
       "      <th>t9</th>\n",
       "    </tr>\n",
       "  </thead>\n",
       "  <tbody>\n",
       "    <tr>\n",
       "      <th>0</th>\n",
       "      <td>2.00000</td>\n",
       "      <td>2.00360</td>\n",
       "      <td>2.00870</td>\n",
       "      <td>2.00385</td>\n",
       "      <td>1.99852</td>\n",
       "      <td>1.99710</td>\n",
       "      <td>2.00260</td>\n",
       "      <td>2.01440</td>\n",
       "      <td>2.01669</td>\n",
       "      <td>2.02368</td>\n",
       "    </tr>\n",
       "    <tr>\n",
       "      <th>1</th>\n",
       "      <td>2.00360</td>\n",
       "      <td>2.00870</td>\n",
       "      <td>2.00385</td>\n",
       "      <td>1.99852</td>\n",
       "      <td>1.99710</td>\n",
       "      <td>2.00260</td>\n",
       "      <td>2.01440</td>\n",
       "      <td>2.01669</td>\n",
       "      <td>2.02368</td>\n",
       "      <td>2.01608</td>\n",
       "    </tr>\n",
       "    <tr>\n",
       "      <th>2</th>\n",
       "      <td>2.00870</td>\n",
       "      <td>2.00385</td>\n",
       "      <td>1.99852</td>\n",
       "      <td>1.99710</td>\n",
       "      <td>2.00260</td>\n",
       "      <td>2.01440</td>\n",
       "      <td>2.01669</td>\n",
       "      <td>2.02368</td>\n",
       "      <td>2.01608</td>\n",
       "      <td>2.02237</td>\n",
       "    </tr>\n",
       "    <tr>\n",
       "      <th>3</th>\n",
       "      <td>2.00385</td>\n",
       "      <td>1.99852</td>\n",
       "      <td>1.99710</td>\n",
       "      <td>2.00260</td>\n",
       "      <td>2.01440</td>\n",
       "      <td>2.01669</td>\n",
       "      <td>2.02368</td>\n",
       "      <td>2.01608</td>\n",
       "      <td>2.02237</td>\n",
       "      <td>2.02020</td>\n",
       "    </tr>\n",
       "    <tr>\n",
       "      <th>4</th>\n",
       "      <td>1.99852</td>\n",
       "      <td>1.99710</td>\n",
       "      <td>2.00260</td>\n",
       "      <td>2.01440</td>\n",
       "      <td>2.01669</td>\n",
       "      <td>2.02368</td>\n",
       "      <td>2.01608</td>\n",
       "      <td>2.02237</td>\n",
       "      <td>2.02020</td>\n",
       "      <td>2.01924</td>\n",
       "    </tr>\n",
       "  </tbody>\n",
       "</table>\n",
       "</div>"
      ],
      "text/plain": [
       "        t0       t1       t2       t3       t4       t5       t6       t7  \\\n",
       "0  2.00000  2.00360  2.00870  2.00385  1.99852  1.99710  2.00260  2.01440   \n",
       "1  2.00360  2.00870  2.00385  1.99852  1.99710  2.00260  2.01440  2.01669   \n",
       "2  2.00870  2.00385  1.99852  1.99710  2.00260  2.01440  2.01669  2.02368   \n",
       "3  2.00385  1.99852  1.99710  2.00260  2.01440  2.01669  2.02368  2.01608   \n",
       "4  1.99852  1.99710  2.00260  2.01440  2.01669  2.02368  2.01608  2.02237   \n",
       "\n",
       "        t8       t9  \n",
       "0  2.01669  2.02368  \n",
       "1  2.02368  2.01608  \n",
       "2  2.01608  2.02237  \n",
       "3  2.02237  2.02020  \n",
       "4  2.02020  2.01924  "
      ]
     },
     "execution_count": 69,
     "metadata": {},
     "output_type": "execute_result"
    }
   ],
   "source": [
    "X_dataframe=pd.DataFrame(X,columns=['t0','t1','t2','t3','t4','t5','t6','t7','t8','t9'])\n",
    "X_dataframe.head()"
   ]
  },
  {
   "cell_type": "code",
   "execution_count": 70,
   "id": "8145937b-a19b-414d-a41c-a15af5799714",
   "metadata": {
    "tags": []
   },
   "outputs": [
    {
     "data": {
      "text/html": [
       "<div>\n",
       "<style scoped>\n",
       "    .dataframe tbody tr th:only-of-type {\n",
       "        vertical-align: middle;\n",
       "    }\n",
       "\n",
       "    .dataframe tbody tr th {\n",
       "        vertical-align: top;\n",
       "    }\n",
       "\n",
       "    .dataframe thead th {\n",
       "        text-align: right;\n",
       "    }\n",
       "</style>\n",
       "<table border=\"1\" class=\"dataframe\">\n",
       "  <thead>\n",
       "    <tr style=\"text-align: right;\">\n",
       "      <th></th>\n",
       "      <th>t10</th>\n",
       "    </tr>\n",
       "  </thead>\n",
       "  <tbody>\n",
       "    <tr>\n",
       "      <th>0</th>\n",
       "      <td>2.01608</td>\n",
       "    </tr>\n",
       "    <tr>\n",
       "      <th>1</th>\n",
       "      <td>2.02237</td>\n",
       "    </tr>\n",
       "    <tr>\n",
       "      <th>2</th>\n",
       "      <td>2.02020</td>\n",
       "    </tr>\n",
       "    <tr>\n",
       "      <th>3</th>\n",
       "      <td>2.01924</td>\n",
       "    </tr>\n",
       "    <tr>\n",
       "      <th>4</th>\n",
       "      <td>2.01335</td>\n",
       "    </tr>\n",
       "  </tbody>\n",
       "</table>\n",
       "</div>"
      ],
      "text/plain": [
       "       t10\n",
       "0  2.01608\n",
       "1  2.02237\n",
       "2  2.02020\n",
       "3  2.01924\n",
       "4  2.01335"
      ]
     },
     "execution_count": 70,
     "metadata": {},
     "output_type": "execute_result"
    }
   ],
   "source": [
    "y_dataframe=pd.DataFrame(y,columns=['t10'])\n",
    "y_dataframe.head()"
   ]
  },
  {
   "cell_type": "code",
   "execution_count": 96,
   "id": "657e9944-0f72-451f-ad58-05c9f82a8343",
   "metadata": {
    "tags": []
   },
   "outputs": [
    {
     "data": {
      "text/html": [
       "<div>\n",
       "<style scoped>\n",
       "    .dataframe tbody tr th:only-of-type {\n",
       "        vertical-align: middle;\n",
       "    }\n",
       "\n",
       "    .dataframe tbody tr th {\n",
       "        vertical-align: top;\n",
       "    }\n",
       "\n",
       "    .dataframe thead th {\n",
       "        text-align: right;\n",
       "    }\n",
       "</style>\n",
       "<table border=\"1\" class=\"dataframe\">\n",
       "  <thead>\n",
       "    <tr style=\"text-align: right;\">\n",
       "      <th></th>\n",
       "      <th>t10</th>\n",
       "      <th>t0</th>\n",
       "      <th>t1</th>\n",
       "      <th>t2</th>\n",
       "      <th>t3</th>\n",
       "      <th>t4</th>\n",
       "      <th>t5</th>\n",
       "      <th>t6</th>\n",
       "      <th>t7</th>\n",
       "      <th>t8</th>\n",
       "      <th>t9</th>\n",
       "    </tr>\n",
       "  </thead>\n",
       "  <tbody>\n",
       "    <tr>\n",
       "      <th>0</th>\n",
       "      <td>2.01608</td>\n",
       "      <td>2.00000</td>\n",
       "      <td>2.00360</td>\n",
       "      <td>2.00870</td>\n",
       "      <td>2.00385</td>\n",
       "      <td>1.99852</td>\n",
       "      <td>1.99710</td>\n",
       "      <td>2.00260</td>\n",
       "      <td>2.01440</td>\n",
       "      <td>2.01669</td>\n",
       "      <td>2.02368</td>\n",
       "    </tr>\n",
       "    <tr>\n",
       "      <th>1</th>\n",
       "      <td>2.02237</td>\n",
       "      <td>2.00360</td>\n",
       "      <td>2.00870</td>\n",
       "      <td>2.00385</td>\n",
       "      <td>1.99852</td>\n",
       "      <td>1.99710</td>\n",
       "      <td>2.00260</td>\n",
       "      <td>2.01440</td>\n",
       "      <td>2.01669</td>\n",
       "      <td>2.02368</td>\n",
       "      <td>2.01608</td>\n",
       "    </tr>\n",
       "    <tr>\n",
       "      <th>2</th>\n",
       "      <td>2.02020</td>\n",
       "      <td>2.00870</td>\n",
       "      <td>2.00385</td>\n",
       "      <td>1.99852</td>\n",
       "      <td>1.99710</td>\n",
       "      <td>2.00260</td>\n",
       "      <td>2.01440</td>\n",
       "      <td>2.01669</td>\n",
       "      <td>2.02368</td>\n",
       "      <td>2.01608</td>\n",
       "      <td>2.02237</td>\n",
       "    </tr>\n",
       "    <tr>\n",
       "      <th>3</th>\n",
       "      <td>2.01924</td>\n",
       "      <td>2.00385</td>\n",
       "      <td>1.99852</td>\n",
       "      <td>1.99710</td>\n",
       "      <td>2.00260</td>\n",
       "      <td>2.01440</td>\n",
       "      <td>2.01669</td>\n",
       "      <td>2.02368</td>\n",
       "      <td>2.01608</td>\n",
       "      <td>2.02237</td>\n",
       "      <td>2.02020</td>\n",
       "    </tr>\n",
       "    <tr>\n",
       "      <th>4</th>\n",
       "      <td>2.01335</td>\n",
       "      <td>1.99852</td>\n",
       "      <td>1.99710</td>\n",
       "      <td>2.00260</td>\n",
       "      <td>2.01440</td>\n",
       "      <td>2.01669</td>\n",
       "      <td>2.02368</td>\n",
       "      <td>2.01608</td>\n",
       "      <td>2.02237</td>\n",
       "      <td>2.02020</td>\n",
       "      <td>2.01924</td>\n",
       "    </tr>\n",
       "  </tbody>\n",
       "</table>\n",
       "</div>"
      ],
      "text/plain": [
       "       t10       t0       t1       t2       t3       t4       t5       t6  \\\n",
       "0  2.01608  2.00000  2.00360  2.00870  2.00385  1.99852  1.99710  2.00260   \n",
       "1  2.02237  2.00360  2.00870  2.00385  1.99852  1.99710  2.00260  2.01440   \n",
       "2  2.02020  2.00870  2.00385  1.99852  1.99710  2.00260  2.01440  2.01669   \n",
       "3  2.01924  2.00385  1.99852  1.99710  2.00260  2.01440  2.01669  2.02368   \n",
       "4  2.01335  1.99852  1.99710  2.00260  2.01440  2.01669  2.02368  2.01608   \n",
       "\n",
       "        t7       t8       t9  \n",
       "0  2.01440  2.01669  2.02368  \n",
       "1  2.01669  2.02368  2.01608  \n",
       "2  2.02368  2.01608  2.02237  \n",
       "3  2.01608  2.02237  2.02020  \n",
       "4  2.02237  2.02020  2.01924  "
      ]
     },
     "execution_count": 96,
     "metadata": {},
     "output_type": "execute_result"
    }
   ],
   "source": [
    "xy=pd.DataFrame()\n",
    "xy['t10']=y_dataframe['t10']\n",
    "xy[['t0','t1','t2','t3','t4','t5','t6','t7','t8','t9']]=X_dataframe[['t0','t1','t2','t3','t4','t5','t6','t7','t8','t9']]\n",
    "xy.head()\n",
    "\n"
   ]
  },
  {
   "cell_type": "code",
   "execution_count": 159,
   "id": "8fe9ad3f-3da3-4cf3-bcfa-664e29bde149",
   "metadata": {
    "tags": []
   },
   "outputs": [
    {
     "data": {
      "text/html": [
       "<div>\n",
       "<style scoped>\n",
       "    .dataframe tbody tr th:only-of-type {\n",
       "        vertical-align: middle;\n",
       "    }\n",
       "\n",
       "    .dataframe tbody tr th {\n",
       "        vertical-align: top;\n",
       "    }\n",
       "\n",
       "    .dataframe thead th {\n",
       "        text-align: right;\n",
       "    }\n",
       "</style>\n",
       "<table border=\"1\" class=\"dataframe\">\n",
       "  <thead>\n",
       "    <tr style=\"text-align: right;\">\n",
       "      <th></th>\n",
       "      <th>t10</th>\n",
       "      <th>t0</th>\n",
       "      <th>t1</th>\n",
       "      <th>t2</th>\n",
       "      <th>t3</th>\n",
       "      <th>t4</th>\n",
       "      <th>t5</th>\n",
       "      <th>t6</th>\n",
       "      <th>t7</th>\n",
       "      <th>t8</th>\n",
       "      <th>t9</th>\n",
       "    </tr>\n",
       "  </thead>\n",
       "  <tbody>\n",
       "    <tr>\n",
       "      <th>5714</th>\n",
       "      <td>1.66446</td>\n",
       "      <td>1.71108</td>\n",
       "      <td>1.71109</td>\n",
       "      <td>1.69975</td>\n",
       "      <td>1.69506</td>\n",
       "      <td>1.68498</td>\n",
       "      <td>1.68894</td>\n",
       "      <td>1.68242</td>\n",
       "      <td>1.68244</td>\n",
       "      <td>1.67338</td>\n",
       "      <td>1.67325</td>\n",
       "    </tr>\n",
       "    <tr>\n",
       "      <th>5715</th>\n",
       "      <td>1.66227</td>\n",
       "      <td>1.71109</td>\n",
       "      <td>1.69975</td>\n",
       "      <td>1.69506</td>\n",
       "      <td>1.68498</td>\n",
       "      <td>1.68894</td>\n",
       "      <td>1.68242</td>\n",
       "      <td>1.68244</td>\n",
       "      <td>1.67338</td>\n",
       "      <td>1.67325</td>\n",
       "      <td>1.66446</td>\n",
       "    </tr>\n",
       "    <tr>\n",
       "      <th>5716</th>\n",
       "      <td>1.65845</td>\n",
       "      <td>1.69975</td>\n",
       "      <td>1.69506</td>\n",
       "      <td>1.68498</td>\n",
       "      <td>1.68894</td>\n",
       "      <td>1.68242</td>\n",
       "      <td>1.68244</td>\n",
       "      <td>1.67338</td>\n",
       "      <td>1.67325</td>\n",
       "      <td>1.66446</td>\n",
       "      <td>1.66227</td>\n",
       "    </tr>\n",
       "    <tr>\n",
       "      <th>5717</th>\n",
       "      <td>1.67002</td>\n",
       "      <td>1.69506</td>\n",
       "      <td>1.68498</td>\n",
       "      <td>1.68894</td>\n",
       "      <td>1.68242</td>\n",
       "      <td>1.68244</td>\n",
       "      <td>1.67338</td>\n",
       "      <td>1.67325</td>\n",
       "      <td>1.66446</td>\n",
       "      <td>1.66227</td>\n",
       "      <td>1.65845</td>\n",
       "    </tr>\n",
       "    <tr>\n",
       "      <th>5718</th>\n",
       "      <td>1.67681</td>\n",
       "      <td>1.68498</td>\n",
       "      <td>1.68894</td>\n",
       "      <td>1.68242</td>\n",
       "      <td>1.68244</td>\n",
       "      <td>1.67338</td>\n",
       "      <td>1.67325</td>\n",
       "      <td>1.66446</td>\n",
       "      <td>1.66227</td>\n",
       "      <td>1.65845</td>\n",
       "      <td>1.67002</td>\n",
       "    </tr>\n",
       "  </tbody>\n",
       "</table>\n",
       "</div>"
      ],
      "text/plain": [
       "          t10       t0       t1       t2       t3       t4       t5       t6  \\\n",
       "5714  1.66446  1.71108  1.71109  1.69975  1.69506  1.68498  1.68894  1.68242   \n",
       "5715  1.66227  1.71109  1.69975  1.69506  1.68498  1.68894  1.68242  1.68244   \n",
       "5716  1.65845  1.69975  1.69506  1.68498  1.68894  1.68242  1.68244  1.67338   \n",
       "5717  1.67002  1.69506  1.68498  1.68894  1.68242  1.68244  1.67338  1.67325   \n",
       "5718  1.67681  1.68498  1.68894  1.68242  1.68244  1.67338  1.67325  1.66446   \n",
       "\n",
       "           t7       t8       t9  \n",
       "5714  1.68244  1.67338  1.67325  \n",
       "5715  1.67338  1.67325  1.66446  \n",
       "5716  1.67325  1.66446  1.66227  \n",
       "5717  1.66446  1.66227  1.65845  \n",
       "5718  1.66227  1.65845  1.67002  "
      ]
     },
     "execution_count": 159,
     "metadata": {},
     "output_type": "execute_result"
    }
   ],
   "source": [
    "xy.tail(5)"
   ]
  },
  {
   "cell_type": "code",
   "execution_count": 94,
   "id": "ef6860e2-337b-424a-9c31-82b22f0088e2",
   "metadata": {
    "tags": []
   },
   "outputs": [
    {
     "data": {
      "text/html": [
       "<div>\n",
       "<style scoped>\n",
       "    .dataframe tbody tr th:only-of-type {\n",
       "        vertical-align: middle;\n",
       "    }\n",
       "\n",
       "    .dataframe tbody tr th {\n",
       "        vertical-align: top;\n",
       "    }\n",
       "\n",
       "    .dataframe thead th {\n",
       "        text-align: right;\n",
       "    }\n",
       "</style>\n",
       "<table border=\"1\" class=\"dataframe\">\n",
       "  <thead>\n",
       "    <tr style=\"text-align: right;\">\n",
       "      <th></th>\n",
       "      <th>t0</th>\n",
       "      <th>t1</th>\n",
       "      <th>t2</th>\n",
       "      <th>t3</th>\n",
       "      <th>t4</th>\n",
       "      <th>t5</th>\n",
       "      <th>t6</th>\n",
       "      <th>t7</th>\n",
       "      <th>t8</th>\n",
       "      <th>t9</th>\n",
       "    </tr>\n",
       "  </thead>\n",
       "  <tbody>\n",
       "    <tr>\n",
       "      <th>0</th>\n",
       "      <td>2.00000</td>\n",
       "      <td>2.00360</td>\n",
       "      <td>2.00870</td>\n",
       "      <td>2.00385</td>\n",
       "      <td>1.99852</td>\n",
       "      <td>1.99710</td>\n",
       "      <td>2.00260</td>\n",
       "      <td>2.01440</td>\n",
       "      <td>2.01669</td>\n",
       "      <td>2.02368</td>\n",
       "    </tr>\n",
       "    <tr>\n",
       "      <th>1</th>\n",
       "      <td>2.00360</td>\n",
       "      <td>2.00870</td>\n",
       "      <td>2.00385</td>\n",
       "      <td>1.99852</td>\n",
       "      <td>1.99710</td>\n",
       "      <td>2.00260</td>\n",
       "      <td>2.01440</td>\n",
       "      <td>2.01669</td>\n",
       "      <td>2.02368</td>\n",
       "      <td>2.01608</td>\n",
       "    </tr>\n",
       "    <tr>\n",
       "      <th>2</th>\n",
       "      <td>2.00870</td>\n",
       "      <td>2.00385</td>\n",
       "      <td>1.99852</td>\n",
       "      <td>1.99710</td>\n",
       "      <td>2.00260</td>\n",
       "      <td>2.01440</td>\n",
       "      <td>2.01669</td>\n",
       "      <td>2.02368</td>\n",
       "      <td>2.01608</td>\n",
       "      <td>2.02237</td>\n",
       "    </tr>\n",
       "    <tr>\n",
       "      <th>3</th>\n",
       "      <td>2.00385</td>\n",
       "      <td>1.99852</td>\n",
       "      <td>1.99710</td>\n",
       "      <td>2.00260</td>\n",
       "      <td>2.01440</td>\n",
       "      <td>2.01669</td>\n",
       "      <td>2.02368</td>\n",
       "      <td>2.01608</td>\n",
       "      <td>2.02237</td>\n",
       "      <td>2.02020</td>\n",
       "    </tr>\n",
       "    <tr>\n",
       "      <th>4</th>\n",
       "      <td>1.99852</td>\n",
       "      <td>1.99710</td>\n",
       "      <td>2.00260</td>\n",
       "      <td>2.01440</td>\n",
       "      <td>2.01669</td>\n",
       "      <td>2.02368</td>\n",
       "      <td>2.01608</td>\n",
       "      <td>2.02237</td>\n",
       "      <td>2.02020</td>\n",
       "      <td>2.01924</td>\n",
       "    </tr>\n",
       "    <tr>\n",
       "      <th>...</th>\n",
       "      <td>...</td>\n",
       "      <td>...</td>\n",
       "      <td>...</td>\n",
       "      <td>...</td>\n",
       "      <td>...</td>\n",
       "      <td>...</td>\n",
       "      <td>...</td>\n",
       "      <td>...</td>\n",
       "      <td>...</td>\n",
       "      <td>...</td>\n",
       "    </tr>\n",
       "    <tr>\n",
       "      <th>5714</th>\n",
       "      <td>1.71108</td>\n",
       "      <td>1.71109</td>\n",
       "      <td>1.69975</td>\n",
       "      <td>1.69506</td>\n",
       "      <td>1.68498</td>\n",
       "      <td>1.68894</td>\n",
       "      <td>1.68242</td>\n",
       "      <td>1.68244</td>\n",
       "      <td>1.67338</td>\n",
       "      <td>1.67325</td>\n",
       "    </tr>\n",
       "    <tr>\n",
       "      <th>5715</th>\n",
       "      <td>1.71109</td>\n",
       "      <td>1.69975</td>\n",
       "      <td>1.69506</td>\n",
       "      <td>1.68498</td>\n",
       "      <td>1.68894</td>\n",
       "      <td>1.68242</td>\n",
       "      <td>1.68244</td>\n",
       "      <td>1.67338</td>\n",
       "      <td>1.67325</td>\n",
       "      <td>1.66446</td>\n",
       "    </tr>\n",
       "    <tr>\n",
       "      <th>5716</th>\n",
       "      <td>1.69975</td>\n",
       "      <td>1.69506</td>\n",
       "      <td>1.68498</td>\n",
       "      <td>1.68894</td>\n",
       "      <td>1.68242</td>\n",
       "      <td>1.68244</td>\n",
       "      <td>1.67338</td>\n",
       "      <td>1.67325</td>\n",
       "      <td>1.66446</td>\n",
       "      <td>1.66227</td>\n",
       "    </tr>\n",
       "    <tr>\n",
       "      <th>5717</th>\n",
       "      <td>1.69506</td>\n",
       "      <td>1.68498</td>\n",
       "      <td>1.68894</td>\n",
       "      <td>1.68242</td>\n",
       "      <td>1.68244</td>\n",
       "      <td>1.67338</td>\n",
       "      <td>1.67325</td>\n",
       "      <td>1.66446</td>\n",
       "      <td>1.66227</td>\n",
       "      <td>1.65845</td>\n",
       "    </tr>\n",
       "    <tr>\n",
       "      <th>5718</th>\n",
       "      <td>1.68498</td>\n",
       "      <td>1.68894</td>\n",
       "      <td>1.68242</td>\n",
       "      <td>1.68244</td>\n",
       "      <td>1.67338</td>\n",
       "      <td>1.67325</td>\n",
       "      <td>1.66446</td>\n",
       "      <td>1.66227</td>\n",
       "      <td>1.65845</td>\n",
       "      <td>1.67002</td>\n",
       "    </tr>\n",
       "  </tbody>\n",
       "</table>\n",
       "<p>5719 rows × 10 columns</p>\n",
       "</div>"
      ],
      "text/plain": [
       "           t0       t1       t2       t3       t4       t5       t6       t7  \\\n",
       "0     2.00000  2.00360  2.00870  2.00385  1.99852  1.99710  2.00260  2.01440   \n",
       "1     2.00360  2.00870  2.00385  1.99852  1.99710  2.00260  2.01440  2.01669   \n",
       "2     2.00870  2.00385  1.99852  1.99710  2.00260  2.01440  2.01669  2.02368   \n",
       "3     2.00385  1.99852  1.99710  2.00260  2.01440  2.01669  2.02368  2.01608   \n",
       "4     1.99852  1.99710  2.00260  2.01440  2.01669  2.02368  2.01608  2.02237   \n",
       "...       ...      ...      ...      ...      ...      ...      ...      ...   \n",
       "5714  1.71108  1.71109  1.69975  1.69506  1.68498  1.68894  1.68242  1.68244   \n",
       "5715  1.71109  1.69975  1.69506  1.68498  1.68894  1.68242  1.68244  1.67338   \n",
       "5716  1.69975  1.69506  1.68498  1.68894  1.68242  1.68244  1.67338  1.67325   \n",
       "5717  1.69506  1.68498  1.68894  1.68242  1.68244  1.67338  1.67325  1.66446   \n",
       "5718  1.68498  1.68894  1.68242  1.68244  1.67338  1.67325  1.66446  1.66227   \n",
       "\n",
       "           t8       t9  \n",
       "0     2.01669  2.02368  \n",
       "1     2.02368  2.01608  \n",
       "2     2.01608  2.02237  \n",
       "3     2.02237  2.02020  \n",
       "4     2.02020  2.01924  \n",
       "...       ...      ...  \n",
       "5714  1.67338  1.67325  \n",
       "5715  1.67325  1.66446  \n",
       "5716  1.66446  1.66227  \n",
       "5717  1.66227  1.65845  \n",
       "5718  1.65845  1.67002  \n",
       "\n",
       "[5719 rows x 10 columns]"
      ]
     },
     "execution_count": 94,
     "metadata": {},
     "output_type": "execute_result"
    }
   ],
   "source": [
    "df_data_features=xy.iloc[:,1:]\n",
    "df_data_features"
   ]
  },
  {
   "cell_type": "code",
   "execution_count": 160,
   "id": "059d990b-daac-439a-a75a-60a760feadb7",
   "metadata": {
    "tags": []
   },
   "outputs": [
    {
     "data": {
      "text/plain": [
       "0       2.01608\n",
       "1       2.02237\n",
       "2       2.02020\n",
       "3       2.01924\n",
       "4       2.01335\n",
       "         ...   \n",
       "5714    1.66446\n",
       "5715    1.66227\n",
       "5716    1.65845\n",
       "5717    1.67002\n",
       "5718    1.67681\n",
       "Name: Targets, Length: 5719, dtype: float64"
      ]
     },
     "execution_count": 160,
     "metadata": {},
     "output_type": "execute_result"
    }
   ],
   "source": [
    "df_data_target=xy.iloc[:,0].rename(\"Targets\")\n",
    "df_data_target"
   ]
  },
  {
   "cell_type": "code",
   "execution_count": 97,
   "id": "bacfc6b8-c200-4d08-928d-7ffe5217ce48",
   "metadata": {},
   "outputs": [
    {
     "data": {
      "text/plain": [
       "4575"
      ]
     },
     "execution_count": 97,
     "metadata": {},
     "output_type": "execute_result"
    }
   ],
   "source": [
    "split_index = int(len(xy) * 0.8)\n",
    "\n",
    "split_index"
   ]
  },
  {
   "cell_type": "code",
   "execution_count": 166,
   "id": "7322728c-2024-4871-a888-e34331674129",
   "metadata": {
    "tags": []
   },
   "outputs": [
    {
     "data": {
      "text/plain": [
       "((4575, 11), (1144, 11))"
      ]
     },
     "execution_count": 166,
     "metadata": {},
     "output_type": "execute_result"
    }
   ],
   "source": [
    "train_data,test_data=np.split(xy,[int(len(xy)*0.8)] )\n",
    "train_data.shape,test_data.shape"
   ]
  },
  {
   "cell_type": "code",
   "execution_count": 138,
   "id": "4b44a81e-c6e5-4dd2-86f5-121c816a23ec",
   "metadata": {
    "tags": []
   },
   "outputs": [
    {
     "name": "stdout",
     "output_type": "stream",
     "text": [
      "(4575, 11) (1144, 11)\n"
     ]
    }
   ],
   "source": [
    "train_data=xy.iloc[:split_index,:]\n",
    "test_data=xy.iloc[split_index:,:]\n",
    "#,test_data=np.split(xy,split_index)\n",
    "print(train_data.shape,test_data.shape)"
   ]
  },
  {
   "cell_type": "code",
   "execution_count": 150,
   "id": "b35dde49-5c05-450d-a5b0-da268dea47ab",
   "metadata": {},
   "outputs": [
    {
     "data": {
      "text/plain": [
       "((4575, 10), (1144, 10), (4575,), (1144,))"
      ]
     },
     "execution_count": 150,
     "metadata": {},
     "output_type": "execute_result"
    }
   ],
   "source": [
    "\n",
    "X_train = X[:split_index]\n",
    "X_test = X[split_index:]\n",
    "\n",
    "y_train = y[:split_index]\n",
    "y_test = y[split_index:]\n",
    "\n",
    "X_train.shape, X_test.shape, y_train.shape, y_test.shape"
   ]
  },
  {
   "cell_type": "code",
   "execution_count": 169,
   "id": "0d205cd5-172c-4788-8418-1415ff1dbbe8",
   "metadata": {},
   "outputs": [
    {
     "name": "stdout",
     "output_type": "stream",
     "text": [
      "s3://fractionatordata/xgboost_ai_top/train/train.csv\n",
      "s3://fractionatordata/xgboost_ai_top/test/test.csv\n"
     ]
    }
   ],
   "source": [
    "import os\n",
    "prefix=\"xgboost_ai_top\"\n",
    "train_csv_path='s3://{}/{}/{}/{}'.format(bucket_name,prefix,'train','train.csv')\n",
    "test_csv_path='s3://{}/{}/{}/{}'.format(bucket_name,prefix,'test','test.csv')\n",
    "print(train_csv_path)\n",
    "print(test_csv_path)\n"
   ]
  },
  {
   "cell_type": "code",
   "execution_count": 170,
   "id": "dfb4a785-4586-4dfe-8703-9a177c63e24f",
   "metadata": {
    "scrolled": true,
    "tags": []
   },
   "outputs": [],
   "source": [
    "train_data.to_csv(train_csv_path,index=False,header=False)\n",
    "test_data.to_csv(test_csv_path,index=False,header=False)\n"
   ]
  },
  {
   "cell_type": "code",
   "execution_count": 171,
   "id": "58a31a0e-9116-498e-8883-29c30a4b0b14",
   "metadata": {},
   "outputs": [],
   "source": [
    "import sagemaker\n",
    "from sagemaker import image_uris\n",
    "from sagemaker.session import Session\n",
    "from sagemaker.inputs import TrainingInput"
   ]
  },
  {
   "cell_type": "code",
   "execution_count": 172,
   "id": "3e3d1a73-a6f8-4a4d-9390-fa69d3c4df8c",
   "metadata": {},
   "outputs": [
    {
     "name": "stderr",
     "output_type": "stream",
     "text": [
      "INFO:sagemaker.image_uris:Ignoring unnecessary instance type: None.\n"
     ]
    },
    {
     "data": {
      "text/plain": [
       "'683313688378.dkr.ecr.us-east-1.amazonaws.com/sagemaker-xgboost:1.5-1'"
      ]
     },
     "metadata": {},
     "output_type": "display_data"
    }
   ],
   "source": [
    "xgboost_container=image_uris.retrieve('xgboost',boto3.Session().region_name,\"1.5-1\")\n",
    "display(xgboost_container)"
   ]
  },
  {
   "cell_type": "code",
   "execution_count": 146,
   "id": "7d11cfbd-2cb6-4a81-8acb-87a901660fce",
   "metadata": {
    "tags": []
   },
   "outputs": [
    {
     "name": "stdout",
     "output_type": "stream",
     "text": [
      "Collecting xgboost\n",
      "  Using cached xgboost-1.6.2-py3-none-manylinux2014_x86_64.whl (255.9 MB)\n",
      "Requirement already satisfied: scipy in /opt/conda/lib/python3.7/site-packages (from xgboost) (1.4.1)\n",
      "Requirement already satisfied: numpy in /opt/conda/lib/python3.7/site-packages (from xgboost) (1.21.6)\n",
      "Installing collected packages: xgboost\n",
      "Successfully installed xgboost-1.6.2\n",
      "\u001b[33mWARNING: Running pip as the 'root' user can result in broken permissions and conflicting behaviour with the system package manager. It is recommended to use a virtual environment instead: https://pip.pypa.io/warnings/venv\u001b[0m\u001b[33m\n",
      "\u001b[0m"
     ]
    }
   ],
   "source": [
    "! pip install xgboost\n",
    " "
   ]
  },
  {
   "cell_type": "code",
   "execution_count": 148,
   "id": "50635a62-23a0-4dcd-bd68-5c0288c96511",
   "metadata": {
    "tags": []
   },
   "outputs": [],
   "source": [
    "import xgboost as xgb\n",
    "\n",
    "reg = xgb.XGBRegressor(base_score=0.5, booster='gbtree',    \n",
    "                       n_estimators=1000,\n",
    "                       early_stopping_rounds=50,\n",
    "                       objective='reg:linear',\n",
    "                       max_depth=3,\n",
    "                       learning_rate=0.01)"
   ]
  },
  {
   "cell_type": "code",
   "execution_count": 118,
   "id": "fa65f40f-a59f-4b6c-9f9a-b1f68376f84c",
   "metadata": {},
   "outputs": [],
   "source": [
    "hyperparameters={\"base_score\":0.5, \n",
    "                 \"booster\":'gbtree',    \n",
    "                 \"n_estimators\":1000,\n",
    "                 \"early_stopping_rounds\":50,\n",
    "                 \"objective\":'reg:linear',\n",
    "                 \"max_depth\":\"3\",\n",
    "                 \"learning_rate\":\"0.01\"\n",
    "                }"
   ]
  },
  {
   "cell_type": "code",
   "execution_count": 173,
   "id": "fc11412d-0526-4467-ab67-e0c84dab7e61",
   "metadata": {
    "tags": []
   },
   "outputs": [],
   "source": [
    "hyperparameters = {\n",
    "        \"max_depth\":\"5\",\n",
    "        \"eta\":\"0.2\",\n",
    "        \"gamma\":\"4\",\n",
    "        \"min_child_weight\":\"6\",\n",
    "        \"subsample\":\"0.7\",\n",
    "        \"objective\":\"reg:linear\",\n",
    "        \"num_round\":\"50\"}\n"
   ]
  },
  {
   "cell_type": "code",
   "execution_count": 112,
   "id": "ee54cac8-f909-4234-8329-74c130b32754",
   "metadata": {},
   "outputs": [
    {
     "name": "stdout",
     "output_type": "stream",
     "text": [
      "s3://fractionatordata/xgboost_ai_top/output/\n"
     ]
    }
   ],
   "source": [
    "output_path=\"s3://{}/{}/{}/\".format(bucket_name,prefix,'output')\n",
    "print(output_path)"
   ]
  },
  {
   "cell_type": "code",
   "execution_count": 174,
   "id": "9890e283-8ce8-4e04-9b62-05eedfa3bcba",
   "metadata": {},
   "outputs": [],
   "source": [
    "estimator=sagemaker.estimator.Estimator(image_uri=xgboost_container,\n",
    "                                        hyperparameters=hyperparameters,\n",
    "                                        role=sagemaker.get_execution_role(),\n",
    "                                        instance_count=1,\n",
    "                                        instance_type='ml.m4.xlarge',\n",
    "                                        volume_size=5,\n",
    "                                        #use_spot_instances=True,\n",
    "                                       # max_run=300,\n",
    "                                        #max_wait=600\n",
    "                                       )"
   ]
  },
  {
   "cell_type": "code",
   "execution_count": 175,
   "id": "750fe400-f476-4e92-823c-d210e9290269",
   "metadata": {},
   "outputs": [],
   "source": [
    "content_type=\"csv\"\n",
    "train_input=TrainingInput(\"s3://{}/{}/{}/\".format(bucket_name,prefix,'train',content_type=content_type))\n",
    "test_input=TrainingInput(\"s3://{}/{}/{}/\".format(bucket_name,prefix,'test',content_type=content_type))"
   ]
  },
  {
   "cell_type": "code",
   "execution_count": 176,
   "id": "04f40100-adf8-477d-be4a-0877c1e28b08",
   "metadata": {},
   "outputs": [
    {
     "name": "stderr",
     "output_type": "stream",
     "text": [
      "INFO:sagemaker:Creating training-job with name: sagemaker-xgboost-2023-04-22-20-51-14-256\n"
     ]
    },
    {
     "name": "stdout",
     "output_type": "stream",
     "text": [
      "2023-04-22 20:51:14 Starting - Starting the training job...\n",
      "2023-04-22 20:51:40 Starting - Preparing the instances for training......\n",
      "2023-04-22 20:52:55 Downloading - Downloading input data......\n",
      "2023-04-22 20:53:31 Training - Downloading the training image...\n",
      "2023-04-22 20:54:06 Training - Training image download completed. Training in progress..\u001b[34m[2023-04-22 20:54:22.964 ip-10-2-119-83.ec2.internal:7 INFO utils.py:28] RULE_JOB_STOP_SIGNAL_FILENAME: None\u001b[0m\n",
      "\u001b[34m[2023-04-22 20:54:23.044 ip-10-2-119-83.ec2.internal:7 INFO profiler_config_parser.py:111] User has disabled profiler.\u001b[0m\n",
      "\u001b[34m[2023-04-22:20:54:23:INFO] Imported framework sagemaker_xgboost_container.training\u001b[0m\n",
      "\u001b[34m[2023-04-22:20:54:23:INFO] Failed to parse hyperparameter objective value reg:linear to Json.\u001b[0m\n",
      "\u001b[34mReturning the value itself\u001b[0m\n",
      "\u001b[34m[2023-04-22:20:54:23:INFO] No GPUs detected (normal if no gpus installed)\u001b[0m\n",
      "\u001b[34m[2023-04-22:20:54:23:INFO] Running XGBoost Sagemaker in algorithm mode\u001b[0m\n",
      "\u001b[34m[2023-04-22:20:54:23:INFO] Determined 0 GPU(s) available on the instance.\u001b[0m\n",
      "\u001b[34m[2023-04-22:20:54:23:ERROR] 2.01608,2.0,2.0036,2.0087,2.00385,1.99852,1.9971,2.0026,2.0144,2.01669,2.02368\n",
      " does not follow LIBSVM label format <label>(:<weight>).\u001b[0m\n",
      "\u001b[34m[2023-04-22:20:54:23:ERROR] Reporting training FAILURE\u001b[0m\n",
      "\u001b[34m[2023-04-22:20:54:23:ERROR] framework error: \u001b[0m\n",
      "\u001b[34mTraceback (most recent call last):\n",
      "  File \"/miniconda3/lib/python3.8/site-packages/sagemaker_containers/_trainer.py\", line 84, in train\n",
      "    entrypoint()\n",
      "  File \"/miniconda3/lib/python3.8/site-packages/sagemaker_xgboost_container/training.py\", line 102, in main\n",
      "    train(framework.training_env())\n",
      "  File \"/miniconda3/lib/python3.8/site-packages/sagemaker_xgboost_container/training.py\", line 98, in train\n",
      "    run_algorithm_mode()\n",
      "  File \"/miniconda3/lib/python3.8/site-packages/sagemaker_xgboost_container/training.py\", line 64, in run_algorithm_mode\n",
      "    sagemaker_train(\n",
      "  File \"/miniconda3/lib/python3.8/site-packages/sagemaker_xgboost_container/algorithm_mode/train.py\", line 198, in sagemaker_train\n",
      "    train_dmatrix, val_dmatrix, train_val_dmatrix = get_validated_dmatrices(\n",
      "  File \"/miniconda3/lib/python3.8/site-packages/sagemaker_xgboost_container/algorithm_mode/train.py\", line 78, in get_validated_dmatrices\n",
      "    validate_data_file_path(train_path, content_type)\n",
      "  File \"/miniconda3/lib/python3.8/site-packages/sagemaker_xgboost_container/data_utils.py\", line 286, in validate_data_file_path\n",
      "    _validate_libsvm_format(data_file_path)\n",
      "  File \"/miniconda3/lib/python3.8/site-packages/sagemaker_xgboost_container/data_utils.py\", line 241, in _validate_libsvm_format\n",
      "    raise exc.UserError(\u001b[0m\n",
      "\u001b[34msagemaker_algorithm_toolkit.exceptions.UserError: First line '2.01608,2.0,2.0036,2.0087,2.00385,1.99852,1.9971,2...' of file 'train.csv' is not 'LIBSVM' format. Please ensure the file is in 'LIBSVM' format.\u001b[0m\n",
      "\u001b[34mFirst line '2.01608,2.0,2.0036,2.0087,2.00385,1.99852,1.9971,2...' of file 'train.csv' is not 'LIBSVM' format. Please ensure the file is in 'LIBSVM' format.\u001b[0m\n",
      "\n",
      "2023-04-22 20:54:38 Uploading - Uploading generated training model\n",
      "2023-04-22 20:54:38 Failed - Training job failed\n"
     ]
    },
    {
     "ename": "UnexpectedStatusException",
     "evalue": "Error for Training job sagemaker-xgboost-2023-04-22-20-51-14-256: Failed. Reason: AlgorithmError: framework error: \nTraceback (most recent call last):\n  File \"/miniconda3/lib/python3.8/site-packages/sagemaker_containers/_trainer.py\", line 84, in train\n    entrypoint()\n  File \"/miniconda3/lib/python3.8/site-packages/sagemaker_xgboost_container/training.py\", line 102, in main\n    train(framework.training_env())\n  File \"/miniconda3/lib/python3.8/site-packages/sagemaker_xgboost_container/training.py\", line 98, in train\n    run_algorithm_mode()\n  File \"/miniconda3/lib/python3.8/site-packages/sagemaker_xgboost_container/training.py\", line 64, in run_algorithm_mode\n    sagemaker_train(\n  File \"/miniconda3/lib/python3.8/site-packages/sagemaker_xgboost_container/algorithm_mode/train.py\", line 198, in sagemaker_train\n    train_dmatrix, val_dmatrix, train_val_dmatrix = get_validated_dmatrices(\n  File \"/miniconda3/lib/python3.8/site-packages/sagemaker_xgboost_container/algorithm_mode/train.py\", line 78, in get_validated_dmatrices\n    validate_data_file_path(train_path, content_type)\n  File \"/miniconda",
     "output_type": "error",
     "traceback": [
      "\u001b[0;31m---------------------------------------------------------------------------\u001b[0m",
      "\u001b[0;31mUnexpectedStatusException\u001b[0m                 Traceback (most recent call last)",
      "\u001b[0;32m<ipython-input-176-9a2bd0bc6680>\u001b[0m in \u001b[0;36m<module>\u001b[0;34m\u001b[0m\n\u001b[0;32m----> 1\u001b[0;31m \u001b[0mestimator\u001b[0m\u001b[0;34m.\u001b[0m\u001b[0mfit\u001b[0m\u001b[0;34m(\u001b[0m\u001b[0;34m{\u001b[0m\u001b[0;34m'train'\u001b[0m\u001b[0;34m:\u001b[0m\u001b[0mtrain_input\u001b[0m\u001b[0;34m,\u001b[0m\u001b[0;34m'validation'\u001b[0m\u001b[0;34m:\u001b[0m\u001b[0mtest_input\u001b[0m\u001b[0;34m}\u001b[0m\u001b[0;34m)\u001b[0m\u001b[0;34m\u001b[0m\u001b[0;34m\u001b[0m\u001b[0m\n\u001b[0m",
      "\u001b[0;32m/opt/conda/lib/python3.7/site-packages/sagemaker/workflow/pipeline_context.py\u001b[0m in \u001b[0;36mwrapper\u001b[0;34m(*args, **kwargs)\u001b[0m\n\u001b[1;32m    282\u001b[0m             \u001b[0;32mreturn\u001b[0m \u001b[0m_StepArguments\u001b[0m\u001b[0;34m(\u001b[0m\u001b[0mretrieve_caller_name\u001b[0m\u001b[0;34m(\u001b[0m\u001b[0mself_instance\u001b[0m\u001b[0;34m)\u001b[0m\u001b[0;34m,\u001b[0m \u001b[0mrun_func\u001b[0m\u001b[0;34m,\u001b[0m \u001b[0;34m*\u001b[0m\u001b[0margs\u001b[0m\u001b[0;34m,\u001b[0m \u001b[0;34m**\u001b[0m\u001b[0mkwargs\u001b[0m\u001b[0;34m)\u001b[0m\u001b[0;34m\u001b[0m\u001b[0;34m\u001b[0m\u001b[0m\n\u001b[1;32m    283\u001b[0m \u001b[0;34m\u001b[0m\u001b[0m\n\u001b[0;32m--> 284\u001b[0;31m         \u001b[0;32mreturn\u001b[0m \u001b[0mrun_func\u001b[0m\u001b[0;34m(\u001b[0m\u001b[0;34m*\u001b[0m\u001b[0margs\u001b[0m\u001b[0;34m,\u001b[0m \u001b[0;34m**\u001b[0m\u001b[0mkwargs\u001b[0m\u001b[0;34m)\u001b[0m\u001b[0;34m\u001b[0m\u001b[0;34m\u001b[0m\u001b[0m\n\u001b[0m\u001b[1;32m    285\u001b[0m \u001b[0;34m\u001b[0m\u001b[0m\n\u001b[1;32m    286\u001b[0m     \u001b[0;32mreturn\u001b[0m \u001b[0mwrapper\u001b[0m\u001b[0;34m\u001b[0m\u001b[0;34m\u001b[0m\u001b[0m\n",
      "\u001b[0;32m/opt/conda/lib/python3.7/site-packages/sagemaker/estimator.py\u001b[0m in \u001b[0;36mfit\u001b[0;34m(self, inputs, wait, logs, job_name, experiment_config)\u001b[0m\n\u001b[1;32m   1196\u001b[0m         \u001b[0mself\u001b[0m\u001b[0;34m.\u001b[0m\u001b[0mjobs\u001b[0m\u001b[0;34m.\u001b[0m\u001b[0mappend\u001b[0m\u001b[0;34m(\u001b[0m\u001b[0mself\u001b[0m\u001b[0;34m.\u001b[0m\u001b[0mlatest_training_job\u001b[0m\u001b[0;34m)\u001b[0m\u001b[0;34m\u001b[0m\u001b[0;34m\u001b[0m\u001b[0m\n\u001b[1;32m   1197\u001b[0m         \u001b[0;32mif\u001b[0m \u001b[0mwait\u001b[0m\u001b[0;34m:\u001b[0m\u001b[0;34m\u001b[0m\u001b[0;34m\u001b[0m\u001b[0m\n\u001b[0;32m-> 1198\u001b[0;31m             \u001b[0mself\u001b[0m\u001b[0;34m.\u001b[0m\u001b[0mlatest_training_job\u001b[0m\u001b[0;34m.\u001b[0m\u001b[0mwait\u001b[0m\u001b[0;34m(\u001b[0m\u001b[0mlogs\u001b[0m\u001b[0;34m=\u001b[0m\u001b[0mlogs\u001b[0m\u001b[0;34m)\u001b[0m\u001b[0;34m\u001b[0m\u001b[0;34m\u001b[0m\u001b[0m\n\u001b[0m\u001b[1;32m   1199\u001b[0m \u001b[0;34m\u001b[0m\u001b[0m\n\u001b[1;32m   1200\u001b[0m     \u001b[0;32mdef\u001b[0m \u001b[0m_compilation_job_name\u001b[0m\u001b[0;34m(\u001b[0m\u001b[0mself\u001b[0m\u001b[0;34m)\u001b[0m\u001b[0;34m:\u001b[0m\u001b[0;34m\u001b[0m\u001b[0;34m\u001b[0m\u001b[0m\n",
      "\u001b[0;32m/opt/conda/lib/python3.7/site-packages/sagemaker/estimator.py\u001b[0m in \u001b[0;36mwait\u001b[0;34m(self, logs)\u001b[0m\n\u001b[1;32m   2342\u001b[0m         \u001b[0;31m# If logs are requested, call logs_for_jobs.\u001b[0m\u001b[0;34m\u001b[0m\u001b[0;34m\u001b[0m\u001b[0;34m\u001b[0m\u001b[0m\n\u001b[1;32m   2343\u001b[0m         \u001b[0;32mif\u001b[0m \u001b[0mlogs\u001b[0m \u001b[0;34m!=\u001b[0m \u001b[0;34m\"None\"\u001b[0m\u001b[0;34m:\u001b[0m\u001b[0;34m\u001b[0m\u001b[0;34m\u001b[0m\u001b[0m\n\u001b[0;32m-> 2344\u001b[0;31m             \u001b[0mself\u001b[0m\u001b[0;34m.\u001b[0m\u001b[0msagemaker_session\u001b[0m\u001b[0;34m.\u001b[0m\u001b[0mlogs_for_job\u001b[0m\u001b[0;34m(\u001b[0m\u001b[0mself\u001b[0m\u001b[0;34m.\u001b[0m\u001b[0mjob_name\u001b[0m\u001b[0;34m,\u001b[0m \u001b[0mwait\u001b[0m\u001b[0;34m=\u001b[0m\u001b[0;32mTrue\u001b[0m\u001b[0;34m,\u001b[0m \u001b[0mlog_type\u001b[0m\u001b[0;34m=\u001b[0m\u001b[0mlogs\u001b[0m\u001b[0;34m)\u001b[0m\u001b[0;34m\u001b[0m\u001b[0;34m\u001b[0m\u001b[0m\n\u001b[0m\u001b[1;32m   2345\u001b[0m         \u001b[0;32melse\u001b[0m\u001b[0;34m:\u001b[0m\u001b[0;34m\u001b[0m\u001b[0;34m\u001b[0m\u001b[0m\n\u001b[1;32m   2346\u001b[0m             \u001b[0mself\u001b[0m\u001b[0;34m.\u001b[0m\u001b[0msagemaker_session\u001b[0m\u001b[0;34m.\u001b[0m\u001b[0mwait_for_job\u001b[0m\u001b[0;34m(\u001b[0m\u001b[0mself\u001b[0m\u001b[0;34m.\u001b[0m\u001b[0mjob_name\u001b[0m\u001b[0;34m)\u001b[0m\u001b[0;34m\u001b[0m\u001b[0;34m\u001b[0m\u001b[0m\n",
      "\u001b[0;32m/opt/conda/lib/python3.7/site-packages/sagemaker/session.py\u001b[0m in \u001b[0;36mlogs_for_job\u001b[0;34m(self, job_name, wait, poll, log_type)\u001b[0m\n\u001b[1;32m   4666\u001b[0m \u001b[0;34m\u001b[0m\u001b[0m\n\u001b[1;32m   4667\u001b[0m         \u001b[0;32mif\u001b[0m \u001b[0mwait\u001b[0m\u001b[0;34m:\u001b[0m\u001b[0;34m\u001b[0m\u001b[0;34m\u001b[0m\u001b[0m\n\u001b[0;32m-> 4668\u001b[0;31m             \u001b[0mself\u001b[0m\u001b[0;34m.\u001b[0m\u001b[0m_check_job_status\u001b[0m\u001b[0;34m(\u001b[0m\u001b[0mjob_name\u001b[0m\u001b[0;34m,\u001b[0m \u001b[0mdescription\u001b[0m\u001b[0;34m,\u001b[0m \u001b[0;34m\"TrainingJobStatus\"\u001b[0m\u001b[0;34m)\u001b[0m\u001b[0;34m\u001b[0m\u001b[0;34m\u001b[0m\u001b[0m\n\u001b[0m\u001b[1;32m   4669\u001b[0m             \u001b[0;32mif\u001b[0m \u001b[0mdot\u001b[0m\u001b[0;34m:\u001b[0m\u001b[0;34m\u001b[0m\u001b[0;34m\u001b[0m\u001b[0m\n\u001b[1;32m   4670\u001b[0m                 \u001b[0mprint\u001b[0m\u001b[0;34m(\u001b[0m\u001b[0;34m)\u001b[0m\u001b[0;34m\u001b[0m\u001b[0;34m\u001b[0m\u001b[0m\n",
      "\u001b[0;32m/opt/conda/lib/python3.7/site-packages/sagemaker/session.py\u001b[0m in \u001b[0;36m_check_job_status\u001b[0;34m(self, job, desc, status_key_name)\u001b[0m\n\u001b[1;32m   4176\u001b[0m                 \u001b[0mmessage\u001b[0m\u001b[0;34m=\u001b[0m\u001b[0mmessage\u001b[0m\u001b[0;34m,\u001b[0m\u001b[0;34m\u001b[0m\u001b[0;34m\u001b[0m\u001b[0m\n\u001b[1;32m   4177\u001b[0m                 \u001b[0mallowed_statuses\u001b[0m\u001b[0;34m=\u001b[0m\u001b[0;34m[\u001b[0m\u001b[0;34m\"Completed\"\u001b[0m\u001b[0;34m,\u001b[0m \u001b[0;34m\"Stopped\"\u001b[0m\u001b[0;34m]\u001b[0m\u001b[0;34m,\u001b[0m\u001b[0;34m\u001b[0m\u001b[0;34m\u001b[0m\u001b[0m\n\u001b[0;32m-> 4178\u001b[0;31m                 \u001b[0mactual_status\u001b[0m\u001b[0;34m=\u001b[0m\u001b[0mstatus\u001b[0m\u001b[0;34m,\u001b[0m\u001b[0;34m\u001b[0m\u001b[0;34m\u001b[0m\u001b[0m\n\u001b[0m\u001b[1;32m   4179\u001b[0m             )\n\u001b[1;32m   4180\u001b[0m \u001b[0;34m\u001b[0m\u001b[0m\n",
      "\u001b[0;31mUnexpectedStatusException\u001b[0m: Error for Training job sagemaker-xgboost-2023-04-22-20-51-14-256: Failed. Reason: AlgorithmError: framework error: \nTraceback (most recent call last):\n  File \"/miniconda3/lib/python3.8/site-packages/sagemaker_containers/_trainer.py\", line 84, in train\n    entrypoint()\n  File \"/miniconda3/lib/python3.8/site-packages/sagemaker_xgboost_container/training.py\", line 102, in main\n    train(framework.training_env())\n  File \"/miniconda3/lib/python3.8/site-packages/sagemaker_xgboost_container/training.py\", line 98, in train\n    run_algorithm_mode()\n  File \"/miniconda3/lib/python3.8/site-packages/sagemaker_xgboost_container/training.py\", line 64, in run_algorithm_mode\n    sagemaker_train(\n  File \"/miniconda3/lib/python3.8/site-packages/sagemaker_xgboost_container/algorithm_mode/train.py\", line 198, in sagemaker_train\n    train_dmatrix, val_dmatrix, train_val_dmatrix = get_validated_dmatrices(\n  File \"/miniconda3/lib/python3.8/site-packages/sagemaker_xgboost_container/algorithm_mode/train.py\", line 78, in get_validated_dmatrices\n    validate_data_file_path(train_path, content_type)\n  File \"/miniconda"
     ]
    }
   ],
   "source": [
    "estimator.fit({'train':train_input,'validation':test_input})"
   ]
  },
  {
   "cell_type": "code",
   "execution_count": null,
   "id": "e89fc315-3b9a-4b26-92a6-5d1b5ffc7291",
   "metadata": {},
   "outputs": [],
   "source": [
    "from sagemaker.serializers import CSVSerlializer\n",
    "xgb_predictor=estimaor.deploy(instance_cout=1,instance_type='ml.m4.xlarge',serializer=CSVSerlializer)"
   ]
  },
  {
   "cell_type": "code",
   "execution_count": null,
   "id": "109d41ec-8b82-4e58-bc8f-efb6a4c00203",
   "metadata": {},
   "outputs": [],
   "source": [
    "endpoint_AI_top=xgb_predictor.endpoint_name"
   ]
  },
  {
   "cell_type": "code",
   "execution_count": null,
   "id": "8084ee0e-64a2-4ac2-be47-3e3d3c09c552",
   "metadata": {},
   "outputs": [],
   "source": []
  },
  {
   "cell_type": "code",
   "execution_count": 185,
   "id": "52280e84-e043-41c0-b474-200408270f52",
   "metadata": {},
   "outputs": [],
   "source": [
    "hyperparams = {\n",
    "    \"max_depth\": \"5\",\n",
    "    \"eta\": \"0.2\",\n",
    "    \"gamma\": \"4\",\n",
    "    \"min_child_weight\": \"6\",\n",
    "    \"subsample\": \"0.7\",\n",
    "    \"objective\": \"reg:squarederror\",\n",
    "    \"num_round\": \"50\",\n",
    "    \"verbosity\": \"2\",\n",
    "}\n",
    "\n",
    "instance_type = \"ml.m5.2xlarge\"\n",
    "output_path =output_path\n",
    "content_type = \"csv\""
   ]
  },
  {
   "cell_type": "code",
   "execution_count": 188,
   "id": "33ad80ba-a468-4662-8130-8c38c0468065",
   "metadata": {},
   "outputs": [
    {
     "name": "stderr",
     "output_type": "stream",
     "text": [
      "INFO:sagemaker.image_uris:Ignoring unnecessary Python version: py3.\n",
      "INFO:sagemaker.image_uris:Ignoring unnecessary instance type: ml.m5.2xlarge.\n"
     ]
    }
   ],
   "source": [
    "# Open Source distributed script mode\n",
    "from sagemaker.session import Session\n",
    "from sagemaker.inputs import TrainingInput\n",
    "from sagemaker.xgboost.estimator import XGBoost\n",
    "\n",
    "session = Session()\n",
    "script_path = \"train.py\"\n",
    "\n",
    "xgb_script_mode_estimator = XGBoost(\n",
    "    entry_point=script_path,\n",
    "    framework_version=\"1.7-1\",  # Note: framework_version is mandatory\n",
    "    hyperparameters=hyperparams,\n",
    "    role=sagemaker.get_execution_role(),\n",
    "    instance_count=1,\n",
    "    instance_type=instance_type,\n",
    "    output_path=output_path,\n",
    ")\n"
   ]
  },
  {
   "cell_type": "code",
   "execution_count": null,
   "id": "cd49e4dc-e927-4db8-a0d6-7f4be945d9a5",
   "metadata": {
    "tags": []
   },
   "outputs": [
    {
     "name": "stderr",
     "output_type": "stream",
     "text": [
      "INFO:sagemaker:Creating training-job with name: sagemaker-xgboost-2023-04-22-22-52-31-967\n"
     ]
    },
    {
     "name": "stdout",
     "output_type": "stream",
     "text": [
      "2023-04-22 22:52:32 Starting - Starting the training job...\n",
      "2023-04-22 22:52:47 Starting - Preparing the instances for training...\n",
      "2023-04-22 22:53:32 Downloading - Downloading input data...\n",
      "2023-04-22 22:53:47 Training - Downloading the training image...\n",
      "2023-04-22 22:54:43 Uploading - Uploading generated training model.\u001b[34m[2023-04-22 22:54:36.486 ip-10-2-219-84.ec2.internal:7 INFO utils.py:28] RULE_JOB_STOP_SIGNAL_FILENAME: None\u001b[0m\n",
      "\u001b[34m[2023-04-22 22:54:36.545 ip-10-2-219-84.ec2.internal:7 INFO profiler_config_parser.py:111] User has disabled profiler.\u001b[0m\n",
      "\u001b[34m[2023-04-22:22:54:36:INFO] Imported framework sagemaker_xgboost_container.training\u001b[0m\n",
      "\u001b[34m[2023-04-22:22:54:36:INFO] No GPUs detected (normal if no gpus installed)\u001b[0m\n",
      "\u001b[34m[2023-04-22:22:54:36:INFO] Invoking user training script.\u001b[0m\n",
      "\u001b[34m[2023-04-22:22:54:37:INFO] Module train does not provide a setup.py. \u001b[0m\n",
      "\u001b[34mGenerating setup.py\u001b[0m\n",
      "\u001b[34m[2023-04-22:22:54:37:INFO] Generating setup.cfg\u001b[0m\n",
      "\u001b[34m[2023-04-22:22:54:37:INFO] Generating MANIFEST.in\u001b[0m\n",
      "\u001b[34m[2023-04-22:22:54:37:INFO] Installing module with the following command:\u001b[0m\n",
      "\u001b[34m/miniconda3/bin/python3 -m pip install . \u001b[0m\n",
      "\u001b[34mProcessing /opt/ml/code\n",
      "  Preparing metadata (setup.py): started\n",
      "  Preparing metadata (setup.py): finished with status 'done'\u001b[0m\n",
      "\u001b[34mBuilding wheels for collected packages: train\n",
      "  Building wheel for train (setup.py): started\n",
      "  Building wheel for train (setup.py): finished with status 'done'\n",
      "  Created wheel for train: filename=train-1.0.0-py2.py3-none-any.whl size=5873 sha256=11b189f0d03ca66bbbe27984308c5a6557885f04226f9eae852c53aaa413ee38\n",
      "  Stored in directory: /home/model-server/tmp/pip-ephem-wheel-cache-2kw38wl8/wheels/f3/75/57/158162e9eab7af12b5c338c279b3a81f103b89d74eeb911c00\u001b[0m\n",
      "\u001b[34mSuccessfully built train\u001b[0m\n",
      "\u001b[34mInstalling collected packages: train\u001b[0m\n",
      "\u001b[34mSuccessfully installed train-1.0.0\u001b[0m\n",
      "\u001b[34mWARNING: Running pip as the 'root' user can result in broken permissions and conflicting behaviour with the system package manager. It is recommended to use a virtual environment instead: https://pip.pypa.io/warnings/venv\u001b[0m\n",
      "\u001b[34m[2023-04-22:22:54:38:INFO] No GPUs detected (normal if no gpus installed)\u001b[0m\n",
      "\u001b[34m[2023-04-22:22:54:38:INFO] Invoking user script\u001b[0m\n",
      "\u001b[34mTraining Env:\u001b[0m\n",
      "\u001b[34m{\n",
      "    \"additional_framework_parameters\": {},\n",
      "    \"channel_input_dirs\": {\n",
      "        \"train\": \"/opt/ml/input/data/train\",\n",
      "        \"validation\": \"/opt/ml/input/data/validation\"\n",
      "    },\n",
      "    \"current_host\": \"algo-1\",\n",
      "    \"framework_module\": \"sagemaker_xgboost_container.training:main\",\n",
      "    \"hosts\": [\n",
      "        \"algo-1\"\n",
      "    ],\n",
      "    \"hyperparameters\": {\n",
      "        \"eta\": \"0.2\",\n",
      "        \"gamma\": \"4\",\n",
      "        \"max_depth\": \"5\",\n",
      "        \"min_child_weight\": \"6\",\n",
      "        \"num_round\": \"50\",\n",
      "        \"objective\": \"reg:squarederror\",\n",
      "        \"subsample\": \"0.7\",\n",
      "        \"verbosity\": \"2\"\n",
      "    },\n",
      "    \"input_config_dir\": \"/opt/ml/input/config\",\n",
      "    \"input_data_config\": {\n",
      "        \"train\": {\n",
      "            \"TrainingInputMode\": \"File\",\n",
      "            \"S3DistributionType\": \"FullyReplicated\",\n",
      "            \"RecordWrapperType\": \"None\"\n",
      "        },\n",
      "        \"validation\": {\n",
      "            \"TrainingInputMode\": \"File\",\n",
      "            \"S3DistributionType\": \"FullyReplicated\",\n",
      "            \"RecordWrapperType\": \"None\"\n",
      "        }\n",
      "    },\n",
      "    \"input_dir\": \"/opt/ml/input\",\n",
      "    \"is_master\": true,\n",
      "    \"job_name\": \"sagemaker-xgboost-2023-04-22-22-52-31-967\",\n",
      "    \"log_level\": 20,\n",
      "    \"master_hostname\": \"algo-1\",\n",
      "    \"model_dir\": \"/opt/ml/model\",\n",
      "    \"module_dir\": \"s3://fractionatordata/sagemaker-xgboost-2023-04-22-22-52-31-967/source/sourcedir.tar.gz\",\n",
      "    \"module_name\": \"train\",\n",
      "    \"network_interface_name\": \"eth0\",\n",
      "    \"num_cpus\": 8,\n",
      "    \"num_gpus\": 0,\n",
      "    \"output_data_dir\": \"/opt/ml/output/data\",\n",
      "    \"output_dir\": \"/opt/ml/output\",\n",
      "    \"output_intermediate_dir\": \"/opt/ml/output/intermediate\",\n",
      "    \"resource_config\": {\n",
      "        \"current_host\": \"algo-1\",\n",
      "        \"current_instance_type\": \"ml.m5.2xlarge\",\n",
      "        \"current_group_name\": \"homogeneousCluster\",\n",
      "        \"hosts\": [\n",
      "            \"algo-1\"\n",
      "        ],\n",
      "        \"instance_groups\": [\n",
      "            {\n",
      "                \"instance_group_name\": \"homogeneousCluster\",\n",
      "                \"instance_type\": \"ml.m5.2xlarge\",\n",
      "                \"hosts\": [\n",
      "                    \"algo-1\"\n",
      "                ]\n",
      "            }\n",
      "        ],\n",
      "        \"network_interface_name\": \"eth0\"\n",
      "    },\n",
      "    \"user_entry_point\": \"train.py\"\u001b[0m\n",
      "\u001b[34m}\u001b[0m\n",
      "\u001b[34mEnvironment variables:\u001b[0m\n",
      "\u001b[34mSM_HOSTS=[\"algo-1\"]\u001b[0m\n",
      "\u001b[34mSM_NETWORK_INTERFACE_NAME=eth0\u001b[0m\n",
      "\u001b[34mSM_HPS={\"eta\":\"0.2\",\"gamma\":\"4\",\"max_depth\":\"5\",\"min_child_weight\":\"6\",\"num_round\":\"50\",\"objective\":\"reg:squarederror\",\"subsample\":\"0.7\",\"verbosity\":\"2\"}\u001b[0m\n",
      "\u001b[34mSM_USER_ENTRY_POINT=train.py\u001b[0m\n",
      "\u001b[34mSM_FRAMEWORK_PARAMS={}\u001b[0m\n",
      "\u001b[34mSM_RESOURCE_CONFIG={\"current_group_name\":\"homogeneousCluster\",\"current_host\":\"algo-1\",\"current_instance_type\":\"ml.m5.2xlarge\",\"hosts\":[\"algo-1\"],\"instance_groups\":[{\"hosts\":[\"algo-1\"],\"instance_group_name\":\"homogeneousCluster\",\"instance_type\":\"ml.m5.2xlarge\"}],\"network_interface_name\":\"eth0\"}\u001b[0m\n",
      "\u001b[34mSM_INPUT_DATA_CONFIG={\"train\":{\"RecordWrapperType\":\"None\",\"S3DistributionType\":\"FullyReplicated\",\"TrainingInputMode\":\"File\"},\"validation\":{\"RecordWrapperType\":\"None\",\"S3DistributionType\":\"FullyReplicated\",\"TrainingInputMode\":\"File\"}}\u001b[0m\n",
      "\u001b[34mSM_OUTPUT_DATA_DIR=/opt/ml/output/data\u001b[0m\n",
      "\u001b[34mSM_CHANNELS=[\"train\",\"validation\"]\u001b[0m\n",
      "\u001b[34mSM_CURRENT_HOST=algo-1\u001b[0m\n",
      "\u001b[34mSM_MODULE_NAME=train\u001b[0m\n",
      "\u001b[34mSM_LOG_LEVEL=20\u001b[0m\n",
      "\u001b[34mSM_FRAMEWORK_MODULE=sagemaker_xgboost_container.training:main\u001b[0m\n",
      "\u001b[34mSM_INPUT_DIR=/opt/ml/input\u001b[0m\n",
      "\u001b[34mSM_INPUT_CONFIG_DIR=/opt/ml/input/config\u001b[0m\n",
      "\u001b[34mSM_OUTPUT_DIR=/opt/ml/output\u001b[0m\n",
      "\u001b[34mSM_NUM_CPUS=8\u001b[0m\n",
      "\u001b[34mSM_NUM_GPUS=0\u001b[0m\n",
      "\u001b[34mSM_MODEL_DIR=/opt/ml/model\u001b[0m\n",
      "\u001b[34mSM_MODULE_DIR=s3://fractionatordata/sagemaker-xgboost-2023-04-22-22-52-31-967/source/sourcedir.tar.gz\u001b[0m\n",
      "\u001b[34mSM_TRAINING_ENV={\"additional_framework_parameters\":{},\"channel_input_dirs\":{\"train\":\"/opt/ml/input/data/train\",\"validation\":\"/opt/ml/input/data/validation\"},\"current_host\":\"algo-1\",\"framework_module\":\"sagemaker_xgboost_container.training:main\",\"hosts\":[\"algo-1\"],\"hyperparameters\":{\"eta\":\"0.2\",\"gamma\":\"4\",\"max_depth\":\"5\",\"min_child_weight\":\"6\",\"num_round\":\"50\",\"objective\":\"reg:squarederror\",\"subsample\":\"0.7\",\"verbosity\":\"2\"},\"input_config_dir\":\"/opt/ml/input/config\",\"input_data_config\":{\"train\":{\"RecordWrapperType\":\"None\",\"S3DistributionType\":\"FullyReplicated\",\"TrainingInputMode\":\"File\"},\"validation\":{\"RecordWrapperType\":\"None\",\"S3DistributionType\":\"FullyReplicated\",\"TrainingInputMode\":\"File\"}},\"input_dir\":\"/opt/ml/input\",\"is_master\":true,\"job_name\":\"sagemaker-xgboost-2023-04-22-22-52-31-967\",\"log_level\":20,\"master_hostname\":\"algo-1\",\"model_dir\":\"/opt/ml/model\",\"module_dir\":\"s3://fractionatordata/sagemaker-xgboost-2023-04-22-22-52-31-967/source/sourcedir.tar.gz\",\"module_name\":\"train\",\"network_interface_name\":\"eth0\",\"num_cpus\":8,\"num_gpus\":0,\"output_data_dir\":\"/opt/ml/output/data\",\"output_dir\":\"/opt/ml/output\",\"output_intermediate_dir\":\"/opt/ml/output/intermediate\",\"resource_config\":{\"current_group_name\":\"homogeneousCluster\",\"current_host\":\"algo-1\",\"current_instance_type\":\"ml.m5.2xlarge\",\"hosts\":[\"algo-1\"],\"instance_groups\":[{\"hosts\":[\"algo-1\"],\"instance_group_name\":\"homogeneousCluster\",\"instance_type\":\"ml.m5.2xlarge\"}],\"network_interface_name\":\"eth0\"},\"user_entry_point\":\"train.py\"}\u001b[0m\n",
      "\u001b[34mSM_USER_ARGS=[\"--eta\",\"0.2\",\"--gamma\",\"4\",\"--max_depth\",\"5\",\"--min_child_weight\",\"6\",\"--num_round\",\"50\",\"--objective\",\"reg:squarederror\",\"--subsample\",\"0.7\",\"--verbosity\",\"2\"]\u001b[0m\n",
      "\u001b[34mSM_OUTPUT_INTERMEDIATE_DIR=/opt/ml/output/intermediate\u001b[0m\n",
      "\u001b[34mSM_CHANNEL_TRAIN=/opt/ml/input/data/train\u001b[0m\n",
      "\u001b[34mSM_CHANNEL_VALIDATION=/opt/ml/input/data/validation\u001b[0m\n",
      "\u001b[34mSM_HP_ETA=0.2\u001b[0m\n",
      "\u001b[34mSM_HP_GAMMA=4\u001b[0m\n",
      "\u001b[34mSM_HP_MAX_DEPTH=5\u001b[0m\n",
      "\u001b[34mSM_HP_MIN_CHILD_WEIGHT=6\u001b[0m\n",
      "\u001b[34mSM_HP_NUM_ROUND=50\u001b[0m\n",
      "\u001b[34mSM_HP_OBJECTIVE=reg:squarederror\u001b[0m\n",
      "\u001b[34mSM_HP_SUBSAMPLE=0.7\u001b[0m\n",
      "\u001b[34mSM_HP_VERBOSITY=2\u001b[0m\n",
      "\u001b[34mPYTHONPATH=/miniconda3/bin:/:/miniconda3/lib/python/site-packages/xgboost/dmlc-core/tracker:/miniconda3/lib/python38.zip:/miniconda3/lib/python3.8:/miniconda3/lib/python3.8/lib-dynload:/miniconda3/lib/python3.8/site-packages\u001b[0m\n",
      "\u001b[34mInvoking script with the following command:\u001b[0m\n",
      "\u001b[34m/miniconda3/bin/python3 -m train --eta 0.2 --gamma 4 --max_depth 5 --min_child_weight 6 --num_round 50 --objective reg:squarederror --subsample 0.7 --verbosity 2\u001b[0m\n",
      "\u001b[34mTraceback (most recent call last):\n",
      "  File \"/miniconda3/lib/python3.8/runpy.py\", line 185, in _run_module_as_main\n",
      "    mod_name, mod_spec, code = _get_module_details(mod_name, _Error)\n",
      "  File \"/miniconda3/lib/python3.8/runpy.py\", line 155, in _get_module_details\n",
      "    code = loader.get_code(mod_name)\n",
      "  File \"<frozen importlib._bootstrap_external>\", line 976, in get_code\n",
      "  File \"<frozen importlib._bootstrap_external>\", line 906, in source_to_code\n",
      "  File \"<frozen importlib._bootstrap>\", line 219, in _call_with_frames_removed\n",
      "  File \"/opt/ml/code/train.py\", line 25\n",
      "    booster =xgb..train(params=params,\n",
      "                 ^\u001b[0m\n",
      "\u001b[34mSyntaxError: invalid syntax\u001b[0m\n",
      "\u001b[34m[2023-04-22:22:54:38:ERROR] ExecuteUserScriptError:\u001b[0m\n",
      "\u001b[34mCommand \"/miniconda3/bin/python3 -m train --eta 0.2 --gamma 4 --max_depth 5 --min_child_weight 6 --num_round 50 --objective reg:squarederror --subsample 0.7 --verbosity 2\"\u001b[0m\n",
      "\n",
      "2023-04-22 22:55:09 Failed - Training job failed\n"
     ]
    }
   ],
   "source": [
    "xgb_script_mode_estimator.fit({\"train\": train_input, \"validation\": test_input})\n"
   ]
  },
  {
   "cell_type": "code",
   "execution_count": null,
   "id": "30a66899-bddd-4f48-9f43-5b17428c59a1",
   "metadata": {},
   "outputs": [],
   "source": []
  },
  {
   "cell_type": "code",
   "execution_count": null,
   "id": "bcee2131-c59a-4de6-9dfa-515d99d53c05",
   "metadata": {},
   "outputs": [],
   "source": []
  }
 ],
 "metadata": {
  "availableInstances": [
   {
    "_defaultOrder": 0,
    "_isFastLaunch": true,
    "category": "General purpose",
    "gpuNum": 0,
    "hideHardwareSpecs": false,
    "memoryGiB": 4,
    "name": "ml.t3.medium",
    "vcpuNum": 2
   },
   {
    "_defaultOrder": 1,
    "_isFastLaunch": false,
    "category": "General purpose",
    "gpuNum": 0,
    "hideHardwareSpecs": false,
    "memoryGiB": 8,
    "name": "ml.t3.large",
    "vcpuNum": 2
   },
   {
    "_defaultOrder": 2,
    "_isFastLaunch": false,
    "category": "General purpose",
    "gpuNum": 0,
    "hideHardwareSpecs": false,
    "memoryGiB": 16,
    "name": "ml.t3.xlarge",
    "vcpuNum": 4
   },
   {
    "_defaultOrder": 3,
    "_isFastLaunch": false,
    "category": "General purpose",
    "gpuNum": 0,
    "hideHardwareSpecs": false,
    "memoryGiB": 32,
    "name": "ml.t3.2xlarge",
    "vcpuNum": 8
   },
   {
    "_defaultOrder": 4,
    "_isFastLaunch": true,
    "category": "General purpose",
    "gpuNum": 0,
    "hideHardwareSpecs": false,
    "memoryGiB": 8,
    "name": "ml.m5.large",
    "vcpuNum": 2
   },
   {
    "_defaultOrder": 5,
    "_isFastLaunch": false,
    "category": "General purpose",
    "gpuNum": 0,
    "hideHardwareSpecs": false,
    "memoryGiB": 16,
    "name": "ml.m5.xlarge",
    "vcpuNum": 4
   },
   {
    "_defaultOrder": 6,
    "_isFastLaunch": false,
    "category": "General purpose",
    "gpuNum": 0,
    "hideHardwareSpecs": false,
    "memoryGiB": 32,
    "name": "ml.m5.2xlarge",
    "vcpuNum": 8
   },
   {
    "_defaultOrder": 7,
    "_isFastLaunch": false,
    "category": "General purpose",
    "gpuNum": 0,
    "hideHardwareSpecs": false,
    "memoryGiB": 64,
    "name": "ml.m5.4xlarge",
    "vcpuNum": 16
   },
   {
    "_defaultOrder": 8,
    "_isFastLaunch": false,
    "category": "General purpose",
    "gpuNum": 0,
    "hideHardwareSpecs": false,
    "memoryGiB": 128,
    "name": "ml.m5.8xlarge",
    "vcpuNum": 32
   },
   {
    "_defaultOrder": 9,
    "_isFastLaunch": false,
    "category": "General purpose",
    "gpuNum": 0,
    "hideHardwareSpecs": false,
    "memoryGiB": 192,
    "name": "ml.m5.12xlarge",
    "vcpuNum": 48
   },
   {
    "_defaultOrder": 10,
    "_isFastLaunch": false,
    "category": "General purpose",
    "gpuNum": 0,
    "hideHardwareSpecs": false,
    "memoryGiB": 256,
    "name": "ml.m5.16xlarge",
    "vcpuNum": 64
   },
   {
    "_defaultOrder": 11,
    "_isFastLaunch": false,
    "category": "General purpose",
    "gpuNum": 0,
    "hideHardwareSpecs": false,
    "memoryGiB": 384,
    "name": "ml.m5.24xlarge",
    "vcpuNum": 96
   },
   {
    "_defaultOrder": 12,
    "_isFastLaunch": false,
    "category": "General purpose",
    "gpuNum": 0,
    "hideHardwareSpecs": false,
    "memoryGiB": 8,
    "name": "ml.m5d.large",
    "vcpuNum": 2
   },
   {
    "_defaultOrder": 13,
    "_isFastLaunch": false,
    "category": "General purpose",
    "gpuNum": 0,
    "hideHardwareSpecs": false,
    "memoryGiB": 16,
    "name": "ml.m5d.xlarge",
    "vcpuNum": 4
   },
   {
    "_defaultOrder": 14,
    "_isFastLaunch": false,
    "category": "General purpose",
    "gpuNum": 0,
    "hideHardwareSpecs": false,
    "memoryGiB": 32,
    "name": "ml.m5d.2xlarge",
    "vcpuNum": 8
   },
   {
    "_defaultOrder": 15,
    "_isFastLaunch": false,
    "category": "General purpose",
    "gpuNum": 0,
    "hideHardwareSpecs": false,
    "memoryGiB": 64,
    "name": "ml.m5d.4xlarge",
    "vcpuNum": 16
   },
   {
    "_defaultOrder": 16,
    "_isFastLaunch": false,
    "category": "General purpose",
    "gpuNum": 0,
    "hideHardwareSpecs": false,
    "memoryGiB": 128,
    "name": "ml.m5d.8xlarge",
    "vcpuNum": 32
   },
   {
    "_defaultOrder": 17,
    "_isFastLaunch": false,
    "category": "General purpose",
    "gpuNum": 0,
    "hideHardwareSpecs": false,
    "memoryGiB": 192,
    "name": "ml.m5d.12xlarge",
    "vcpuNum": 48
   },
   {
    "_defaultOrder": 18,
    "_isFastLaunch": false,
    "category": "General purpose",
    "gpuNum": 0,
    "hideHardwareSpecs": false,
    "memoryGiB": 256,
    "name": "ml.m5d.16xlarge",
    "vcpuNum": 64
   },
   {
    "_defaultOrder": 19,
    "_isFastLaunch": false,
    "category": "General purpose",
    "gpuNum": 0,
    "hideHardwareSpecs": false,
    "memoryGiB": 384,
    "name": "ml.m5d.24xlarge",
    "vcpuNum": 96
   },
   {
    "_defaultOrder": 20,
    "_isFastLaunch": false,
    "category": "General purpose",
    "gpuNum": 0,
    "hideHardwareSpecs": true,
    "memoryGiB": 0,
    "name": "ml.geospatial.interactive",
    "supportedImageNames": [
     "sagemaker-geospatial-v1-0"
    ],
    "vcpuNum": 0
   },
   {
    "_defaultOrder": 21,
    "_isFastLaunch": true,
    "category": "Compute optimized",
    "gpuNum": 0,
    "hideHardwareSpecs": false,
    "memoryGiB": 4,
    "name": "ml.c5.large",
    "vcpuNum": 2
   },
   {
    "_defaultOrder": 22,
    "_isFastLaunch": false,
    "category": "Compute optimized",
    "gpuNum": 0,
    "hideHardwareSpecs": false,
    "memoryGiB": 8,
    "name": "ml.c5.xlarge",
    "vcpuNum": 4
   },
   {
    "_defaultOrder": 23,
    "_isFastLaunch": false,
    "category": "Compute optimized",
    "gpuNum": 0,
    "hideHardwareSpecs": false,
    "memoryGiB": 16,
    "name": "ml.c5.2xlarge",
    "vcpuNum": 8
   },
   {
    "_defaultOrder": 24,
    "_isFastLaunch": false,
    "category": "Compute optimized",
    "gpuNum": 0,
    "hideHardwareSpecs": false,
    "memoryGiB": 32,
    "name": "ml.c5.4xlarge",
    "vcpuNum": 16
   },
   {
    "_defaultOrder": 25,
    "_isFastLaunch": false,
    "category": "Compute optimized",
    "gpuNum": 0,
    "hideHardwareSpecs": false,
    "memoryGiB": 72,
    "name": "ml.c5.9xlarge",
    "vcpuNum": 36
   },
   {
    "_defaultOrder": 26,
    "_isFastLaunch": false,
    "category": "Compute optimized",
    "gpuNum": 0,
    "hideHardwareSpecs": false,
    "memoryGiB": 96,
    "name": "ml.c5.12xlarge",
    "vcpuNum": 48
   },
   {
    "_defaultOrder": 27,
    "_isFastLaunch": false,
    "category": "Compute optimized",
    "gpuNum": 0,
    "hideHardwareSpecs": false,
    "memoryGiB": 144,
    "name": "ml.c5.18xlarge",
    "vcpuNum": 72
   },
   {
    "_defaultOrder": 28,
    "_isFastLaunch": false,
    "category": "Compute optimized",
    "gpuNum": 0,
    "hideHardwareSpecs": false,
    "memoryGiB": 192,
    "name": "ml.c5.24xlarge",
    "vcpuNum": 96
   },
   {
    "_defaultOrder": 29,
    "_isFastLaunch": true,
    "category": "Accelerated computing",
    "gpuNum": 1,
    "hideHardwareSpecs": false,
    "memoryGiB": 16,
    "name": "ml.g4dn.xlarge",
    "vcpuNum": 4
   },
   {
    "_defaultOrder": 30,
    "_isFastLaunch": false,
    "category": "Accelerated computing",
    "gpuNum": 1,
    "hideHardwareSpecs": false,
    "memoryGiB": 32,
    "name": "ml.g4dn.2xlarge",
    "vcpuNum": 8
   },
   {
    "_defaultOrder": 31,
    "_isFastLaunch": false,
    "category": "Accelerated computing",
    "gpuNum": 1,
    "hideHardwareSpecs": false,
    "memoryGiB": 64,
    "name": "ml.g4dn.4xlarge",
    "vcpuNum": 16
   },
   {
    "_defaultOrder": 32,
    "_isFastLaunch": false,
    "category": "Accelerated computing",
    "gpuNum": 1,
    "hideHardwareSpecs": false,
    "memoryGiB": 128,
    "name": "ml.g4dn.8xlarge",
    "vcpuNum": 32
   },
   {
    "_defaultOrder": 33,
    "_isFastLaunch": false,
    "category": "Accelerated computing",
    "gpuNum": 4,
    "hideHardwareSpecs": false,
    "memoryGiB": 192,
    "name": "ml.g4dn.12xlarge",
    "vcpuNum": 48
   },
   {
    "_defaultOrder": 34,
    "_isFastLaunch": false,
    "category": "Accelerated computing",
    "gpuNum": 1,
    "hideHardwareSpecs": false,
    "memoryGiB": 256,
    "name": "ml.g4dn.16xlarge",
    "vcpuNum": 64
   },
   {
    "_defaultOrder": 35,
    "_isFastLaunch": false,
    "category": "Accelerated computing",
    "gpuNum": 1,
    "hideHardwareSpecs": false,
    "memoryGiB": 61,
    "name": "ml.p3.2xlarge",
    "vcpuNum": 8
   },
   {
    "_defaultOrder": 36,
    "_isFastLaunch": false,
    "category": "Accelerated computing",
    "gpuNum": 4,
    "hideHardwareSpecs": false,
    "memoryGiB": 244,
    "name": "ml.p3.8xlarge",
    "vcpuNum": 32
   },
   {
    "_defaultOrder": 37,
    "_isFastLaunch": false,
    "category": "Accelerated computing",
    "gpuNum": 8,
    "hideHardwareSpecs": false,
    "memoryGiB": 488,
    "name": "ml.p3.16xlarge",
    "vcpuNum": 64
   },
   {
    "_defaultOrder": 38,
    "_isFastLaunch": false,
    "category": "Accelerated computing",
    "gpuNum": 8,
    "hideHardwareSpecs": false,
    "memoryGiB": 768,
    "name": "ml.p3dn.24xlarge",
    "vcpuNum": 96
   },
   {
    "_defaultOrder": 39,
    "_isFastLaunch": false,
    "category": "Memory Optimized",
    "gpuNum": 0,
    "hideHardwareSpecs": false,
    "memoryGiB": 16,
    "name": "ml.r5.large",
    "vcpuNum": 2
   },
   {
    "_defaultOrder": 40,
    "_isFastLaunch": false,
    "category": "Memory Optimized",
    "gpuNum": 0,
    "hideHardwareSpecs": false,
    "memoryGiB": 32,
    "name": "ml.r5.xlarge",
    "vcpuNum": 4
   },
   {
    "_defaultOrder": 41,
    "_isFastLaunch": false,
    "category": "Memory Optimized",
    "gpuNum": 0,
    "hideHardwareSpecs": false,
    "memoryGiB": 64,
    "name": "ml.r5.2xlarge",
    "vcpuNum": 8
   },
   {
    "_defaultOrder": 42,
    "_isFastLaunch": false,
    "category": "Memory Optimized",
    "gpuNum": 0,
    "hideHardwareSpecs": false,
    "memoryGiB": 128,
    "name": "ml.r5.4xlarge",
    "vcpuNum": 16
   },
   {
    "_defaultOrder": 43,
    "_isFastLaunch": false,
    "category": "Memory Optimized",
    "gpuNum": 0,
    "hideHardwareSpecs": false,
    "memoryGiB": 256,
    "name": "ml.r5.8xlarge",
    "vcpuNum": 32
   },
   {
    "_defaultOrder": 44,
    "_isFastLaunch": false,
    "category": "Memory Optimized",
    "gpuNum": 0,
    "hideHardwareSpecs": false,
    "memoryGiB": 384,
    "name": "ml.r5.12xlarge",
    "vcpuNum": 48
   },
   {
    "_defaultOrder": 45,
    "_isFastLaunch": false,
    "category": "Memory Optimized",
    "gpuNum": 0,
    "hideHardwareSpecs": false,
    "memoryGiB": 512,
    "name": "ml.r5.16xlarge",
    "vcpuNum": 64
   },
   {
    "_defaultOrder": 46,
    "_isFastLaunch": false,
    "category": "Memory Optimized",
    "gpuNum": 0,
    "hideHardwareSpecs": false,
    "memoryGiB": 768,
    "name": "ml.r5.24xlarge",
    "vcpuNum": 96
   },
   {
    "_defaultOrder": 47,
    "_isFastLaunch": false,
    "category": "Accelerated computing",
    "gpuNum": 1,
    "hideHardwareSpecs": false,
    "memoryGiB": 16,
    "name": "ml.g5.xlarge",
    "vcpuNum": 4
   },
   {
    "_defaultOrder": 48,
    "_isFastLaunch": false,
    "category": "Accelerated computing",
    "gpuNum": 1,
    "hideHardwareSpecs": false,
    "memoryGiB": 32,
    "name": "ml.g5.2xlarge",
    "vcpuNum": 8
   },
   {
    "_defaultOrder": 49,
    "_isFastLaunch": false,
    "category": "Accelerated computing",
    "gpuNum": 1,
    "hideHardwareSpecs": false,
    "memoryGiB": 64,
    "name": "ml.g5.4xlarge",
    "vcpuNum": 16
   },
   {
    "_defaultOrder": 50,
    "_isFastLaunch": false,
    "category": "Accelerated computing",
    "gpuNum": 1,
    "hideHardwareSpecs": false,
    "memoryGiB": 128,
    "name": "ml.g5.8xlarge",
    "vcpuNum": 32
   },
   {
    "_defaultOrder": 51,
    "_isFastLaunch": false,
    "category": "Accelerated computing",
    "gpuNum": 1,
    "hideHardwareSpecs": false,
    "memoryGiB": 256,
    "name": "ml.g5.16xlarge",
    "vcpuNum": 64
   },
   {
    "_defaultOrder": 52,
    "_isFastLaunch": false,
    "category": "Accelerated computing",
    "gpuNum": 4,
    "hideHardwareSpecs": false,
    "memoryGiB": 192,
    "name": "ml.g5.12xlarge",
    "vcpuNum": 48
   },
   {
    "_defaultOrder": 53,
    "_isFastLaunch": false,
    "category": "Accelerated computing",
    "gpuNum": 4,
    "hideHardwareSpecs": false,
    "memoryGiB": 384,
    "name": "ml.g5.24xlarge",
    "vcpuNum": 96
   },
   {
    "_defaultOrder": 54,
    "_isFastLaunch": false,
    "category": "Accelerated computing",
    "gpuNum": 8,
    "hideHardwareSpecs": false,
    "memoryGiB": 768,
    "name": "ml.g5.48xlarge",
    "vcpuNum": 192
   }
  ],
  "instance_type": "ml.t3.medium",
  "kernelspec": {
   "display_name": "Python 3 (Data Science)",
   "language": "python",
   "name": "python3__SAGEMAKER_INTERNAL__arn:aws:sagemaker:us-east-1:081325390199:image/datascience-1.0"
  },
  "language_info": {
   "codemirror_mode": {
    "name": "ipython",
    "version": 3
   },
   "file_extension": ".py",
   "mimetype": "text/x-python",
   "name": "python",
   "nbconvert_exporter": "python",
   "pygments_lexer": "ipython3",
   "version": "3.7.10"
  }
 },
 "nbformat": 4,
 "nbformat_minor": 5
}
