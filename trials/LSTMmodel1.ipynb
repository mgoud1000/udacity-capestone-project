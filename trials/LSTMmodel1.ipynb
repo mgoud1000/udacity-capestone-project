{
 "cells": [
  {
   "cell_type": "code",
   "execution_count": 3,
   "id": "191e3745-ba58-4934-8f69-69a6e4a71862",
   "metadata": {
    "tags": []
   },
   "outputs": [],
   "source": [
    "import numpy as np\n",
    "import matplotlib.pyplot as plt\n",
    "import pandas as pd\n",
    "import torch\n",
    "import torch.nn as nn\n",
    "import torch.nn.functional as F\n",
    "import torch.optim as optim\n",
    "from torch.utils.data import Dataset, DataLoader\n",
    "import sklearn\n",
    "from scipy import stats\n",
    "from sklearn.metrics import mean_absolute_error \n",
    "from sklearn.metrics import mean_squared_error \n",
    "from sklearn.metrics import median_absolute_error\n",
    "from datetime import date\n",
    "from sklearn.preprocessing import MinMaxScaler\n"
   ]
  },
  {
   "cell_type": "code",
   "execution_count": 4,
   "id": "6d06702d-7a91-43de-a07f-dc861a629a50",
   "metadata": {
    "tags": []
   },
   "outputs": [],
   "source": [
    "df=pd.read_csv('Fractionator.csv')"
   ]
  },
  {
   "cell_type": "code",
   "execution_count": 5,
   "id": "eccbe35b-51bb-4de2-8b9a-f16edba30937",
   "metadata": {
    "tags": []
   },
   "outputs": [],
   "source": [
    "df['Time']=pd.to_datetime(df['Time'])"
   ]
  },
  {
   "cell_type": "code",
   "execution_count": 6,
   "id": "605f8582-fe02-4c2e-b07e-cec21b02c4d2",
   "metadata": {
    "tags": []
   },
   "outputs": [],
   "source": [
    "df=df[(np.abs(stats.zscore(df[\"AI_2020_OVERHEAD_C5'S_MOL\"])) < 3)]"
   ]
  },
  {
   "cell_type": "code",
   "execution_count": 7,
   "id": "b0eb570f-ea45-44f8-9df4-faa22e0dc88c",
   "metadata": {
    "tags": []
   },
   "outputs": [],
   "source": [
    "df.rename(columns = {\"AI_2020_OVERHEAD_C5'S_MOL\":\"AI_top\",\"AI_2021_MIDDLE_C7'S_MOL\":\"AI_middle\",\"AI_2022_BOTTOM_C3'S_MOL\":\"AI_bottom\"\n",
    "                           }, inplace = True)"
   ]
  },
  {
   "cell_type": "code",
   "execution_count": 8,
   "id": "5b67e6f1-9eb9-402b-b692-66a733401c50",
   "metadata": {
    "tags": []
   },
   "outputs": [
    {
     "data": {
      "text/html": [
       "<div>\n",
       "<style scoped>\n",
       "    .dataframe tbody tr th:only-of-type {\n",
       "        vertical-align: middle;\n",
       "    }\n",
       "\n",
       "    .dataframe tbody tr th {\n",
       "        vertical-align: top;\n",
       "    }\n",
       "\n",
       "    .dataframe thead th {\n",
       "        text-align: right;\n",
       "    }\n",
       "</style>\n",
       "<table border=\"1\" class=\"dataframe\">\n",
       "  <thead>\n",
       "    <tr style=\"text-align: right;\">\n",
       "      <th></th>\n",
       "      <th>Time</th>\n",
       "      <th>AI_top</th>\n",
       "      <th>AI_middle</th>\n",
       "      <th>AI_bottom</th>\n",
       "      <th>FIC_2100_PV_FEED_FURNACE_FUEL_SCFH</th>\n",
       "      <th>FIC-2101_PV_TOP_PRODUCT_MBBL/D</th>\n",
       "      <th>FIC_2102_PV_BOTTOM_PRODUCT_MBBL/D</th>\n",
       "      <th>FI-2005_PV_FEED_FLOW_MBBL/D</th>\n",
       "      <th>FIC-2001_SP_TOP_REFLUX_SETPOINT_MBBL/D</th>\n",
       "      <th>FIC-2001_OP_TOP_REFLUX_OUTPUT_%</th>\n",
       "      <th>FIC_2001_PV_TOP_REFLUX_SETPOINT_MBBL/D</th>\n",
       "      <th>FIC-2002_SP_MIDDLE_PRODUCT_DRAW_SETPOINT_MBBL/D</th>\n",
       "      <th>FIC_2002_OP_MIDDLE_PRODUCT_DRAW_OUTPUT_%</th>\n",
       "      <th>FIC_2002_PVMIDDLE_PRODUCT_DRAW_MBBL/D</th>\n",
       "      <th>FIC_2004_SP_MIDDLE_REFLUX _SETPOINT_MBBL/D</th>\n",
       "      <th>FIC_2004_OP_MIDDLE_REFLUX_OUTPUT_%</th>\n",
       "      <th>FIC_2004_PV_TOP_REFLUX_MBBL/D</th>\n",
       "      <th>QI_2106_PV_MIDDLE_REFLUX_DUTY_BTU/H</th>\n",
       "      <th>TIC_2003_SP_FEED_TEMPERATURE_SETPOINT_DEGF</th>\n",
       "    </tr>\n",
       "  </thead>\n",
       "  <tbody>\n",
       "    <tr>\n",
       "      <th>0</th>\n",
       "      <td>2009-10-01 08:14:00</td>\n",
       "      <td>2.00000</td>\n",
       "      <td>3.00000</td>\n",
       "      <td>4.00000</td>\n",
       "      <td>8.50000</td>\n",
       "      <td>2.10000</td>\n",
       "      <td>1.70000</td>\n",
       "      <td>5.02153</td>\n",
       "      <td>2.5</td>\n",
       "      <td>41.5425</td>\n",
       "      <td>2.64333</td>\n",
       "      <td>1.5</td>\n",
       "      <td>39.6248</td>\n",
       "      <td>1.55033</td>\n",
       "      <td>8.0</td>\n",
       "      <td>27.0211</td>\n",
       "      <td>8.06381</td>\n",
       "      <td>2.00000</td>\n",
       "      <td>200.0</td>\n",
       "    </tr>\n",
       "    <tr>\n",
       "      <th>1</th>\n",
       "      <td>2009-10-01 08:15:00</td>\n",
       "      <td>2.00360</td>\n",
       "      <td>3.00954</td>\n",
       "      <td>3.99831</td>\n",
       "      <td>8.50735</td>\n",
       "      <td>2.09686</td>\n",
       "      <td>1.71730</td>\n",
       "      <td>4.98768</td>\n",
       "      <td>2.5</td>\n",
       "      <td>40.7619</td>\n",
       "      <td>2.51377</td>\n",
       "      <td>1.5</td>\n",
       "      <td>32.2511</td>\n",
       "      <td>1.43952</td>\n",
       "      <td>8.0</td>\n",
       "      <td>30.9622</td>\n",
       "      <td>8.02407</td>\n",
       "      <td>1.99772</td>\n",
       "      <td>200.0</td>\n",
       "    </tr>\n",
       "    <tr>\n",
       "      <th>2</th>\n",
       "      <td>2009-10-01 08:16:00</td>\n",
       "      <td>2.00870</td>\n",
       "      <td>2.99518</td>\n",
       "      <td>3.97746</td>\n",
       "      <td>8.50977</td>\n",
       "      <td>2.09280</td>\n",
       "      <td>1.72500</td>\n",
       "      <td>4.93990</td>\n",
       "      <td>2.5</td>\n",
       "      <td>39.5543</td>\n",
       "      <td>2.39550</td>\n",
       "      <td>1.5</td>\n",
       "      <td>36.5874</td>\n",
       "      <td>1.55065</td>\n",
       "      <td>8.0</td>\n",
       "      <td>33.4288</td>\n",
       "      <td>7.92434</td>\n",
       "      <td>1.99552</td>\n",
       "      <td>200.0</td>\n",
       "    </tr>\n",
       "    <tr>\n",
       "      <th>3</th>\n",
       "      <td>2009-10-01 08:17:00</td>\n",
       "      <td>2.00385</td>\n",
       "      <td>3.01356</td>\n",
       "      <td>3.97262</td>\n",
       "      <td>8.50838</td>\n",
       "      <td>2.08587</td>\n",
       "      <td>1.71878</td>\n",
       "      <td>4.93333</td>\n",
       "      <td>2.5</td>\n",
       "      <td>39.3031</td>\n",
       "      <td>2.32773</td>\n",
       "      <td>1.5</td>\n",
       "      <td>37.0797</td>\n",
       "      <td>1.50101</td>\n",
       "      <td>8.0</td>\n",
       "      <td>26.2273</td>\n",
       "      <td>8.03058</td>\n",
       "      <td>1.99483</td>\n",
       "      <td>200.0</td>\n",
       "    </tr>\n",
       "    <tr>\n",
       "      <th>4</th>\n",
       "      <td>2009-10-01 08:18:00</td>\n",
       "      <td>1.99852</td>\n",
       "      <td>3.02963</td>\n",
       "      <td>3.98841</td>\n",
       "      <td>8.50365</td>\n",
       "      <td>2.08028</td>\n",
       "      <td>1.71360</td>\n",
       "      <td>4.96880</td>\n",
       "      <td>2.5</td>\n",
       "      <td>40.1886</td>\n",
       "      <td>2.50900</td>\n",
       "      <td>1.5</td>\n",
       "      <td>33.2056</td>\n",
       "      <td>1.48210</td>\n",
       "      <td>8.0</td>\n",
       "      <td>29.6134</td>\n",
       "      <td>8.06181</td>\n",
       "      <td>1.99465</td>\n",
       "      <td>200.0</td>\n",
       "    </tr>\n",
       "  </tbody>\n",
       "</table>\n",
       "</div>"
      ],
      "text/plain": [
       "                 Time   AI_top  AI_middle  AI_bottom  \\\n",
       "0 2009-10-01 08:14:00  2.00000    3.00000    4.00000   \n",
       "1 2009-10-01 08:15:00  2.00360    3.00954    3.99831   \n",
       "2 2009-10-01 08:16:00  2.00870    2.99518    3.97746   \n",
       "3 2009-10-01 08:17:00  2.00385    3.01356    3.97262   \n",
       "4 2009-10-01 08:18:00  1.99852    3.02963    3.98841   \n",
       "\n",
       "   FIC_2100_PV_FEED_FURNACE_FUEL_SCFH  FIC-2101_PV_TOP_PRODUCT_MBBL/D  \\\n",
       "0                             8.50000                         2.10000   \n",
       "1                             8.50735                         2.09686   \n",
       "2                             8.50977                         2.09280   \n",
       "3                             8.50838                         2.08587   \n",
       "4                             8.50365                         2.08028   \n",
       "\n",
       "   FIC_2102_PV_BOTTOM_PRODUCT_MBBL/D  FI-2005_PV_FEED_FLOW_MBBL/D  \\\n",
       "0                            1.70000                      5.02153   \n",
       "1                            1.71730                      4.98768   \n",
       "2                            1.72500                      4.93990   \n",
       "3                            1.71878                      4.93333   \n",
       "4                            1.71360                      4.96880   \n",
       "\n",
       "   FIC-2001_SP_TOP_REFLUX_SETPOINT_MBBL/D  FIC-2001_OP_TOP_REFLUX_OUTPUT_%  \\\n",
       "0                                     2.5                          41.5425   \n",
       "1                                     2.5                          40.7619   \n",
       "2                                     2.5                          39.5543   \n",
       "3                                     2.5                          39.3031   \n",
       "4                                     2.5                          40.1886   \n",
       "\n",
       "   FIC_2001_PV_TOP_REFLUX_SETPOINT_MBBL/D  \\\n",
       "0                                 2.64333   \n",
       "1                                 2.51377   \n",
       "2                                 2.39550   \n",
       "3                                 2.32773   \n",
       "4                                 2.50900   \n",
       "\n",
       "   FIC-2002_SP_MIDDLE_PRODUCT_DRAW_SETPOINT_MBBL/D  \\\n",
       "0                                              1.5   \n",
       "1                                              1.5   \n",
       "2                                              1.5   \n",
       "3                                              1.5   \n",
       "4                                              1.5   \n",
       "\n",
       "   FIC_2002_OP_MIDDLE_PRODUCT_DRAW_OUTPUT_%  \\\n",
       "0                                   39.6248   \n",
       "1                                   32.2511   \n",
       "2                                   36.5874   \n",
       "3                                   37.0797   \n",
       "4                                   33.2056   \n",
       "\n",
       "   FIC_2002_PVMIDDLE_PRODUCT_DRAW_MBBL/D  \\\n",
       "0                                1.55033   \n",
       "1                                1.43952   \n",
       "2                                1.55065   \n",
       "3                                1.50101   \n",
       "4                                1.48210   \n",
       "\n",
       "   FIC_2004_SP_MIDDLE_REFLUX _SETPOINT_MBBL/D  \\\n",
       "0                                         8.0   \n",
       "1                                         8.0   \n",
       "2                                         8.0   \n",
       "3                                         8.0   \n",
       "4                                         8.0   \n",
       "\n",
       "   FIC_2004_OP_MIDDLE_REFLUX_OUTPUT_%  FIC_2004_PV_TOP_REFLUX_MBBL/D  \\\n",
       "0                             27.0211                        8.06381   \n",
       "1                             30.9622                        8.02407   \n",
       "2                             33.4288                        7.92434   \n",
       "3                             26.2273                        8.03058   \n",
       "4                             29.6134                        8.06181   \n",
       "\n",
       "   QI_2106_PV_MIDDLE_REFLUX_DUTY_BTU/H  \\\n",
       "0                              2.00000   \n",
       "1                              1.99772   \n",
       "2                              1.99552   \n",
       "3                              1.99483   \n",
       "4                              1.99465   \n",
       "\n",
       "   TIC_2003_SP_FEED_TEMPERATURE_SETPOINT_DEGF  \n",
       "0                                       200.0  \n",
       "1                                       200.0  \n",
       "2                                       200.0  \n",
       "3                                       200.0  \n",
       "4                                       200.0  "
      ]
     },
     "execution_count": 8,
     "metadata": {},
     "output_type": "execute_result"
    }
   ],
   "source": [
    "df.head()"
   ]
  },
  {
   "cell_type": "code",
   "execution_count": 9,
   "id": "027b67dc-b2f9-4926-bcb4-63f16192c6bd",
   "metadata": {
    "tags": []
   },
   "outputs": [],
   "source": [
    "df.set_index('Time', inplace=True)"
   ]
  },
  {
   "cell_type": "code",
   "execution_count": 11,
   "id": "8ce026a2-3cac-4ae8-b1e3-b385d72859fd",
   "metadata": {
    "tags": []
   },
   "outputs": [],
   "source": [
    "df=df[['AI_top','AI_middle','AI_bottom','FIC_2100_PV_FEED_FURNACE_FUEL_SCFH']]"
   ]
  },
  {
   "cell_type": "code",
   "execution_count": 21,
   "id": "b3c35208-c3f5-4dc7-802e-dc73dfc8447b",
   "metadata": {
    "tags": []
   },
   "outputs": [],
   "source": [
    "df.rename(columns ={'FIC_2100_PV_FEED_FURNACE_FUEL_SCFH':'Furnace'}, inplace = True)"
   ]
  },
  {
   "cell_type": "code",
   "execution_count": 22,
   "id": "01451d15-13fd-47fe-9c80-5db2706aa885",
   "metadata": {
    "tags": []
   },
   "outputs": [],
   "source": [
    "df_furnace=df[['AI_top','Furnace']]"
   ]
  },
  {
   "cell_type": "code",
   "execution_count": 23,
   "id": "d58de5b2-f406-4d80-adde-102926aa1da7",
   "metadata": {
    "tags": []
   },
   "outputs": [
    {
     "data": {
      "text/html": [
       "<div>\n",
       "<style scoped>\n",
       "    .dataframe tbody tr th:only-of-type {\n",
       "        vertical-align: middle;\n",
       "    }\n",
       "\n",
       "    .dataframe tbody tr th {\n",
       "        vertical-align: top;\n",
       "    }\n",
       "\n",
       "    .dataframe thead th {\n",
       "        text-align: right;\n",
       "    }\n",
       "</style>\n",
       "<table border=\"1\" class=\"dataframe\">\n",
       "  <thead>\n",
       "    <tr style=\"text-align: right;\">\n",
       "      <th></th>\n",
       "      <th>AI_top</th>\n",
       "      <th>Furnace</th>\n",
       "    </tr>\n",
       "    <tr>\n",
       "      <th>Time</th>\n",
       "      <th></th>\n",
       "      <th></th>\n",
       "    </tr>\n",
       "  </thead>\n",
       "  <tbody>\n",
       "    <tr>\n",
       "      <th>2009-10-01 08:14:00</th>\n",
       "      <td>2.00000</td>\n",
       "      <td>8.50000</td>\n",
       "    </tr>\n",
       "    <tr>\n",
       "      <th>2009-10-01 08:15:00</th>\n",
       "      <td>2.00360</td>\n",
       "      <td>8.50735</td>\n",
       "    </tr>\n",
       "    <tr>\n",
       "      <th>2009-10-01 08:16:00</th>\n",
       "      <td>2.00870</td>\n",
       "      <td>8.50977</td>\n",
       "    </tr>\n",
       "    <tr>\n",
       "      <th>2009-10-01 08:17:00</th>\n",
       "      <td>2.00385</td>\n",
       "      <td>8.50838</td>\n",
       "    </tr>\n",
       "    <tr>\n",
       "      <th>2009-10-01 08:18:00</th>\n",
       "      <td>1.99852</td>\n",
       "      <td>8.50365</td>\n",
       "    </tr>\n",
       "  </tbody>\n",
       "</table>\n",
       "</div>"
      ],
      "text/plain": [
       "                      AI_top  Furnace\n",
       "Time                                 \n",
       "2009-10-01 08:14:00  2.00000  8.50000\n",
       "2009-10-01 08:15:00  2.00360  8.50735\n",
       "2009-10-01 08:16:00  2.00870  8.50977\n",
       "2009-10-01 08:17:00  2.00385  8.50838\n",
       "2009-10-01 08:18:00  1.99852  8.50365"
      ]
     },
     "execution_count": 23,
     "metadata": {},
     "output_type": "execute_result"
    }
   ],
   "source": [
    "df_furnace.head()"
   ]
  },
  {
   "cell_type": "code",
   "execution_count": 35,
   "id": "03dbfa27-5a84-4c6f-bc68-e6bb6819b53d",
   "metadata": {
    "tags": []
   },
   "outputs": [],
   "source": [
    "def df_to_X_y(df, window_size=6):\n",
    "  df_np = df_furnace.to_numpy()\n",
    "  X = []\n",
    "  y = []\n",
    "  for i in range(len(df_np)-window_size):\n",
    "    row = [r for r in df_np[i:i+window_size]]\n",
    "    X.append(row)\n",
    "    label = df_np[i+window_size][0]\n",
    "    y.append(label)\n",
    "  return np.array(X), np.array(y)"
   ]
  },
  {
   "cell_type": "code",
   "execution_count": 37,
   "id": "d8768e01-7197-42e5-9e42-af840352a767",
   "metadata": {
    "tags": []
   },
   "outputs": [
    {
     "data": {
      "text/plain": [
       "((5723, 6, 2), (5723,))"
      ]
     },
     "execution_count": 37,
     "metadata": {},
     "output_type": "execute_result"
    }
   ],
   "source": [
    "X,y= df_to_X_y(df_furnace,window_size=6)\n",
    "X.shape, y.shape"
   ]
  },
  {
   "cell_type": "code",
   "execution_count": 38,
   "id": "7d79cdac-223f-49f4-a503-44beef3c2306",
   "metadata": {
    "tags": []
   },
   "outputs": [
    {
     "data": {
      "text/plain": [
       "'cpu'"
      ]
     },
     "execution_count": 38,
     "metadata": {},
     "output_type": "execute_result"
    }
   ],
   "source": [
    "device = 'cuda:0' if torch.cuda.is_available() else 'cpu'\n",
    "device"
   ]
  },
  {
   "cell_type": "code",
   "execution_count": 41,
   "id": "8491e0fd-e2ce-43db-86d5-722d87992481",
   "metadata": {
    "tags": []
   },
   "outputs": [
    {
     "data": {
      "text/plain": [
       "4578"
      ]
     },
     "execution_count": 41,
     "metadata": {},
     "output_type": "execute_result"
    }
   ],
   "source": [
    "split_index = int(len(X) * 0.8)\n",
    "\n",
    "split_index"
   ]
  },
  {
   "cell_type": "code",
   "execution_count": 63,
   "id": "2bd6570f-786b-47dc-86c2-8d7825a47686",
   "metadata": {
    "tags": []
   },
   "outputs": [
    {
     "data": {
      "text/plain": [
       "((4578, 6, 2), (1145, 6, 2), (4578,), (1145,))"
      ]
     },
     "execution_count": 63,
     "metadata": {},
     "output_type": "execute_result"
    }
   ],
   "source": [
    "X_train = X[:split_index]\n",
    "X_test = X[split_index:]\n",
    "\n",
    "y_train = y[:split_index]\n",
    "y_test = y[split_index:]\n",
    "\n",
    "X_train.shape, X_test.shape, y_train.shape, y_test.shape"
   ]
  },
  {
   "cell_type": "code",
   "execution_count": 64,
   "id": "60bc775d-bba7-4165-bb13-c6674dcfdb36",
   "metadata": {
    "tags": []
   },
   "outputs": [
    {
     "data": {
      "text/plain": [
       "((4578, 6, 2), (1145, 6, 2), (4578, 1), (1145, 1))"
      ]
     },
     "execution_count": 64,
     "metadata": {},
     "output_type": "execute_result"
    }
   ],
   "source": [
    "window_size=6\n",
    "#X_train = X_train.reshape((-1, window_size,window_size,1))\n",
    "#X_test = X_test.reshape((-1, 2*window_size,1))\n",
    "\n",
    "y_train = y_train.reshape((-1, 1))\n",
    "y_test = y_test.reshape((-1, 1))\n",
    "\n",
    "X_train.shape, X_test.shape, y_train.shape, y_test.shape"
   ]
  },
  {
   "cell_type": "code",
   "execution_count": 65,
   "id": "67ee609c-2702-4468-8da1-af3d39e74e73",
   "metadata": {
    "tags": []
   },
   "outputs": [
    {
     "data": {
      "text/plain": [
       "array([[2.     , 8.5    ],\n",
       "       [2.0036 , 8.50735],\n",
       "       [2.0087 , 8.50977],\n",
       "       [2.00385, 8.50838],\n",
       "       [1.99852, 8.50365],\n",
       "       [1.9971 , 8.50548]])"
      ]
     },
     "execution_count": 65,
     "metadata": {},
     "output_type": "execute_result"
    }
   ],
   "source": [
    "X_train [0]"
   ]
  },
  {
   "cell_type": "code",
   "execution_count": 66,
   "id": "410d98b2-0ec4-42d4-9b8a-2f6557df86d3",
   "metadata": {
    "tags": []
   },
   "outputs": [
    {
     "data": {
      "text/plain": [
       "(torch.Size([4578, 6, 2]),\n",
       " torch.Size([1145, 6, 2]),\n",
       " torch.Size([4578, 1]),\n",
       " torch.Size([1145, 1]))"
      ]
     },
     "execution_count": 66,
     "metadata": {},
     "output_type": "execute_result"
    }
   ],
   "source": [
    "X_train = torch.tensor(X_train).float()\n",
    "y_train = torch.tensor(y_train).float()\n",
    "X_test = torch.tensor(X_test).float()\n",
    "y_test = torch.tensor(y_test).float()\n",
    "X_train.shape, X_test.shape, y_train.shape, y_test.shape"
   ]
  },
  {
   "cell_type": "code",
   "execution_count": 67,
   "id": "d17239ca-cbd1-4168-962e-4432b9a3619e",
   "metadata": {
    "tags": []
   },
   "outputs": [
    {
     "data": {
      "text/plain": [
       "tensor([[2.0000, 8.5000],\n",
       "        [2.0036, 8.5073],\n",
       "        [2.0087, 8.5098],\n",
       "        [2.0038, 8.5084],\n",
       "        [1.9985, 8.5036],\n",
       "        [1.9971, 8.5055]])"
      ]
     },
     "execution_count": 67,
     "metadata": {},
     "output_type": "execute_result"
    }
   ],
   "source": [
    "X_train [0]"
   ]
  },
  {
   "cell_type": "code",
   "execution_count": 68,
   "id": "cb07cdad-af70-4cda-ad50-03f8729e98b1",
   "metadata": {
    "tags": []
   },
   "outputs": [],
   "source": [
    "from torch.utils.data import Dataset\n",
    "\n",
    "class TimeSeriesDataset(Dataset):\n",
    "    def __init__(self, X, y):\n",
    "        self.X = X\n",
    "        self.y = y\n",
    "\n",
    "    def __len__(self):\n",
    "        return len(self.X)\n",
    "\n",
    "    def __getitem__(self, i):\n",
    "        return self.X[i], self.y[i]\n",
    "    \n",
    "train_dataset = TimeSeriesDataset(X_train, y_train)\n",
    "test_dataset = TimeSeriesDataset(X_test, y_test)"
   ]
  },
  {
   "cell_type": "code",
   "execution_count": 69,
   "id": "b30bb61f-0bca-466e-971a-9a82f45bbfca",
   "metadata": {
    "tags": []
   },
   "outputs": [],
   "source": [
    "from torch.utils.data import DataLoader\n",
    "\n",
    "batch_size = 16\n",
    "\n",
    "train_loader = DataLoader(train_dataset, batch_size=batch_size, shuffle=True)\n",
    "test_loader = DataLoader(test_dataset, batch_size=batch_size, shuffle=False)"
   ]
  },
  {
   "cell_type": "code",
   "execution_count": 72,
   "id": "d95ed0f2-96ac-42ff-a234-571c18fdf60d",
   "metadata": {
    "tags": []
   },
   "outputs": [
    {
     "name": "stdout",
     "output_type": "stream",
     "text": [
      "torch.Size([16, 6, 2]) torch.Size([16, 1])\n",
      "tensor([[1.4721],\n",
      "        [1.3676],\n",
      "        [2.3479],\n",
      "        [1.6487],\n",
      "        [2.4838],\n",
      "        [1.6959],\n",
      "        [2.4674],\n",
      "        [1.9134],\n",
      "        [2.4284],\n",
      "        [2.4782],\n",
      "        [2.1172],\n",
      "        [2.0153],\n",
      "        [1.7124],\n",
      "        [1.9280],\n",
      "        [1.8621],\n",
      "        [1.8089]])\n"
     ]
    }
   ],
   "source": [
    "for _, batch in enumerate(train_loader):\n",
    "    x_batch, y_batch = batch[0].to(device), batch[1].to(device)\n",
    "    print(x_batch.shape, y_batch.shape)\n",
    "    break"
   ]
  },
  {
   "cell_type": "code",
   "execution_count": 77,
   "id": "2e31e56d-e1cc-4729-8f12-555d952f7a8a",
   "metadata": {
    "tags": []
   },
   "outputs": [
    {
     "data": {
      "text/plain": [
       "LSTM(\n",
       "  (lstm): LSTM(2, 4, batch_first=True)\n",
       "  (fc): Linear(in_features=4, out_features=1, bias=True)\n",
       ")"
      ]
     },
     "execution_count": 77,
     "metadata": {},
     "output_type": "execute_result"
    }
   ],
   "source": [
    "class LSTM(nn.Module):\n",
    "    def __init__(self, input_size, hidden_size, num_stacked_layers):\n",
    "        super().__init__()\n",
    "        self.hidden_size = hidden_size\n",
    "        self.num_stacked_layers = num_stacked_layers\n",
    "\n",
    "        self.lstm = nn.LSTM(input_size, hidden_size, num_stacked_layers, \n",
    "                            batch_first=True)\n",
    "        \n",
    "        self.fc = nn.Linear(hidden_size, 1)\n",
    "\n",
    "    def forward(self, x):\n",
    "        batch_size = x.size(0)\n",
    "        h0 = torch.zeros(self.num_stacked_layers, batch_size, self.hidden_size).to(device)\n",
    "        c0 = torch.zeros(self.num_stacked_layers, batch_size, self.hidden_size).to(device)\n",
    "        \n",
    "        out, _ = self.lstm(x, (h0, c0))\n",
    "        out = self.fc(out[:, -1, :])\n",
    "        return out\n",
    "\n",
    "model = LSTM(2, 4, 1)\n",
    "model.to(device)\n",
    "model"
   ]
  },
  {
   "cell_type": "code",
   "execution_count": 78,
   "id": "e34fc3e9-9fb2-42ea-991b-ba9fa4c32325",
   "metadata": {
    "tags": []
   },
   "outputs": [],
   "source": [
    "def train_one_epoch():\n",
    "    model.train(True)\n",
    "    print(f'Epoch: {epoch + 1}')\n",
    "    running_loss = 0.0\n",
    "    \n",
    "    for batch_index, batch in enumerate(train_loader):\n",
    "        x_batch, y_batch = batch[0].to(device), batch[1].to(device)\n",
    "        \n",
    "        output = model(x_batch)\n",
    "        loss = loss_function(output, y_batch)\n",
    "        running_loss += loss.item()\n",
    "        \n",
    "        optimizer.zero_grad()\n",
    "        loss.backward()\n",
    "        optimizer.step()\n",
    "\n",
    "        if batch_index % 100 == 99:  # print every 100 batches\n",
    "            avg_loss_across_batches = running_loss / 100\n",
    "            print('Batch {0}, Loss: {1:.3f}'.format(batch_index+1,\n",
    "                                                    avg_loss_across_batches))\n",
    "            running_loss = 0.0"
   ]
  },
  {
   "cell_type": "code",
   "execution_count": 75,
   "id": "ddf21a68-8d8b-4b33-ad9d-4517046a9913",
   "metadata": {
    "tags": []
   },
   "outputs": [],
   "source": [
    "def validate_one_epoch():\n",
    "    model.train(False)\n",
    "    running_loss = 0.0\n",
    "    \n",
    "    for batch_index, batch in enumerate(test_loader):\n",
    "        x_batch, y_batch = batch[0].to(device), batch[1].to(device)\n",
    "        \n",
    "        with torch.no_grad():\n",
    "            output = model(x_batch)\n",
    "            loss = loss_function(output, y_batch)\n",
    "            running_loss += loss.item()\n",
    "\n",
    "    avg_loss_across_batches = running_loss / len(test_loader)\n",
    "    \n",
    "    print('Val Loss: {0:.3f}'.format(avg_loss_across_batches))\n",
    "    print('***************************************************')\n",
    "    print()"
   ]
  },
  {
   "cell_type": "code",
   "execution_count": 79,
   "id": "7bd18ae0-d71d-4a26-b0c2-82e82f45db99",
   "metadata": {
    "tags": []
   },
   "outputs": [
    {
     "name": "stdout",
     "output_type": "stream",
     "text": [
      "Epoch: 1\n",
      "Batch 100, Loss: 5.604\n",
      "Batch 200, Loss: 2.582\n",
      "Val Loss: 1.226\n",
      "***************************************************\n",
      "\n",
      "Epoch: 2\n",
      "Batch 100, Loss: 0.482\n",
      "Batch 200, Loss: 0.196\n",
      "Val Loss: 0.197\n",
      "***************************************************\n",
      "\n",
      "Epoch: 3\n",
      "Batch 100, Loss: 0.175\n",
      "Batch 200, Loss: 0.146\n",
      "Val Loss: 0.159\n",
      "***************************************************\n",
      "\n",
      "Epoch: 4\n",
      "Batch 100, Loss: 0.044\n",
      "Batch 200, Loss: 0.029\n",
      "Val Loss: 0.041\n",
      "***************************************************\n",
      "\n",
      "Epoch: 5\n",
      "Batch 100, Loss: 0.018\n",
      "Batch 200, Loss: 0.014\n",
      "Val Loss: 0.013\n",
      "***************************************************\n",
      "\n",
      "Epoch: 6\n",
      "Batch 100, Loss: 0.010\n",
      "Batch 200, Loss: 0.007\n",
      "Val Loss: 0.006\n",
      "***************************************************\n",
      "\n",
      "Epoch: 7\n",
      "Batch 100, Loss: 0.006\n",
      "Batch 200, Loss: 0.005\n",
      "Val Loss: 0.006\n",
      "***************************************************\n",
      "\n",
      "Epoch: 8\n",
      "Batch 100, Loss: 0.004\n",
      "Batch 200, Loss: 0.004\n",
      "Val Loss: 0.003\n",
      "***************************************************\n",
      "\n",
      "Epoch: 9\n",
      "Batch 100, Loss: 0.003\n",
      "Batch 200, Loss: 0.003\n",
      "Val Loss: 0.003\n",
      "***************************************************\n",
      "\n",
      "Epoch: 10\n",
      "Batch 100, Loss: 0.003\n",
      "Batch 200, Loss: 0.003\n",
      "Val Loss: 0.003\n",
      "***************************************************\n",
      "\n"
     ]
    }
   ],
   "source": [
    "learning_rate = 0.001\n",
    "num_epochs = 10\n",
    "loss_function = nn.MSELoss()\n",
    "optimizer = torch.optim.Adam(model.parameters(), lr=learning_rate)\n",
    "\n",
    "for epoch in range(num_epochs):\n",
    "    train_one_epoch()\n",
    "    validate_one_epoch()"
   ]
  },
  {
   "cell_type": "code",
   "execution_count": 80,
   "id": "106520a5-0b17-422d-9c01-6bf04b6ada1f",
   "metadata": {
    "tags": []
   },
   "outputs": [
    {
     "data": {
      "image/png": "[encoded data removed]",
      "text/plain": [
       "<Figure size 432x288 with 1 Axes>"
      ]
     },
     "metadata": {
      "needs_background": "light"
     },
     "output_type": "display_data"
    }
   ],
   "source": [
    "with torch.no_grad():\n",
    "    predicted = model(X_train.to(device)).to('cpu').numpy()\n",
    "\n",
    "plt.plot(y_train, label='AI_top_actual')\n",
    "plt.plot(predicted, label='AI_top_Predicted')\n",
    "plt.xlabel('Day')\n",
    "plt.ylabel('AI_top')\n",
    "plt.legend()\n",
    "plt.show()\n"
   ]
  },
  {
   "cell_type": "code",
   "execution_count": null,
   "id": "6b0e0c18-8a5c-4b0f-ab97-dfd0dec71ada",
   "metadata": {},
   "outputs": [],
   "source": []
  },
  {
   "cell_type": "code",
   "execution_count": null,
   "id": "2bb2a432-dbf5-400b-b9be-95819ac55764",
   "metadata": {},
   "outputs": [],
   "source": []
  },
  {
   "cell_type": "code",
   "execution_count": null,
   "id": "cacb4a8b-4a37-4eed-8b10-898a9b7e5d3e",
   "metadata": {},
   "outputs": [],
   "source": []
  },
  {
   "cell_type": "code",
   "execution_count": null,
   "id": "c79a2640-e073-40d0-a6d6-09ea281674e2",
   "metadata": {},
   "outputs": [],
   "source": []
  },
  {
   "cell_type": "code",
   "execution_count": null,
   "id": "b3cc994a-36d5-4167-bb83-2c7accd15c70",
   "metadata": {},
   "outputs": [],
   "source": []
  },
  {
   "cell_type": "code",
   "execution_count": 13,
   "id": "d6b4ea18-a42c-4d26-bdf5-113fdada3e0a",
   "metadata": {
    "tags": []
   },
   "outputs": [],
   "source": [
    "from sklearn.preprocessing import StandardScaler\n",
    "\n",
    "# Fit scalers\n",
    "scalers = {}\n",
    "for x in df.columns:\n",
    "  scalers[x] = StandardScaler().fit(df[x].values.reshape(-1, 1))\n",
    "\n",
    "# Transform data via scalers\n",
    "norm_df = df.copy()\n",
    "for i, key in enumerate(scalers.keys()):\n",
    "  norm = scalers[key].transform(norm_df.iloc[:, i].values.reshape(-1, 1))\n",
    "  norm_df.iloc[:, i] = norm"
   ]
  },
  {
   "cell_type": "code",
   "execution_count": 16,
   "id": "1ccb94ee-87d9-4286-aacf-7aafee0ef76d",
   "metadata": {
    "tags": []
   },
   "outputs": [],
   "source": [
    "norm_df['Time'] = df['Time']"
   ]
  },
  {
   "cell_type": "code",
   "execution_count": 17,
   "id": "961439a5-cde3-4871-a943-44102f447cf0",
   "metadata": {
    "tags": []
   },
   "outputs": [
    {
     "data": {
      "text/html": [
       "<div>\n",
       "<style scoped>\n",
       "    .dataframe tbody tr th:only-of-type {\n",
       "        vertical-align: middle;\n",
       "    }\n",
       "\n",
       "    .dataframe tbody tr th {\n",
       "        vertical-align: top;\n",
       "    }\n",
       "\n",
       "    .dataframe thead th {\n",
       "        text-align: right;\n",
       "    }\n",
       "</style>\n",
       "<table border=\"1\" class=\"dataframe\">\n",
       "  <thead>\n",
       "    <tr style=\"text-align: right;\">\n",
       "      <th></th>\n",
       "      <th>Time</th>\n",
       "      <th>AI_top</th>\n",
       "      <th>AI_middle</th>\n",
       "      <th>AI_bottom</th>\n",
       "      <th>FIC_2100_PV_FEED_FURNACE_FUEL_SCFH</th>\n",
       "      <th>FIC-2101_PV_TOP_PRODUCT_MBBL/D</th>\n",
       "      <th>FIC_2102_PV_BOTTOM_PRODUCT_MBBL/D</th>\n",
       "      <th>FI-2005_PV_FEED_FLOW_MBBL/D</th>\n",
       "      <th>FIC-2001_SP_TOP_REFLUX_SETPOINT_MBBL/D</th>\n",
       "      <th>FIC-2001_OP_TOP_REFLUX_OUTPUT_%</th>\n",
       "      <th>FIC_2001_PV_TOP_REFLUX_SETPOINT_MBBL/D</th>\n",
       "      <th>FIC-2002_SP_MIDDLE_PRODUCT_DRAW_SETPOINT_MBBL/D</th>\n",
       "      <th>FIC_2002_OP_MIDDLE_PRODUCT_DRAW_OUTPUT_%</th>\n",
       "      <th>FIC_2002_PVMIDDLE_PRODUCT_DRAW_MBBL/D</th>\n",
       "      <th>FIC_2004_SP_MIDDLE_REFLUX _SETPOINT_MBBL/D</th>\n",
       "      <th>FIC_2004_OP_MIDDLE_REFLUX_OUTPUT_%</th>\n",
       "      <th>FIC_2004_PV_TOP_REFLUX_MBBL/D</th>\n",
       "      <th>QI_2106_PV_MIDDLE_REFLUX_DUTY_BTU/H</th>\n",
       "      <th>TIC_2003_SP_FEED_TEMPERATURE_SETPOINT_DEGF</th>\n",
       "    </tr>\n",
       "  </thead>\n",
       "  <tbody>\n",
       "    <tr>\n",
       "      <th>0</th>\n",
       "      <td>2009-10-01 08:14:00</td>\n",
       "      <td>-0.294419</td>\n",
       "      <td>-1.506604</td>\n",
       "      <td>0.095502</td>\n",
       "      <td>-1.011434</td>\n",
       "      <td>-1.050470</td>\n",
       "      <td>-0.154230</td>\n",
       "      <td>-1.573627</td>\n",
       "      <td>-0.566609</td>\n",
       "      <td>-0.176418</td>\n",
       "      <td>-0.208071</td>\n",
       "      <td>-0.22989</td>\n",
       "      <td>0.041396</td>\n",
       "      <td>-0.013827</td>\n",
       "      <td>-0.466246</td>\n",
       "      <td>-0.735174</td>\n",
       "      <td>-0.377748</td>\n",
       "      <td>-0.342087</td>\n",
       "      <td>-0.434907</td>\n",
       "    </tr>\n",
       "    <tr>\n",
       "      <th>1</th>\n",
       "      <td>2009-10-01 08:15:00</td>\n",
       "      <td>-0.286226</td>\n",
       "      <td>-1.465780</td>\n",
       "      <td>0.090809</td>\n",
       "      <td>-0.997710</td>\n",
       "      <td>-1.054382</td>\n",
       "      <td>-0.125321</td>\n",
       "      <td>-1.628040</td>\n",
       "      <td>-0.566609</td>\n",
       "      <td>-0.406018</td>\n",
       "      <td>-0.525040</td>\n",
       "      <td>-0.22989</td>\n",
       "      <td>-0.760193</td>\n",
       "      <td>-0.477483</td>\n",
       "      <td>-0.466246</td>\n",
       "      <td>-0.370745</td>\n",
       "      <td>-0.429676</td>\n",
       "      <td>-0.346818</td>\n",
       "      <td>-0.434907</td>\n",
       "    </tr>\n",
       "    <tr>\n",
       "      <th>2</th>\n",
       "      <td>2009-10-01 08:16:00</td>\n",
       "      <td>-0.274619</td>\n",
       "      <td>-1.527229</td>\n",
       "      <td>0.032901</td>\n",
       "      <td>-0.993192</td>\n",
       "      <td>-1.059440</td>\n",
       "      <td>-0.112454</td>\n",
       "      <td>-1.704846</td>\n",
       "      <td>-0.566609</td>\n",
       "      <td>-0.761213</td>\n",
       "      <td>-0.814388</td>\n",
       "      <td>-0.22989</td>\n",
       "      <td>-0.288797</td>\n",
       "      <td>-0.012488</td>\n",
       "      <td>-0.466246</td>\n",
       "      <td>-0.142661</td>\n",
       "      <td>-0.559994</td>\n",
       "      <td>-0.351382</td>\n",
       "      <td>-0.434907</td>\n",
       "    </tr>\n",
       "    <tr>\n",
       "      <th>3</th>\n",
       "      <td>2009-10-01 08:17:00</td>\n",
       "      <td>-0.285657</td>\n",
       "      <td>-1.448578</td>\n",
       "      <td>0.019459</td>\n",
       "      <td>-0.995787</td>\n",
       "      <td>-1.068073</td>\n",
       "      <td>-0.122848</td>\n",
       "      <td>-1.715407</td>\n",
       "      <td>-0.566609</td>\n",
       "      <td>-0.835099</td>\n",
       "      <td>-0.980187</td>\n",
       "      <td>-0.22989</td>\n",
       "      <td>-0.235280</td>\n",
       "      <td>-0.220194</td>\n",
       "      <td>-0.466246</td>\n",
       "      <td>-0.808576</td>\n",
       "      <td>-0.421169</td>\n",
       "      <td>-0.352814</td>\n",
       "      <td>-0.434907</td>\n",
       "    </tr>\n",
       "    <tr>\n",
       "      <th>4</th>\n",
       "      <td>2009-10-01 08:18:00</td>\n",
       "      <td>-0.297787</td>\n",
       "      <td>-1.379812</td>\n",
       "      <td>0.063313</td>\n",
       "      <td>-1.004619</td>\n",
       "      <td>-1.075037</td>\n",
       "      <td>-0.131504</td>\n",
       "      <td>-1.658390</td>\n",
       "      <td>-0.566609</td>\n",
       "      <td>-0.574645</td>\n",
       "      <td>-0.536710</td>\n",
       "      <td>-0.22989</td>\n",
       "      <td>-0.656430</td>\n",
       "      <td>-0.299318</td>\n",
       "      <td>-0.466246</td>\n",
       "      <td>-0.495467</td>\n",
       "      <td>-0.380361</td>\n",
       "      <td>-0.353188</td>\n",
       "      <td>-0.434907</td>\n",
       "    </tr>\n",
       "  </tbody>\n",
       "</table>\n",
       "</div>"
      ],
      "text/plain": [
       "                 Time    AI_top  AI_middle  AI_bottom  \\\n",
       "0 2009-10-01 08:14:00 -0.294419  -1.506604   0.095502   \n",
       "1 2009-10-01 08:15:00 -0.286226  -1.465780   0.090809   \n",
       "2 2009-10-01 08:16:00 -0.274619  -1.527229   0.032901   \n",
       "3 2009-10-01 08:17:00 -0.285657  -1.448578   0.019459   \n",
       "4 2009-10-01 08:18:00 -0.297787  -1.379812   0.063313   \n",
       "\n",
       "   FIC_2100_PV_FEED_FURNACE_FUEL_SCFH  FIC-2101_PV_TOP_PRODUCT_MBBL/D  \\\n",
       "0                           -1.011434                       -1.050470   \n",
       "1                           -0.997710                       -1.054382   \n",
       "2                           -0.993192                       -1.059440   \n",
       "3                           -0.995787                       -1.068073   \n",
       "4                           -1.004619                       -1.075037   \n",
       "\n",
       "   FIC_2102_PV_BOTTOM_PRODUCT_MBBL/D  FI-2005_PV_FEED_FLOW_MBBL/D  \\\n",
       "0                          -0.154230                    -1.573627   \n",
       "1                          -0.125321                    -1.628040   \n",
       "2                          -0.112454                    -1.704846   \n",
       "3                          -0.122848                    -1.715407   \n",
       "4                          -0.131504                    -1.658390   \n",
       "\n",
       "   FIC-2001_SP_TOP_REFLUX_SETPOINT_MBBL/D  FIC-2001_OP_TOP_REFLUX_OUTPUT_%  \\\n",
       "0                               -0.566609                        -0.176418   \n",
       "1                               -0.566609                        -0.406018   \n",
       "2                               -0.566609                        -0.761213   \n",
       "3                               -0.566609                        -0.835099   \n",
       "4                               -0.566609                        -0.574645   \n",
       "\n",
       "   FIC_2001_PV_TOP_REFLUX_SETPOINT_MBBL/D  \\\n",
       "0                               -0.208071   \n",
       "1                               -0.525040   \n",
       "2                               -0.814388   \n",
       "3                               -0.980187   \n",
       "4                               -0.536710   \n",
       "\n",
       "   FIC-2002_SP_MIDDLE_PRODUCT_DRAW_SETPOINT_MBBL/D  \\\n",
       "0                                         -0.22989   \n",
       "1                                         -0.22989   \n",
       "2                                         -0.22989   \n",
       "3                                         -0.22989   \n",
       "4                                         -0.22989   \n",
       "\n",
       "   FIC_2002_OP_MIDDLE_PRODUCT_DRAW_OUTPUT_%  \\\n",
       "0                                  0.041396   \n",
       "1                                 -0.760193   \n",
       "2                                 -0.288797   \n",
       "3                                 -0.235280   \n",
       "4                                 -0.656430   \n",
       "\n",
       "   FIC_2002_PVMIDDLE_PRODUCT_DRAW_MBBL/D  \\\n",
       "0                              -0.013827   \n",
       "1                              -0.477483   \n",
       "2                              -0.012488   \n",
       "3                              -0.220194   \n",
       "4                              -0.299318   \n",
       "\n",
       "   FIC_2004_SP_MIDDLE_REFLUX _SETPOINT_MBBL/D  \\\n",
       "0                                   -0.466246   \n",
       "1                                   -0.466246   \n",
       "2                                   -0.466246   \n",
       "3                                   -0.466246   \n",
       "4                                   -0.466246   \n",
       "\n",
       "   FIC_2004_OP_MIDDLE_REFLUX_OUTPUT_%  FIC_2004_PV_TOP_REFLUX_MBBL/D  \\\n",
       "0                           -0.735174                      -0.377748   \n",
       "1                           -0.370745                      -0.429676   \n",
       "2                           -0.142661                      -0.559994   \n",
       "3                           -0.808576                      -0.421169   \n",
       "4                           -0.495467                      -0.380361   \n",
       "\n",
       "   QI_2106_PV_MIDDLE_REFLUX_DUTY_BTU/H  \\\n",
       "0                            -0.342087   \n",
       "1                            -0.346818   \n",
       "2                            -0.351382   \n",
       "3                            -0.352814   \n",
       "4                            -0.353188   \n",
       "\n",
       "   TIC_2003_SP_FEED_TEMPERATURE_SETPOINT_DEGF  \n",
       "0                                   -0.434907  \n",
       "1                                   -0.434907  \n",
       "2                                   -0.434907  \n",
       "3                                   -0.434907  \n",
       "4                                   -0.434907  "
      ]
     },
     "execution_count": 17,
     "metadata": {},
     "output_type": "execute_result"
    }
   ],
   "source": [
    "norm_df.head()"
   ]
  },
  {
   "cell_type": "code",
   "execution_count": 20,
   "id": "1891f9ac-448f-4ab7-a37d-82ccdf39f399",
   "metadata": {
    "tags": []
   },
   "outputs": [],
   "source": [
    "df=norm_df"
   ]
  },
  {
   "cell_type": "code",
   "execution_count": 22,
   "id": "82611ef8-8172-415a-b53f-1fc530786a55",
   "metadata": {
    "tags": []
   },
   "outputs": [],
   "source": [
    "df=df[['Time','AI_top']]\n"
   ]
  },
  {
   "cell_type": "code",
   "execution_count": 23,
   "id": "bc78915a-3a0f-4a0f-af24-f15af55a5713",
   "metadata": {
    "tags": []
   },
   "outputs": [],
   "source": [
    "# Defining a function that creates sequences and targets as shown above\n",
    "def generate_sequences(df: pd.DataFrame, tw: int, pw: int, target_columns, drop_targets=False):\n",
    "  '''\n",
    "  df: Pandas DataFrame of the univariate time-series\n",
    "  tw: Training Window - Integer defining how many steps to look back\n",
    "  pw: Prediction Window - Integer defining how many steps forward to predict\n",
    "\n",
    "  returns: dictionary of sequences and targets for all sequences\n",
    "  '''\n",
    "  data = dict() # Store results into a dictionary\n",
    "  L = len(df)\n",
    "  for i in range(L-tw):\n",
    "    # Option to drop target from dataframe\n",
    "    if drop_targets:\n",
    "      df.drop(target_columns, axis=1, inplace=True)\n",
    "\n",
    "    # Get current sequence  \n",
    "    sequence = df[i:i+tw].values\n",
    "    # Get values right after the current sequence\n",
    "    target = df[i+tw:i+tw+pw][target_columns].values\n",
    "    data[i] = {'sequence': sequence, 'target': target}\n",
    "  return data"
   ]
  },
  {
   "cell_type": "code",
   "execution_count": 41,
   "id": "0b6ed889-4383-4020-9272-a2abe49185ee",
   "metadata": {
    "tags": []
   },
   "outputs": [
    {
     "name": "stderr",
     "output_type": "stream",
     "text": [
      "INFO:numexpr.utils:NumExpr defaulting to 2 threads.\n"
     ]
    },
    {
     "data": {
      "text/html": [
       "<div>\n",
       "<style scoped>\n",
       "    .dataframe tbody tr th:only-of-type {\n",
       "        vertical-align: middle;\n",
       "    }\n",
       "\n",
       "    .dataframe tbody tr th {\n",
       "        vertical-align: top;\n",
       "    }\n",
       "\n",
       "    .dataframe thead th {\n",
       "        text-align: right;\n",
       "    }\n",
       "</style>\n",
       "<table border=\"1\" class=\"dataframe\">\n",
       "  <thead>\n",
       "    <tr style=\"text-align: right;\">\n",
       "      <th></th>\n",
       "      <th>Time</th>\n",
       "      <th>AI_top</th>\n",
       "      <th>AI_top(t-1)</th>\n",
       "      <th>AI_top(t-2)</th>\n",
       "      <th>AI_top(t-3)</th>\n",
       "      <th>AI_top(t-4)</th>\n",
       "      <th>AI_top(t-5)</th>\n",
       "      <th>AI_top(t-6)</th>\n",
       "      <th>AI_top(t-7)</th>\n",
       "    </tr>\n",
       "  </thead>\n",
       "  <tbody>\n",
       "    <tr>\n",
       "      <th>7</th>\n",
       "      <td>2009-10-01 08:21:00</td>\n",
       "      <td>-0.261647</td>\n",
       "      <td>-0.288502</td>\n",
       "      <td>-0.301019</td>\n",
       "      <td>-0.297787</td>\n",
       "      <td>-0.285657</td>\n",
       "      <td>-0.274619</td>\n",
       "      <td>-0.286226</td>\n",
       "      <td>-0.294419</td>\n",
       "    </tr>\n",
       "    <tr>\n",
       "      <th>8</th>\n",
       "      <td>2009-10-01 08:22:00</td>\n",
       "      <td>-0.256435</td>\n",
       "      <td>-0.261647</td>\n",
       "      <td>-0.288502</td>\n",
       "      <td>-0.301019</td>\n",
       "      <td>-0.297787</td>\n",
       "      <td>-0.285657</td>\n",
       "      <td>-0.274619</td>\n",
       "      <td>-0.286226</td>\n",
       "    </tr>\n",
       "    <tr>\n",
       "      <th>9</th>\n",
       "      <td>2009-10-01 08:23:00</td>\n",
       "      <td>-0.240527</td>\n",
       "      <td>-0.256435</td>\n",
       "      <td>-0.261647</td>\n",
       "      <td>-0.288502</td>\n",
       "      <td>-0.301019</td>\n",
       "      <td>-0.297787</td>\n",
       "      <td>-0.285657</td>\n",
       "      <td>-0.274619</td>\n",
       "    </tr>\n",
       "    <tr>\n",
       "      <th>10</th>\n",
       "      <td>2009-10-01 08:24:00</td>\n",
       "      <td>-0.257823</td>\n",
       "      <td>-0.240527</td>\n",
       "      <td>-0.256435</td>\n",
       "      <td>-0.261647</td>\n",
       "      <td>-0.288502</td>\n",
       "      <td>-0.301019</td>\n",
       "      <td>-0.297787</td>\n",
       "      <td>-0.285657</td>\n",
       "    </tr>\n",
       "    <tr>\n",
       "      <th>11</th>\n",
       "      <td>2009-10-01 08:25:00</td>\n",
       "      <td>-0.243508</td>\n",
       "      <td>-0.257823</td>\n",
       "      <td>-0.240527</td>\n",
       "      <td>-0.256435</td>\n",
       "      <td>-0.261647</td>\n",
       "      <td>-0.288502</td>\n",
       "      <td>-0.301019</td>\n",
       "      <td>-0.297787</td>\n",
       "    </tr>\n",
       "    <tr>\n",
       "      <th>...</th>\n",
       "      <td>...</td>\n",
       "      <td>...</td>\n",
       "      <td>...</td>\n",
       "      <td>...</td>\n",
       "      <td>...</td>\n",
       "      <td>...</td>\n",
       "      <td>...</td>\n",
       "      <td>...</td>\n",
       "      <td>...</td>\n",
       "    </tr>\n",
       "    <tr>\n",
       "      <th>5815</th>\n",
       "      <td>2009-10-05 09:09:00</td>\n",
       "      <td>-1.058056</td>\n",
       "      <td>-1.038051</td>\n",
       "      <td>-1.037755</td>\n",
       "      <td>-1.017136</td>\n",
       "      <td>-1.017182</td>\n",
       "      <td>-1.002343</td>\n",
       "      <td>-1.011356</td>\n",
       "      <td>-0.988415</td>\n",
       "    </tr>\n",
       "    <tr>\n",
       "      <th>5816</th>\n",
       "      <td>2009-10-05 09:10:00</td>\n",
       "      <td>-1.063040</td>\n",
       "      <td>-1.058056</td>\n",
       "      <td>-1.038051</td>\n",
       "      <td>-1.037755</td>\n",
       "      <td>-1.017136</td>\n",
       "      <td>-1.017182</td>\n",
       "      <td>-1.002343</td>\n",
       "      <td>-1.011356</td>\n",
       "    </tr>\n",
       "    <tr>\n",
       "      <th>5817</th>\n",
       "      <td>2009-10-05 09:11:00</td>\n",
       "      <td>-1.071734</td>\n",
       "      <td>-1.063040</td>\n",
       "      <td>-1.058056</td>\n",
       "      <td>-1.038051</td>\n",
       "      <td>-1.037755</td>\n",
       "      <td>-1.017136</td>\n",
       "      <td>-1.017182</td>\n",
       "      <td>-1.002343</td>\n",
       "    </tr>\n",
       "    <tr>\n",
       "      <th>5818</th>\n",
       "      <td>2009-10-05 09:12:00</td>\n",
       "      <td>-1.045402</td>\n",
       "      <td>-1.071734</td>\n",
       "      <td>-1.063040</td>\n",
       "      <td>-1.058056</td>\n",
       "      <td>-1.038051</td>\n",
       "      <td>-1.037755</td>\n",
       "      <td>-1.017136</td>\n",
       "      <td>-1.017182</td>\n",
       "    </tr>\n",
       "    <tr>\n",
       "      <th>5819</th>\n",
       "      <td>2009-10-05 09:13:00</td>\n",
       "      <td>-1.029949</td>\n",
       "      <td>-1.045402</td>\n",
       "      <td>-1.071734</td>\n",
       "      <td>-1.063040</td>\n",
       "      <td>-1.058056</td>\n",
       "      <td>-1.038051</td>\n",
       "      <td>-1.037755</td>\n",
       "      <td>-1.017136</td>\n",
       "    </tr>\n",
       "  </tbody>\n",
       "</table>\n",
       "<p>5722 rows × 9 columns</p>\n",
       "</div>"
      ],
      "text/plain": [
       "                    Time    AI_top  AI_top(t-1)  AI_top(t-2)  AI_top(t-3)  \\\n",
       "7    2009-10-01 08:21:00 -0.261647    -0.288502    -0.301019    -0.297787   \n",
       "8    2009-10-01 08:22:00 -0.256435    -0.261647    -0.288502    -0.301019   \n",
       "9    2009-10-01 08:23:00 -0.240527    -0.256435    -0.261647    -0.288502   \n",
       "10   2009-10-01 08:24:00 -0.257823    -0.240527    -0.256435    -0.261647   \n",
       "11   2009-10-01 08:25:00 -0.243508    -0.257823    -0.240527    -0.256435   \n",
       "...                  ...       ...          ...          ...          ...   \n",
       "5815 2009-10-05 09:09:00 -1.058056    -1.038051    -1.037755    -1.017136   \n",
       "5816 2009-10-05 09:10:00 -1.063040    -1.058056    -1.038051    -1.037755   \n",
       "5817 2009-10-05 09:11:00 -1.071734    -1.063040    -1.058056    -1.038051   \n",
       "5818 2009-10-05 09:12:00 -1.045402    -1.071734    -1.063040    -1.058056   \n",
       "5819 2009-10-05 09:13:00 -1.029949    -1.045402    -1.071734    -1.063040   \n",
       "\n",
       "      AI_top(t-4)  AI_top(t-5)  AI_top(t-6)  AI_top(t-7)  \n",
       "7       -0.285657    -0.274619    -0.286226    -0.294419  \n",
       "8       -0.297787    -0.285657    -0.274619    -0.286226  \n",
       "9       -0.301019    -0.297787    -0.285657    -0.274619  \n",
       "10      -0.288502    -0.301019    -0.297787    -0.285657  \n",
       "11      -0.261647    -0.288502    -0.301019    -0.297787  \n",
       "...           ...          ...          ...          ...  \n",
       "5815    -1.017182    -1.002343    -1.011356    -0.988415  \n",
       "5816    -1.017136    -1.017182    -1.002343    -1.011356  \n",
       "5817    -1.037755    -1.017136    -1.017182    -1.002343  \n",
       "5818    -1.038051    -1.037755    -1.017136    -1.017182  \n",
       "5819    -1.058056    -1.038051    -1.037755    -1.017136  \n",
       "\n",
       "[5722 rows x 9 columns]"
      ]
     },
     "execution_count": 41,
     "metadata": {},
     "output_type": "execute_result"
    }
   ],
   "source": [
    "from copy import deepcopy as dc\n",
    "\n",
    "def prepare_dataframe_for_lstm(df, n_steps):\n",
    "    df = dc(df)\n",
    "    \n",
    "  #  df.set_index('Time', inplace=True)\n",
    "    \n",
    "    for i in range(1, n_steps+1):\n",
    "        df[f'AI_top(t-{i})'] = df['AI_top'].shift(i)\n",
    "        \n",
    "    df.dropna(inplace=True)\n",
    "    \n",
    "    return df\n",
    "\n",
    "lookback = 7\n",
    "shifted_df = prepare_dataframe_for_lstm(df, lookback)\n",
    "shifted_df"
   ]
  },
  {
   "cell_type": "code",
   "execution_count": 42,
   "id": "7617bf1c-0d8f-4baf-9628-bd5220300fb9",
   "metadata": {
    "tags": []
   },
   "outputs": [
    {
     "data": {
      "text/plain": [
       "(5722, 9)"
      ]
     },
     "execution_count": 42,
     "metadata": {},
     "output_type": "execute_result"
    }
   ],
   "source": [
    "shifted_df_as_np = shifted_df.to_numpy()\n",
    "\n",
    "shifted_df_as_np.shape\n"
   ]
  },
  {
   "cell_type": "code",
   "execution_count": 43,
   "id": "b932fbf5-92ad-40b7-9424-1ab6f3f4e091",
   "metadata": {
    "tags": []
   },
   "outputs": [
    {
     "ename": "NameError",
     "evalue": "name 'X' is not defined",
     "output_type": "error",
     "traceback": [
      "\u001b[0;31m---------------------------------------------------------------------------\u001b[0m",
      "\u001b[0;31mNameError\u001b[0m                                 Traceback (most recent call last)",
      "\u001b[0;32m<ipython-input-43-bd026a2d0dd7>\u001b[0m in \u001b[0;36m<module>\u001b[0;34m\u001b[0m\n\u001b[0;32m----> 1\u001b[0;31m \u001b[0mX\u001b[0m\u001b[0;34m=\u001b[0m\u001b[0mdc\u001b[0m\u001b[0;34m(\u001b[0m\u001b[0mnp\u001b[0m\u001b[0;34m.\u001b[0m\u001b[0mflip\u001b[0m\u001b[0;34m(\u001b[0m\u001b[0mX\u001b[0m\u001b[0;34m,\u001b[0m\u001b[0maxis\u001b[0m\u001b[0;34m=\u001b[0m\u001b[0;36m1\u001b[0m\u001b[0;34m)\u001b[0m\u001b[0;34m)\u001b[0m\u001b[0;34m\u001b[0m\u001b[0;34m\u001b[0m\u001b[0m\n\u001b[0m\u001b[1;32m      2\u001b[0m \u001b[0mX\u001b[0m\u001b[0;34m.\u001b[0m\u001b[0mshape\u001b[0m\u001b[0;34m\u001b[0m\u001b[0;34m\u001b[0m\u001b[0m\n",
      "\u001b[0;31mNameError\u001b[0m: name 'X' is not defined"
     ]
    }
   ],
   "source": [
    "X=dc(np.flip(X,axis=1))\n",
    "X.shape"
   ]
  },
  {
   "cell_type": "code",
   "execution_count": 45,
   "id": "a0b17550-8ae5-4981-bde7-4c2f25468eff",
   "metadata": {
    "tags": []
   },
   "outputs": [
    {
     "ename": "NameError",
     "evalue": "name 'X' is not defined",
     "output_type": "error",
     "traceback": [
      "\u001b[0;31m---------------------------------------------------------------------------\u001b[0m",
      "\u001b[0;31mNameError\u001b[0m                                 Traceback (most recent call last)",
      "\u001b[0;32m<ipython-input-45-259c61fdc134>\u001b[0m in \u001b[0;36m<module>\u001b[0;34m\u001b[0m\n\u001b[0;32m----> 1\u001b[0;31m \u001b[0msplit_index\u001b[0m \u001b[0;34m=\u001b[0m \u001b[0mint\u001b[0m\u001b[0;34m(\u001b[0m\u001b[0mlen\u001b[0m\u001b[0;34m(\u001b[0m\u001b[0mX\u001b[0m\u001b[0;34m)\u001b[0m \u001b[0;34m*\u001b[0m \u001b[0;36m0.95\u001b[0m\u001b[0;34m)\u001b[0m\u001b[0;34m\u001b[0m\u001b[0;34m\u001b[0m\u001b[0m\n\u001b[0m\u001b[1;32m      2\u001b[0m \u001b[0;34m\u001b[0m\u001b[0m\n\u001b[1;32m      3\u001b[0m \u001b[0msplit_index\u001b[0m\u001b[0;34m\u001b[0m\u001b[0;34m\u001b[0m\u001b[0m\n",
      "\u001b[0;31mNameError\u001b[0m: name 'X' is not defined"
     ]
    }
   ],
   "source": [
    "split_index = int(len(X) * 0.95)\n",
    "\n",
    "split_index"
   ]
  },
  {
   "cell_type": "code",
   "execution_count": 44,
   "id": "39b83bd4-3e7d-4a07-87d9-c1ad2243f768",
   "metadata": {
    "tags": []
   },
   "outputs": [
    {
     "ename": "NameError",
     "evalue": "name 'X' is not defined",
     "output_type": "error",
     "traceback": [
      "\u001b[0;31m---------------------------------------------------------------------------\u001b[0m",
      "\u001b[0;31mNameError\u001b[0m                                 Traceback (most recent call last)",
      "\u001b[0;32m<ipython-input-44-74e90dc3f87c>\u001b[0m in \u001b[0;36m<module>\u001b[0;34m\u001b[0m\n\u001b[0;32m----> 1\u001b[0;31m \u001b[0mX_train\u001b[0m \u001b[0;34m=\u001b[0m \u001b[0mX\u001b[0m\u001b[0;34m[\u001b[0m\u001b[0;34m:\u001b[0m\u001b[0msplit_index\u001b[0m\u001b[0;34m]\u001b[0m\u001b[0;34m\u001b[0m\u001b[0;34m\u001b[0m\u001b[0m\n\u001b[0m\u001b[1;32m      2\u001b[0m \u001b[0mX_test\u001b[0m \u001b[0;34m=\u001b[0m \u001b[0mX\u001b[0m\u001b[0;34m[\u001b[0m\u001b[0msplit_index\u001b[0m\u001b[0;34m:\u001b[0m\u001b[0;34m]\u001b[0m\u001b[0;34m\u001b[0m\u001b[0;34m\u001b[0m\u001b[0m\n\u001b[1;32m      3\u001b[0m \u001b[0;34m\u001b[0m\u001b[0m\n\u001b[1;32m      4\u001b[0m \u001b[0my_train\u001b[0m \u001b[0;34m=\u001b[0m \u001b[0my\u001b[0m\u001b[0;34m[\u001b[0m\u001b[0;34m:\u001b[0m\u001b[0msplit_index\u001b[0m\u001b[0;34m]\u001b[0m\u001b[0;34m\u001b[0m\u001b[0;34m\u001b[0m\u001b[0m\n\u001b[1;32m      5\u001b[0m \u001b[0my_test\u001b[0m \u001b[0;34m=\u001b[0m \u001b[0my\u001b[0m\u001b[0;34m[\u001b[0m\u001b[0msplit_index\u001b[0m\u001b[0;34m:\u001b[0m\u001b[0;34m]\u001b[0m\u001b[0;34m\u001b[0m\u001b[0;34m\u001b[0m\u001b[0m\n",
      "\u001b[0;31mNameError\u001b[0m: name 'X' is not defined"
     ]
    }
   ],
   "source": [
    "X_train = X[:split_index]\n",
    "X_test = X[split_index:]\n",
    "\n",
    "y_train = y[:split_index]\n",
    "y_test = y[split_index:]\n",
    "\n",
    "X_train.shape, X_test.shape, y_train.shape, y_test.shape"
   ]
  },
  {
   "cell_type": "code",
   "execution_count": null,
   "id": "88510798-54fc-4806-8e9c-3dc7681de6d7",
   "metadata": {},
   "outputs": [],
   "source": [
    "X_train = torch.tensor(X_train).float()\n",
    "y_train = torch.tensor(y_train).float()\n",
    "X_test = torch.tensor(X_test).float()\n",
    "y_test = torch.tensor(y_test).float()\n",
    "\n",
    "X_train.shape, X_test.shape, y_train.shape, y_test.shape"
   ]
  },
  {
   "cell_type": "code",
   "execution_count": 24,
   "id": "caa2973f-1251-4ff5-b9b4-5fe1956f6eb4",
   "metadata": {
    "tags": []
   },
   "outputs": [],
   "source": [
    "class SequenceDataset(Dataset):\n",
    "\n",
    "  def __init__(self, df):\n",
    "    self.data = df\n",
    "\n",
    "  def __getitem__(self, idx):\n",
    "    sample = self.data[idx]\n",
    "    return torch.Tensor(sample['sequence']), torch.Tensor(sample['target'])\n",
    "  \n",
    "  def __len__(self):\n",
    "    return len(self.data)"
   ]
  },
  {
   "cell_type": "code",
   "execution_count": 32,
   "id": "8430ca3d-a339-4fb8-ad0e-86ef90f8d88d",
   "metadata": {
    "tags": []
   },
   "outputs": [],
   "source": [
    "import torch.utils.data  as data\n",
    "\n"
   ]
  },
  {
   "cell_type": "code",
   "execution_count": 33,
   "id": "559a6743-596b-4276-825b-69a9ebdac672",
   "metadata": {
    "tags": []
   },
   "outputs": [],
   "source": [
    "# Here we are defining properties for our model\n",
    "\n",
    "BATCH_SIZE = 16 # Training batch size\n",
    "split = 0.8 # Train/Test Split ratio\n",
    "sequence_len=10\n",
    "nout=1\n",
    "sequences = generate_sequences(df, sequence_len, nout, 'AI_top')\n",
    "dataset = SequenceDataset(sequences)\n",
    "\n",
    "# Split the data according to our split ratio and load each subset into a\n",
    "# separate DataLoader object\n",
    "train_len = int(len(dataset)*split)\n",
    "lens = [train_len, len(dataset)-train_len]\n",
    "train_ds, test_ds = data.random_split(dataset, lens)\n",
    "trainloader = DataLoader(train_ds, batch_size=BATCH_SIZE, shuffle=True, drop_last=True)\n",
    "testloader = DataLoader(test_ds, batch_size=BATCH_SIZE, shuffle=True, drop_last=True)"
   ]
  },
  {
   "cell_type": "code",
   "execution_count": 39,
   "id": "8dbb8be5-1b23-4171-8241-f5a42e0f7052",
   "metadata": {
    "tags": []
   },
   "outputs": [
    {
     "data": {
      "text/plain": [
       "<torch.utils.data.dataset.Subset at 0x7f9bc2b5b278>"
      ]
     },
     "execution_count": 39,
     "metadata": {},
     "output_type": "execute_result"
    }
   ],
   "source": [
    "train_ds"
   ]
  },
  {
   "cell_type": "code",
   "execution_count": 34,
   "id": "242f1bcc-798a-4529-8aaa-5384e3e6c711",
   "metadata": {
    "tags": []
   },
   "outputs": [],
   "source": [
    "class LSTMForecaster(nn.Module):\n",
    "\n",
    "\n",
    "  def __init__(self, n_features, n_hidden, n_outputs, sequence_len, n_lstm_layers=1, n_deep_layers=10, use_cuda=False, dropout=0.2):\n",
    "    '''\n",
    "    n_features: number of input features (1 for univariate forecasting)\n",
    "    n_hidden: number of neurons in each hidden layer\n",
    "    n_outputs: number of outputs to predict for each training example\n",
    "    n_deep_layers: number of hidden dense layers after the lstm layer\n",
    "    sequence_len: number of steps to look back at for prediction\n",
    "    dropout: float (0 < dropout < 1) dropout ratio between dense layers\n",
    "    '''\n",
    "    super().__init__()\n",
    "\n",
    "    self.n_lstm_layers = n_lstm_layers\n",
    "    self.nhid = n_hidden\n",
    "    self.use_cuda = use_cuda # set option for device selection\n",
    "\n",
    "    # LSTM Layer\n",
    "    self.lstm = nn.LSTM(n_features,\n",
    "                        n_hidden,\n",
    "                        num_layers=n_lstm_layers,\n",
    "                        batch_first=True) # As we have transformed our data in this way\n",
    "    \n",
    "    # first dense after lstm\n",
    "    self.fc1 = nn.Linear(n_hidden * sequence_len, n_hidden) \n",
    "    # Dropout layer \n",
    "    self.dropout = nn.Dropout(p=dropout)\n",
    "\n",
    "    # Create fully connected layers (n_hidden x n_deep_layers)\n",
    "    dnn_layers = []\n",
    "    for i in range(n_deep_layers):\n",
    "      # Last layer (n_hidden x n_outputs)\n",
    "      if i == n_deep_layers - 1:\n",
    "        dnn_layers.append(nn.ReLU())\n",
    "        dnn_layers.append(nn.Linear(nhid, n_outputs))\n",
    "      # All other layers (n_hidden x n_hidden) with dropout option\n",
    "      else:\n",
    "        dnn_layers.append(nn.ReLU())\n",
    "        dnn_layers.append(nn.Linear(nhid, nhid))\n",
    "        if dropout:\n",
    "          dnn_layers.append(nn.Dropout(p=dropout))\n",
    "    # compile DNN layers\n",
    "    self.dnn = nn.Sequential(*dnn_layers)\n",
    "\n",
    "  def forward(self, x):\n",
    "\n",
    "    # Initialize hidden state\n",
    "    hidden_state = torch.zeros(self.n_lstm_layers, x.shape[0], self.nhid)\n",
    "    cell_state = torch.zeros(self.n_lstm_layers, x.shape[0], self.nhid)\n",
    "\n",
    "    # move hidden state to device\n",
    "    if self.use_cuda:\n",
    "      hidden_state = hidden_state.to(device)\n",
    "      cell_state = cell_state.to(device)\n",
    "        \n",
    "    self.hidden = (hidden_state, cell_state)\n",
    "\n",
    "    # Forward Pass\n",
    "    x, h = self.lstm(x, self.hidden) # LSTM\n",
    "    x = self.dropout(x.contiguous().view(x.shape[0], -1)) # Flatten lstm out \n",
    "    x = self.fc1(x) # First Dense\n",
    "    return self.dnn(x) # Pass forward through fully connected DNN."
   ]
  },
  {
   "cell_type": "code",
   "execution_count": 35,
   "id": "ea758cda-0e35-4dfc-937f-82d7652828e1",
   "metadata": {
    "tags": []
   },
   "outputs": [],
   "source": [
    "nhid = 50 # Number of nodes in the hidden layer\n",
    "n_dnn_layers = 5 # Number of hidden fully connected layers\n",
    "nout = 1 # Prediction Window\n",
    "sequence_len = 180 # Training Window\n",
    "\n",
    "# Number of features (since this is a univariate timeseries we'll set\n",
    "# this to 1 -- multivariate analysis is coming in the future)\n",
    "ninp = 1\n",
    "\n",
    "# Device selection (CPU | GPU)\n",
    "USE_CUDA = torch.cuda.is_available()\n",
    "device = 'cuda' if USE_CUDA else 'cpu'\n",
    "\n",
    "# Initialize the model\n",
    "model = LSTMForecaster(ninp, nhid, nout, sequence_len, n_deep_layers=n_dnn_layers, use_cuda=USE_CUDA).to(device)"
   ]
  },
  {
   "cell_type": "code",
   "execution_count": 36,
   "id": "6abc1fb3-8ccb-43de-9d98-4b0e8e88c727",
   "metadata": {
    "tags": []
   },
   "outputs": [],
   "source": [
    "# Set learning rate and number of epochs to train over\n",
    "lr = 4e-4\n",
    "n_epochs = 20\n",
    "\n",
    "# Initialize the loss function and optimizer\n",
    "criterion = nn.MSELoss().to(device)\n",
    "optimizer = torch.optim.AdamW(model.parameters(), lr=lr)"
   ]
  },
  {
   "cell_type": "code",
   "execution_count": 37,
   "id": "7f5babd7-163f-49f5-8bd3-fe730ac67dec",
   "metadata": {
    "tags": []
   },
   "outputs": [
    {
     "name": "stdout",
     "output_type": "stream",
     "text": [
      "[2023-04-10 00:05:49.477 1-8-1-cpu-py36-ml-t3-medium-05a4a7868130c7575335c53b16c7:64 INFO utils.py:27] RULE_JOB_STOP_SIGNAL_FILENAME: None\n",
      "[2023-04-10 00:05:49.786 1-8-1-cpu-py36-ml-t3-medium-05a4a7868130c7575335c53b16c7:64 INFO profiler_config_parser.py:102] Unable to find config at /opt/ml/input/config/profilerconfig.json. Profiler is disabled.\n"
     ]
    },
    {
     "ename": "TypeError",
     "evalue": "can't convert np.ndarray of type numpy.object_. The only supported types are: float64, float32, float16, complex64, complex128, int64, int32, int16, int8, uint8, and bool.",
     "output_type": "error",
     "traceback": [
      "\u001b[0;31m---------------------------------------------------------------------------\u001b[0m",
      "\u001b[0;31mTypeError\u001b[0m                                 Traceback (most recent call last)",
      "\u001b[0;32m<ipython-input-37-23c5dd5e6a32>\u001b[0m in \u001b[0;36m<module>\u001b[0;34m\u001b[0m\n\u001b[1;32m      8\u001b[0m   \u001b[0mmodel\u001b[0m\u001b[0;34m.\u001b[0m\u001b[0mtrain\u001b[0m\u001b[0;34m(\u001b[0m\u001b[0;34m)\u001b[0m\u001b[0;34m\u001b[0m\u001b[0;34m\u001b[0m\u001b[0m\n\u001b[1;32m      9\u001b[0m   \u001b[0;31m# Loop over train dataset\u001b[0m\u001b[0;34m\u001b[0m\u001b[0;34m\u001b[0m\u001b[0;34m\u001b[0m\u001b[0m\n\u001b[0;32m---> 10\u001b[0;31m   \u001b[0;32mfor\u001b[0m \u001b[0mx\u001b[0m\u001b[0;34m,\u001b[0m \u001b[0my\u001b[0m \u001b[0;32min\u001b[0m \u001b[0mtrainloader\u001b[0m\u001b[0;34m:\u001b[0m\u001b[0;34m\u001b[0m\u001b[0;34m\u001b[0m\u001b[0m\n\u001b[0m\u001b[1;32m     11\u001b[0m     \u001b[0moptimizer\u001b[0m\u001b[0;34m.\u001b[0m\u001b[0mzero_grad\u001b[0m\u001b[0;34m(\u001b[0m\u001b[0;34m)\u001b[0m\u001b[0;34m\u001b[0m\u001b[0;34m\u001b[0m\u001b[0m\n\u001b[1;32m     12\u001b[0m     \u001b[0;31m# move inputs to device\u001b[0m\u001b[0;34m\u001b[0m\u001b[0;34m\u001b[0m\u001b[0;34m\u001b[0m\u001b[0m\n",
      "\u001b[0;32m/opt/conda/lib/python3.6/site-packages/torch/utils/data/dataloader.py\u001b[0m in \u001b[0;36m__next__\u001b[0;34m(self)\u001b[0m\n\u001b[1;32m    523\u001b[0m             \u001b[0mstart_time\u001b[0m \u001b[0;34m=\u001b[0m \u001b[0mtime\u001b[0m\u001b[0;34m.\u001b[0m\u001b[0mtime\u001b[0m\u001b[0;34m(\u001b[0m\u001b[0;34m)\u001b[0m\u001b[0;34m\u001b[0m\u001b[0;34m\u001b[0m\u001b[0m\n\u001b[1;32m    524\u001b[0m             \u001b[0;31m# The next_data is updated to return a tuple that consists of worker id in addition to the data.\u001b[0m\u001b[0;34m\u001b[0m\u001b[0;34m\u001b[0m\u001b[0;34m\u001b[0m\u001b[0m\n\u001b[0;32m--> 525\u001b[0;31m             \u001b[0;34m(\u001b[0m\u001b[0mdata\u001b[0m\u001b[0;34m,\u001b[0m \u001b[0mworker_id\u001b[0m\u001b[0;34m)\u001b[0m \u001b[0;34m=\u001b[0m \u001b[0mself\u001b[0m\u001b[0;34m.\u001b[0m\u001b[0m_next_data\u001b[0m\u001b[0;34m(\u001b[0m\u001b[0;34m)\u001b[0m\u001b[0;34m\u001b[0m\u001b[0;34m\u001b[0m\u001b[0m\n\u001b[0m\u001b[1;32m    526\u001b[0m             \u001b[0mduration\u001b[0m \u001b[0;34m=\u001b[0m \u001b[0mtime\u001b[0m\u001b[0;34m.\u001b[0m\u001b[0mtime\u001b[0m\u001b[0;34m(\u001b[0m\u001b[0;34m)\u001b[0m \u001b[0;34m-\u001b[0m \u001b[0mstart_time\u001b[0m\u001b[0;34m\u001b[0m\u001b[0;34m\u001b[0m\u001b[0m\n\u001b[1;32m    527\u001b[0m             \u001b[0;31m# It is possible that we may not get the correct worker id for samples generated out-of-order.\u001b[0m\u001b[0;34m\u001b[0m\u001b[0;34m\u001b[0m\u001b[0;34m\u001b[0m\u001b[0m\n",
      "\u001b[0;32m/opt/conda/lib/python3.6/site-packages/torch/utils/data/dataloader.py\u001b[0m in \u001b[0;36m_next_data\u001b[0;34m(self)\u001b[0m\n\u001b[1;32m    605\u001b[0m         \u001b[0;31m# the transform operations in dataset_fetcher may attempt to register the smdebug hook.\u001b[0m\u001b[0;34m\u001b[0m\u001b[0;34m\u001b[0m\u001b[0;34m\u001b[0m\u001b[0m\n\u001b[1;32m    606\u001b[0m         \u001b[0msuspend_hook_registration\u001b[0m\u001b[0;34m(\u001b[0m\u001b[0;34m)\u001b[0m\u001b[0;34m\u001b[0m\u001b[0;34m\u001b[0m\u001b[0m\n\u001b[0;32m--> 607\u001b[0;31m         \u001b[0mdata\u001b[0m \u001b[0;34m=\u001b[0m \u001b[0mself\u001b[0m\u001b[0;34m.\u001b[0m\u001b[0m_dataset_fetcher\u001b[0m\u001b[0;34m.\u001b[0m\u001b[0mfetch\u001b[0m\u001b[0;34m(\u001b[0m\u001b[0mindex\u001b[0m\u001b[0;34m)\u001b[0m  \u001b[0;31m# may raise StopIteration\u001b[0m\u001b[0;34m\u001b[0m\u001b[0;34m\u001b[0m\u001b[0m\n\u001b[0m\u001b[1;32m    608\u001b[0m         \u001b[0;32mif\u001b[0m \u001b[0mself\u001b[0m\u001b[0;34m.\u001b[0m\u001b[0m_pin_memory\u001b[0m\u001b[0;34m:\u001b[0m\u001b[0;34m\u001b[0m\u001b[0;34m\u001b[0m\u001b[0m\n\u001b[1;32m    609\u001b[0m             \u001b[0mdata\u001b[0m \u001b[0;34m=\u001b[0m \u001b[0m_utils\u001b[0m\u001b[0;34m.\u001b[0m\u001b[0mpin_memory\u001b[0m\u001b[0;34m.\u001b[0m\u001b[0mpin_memory\u001b[0m\u001b[0;34m(\u001b[0m\u001b[0mdata\u001b[0m\u001b[0;34m)\u001b[0m\u001b[0;34m\u001b[0m\u001b[0;34m\u001b[0m\u001b[0m\n",
      "\u001b[0;32m/opt/conda/lib/python3.6/site-packages/torch/utils/data/_utils/fetch.py\u001b[0m in \u001b[0;36mfetch\u001b[0;34m(self, possibly_batched_index)\u001b[0m\n\u001b[1;32m     42\u001b[0m     \u001b[0;32mdef\u001b[0m \u001b[0mfetch\u001b[0m\u001b[0;34m(\u001b[0m\u001b[0mself\u001b[0m\u001b[0;34m,\u001b[0m \u001b[0mpossibly_batched_index\u001b[0m\u001b[0;34m)\u001b[0m\u001b[0;34m:\u001b[0m\u001b[0;34m\u001b[0m\u001b[0;34m\u001b[0m\u001b[0m\n\u001b[1;32m     43\u001b[0m         \u001b[0;32mif\u001b[0m \u001b[0mself\u001b[0m\u001b[0;34m.\u001b[0m\u001b[0mauto_collation\u001b[0m\u001b[0;34m:\u001b[0m\u001b[0;34m\u001b[0m\u001b[0;34m\u001b[0m\u001b[0m\n\u001b[0;32m---> 44\u001b[0;31m             \u001b[0mdata\u001b[0m \u001b[0;34m=\u001b[0m \u001b[0;34m[\u001b[0m\u001b[0mself\u001b[0m\u001b[0;34m.\u001b[0m\u001b[0mdataset\u001b[0m\u001b[0;34m[\u001b[0m\u001b[0midx\u001b[0m\u001b[0;34m]\u001b[0m \u001b[0;32mfor\u001b[0m \u001b[0midx\u001b[0m \u001b[0;32min\u001b[0m \u001b[0mpossibly_batched_index\u001b[0m\u001b[0;34m]\u001b[0m\u001b[0;34m\u001b[0m\u001b[0;34m\u001b[0m\u001b[0m\n\u001b[0m\u001b[1;32m     45\u001b[0m         \u001b[0;32melse\u001b[0m\u001b[0;34m:\u001b[0m\u001b[0;34m\u001b[0m\u001b[0;34m\u001b[0m\u001b[0m\n\u001b[1;32m     46\u001b[0m             \u001b[0mdata\u001b[0m \u001b[0;34m=\u001b[0m \u001b[0mself\u001b[0m\u001b[0;34m.\u001b[0m\u001b[0mdataset\u001b[0m\u001b[0;34m[\u001b[0m\u001b[0mpossibly_batched_index\u001b[0m\u001b[0;34m]\u001b[0m\u001b[0;34m\u001b[0m\u001b[0;34m\u001b[0m\u001b[0m\n",
      "\u001b[0;32m/opt/conda/lib/python3.6/site-packages/torch/utils/data/_utils/fetch.py\u001b[0m in \u001b[0;36m<listcomp>\u001b[0;34m(.0)\u001b[0m\n\u001b[1;32m     42\u001b[0m     \u001b[0;32mdef\u001b[0m \u001b[0mfetch\u001b[0m\u001b[0;34m(\u001b[0m\u001b[0mself\u001b[0m\u001b[0;34m,\u001b[0m \u001b[0mpossibly_batched_index\u001b[0m\u001b[0;34m)\u001b[0m\u001b[0;34m:\u001b[0m\u001b[0;34m\u001b[0m\u001b[0;34m\u001b[0m\u001b[0m\n\u001b[1;32m     43\u001b[0m         \u001b[0;32mif\u001b[0m \u001b[0mself\u001b[0m\u001b[0;34m.\u001b[0m\u001b[0mauto_collation\u001b[0m\u001b[0;34m:\u001b[0m\u001b[0;34m\u001b[0m\u001b[0;34m\u001b[0m\u001b[0m\n\u001b[0;32m---> 44\u001b[0;31m             \u001b[0mdata\u001b[0m \u001b[0;34m=\u001b[0m \u001b[0;34m[\u001b[0m\u001b[0mself\u001b[0m\u001b[0;34m.\u001b[0m\u001b[0mdataset\u001b[0m\u001b[0;34m[\u001b[0m\u001b[0midx\u001b[0m\u001b[0;34m]\u001b[0m \u001b[0;32mfor\u001b[0m \u001b[0midx\u001b[0m \u001b[0;32min\u001b[0m \u001b[0mpossibly_batched_index\u001b[0m\u001b[0;34m]\u001b[0m\u001b[0;34m\u001b[0m\u001b[0;34m\u001b[0m\u001b[0m\n\u001b[0m\u001b[1;32m     45\u001b[0m         \u001b[0;32melse\u001b[0m\u001b[0;34m:\u001b[0m\u001b[0;34m\u001b[0m\u001b[0;34m\u001b[0m\u001b[0m\n\u001b[1;32m     46\u001b[0m             \u001b[0mdata\u001b[0m \u001b[0;34m=\u001b[0m \u001b[0mself\u001b[0m\u001b[0;34m.\u001b[0m\u001b[0mdataset\u001b[0m\u001b[0;34m[\u001b[0m\u001b[0mpossibly_batched_index\u001b[0m\u001b[0;34m]\u001b[0m\u001b[0;34m\u001b[0m\u001b[0;34m\u001b[0m\u001b[0m\n",
      "\u001b[0;32m/opt/conda/lib/python3.6/site-packages/torch/utils/data/dataset.py\u001b[0m in \u001b[0;36m__getitem__\u001b[0;34m(self, idx)\u001b[0m\n\u001b[1;32m    328\u001b[0m \u001b[0;34m\u001b[0m\u001b[0m\n\u001b[1;32m    329\u001b[0m     \u001b[0;32mdef\u001b[0m \u001b[0m__getitem__\u001b[0m\u001b[0;34m(\u001b[0m\u001b[0mself\u001b[0m\u001b[0;34m,\u001b[0m \u001b[0midx\u001b[0m\u001b[0;34m)\u001b[0m\u001b[0;34m:\u001b[0m\u001b[0;34m\u001b[0m\u001b[0;34m\u001b[0m\u001b[0m\n\u001b[0;32m--> 330\u001b[0;31m         \u001b[0;32mreturn\u001b[0m \u001b[0mself\u001b[0m\u001b[0;34m.\u001b[0m\u001b[0mdataset\u001b[0m\u001b[0;34m[\u001b[0m\u001b[0mself\u001b[0m\u001b[0;34m.\u001b[0m\u001b[0mindices\u001b[0m\u001b[0;34m[\u001b[0m\u001b[0midx\u001b[0m\u001b[0;34m]\u001b[0m\u001b[0;34m]\u001b[0m\u001b[0;34m\u001b[0m\u001b[0;34m\u001b[0m\u001b[0m\n\u001b[0m\u001b[1;32m    331\u001b[0m \u001b[0;34m\u001b[0m\u001b[0m\n\u001b[1;32m    332\u001b[0m     \u001b[0;32mdef\u001b[0m \u001b[0m__len__\u001b[0m\u001b[0;34m(\u001b[0m\u001b[0mself\u001b[0m\u001b[0;34m)\u001b[0m\u001b[0;34m:\u001b[0m\u001b[0;34m\u001b[0m\u001b[0;34m\u001b[0m\u001b[0m\n",
      "\u001b[0;32m<ipython-input-24-da1993b186ac>\u001b[0m in \u001b[0;36m__getitem__\u001b[0;34m(self, idx)\u001b[0m\n\u001b[1;32m      6\u001b[0m   \u001b[0;32mdef\u001b[0m \u001b[0m__getitem__\u001b[0m\u001b[0;34m(\u001b[0m\u001b[0mself\u001b[0m\u001b[0;34m,\u001b[0m \u001b[0midx\u001b[0m\u001b[0;34m)\u001b[0m\u001b[0;34m:\u001b[0m\u001b[0;34m\u001b[0m\u001b[0;34m\u001b[0m\u001b[0m\n\u001b[1;32m      7\u001b[0m     \u001b[0msample\u001b[0m \u001b[0;34m=\u001b[0m \u001b[0mself\u001b[0m\u001b[0;34m.\u001b[0m\u001b[0mdata\u001b[0m\u001b[0;34m[\u001b[0m\u001b[0midx\u001b[0m\u001b[0;34m]\u001b[0m\u001b[0;34m\u001b[0m\u001b[0;34m\u001b[0m\u001b[0m\n\u001b[0;32m----> 8\u001b[0;31m     \u001b[0;32mreturn\u001b[0m \u001b[0mtorch\u001b[0m\u001b[0;34m.\u001b[0m\u001b[0mTensor\u001b[0m\u001b[0;34m(\u001b[0m\u001b[0msample\u001b[0m\u001b[0;34m[\u001b[0m\u001b[0;34m'sequence'\u001b[0m\u001b[0;34m]\u001b[0m\u001b[0;34m)\u001b[0m\u001b[0;34m,\u001b[0m \u001b[0mtorch\u001b[0m\u001b[0;34m.\u001b[0m\u001b[0mTensor\u001b[0m\u001b[0;34m(\u001b[0m\u001b[0msample\u001b[0m\u001b[0;34m[\u001b[0m\u001b[0;34m'target'\u001b[0m\u001b[0;34m]\u001b[0m\u001b[0;34m)\u001b[0m\u001b[0;34m\u001b[0m\u001b[0;34m\u001b[0m\u001b[0m\n\u001b[0m\u001b[1;32m      9\u001b[0m \u001b[0;34m\u001b[0m\u001b[0m\n\u001b[1;32m     10\u001b[0m   \u001b[0;32mdef\u001b[0m \u001b[0m__len__\u001b[0m\u001b[0;34m(\u001b[0m\u001b[0mself\u001b[0m\u001b[0;34m)\u001b[0m\u001b[0;34m:\u001b[0m\u001b[0;34m\u001b[0m\u001b[0;34m\u001b[0m\u001b[0m\n",
      "\u001b[0;31mTypeError\u001b[0m: can't convert np.ndarray of type numpy.object_. The only supported types are: float64, float32, float16, complex64, complex128, int64, int32, int16, int8, uint8, and bool."
     ]
    }
   ],
   "source": [
    "# Lists to store training and validation losses\n",
    "t_losses, v_losses = [], []\n",
    "# Loop over epochs\n",
    "for epoch in range(n_epochs):\n",
    "  train_loss, valid_loss = 0.0, 0.0\n",
    "\n",
    "  # train step\n",
    "  model.train()\n",
    "  # Loop over train dataset\n",
    "  for x, y in trainloader:\n",
    "    optimizer.zero_grad()\n",
    "    # move inputs to device\n",
    "    x = x.to(device)\n",
    "    y  = y.squeeze().to(device)\n",
    "    # Forward Pass\n",
    "    preds = model(x).squeeze()\n",
    "    loss = criterion(preds, y) # compute batch loss\n",
    "    train_loss += loss.item()\n",
    "    loss.backward()\n",
    "    optimizer.step()\n",
    "  epoch_loss = train_loss / len(trainloader)\n",
    "  t_losses.append(epoch_loss)\n",
    "  \n",
    "  # validation step\n",
    "  model.eval()\n",
    "  # Loop over validation dataset\n",
    "  for x, y in testloader:\n",
    "    with torch.no_grad():\n",
    "      x, y = x.to(device), y.squeeze().to(device)\n",
    "      preds = model(x).squeeze()\n",
    "      error = criterion(preds, y)\n",
    "    valid_loss += error.item()\n",
    "  valid_loss = valid_loss / len(testloader)\n",
    "  v_losses.append(valid_loss)\n",
    "      \n",
    "  print(f'{epoch} - train: {epoch_loss}, valid: {valid_loss}')\n",
    "plot_losses(t_losses, v_losses)"
   ]
  },
  {
   "cell_type": "code",
   "execution_count": null,
   "id": "f887b15f-7f3c-4896-bb65-21bc9a804dda",
   "metadata": {},
   "outputs": [],
   "source": [
    "def make_predictions_from_dataloader(model, unshuffled_dataloader):\n",
    "  model.eval()\n",
    "  predictions, actuals = [], []\n",
    "  for x, y in unshuffled_dataloader:\n",
    "    with torch.no_grad():\n",
    "      p = model(x)\n",
    "      predictions.append(p)\n",
    "      actuals.append(y.squeeze())\n",
    "  predictions = torch.cat(predictions).numpy()\n",
    "  actuals = torch.cat(actuals).numpy()\n",
    "  return predictions.squeeze(), actuals"
   ]
  },
  {
   "cell_type": "code",
   "execution_count": null,
   "id": "75e9ed86-d96f-4fc1-9d5a-36fd30bda7b1",
   "metadata": {},
   "outputs": [],
   "source": [
    "  def one_step_forecast(model, history):\n",
    "      '''\n",
    "      model: PyTorch model object\n",
    "      history: a sequence of values representing the latest values of the time \n",
    "      series, requirement -> len(history.shape) == 2\n",
    "    \n",
    "      outputs a single value which is the prediction of the next value in the\n",
    "      sequence.\n",
    "      '''\n",
    "      model.cpu()\n",
    "      model.eval()\n",
    "      with torch.no_grad():\n",
    "        pre = torch.Tensor(history).unsqueeze(0)\n",
    "        pred = self.model(pre)\n",
    "      return pred.detach().numpy().reshape(-1)\n",
    "\n",
    "  def n_step_forecast(data: pd.DataFrame, target: str, tw: int, n: int, forecast_from: int=None, plot=False):\n",
    "      '''\n",
    "      n: integer defining how many steps to forecast\n",
    "      forecast_from: integer defining which index to forecast from. None if\n",
    "      you want to forecast from the end.\n",
    "      plot: True if you want to output a plot of the forecast, False if not.\n",
    "      '''\n",
    "      history = data[target].copy().to_frame()\n",
    "      \n",
    "      # Create initial sequence input based on where in the series to forecast \n",
    "      # from.\n",
    "      if forecast_from:\n",
    "        pre = list(history[forecast_from - tw : forecast_from][target].values)\n",
    "      else:\n",
    "        pre = list(history[self.target])[-tw:]\n",
    "\n",
    "      # Call one_step_forecast n times and append prediction to history\n",
    "      for i, step in enumerate(range(n)):\n",
    "        pre_ = np.array(pre[-tw:]).reshape(-1, 1)\n",
    "        forecast = self.one_step_forecast(pre_).squeeze()\n",
    "        pre.append(forecast)\n",
    "      \n",
    "      # The rest of this is just to add the forecast to the correct time of \n",
    "      # the history series\n",
    "      res = history.copy()\n",
    "      ls = [np.nan for i in range(len(history))]\n",
    "\n",
    "      # Note: I have not handled the edge case where the start index + n is \n",
    "      # before the end of the dataset and crosses past it.\n",
    "      if forecast_from:\n",
    "        ls[forecast_from : forecast_from + n] = list(np.array(pre[-n:]))\n",
    "        res['forecast'] = ls\n",
    "        res.columns = ['actual', 'forecast']\n",
    "      else:\n",
    "        fc = ls + list(np.array(pre[-n:]))\n",
    "        ls = ls + [np.nan for i in range(len(pre[-n:]))]\n",
    "        ls[:len(history)] = history[self.target].values\n",
    "        res = pd.DataFrame([ls, fc], index=['actual', 'forecast']).T\n",
    "      return res"
   ]
  },
  {
   "cell_type": "code",
   "execution_count": null,
   "id": "eee99e48-e361-491b-bce6-82276409aa47",
   "metadata": {},
   "outputs": [],
   "source": []
  }
 ],
 "metadata": {
  "availableInstances": [
   {
    "_defaultOrder": 0,
    "_isFastLaunch": true,
    "category": "General purpose",
    "gpuNum": 0,
    "hideHardwareSpecs": false,
    "memoryGiB": 4,
    "name": "ml.t3.medium",
    "vcpuNum": 2
   },
   {
    "_defaultOrder": 1,
    "_isFastLaunch": false,
    "category": "General purpose",
    "gpuNum": 0,
    "hideHardwareSpecs": false,
    "memoryGiB": 8,
    "name": "ml.t3.large",
    "vcpuNum": 2
   },
   {
    "_defaultOrder": 2,
    "_isFastLaunch": false,
    "category": "General purpose",
    "gpuNum": 0,
    "hideHardwareSpecs": false,
    "memoryGiB": 16,
    "name": "ml.t3.xlarge",
    "vcpuNum": 4
   },
   {
    "_defaultOrder": 3,
    "_isFastLaunch": false,
    "category": "General purpose",
    "gpuNum": 0,
    "hideHardwareSpecs": false,
    "memoryGiB": 32,
    "name": "ml.t3.2xlarge",
    "vcpuNum": 8
   },
   {
    "_defaultOrder": 4,
    "_isFastLaunch": true,
    "category": "General purpose",
    "gpuNum": 0,
    "hideHardwareSpecs": false,
    "memoryGiB": 8,
    "name": "ml.m5.large",
    "vcpuNum": 2
   },
   {
    "_defaultOrder": 5,
    "_isFastLaunch": false,
    "category": "General purpose",
    "gpuNum": 0,
    "hideHardwareSpecs": false,
    "memoryGiB": 16,
    "name": "ml.m5.xlarge",
    "vcpuNum": 4
   },
   {
    "_defaultOrder": 6,
    "_isFastLaunch": false,
    "category": "General purpose",
    "gpuNum": 0,
    "hideHardwareSpecs": false,
    "memoryGiB": 32,
    "name": "ml.m5.2xlarge",
    "vcpuNum": 8
   },
   {
    "_defaultOrder": 7,
    "_isFastLaunch": false,
    "category": "General purpose",
    "gpuNum": 0,
    "hideHardwareSpecs": false,
    "memoryGiB": 64,
    "name": "ml.m5.4xlarge",
    "vcpuNum": 16
   },
   {
    "_defaultOrder": 8,
    "_isFastLaunch": false,
    "category": "General purpose",
    "gpuNum": 0,
    "hideHardwareSpecs": false,
    "memoryGiB": 128,
    "name": "ml.m5.8xlarge",
    "vcpuNum": 32
   },
   {
    "_defaultOrder": 9,
    "_isFastLaunch": false,
    "category": "General purpose",
    "gpuNum": 0,
    "hideHardwareSpecs": false,
    "memoryGiB": 192,
    "name": "ml.m5.12xlarge",
    "vcpuNum": 48
   },
   {
    "_defaultOrder": 10,
    "_isFastLaunch": false,
    "category": "General purpose",
    "gpuNum": 0,
    "hideHardwareSpecs": false,
    "memoryGiB": 256,
    "name": "ml.m5.16xlarge",
    "vcpuNum": 64
   },
   {
    "_defaultOrder": 11,
    "_isFastLaunch": false,
    "category": "General purpose",
    "gpuNum": 0,
    "hideHardwareSpecs": false,
    "memoryGiB": 384,
    "name": "ml.m5.24xlarge",
    "vcpuNum": 96
   },
   {
    "_defaultOrder": 12,
    "_isFastLaunch": false,
    "category": "General purpose",
    "gpuNum": 0,
    "hideHardwareSpecs": false,
    "memoryGiB": 8,
    "name": "ml.m5d.large",
    "vcpuNum": 2
   },
   {
    "_defaultOrder": 13,
    "_isFastLaunch": false,
    "category": "General purpose",
    "gpuNum": 0,
    "hideHardwareSpecs": false,
    "memoryGiB": 16,
    "name": "ml.m5d.xlarge",
    "vcpuNum": 4
   },
   {
    "_defaultOrder": 14,
    "_isFastLaunch": false,
    "category": "General purpose",
    "gpuNum": 0,
    "hideHardwareSpecs": false,
    "memoryGiB": 32,
    "name": "ml.m5d.2xlarge",
    "vcpuNum": 8
   },
   {
    "_defaultOrder": 15,
    "_isFastLaunch": false,
    "category": "General purpose",
    "gpuNum": 0,
    "hideHardwareSpecs": false,
    "memoryGiB": 64,
    "name": "ml.m5d.4xlarge",
    "vcpuNum": 16
   },
   {
    "_defaultOrder": 16,
    "_isFastLaunch": false,
    "category": "General purpose",
    "gpuNum": 0,
    "hideHardwareSpecs": false,
    "memoryGiB": 128,
    "name": "ml.m5d.8xlarge",
    "vcpuNum": 32
   },
   {
    "_defaultOrder": 17,
    "_isFastLaunch": false,
    "category": "General purpose",
    "gpuNum": 0,
    "hideHardwareSpecs": false,
    "memoryGiB": 192,
    "name": "ml.m5d.12xlarge",
    "vcpuNum": 48
   },
   {
    "_defaultOrder": 18,
    "_isFastLaunch": false,
    "category": "General purpose",
    "gpuNum": 0,
    "hideHardwareSpecs": false,
    "memoryGiB": 256,
    "name": "ml.m5d.16xlarge",
    "vcpuNum": 64
   },
   {
    "_defaultOrder": 19,
    "_isFastLaunch": false,
    "category": "General purpose",
    "gpuNum": 0,
    "hideHardwareSpecs": false,
    "memoryGiB": 384,
    "name": "ml.m5d.24xlarge",
    "vcpuNum": 96
   },
   {
    "_defaultOrder": 20,
    "_isFastLaunch": false,
    "category": "General purpose",
    "gpuNum": 0,
    "hideHardwareSpecs": true,
    "memoryGiB": 0,
    "name": "ml.geospatial.interactive",
    "supportedImageNames": [
     "sagemaker-geospatial-v1-0"
    ],
    "vcpuNum": 0
   },
   {
    "_defaultOrder": 21,
    "_isFastLaunch": true,
    "category": "Compute optimized",
    "gpuNum": 0,
    "hideHardwareSpecs": false,
    "memoryGiB": 4,
    "name": "ml.c5.large",
    "vcpuNum": 2
   },
   {
    "_defaultOrder": 22,
    "_isFastLaunch": false,
    "category": "Compute optimized",
    "gpuNum": 0,
    "hideHardwareSpecs": false,
    "memoryGiB": 8,
    "name": "ml.c5.xlarge",
    "vcpuNum": 4
   },
   {
    "_defaultOrder": 23,
    "_isFastLaunch": false,
    "category": "Compute optimized",
    "gpuNum": 0,
    "hideHardwareSpecs": false,
    "memoryGiB": 16,
    "name": "ml.c5.2xlarge",
    "vcpuNum": 8
   },
   {
    "_defaultOrder": 24,
    "_isFastLaunch": false,
    "category": "Compute optimized",
    "gpuNum": 0,
    "hideHardwareSpecs": false,
    "memoryGiB": 32,
    "name": "ml.c5.4xlarge",
    "vcpuNum": 16
   },
   {
    "_defaultOrder": 25,
    "_isFastLaunch": false,
    "category": "Compute optimized",
    "gpuNum": 0,
    "hideHardwareSpecs": false,
    "memoryGiB": 72,
    "name": "ml.c5.9xlarge",
    "vcpuNum": 36
   },
   {
    "_defaultOrder": 26,
    "_isFastLaunch": false,
    "category": "Compute optimized",
    "gpuNum": 0,
    "hideHardwareSpecs": false,
    "memoryGiB": 96,
    "name": "ml.c5.12xlarge",
    "vcpuNum": 48
   },
   {
    "_defaultOrder": 27,
    "_isFastLaunch": false,
    "category": "Compute optimized",
    "gpuNum": 0,
    "hideHardwareSpecs": false,
    "memoryGiB": 144,
    "name": "ml.c5.18xlarge",
    "vcpuNum": 72
   },
   {
    "_defaultOrder": 28,
    "_isFastLaunch": false,
    "category": "Compute optimized",
    "gpuNum": 0,
    "hideHardwareSpecs": false,
    "memoryGiB": 192,
    "name": "ml.c5.24xlarge",
    "vcpuNum": 96
   },
   {
    "_defaultOrder": 29,
    "_isFastLaunch": true,
    "category": "Accelerated computing",
    "gpuNum": 1,
    "hideHardwareSpecs": false,
    "memoryGiB": 16,
    "name": "ml.g4dn.xlarge",
    "vcpuNum": 4
   },
   {
    "_defaultOrder": 30,
    "_isFastLaunch": false,
    "category": "Accelerated computing",
    "gpuNum": 1,
    "hideHardwareSpecs": false,
    "memoryGiB": 32,
    "name": "ml.g4dn.2xlarge",
    "vcpuNum": 8
   },
   {
    "_defaultOrder": 31,
    "_isFastLaunch": false,
    "category": "Accelerated computing",
    "gpuNum": 1,
    "hideHardwareSpecs": false,
    "memoryGiB": 64,
    "name": "ml.g4dn.4xlarge",
    "vcpuNum": 16
   },
   {
    "_defaultOrder": 32,
    "_isFastLaunch": false,
    "category": "Accelerated computing",
    "gpuNum": 1,
    "hideHardwareSpecs": false,
    "memoryGiB": 128,
    "name": "ml.g4dn.8xlarge",
    "vcpuNum": 32
   },
   {
    "_defaultOrder": 33,
    "_isFastLaunch": false,
    "category": "Accelerated computing",
    "gpuNum": 4,
    "hideHardwareSpecs": false,
    "memoryGiB": 192,
    "name": "ml.g4dn.12xlarge",
    "vcpuNum": 48
   },
   {
    "_defaultOrder": 34,
    "_isFastLaunch": false,
    "category": "Accelerated computing",
    "gpuNum": 1,
    "hideHardwareSpecs": false,
    "memoryGiB": 256,
    "name": "ml.g4dn.16xlarge",
    "vcpuNum": 64
   },
   {
    "_defaultOrder": 35,
    "_isFastLaunch": false,
    "category": "Accelerated computing",
    "gpuNum": 1,
    "hideHardwareSpecs": false,
    "memoryGiB": 61,
    "name": "ml.p3.2xlarge",
    "vcpuNum": 8
   },
   {
    "_defaultOrder": 36,
    "_isFastLaunch": false,
    "category": "Accelerated computing",
    "gpuNum": 4,
    "hideHardwareSpecs": false,
    "memoryGiB": 244,
    "name": "ml.p3.8xlarge",
    "vcpuNum": 32
   },
   {
    "_defaultOrder": 37,
    "_isFastLaunch": false,
    "category": "Accelerated computing",
    "gpuNum": 8,
    "hideHardwareSpecs": false,
    "memoryGiB": 488,
    "name": "ml.p3.16xlarge",
    "vcpuNum": 64
   },
   {
    "_defaultOrder": 38,
    "_isFastLaunch": false,
    "category": "Accelerated computing",
    "gpuNum": 8,
    "hideHardwareSpecs": false,
    "memoryGiB": 768,
    "name": "ml.p3dn.24xlarge",
    "vcpuNum": 96
   },
   {
    "_defaultOrder": 39,
    "_isFastLaunch": false,
    "category": "Memory Optimized",
    "gpuNum": 0,
    "hideHardwareSpecs": false,
    "memoryGiB": 16,
    "name": "ml.r5.large",
    "vcpuNum": 2
   },
   {
    "_defaultOrder": 40,
    "_isFastLaunch": false,
    "category": "Memory Optimized",
    "gpuNum": 0,
    "hideHardwareSpecs": false,
    "memoryGiB": 32,
    "name": "ml.r5.xlarge",
    "vcpuNum": 4
   },
   {
    "_defaultOrder": 41,
    "_isFastLaunch": false,
    "category": "Memory Optimized",
    "gpuNum": 0,
    "hideHardwareSpecs": false,
    "memoryGiB": 64,
    "name": "ml.r5.2xlarge",
    "vcpuNum": 8
   },
   {
    "_defaultOrder": 42,
    "_isFastLaunch": false,
    "category": "Memory Optimized",
    "gpuNum": 0,
    "hideHardwareSpecs": false,
    "memoryGiB": 128,
    "name": "ml.r5.4xlarge",
    "vcpuNum": 16
   },
   {
    "_defaultOrder": 43,
    "_isFastLaunch": false,
    "category": "Memory Optimized",
    "gpuNum": 0,
    "hideHardwareSpecs": false,
    "memoryGiB": 256,
    "name": "ml.r5.8xlarge",
    "vcpuNum": 32
   },
   {
    "_defaultOrder": 44,
    "_isFastLaunch": false,
    "category": "Memory Optimized",
    "gpuNum": 0,
    "hideHardwareSpecs": false,
    "memoryGiB": 384,
    "name": "ml.r5.12xlarge",
    "vcpuNum": 48
   },
   {
    "_defaultOrder": 45,
    "_isFastLaunch": false,
    "category": "Memory Optimized",
    "gpuNum": 0,
    "hideHardwareSpecs": false,
    "memoryGiB": 512,
    "name": "ml.r5.16xlarge",
    "vcpuNum": 64
   },
   {
    "_defaultOrder": 46,
    "_isFastLaunch": false,
    "category": "Memory Optimized",
    "gpuNum": 0,
    "hideHardwareSpecs": false,
    "memoryGiB": 768,
    "name": "ml.r5.24xlarge",
    "vcpuNum": 96
   },
   {
    "_defaultOrder": 47,
    "_isFastLaunch": false,
    "category": "Accelerated computing",
    "gpuNum": 1,
    "hideHardwareSpecs": false,
    "memoryGiB": 16,
    "name": "ml.g5.xlarge",
    "vcpuNum": 4
   },
   {
    "_defaultOrder": 48,
    "_isFastLaunch": false,
    "category": "Accelerated computing",
    "gpuNum": 1,
    "hideHardwareSpecs": false,
    "memoryGiB": 32,
    "name": "ml.g5.2xlarge",
    "vcpuNum": 8
   },
   {
    "_defaultOrder": 49,
    "_isFastLaunch": false,
    "category": "Accelerated computing",
    "gpuNum": 1,
    "hideHardwareSpecs": false,
    "memoryGiB": 64,
    "name": "ml.g5.4xlarge",
    "vcpuNum": 16
   },
   {
    "_defaultOrder": 50,
    "_isFastLaunch": false,
    "category": "Accelerated computing",
    "gpuNum": 1,
    "hideHardwareSpecs": false,
    "memoryGiB": 128,
    "name": "ml.g5.8xlarge",
    "vcpuNum": 32
   },
   {
    "_defaultOrder": 51,
    "_isFastLaunch": false,
    "category": "Accelerated computing",
    "gpuNum": 1,
    "hideHardwareSpecs": false,
    "memoryGiB": 256,
    "name": "ml.g5.16xlarge",
    "vcpuNum": 64
   },
   {
    "_defaultOrder": 52,
    "_isFastLaunch": false,
    "category": "Accelerated computing",
    "gpuNum": 4,
    "hideHardwareSpecs": false,
    "memoryGiB": 192,
    "name": "ml.g5.12xlarge",
    "vcpuNum": 48
   },
   {
    "_defaultOrder": 53,
    "_isFastLaunch": false,
    "category": "Accelerated computing",
    "gpuNum": 4,
    "hideHardwareSpecs": false,
    "memoryGiB": 384,
    "name": "ml.g5.24xlarge",
    "vcpuNum": 96
   },
   {
    "_defaultOrder": 54,
    "_isFastLaunch": false,
    "category": "Accelerated computing",
    "gpuNum": 8,
    "hideHardwareSpecs": false,
    "memoryGiB": 768,
    "name": "ml.g5.48xlarge",
    "vcpuNum": 192
   }
  ],
  "instance_type": "ml.t3.medium",
  "kernelspec": {
   "display_name": "Python 3 (PyTorch 1.8 Python 3.6 CPU Optimized)",
   "language": "python",
   "name": "python3__SAGEMAKER_INTERNAL__arn:aws:sagemaker:us-east-1:081325390199:image/1.8.1-cpu-py36"
  },
  "language_info": {
   "codemirror_mode": {
    "name": "ipython",
    "version": 3
   },
   "file_extension": ".py",
   "mimetype": "text/x-python",
   "name": "python",
   "nbconvert_exporter": "python",
   "pygments_lexer": "ipython3",
   "version": "3.6.13"
  }
 },
 "nbformat": 4,
 "nbformat_minor": 5
}
