{
 "cells": [
  {
   "cell_type": "code",
   "execution_count": 2,
   "id": "fd2fc965-a9f6-453b-9381-cc5613a768a9",
   "metadata": {
    "tags": []
   },
   "outputs": [
    {
     "name": "stdout",
     "output_type": "stream",
     "text": [
      "\u001b[31mERROR: pip's dependency resolver does not currently take into account all the packages that are installed. This behaviour is the source of the following dependency conflicts.\n",
      "pytest-astropy 0.8.0 requires pytest-cov>=2.0, which is not installed.\n",
      "pytest-astropy 0.8.0 requires pytest-filter-subpackage>=0.1, which is not installed.\n",
      "sparkmagic 0.20.4 requires nest-asyncio==1.5.5, but you have nest-asyncio 1.5.6 which is incompatible.\n",
      "awscli 1.27.111 requires rsa<4.8,>=3.1.2, but you have rsa 4.9 which is incompatible.\u001b[0m\u001b[31m\n",
      "\u001b[0m\u001b[33mWARNING: Running pip as the 'root' user can result in broken permissions and conflicting behaviour with the system package manager. It is recommended to use a virtual environment instead: https://pip.pypa.io/warnings/venv\u001b[0m\u001b[33m\n",
      "\u001b[0m"
     ]
    }
   ],
   "source": [
    "!pip install sagemaker ipywidgets --upgrade --quiet\n"
   ]
  },
  {
   "cell_type": "code",
   "execution_count": 3,
   "id": "c2f1f588-1263-4e97-bf35-c08026b971b2",
   "metadata": {
    "tags": []
   },
   "outputs": [],
   "source": [
    "import boto3\n",
    "import numpy as np\n",
    "import matplotlib.pyplot as plt\n",
    "import pandas as pd\n",
    "import sklearn\n",
    "from scipy import stats\n",
    "from sklearn.metrics import mean_absolute_error \n",
    "from sklearn.metrics import mean_squared_error \n",
    "from sklearn.metrics import median_absolute_error\n",
    "from datetime import date\n",
    "from sklearn.preprocessing import MinMaxScaler\n",
    "from sklearn.model_selection import train_test_split\n",
    "import numpy as np\n",
    "import matplotlib.pyplot as plt\n",
    "import pandas as pd\n",
    "import seaborn as sns\n",
    "\n",
    "import sagemaker\n",
    "from sagemaker import image_uris\n",
    "\n",
    "from sagemaker.session import Session\n",
    "from sagemaker.inputs import TrainingInput\n",
    "from sagemaker.xgboost.estimator import XGBoost\n",
    "from sagemaker.xgboost.model import XGBoostModel\n",
    "from sagemaker.serializers import CSVSerializer\n"
   ]
  },
  {
   "cell_type": "code",
   "execution_count": 35,
   "id": "a2b6f2c1-d169-448b-a599-dd65206b046d",
   "metadata": {
    "tags": []
   },
   "outputs": [],
   "source": [
    "s3=boto3.resource('s3')"
   ]
  },
  {
   "cell_type": "code",
   "execution_count": 36,
   "id": "0091307d-fac2-46b7-a3a3-062c5474e5cc",
   "metadata": {
    "tags": []
   },
   "outputs": [
    {
     "name": "stdout",
     "output_type": "stream",
     "text": [
      "S3 bucket fractionatordatalstm was created\n"
     ]
    }
   ],
   "source": [
    "bucket_name='fractionatordatalstm'\n",
    "try:\n",
    "    s3.create_bucket(Bucket=bucket_name)\n",
    "    print(\"S3 bucket {} was created\".format(bucket_name))\n",
    "except Exception as e:\n",
    "    print(\"S3 error: \",e)"
   ]
  },
  {
   "cell_type": "code",
   "execution_count": 37,
   "id": "12821e5f-dc9a-4877-ae6f-095b0c2d12a3",
   "metadata": {
    "tags": []
   },
   "outputs": [
    {
     "name": "stdout",
     "output_type": "stream",
     "text": [
      "fractionatordata\n",
      "fractionatordatalstm\n",
      "sagemaker-automated-execution-860648665930-us-east-1\n",
      "sagemaker-studio-860648665930-gns5xa693ri\n",
      "sagemaker-us-east-1-860648665930\n"
     ]
    }
   ],
   "source": [
    "# Print out bucket names\n",
    "for bucket in s3.buckets.all():\n",
    "    print(bucket.name)"
   ]
  },
  {
   "cell_type": "code",
   "execution_count": 42,
   "id": "f3f3682f-8a9c-400d-8c80-95a9245a3fe7",
   "metadata": {
    "tags": []
   },
   "outputs": [],
   "source": [
    "s3 = boto3.client(\"s3\")\n",
    "\n",
    "s3.download_file(\n",
    "    Bucket=\"fractionatordatalstm\",Key=\"control_furnace/test/test.csv\" ,Filename=\"test.csv\"\n",
    ")\n",
    "# Key=\"\" s3://fractionatordatalstm/control_furnace/test/"
   ]
  },
  {
   "cell_type": "code",
   "execution_count": 43,
   "id": "be042546-3bc7-4022-9579-b7a08e9ce66f",
   "metadata": {
    "tags": []
   },
   "outputs": [],
   "source": [
    "s3 = boto3.client(\"s3\")\n",
    "\n",
    "s3.download_file(\n",
    "    Bucket=\"fractionatordatalstm\",Key=\"control_furnace/train/train.csv\" ,Filename=\"train.csv\"\n",
    ")\n",
    "# Key=\"\" s3://fractionatordatalstm/control_furnace/test/"
   ]
  },
  {
   "cell_type": "code",
   "execution_count": 27,
   "id": "e0cf9de2-6114-4c66-8eb2-528e8749a6de",
   "metadata": {},
   "outputs": [
    {
     "data": {
      "text/html": [
       "<div>\n",
       "<style scoped>\n",
       "    .dataframe tbody tr th:only-of-type {\n",
       "        vertical-align: middle;\n",
       "    }\n",
       "\n",
       "    .dataframe tbody tr th {\n",
       "        vertical-align: top;\n",
       "    }\n",
       "\n",
       "    .dataframe thead th {\n",
       "        text-align: right;\n",
       "    }\n",
       "</style>\n",
       "<table border=\"1\" class=\"dataframe\">\n",
       "  <thead>\n",
       "    <tr style=\"text-align: right;\">\n",
       "      <th></th>\n",
       "      <th>Time</th>\n",
       "      <th>AI_top</th>\n",
       "      <th>AI_middle</th>\n",
       "      <th>AI_bottom</th>\n",
       "      <th>Furnace</th>\n",
       "      <th>FIC-2101_PV_TOP_PRODUCT_MBBL/D</th>\n",
       "      <th>FIC_2102_PV_BOTTOM_PRODUCT_MBBL/D</th>\n",
       "      <th>Feed</th>\n",
       "      <th>FIC-2001_SP_TOP_REFLUX_SETPOINT_MBBL/D</th>\n",
       "      <th>FIC-2001_OP_TOP_REFLUX_OUTPUT_%</th>\n",
       "      <th>FIC_2001_PV_TOP_REFLUX_SETPOINT_MBBL/D</th>\n",
       "      <th>FIC-2002_SP_MIDDLE_PRODUCT_DRAW_SETPOINT_MBBL/D</th>\n",
       "      <th>FIC_2002_OP_MIDDLE_PRODUCT_DRAW_OUTPUT_%</th>\n",
       "      <th>FIC_2002_PVMIDDLE_PRODUCT_DRAW_MBBL/D</th>\n",
       "      <th>FIC_2004_SP_MIDDLE_REFLUX _SETPOINT_MBBL/D</th>\n",
       "      <th>FIC_2004_OP_MIDDLE_REFLUX_OUTPUT_%</th>\n",
       "      <th>Reflux_top</th>\n",
       "      <th>QI_2106_PV_MIDDLE_REFLUX_DUTY_BTU/H</th>\n",
       "      <th>TIC_2003_SP_FEED_TEMPERATURE_SETPOINT_DEGF</th>\n",
       "    </tr>\n",
       "  </thead>\n",
       "  <tbody>\n",
       "    <tr>\n",
       "      <th>0</th>\n",
       "      <td>2009-10-01 08:14:00</td>\n",
       "      <td>2.00000</td>\n",
       "      <td>3.00000</td>\n",
       "      <td>4.00000</td>\n",
       "      <td>8.50000</td>\n",
       "      <td>2.10000</td>\n",
       "      <td>1.70000</td>\n",
       "      <td>5.02153</td>\n",
       "      <td>2.5</td>\n",
       "      <td>41.5425</td>\n",
       "      <td>2.64333</td>\n",
       "      <td>1.5</td>\n",
       "      <td>39.6248</td>\n",
       "      <td>1.55033</td>\n",
       "      <td>8.0</td>\n",
       "      <td>27.0211</td>\n",
       "      <td>8.06381</td>\n",
       "      <td>2.00000</td>\n",
       "      <td>200.0</td>\n",
       "    </tr>\n",
       "    <tr>\n",
       "      <th>1</th>\n",
       "      <td>2009-10-01 08:15:00</td>\n",
       "      <td>2.00360</td>\n",
       "      <td>3.00954</td>\n",
       "      <td>3.99831</td>\n",
       "      <td>8.50735</td>\n",
       "      <td>2.09686</td>\n",
       "      <td>1.71730</td>\n",
       "      <td>4.98768</td>\n",
       "      <td>2.5</td>\n",
       "      <td>40.7619</td>\n",
       "      <td>2.51377</td>\n",
       "      <td>1.5</td>\n",
       "      <td>32.2511</td>\n",
       "      <td>1.43952</td>\n",
       "      <td>8.0</td>\n",
       "      <td>30.9622</td>\n",
       "      <td>8.02407</td>\n",
       "      <td>1.99772</td>\n",
       "      <td>200.0</td>\n",
       "    </tr>\n",
       "    <tr>\n",
       "      <th>2</th>\n",
       "      <td>2009-10-01 08:16:00</td>\n",
       "      <td>2.00870</td>\n",
       "      <td>2.99518</td>\n",
       "      <td>3.97746</td>\n",
       "      <td>8.50977</td>\n",
       "      <td>2.09280</td>\n",
       "      <td>1.72500</td>\n",
       "      <td>4.93990</td>\n",
       "      <td>2.5</td>\n",
       "      <td>39.5543</td>\n",
       "      <td>2.39550</td>\n",
       "      <td>1.5</td>\n",
       "      <td>36.5874</td>\n",
       "      <td>1.55065</td>\n",
       "      <td>8.0</td>\n",
       "      <td>33.4288</td>\n",
       "      <td>7.92434</td>\n",
       "      <td>1.99552</td>\n",
       "      <td>200.0</td>\n",
       "    </tr>\n",
       "    <tr>\n",
       "      <th>3</th>\n",
       "      <td>2009-10-01 08:17:00</td>\n",
       "      <td>2.00385</td>\n",
       "      <td>3.01356</td>\n",
       "      <td>3.97262</td>\n",
       "      <td>8.50838</td>\n",
       "      <td>2.08587</td>\n",
       "      <td>1.71878</td>\n",
       "      <td>4.93333</td>\n",
       "      <td>2.5</td>\n",
       "      <td>39.3031</td>\n",
       "      <td>2.32773</td>\n",
       "      <td>1.5</td>\n",
       "      <td>37.0797</td>\n",
       "      <td>1.50101</td>\n",
       "      <td>8.0</td>\n",
       "      <td>26.2273</td>\n",
       "      <td>8.03058</td>\n",
       "      <td>1.99483</td>\n",
       "      <td>200.0</td>\n",
       "    </tr>\n",
       "    <tr>\n",
       "      <th>4</th>\n",
       "      <td>2009-10-01 08:18:00</td>\n",
       "      <td>1.99852</td>\n",
       "      <td>3.02963</td>\n",
       "      <td>3.98841</td>\n",
       "      <td>8.50365</td>\n",
       "      <td>2.08028</td>\n",
       "      <td>1.71360</td>\n",
       "      <td>4.96880</td>\n",
       "      <td>2.5</td>\n",
       "      <td>40.1886</td>\n",
       "      <td>2.50900</td>\n",
       "      <td>1.5</td>\n",
       "      <td>33.2056</td>\n",
       "      <td>1.48210</td>\n",
       "      <td>8.0</td>\n",
       "      <td>29.6134</td>\n",
       "      <td>8.06181</td>\n",
       "      <td>1.99465</td>\n",
       "      <td>200.0</td>\n",
       "    </tr>\n",
       "  </tbody>\n",
       "</table>\n",
       "</div>"
      ],
      "text/plain": [
       "                 Time   AI_top  AI_middle  AI_bottom  Furnace  \\\n",
       "0 2009-10-01 08:14:00  2.00000    3.00000    4.00000  8.50000   \n",
       "1 2009-10-01 08:15:00  2.00360    3.00954    3.99831  8.50735   \n",
       "2 2009-10-01 08:16:00  2.00870    2.99518    3.97746  8.50977   \n",
       "3 2009-10-01 08:17:00  2.00385    3.01356    3.97262  8.50838   \n",
       "4 2009-10-01 08:18:00  1.99852    3.02963    3.98841  8.50365   \n",
       "\n",
       "   FIC-2101_PV_TOP_PRODUCT_MBBL/D  FIC_2102_PV_BOTTOM_PRODUCT_MBBL/D     Feed  \\\n",
       "0                         2.10000                            1.70000  5.02153   \n",
       "1                         2.09686                            1.71730  4.98768   \n",
       "2                         2.09280                            1.72500  4.93990   \n",
       "3                         2.08587                            1.71878  4.93333   \n",
       "4                         2.08028                            1.71360  4.96880   \n",
       "\n",
       "   FIC-2001_SP_TOP_REFLUX_SETPOINT_MBBL/D  FIC-2001_OP_TOP_REFLUX_OUTPUT_%  \\\n",
       "0                                     2.5                          41.5425   \n",
       "1                                     2.5                          40.7619   \n",
       "2                                     2.5                          39.5543   \n",
       "3                                     2.5                          39.3031   \n",
       "4                                     2.5                          40.1886   \n",
       "\n",
       "   FIC_2001_PV_TOP_REFLUX_SETPOINT_MBBL/D  \\\n",
       "0                                 2.64333   \n",
       "1                                 2.51377   \n",
       "2                                 2.39550   \n",
       "3                                 2.32773   \n",
       "4                                 2.50900   \n",
       "\n",
       "   FIC-2002_SP_MIDDLE_PRODUCT_DRAW_SETPOINT_MBBL/D  \\\n",
       "0                                              1.5   \n",
       "1                                              1.5   \n",
       "2                                              1.5   \n",
       "3                                              1.5   \n",
       "4                                              1.5   \n",
       "\n",
       "   FIC_2002_OP_MIDDLE_PRODUCT_DRAW_OUTPUT_%  \\\n",
       "0                                   39.6248   \n",
       "1                                   32.2511   \n",
       "2                                   36.5874   \n",
       "3                                   37.0797   \n",
       "4                                   33.2056   \n",
       "\n",
       "   FIC_2002_PVMIDDLE_PRODUCT_DRAW_MBBL/D  \\\n",
       "0                                1.55033   \n",
       "1                                1.43952   \n",
       "2                                1.55065   \n",
       "3                                1.50101   \n",
       "4                                1.48210   \n",
       "\n",
       "   FIC_2004_SP_MIDDLE_REFLUX _SETPOINT_MBBL/D  \\\n",
       "0                                         8.0   \n",
       "1                                         8.0   \n",
       "2                                         8.0   \n",
       "3                                         8.0   \n",
       "4                                         8.0   \n",
       "\n",
       "   FIC_2004_OP_MIDDLE_REFLUX_OUTPUT_%  Reflux_top  \\\n",
       "0                             27.0211     8.06381   \n",
       "1                             30.9622     8.02407   \n",
       "2                             33.4288     7.92434   \n",
       "3                             26.2273     8.03058   \n",
       "4                             29.6134     8.06181   \n",
       "\n",
       "   QI_2106_PV_MIDDLE_REFLUX_DUTY_BTU/H  \\\n",
       "0                              2.00000   \n",
       "1                              1.99772   \n",
       "2                              1.99552   \n",
       "3                              1.99483   \n",
       "4                              1.99465   \n",
       "\n",
       "   TIC_2003_SP_FEED_TEMPERATURE_SETPOINT_DEGF  \n",
       "0                                       200.0  \n",
       "1                                       200.0  \n",
       "2                                       200.0  \n",
       "3                                       200.0  \n",
       "4                                       200.0  "
      ]
     },
     "execution_count": 27,
     "metadata": {},
     "output_type": "execute_result"
    }
   ],
   "source": [
    "\n",
    "df.head()"
   ]
  },
  {
   "cell_type": "code",
   "execution_count": 5,
   "id": "73221b48-80dd-428a-8c01-b585710305c8",
   "metadata": {
    "tags": []
   },
   "outputs": [],
   "source": [
    "df=pd.read_csv('Fractionator.csv')"
   ]
  },
  {
   "cell_type": "code",
   "execution_count": 6,
   "id": "3d3b7d41-05b0-4d64-9b81-cc734a3395d0",
   "metadata": {
    "tags": []
   },
   "outputs": [],
   "source": [
    "df['Time']=pd.to_datetime(df['Time'])"
   ]
  },
  {
   "cell_type": "code",
   "execution_count": 7,
   "id": "8db46005-e0ea-4355-af4f-4197ebbb7ce2",
   "metadata": {
    "tags": []
   },
   "outputs": [],
   "source": [
    "df=df[(np.abs(stats.zscore(df[\"AI_2020_OVERHEAD_C5'S_MOL\"])) < 3)]"
   ]
  },
  {
   "cell_type": "code",
   "execution_count": 8,
   "id": "7596b3be-fe3b-466c-8a8c-346f5e84f8c2",
   "metadata": {
    "tags": []
   },
   "outputs": [],
   "source": [
    "df.rename(columns = {\"AI_2020_OVERHEAD_C5'S_MOL\":\"AI_top\",\"AI_2021_MIDDLE_C7'S_MOL\":\"AI_middle\",\"AI_2022_BOTTOM_C3'S_MOL\":\"AI_bottom\",\n",
    "                          'FIC_2100_PV_FEED_FURNACE_FUEL_SCFH':'Furnace' ,'FIC_2004_PV_TOP_REFLUX_MBBL/D':'Reflux_top',\n",
    "                    'FI-2005_PV_FEED_FLOW_MBBL/D':'Feed'\n",
    " }, inplace = True)"
   ]
  },
  {
   "cell_type": "code",
   "execution_count": 17,
   "id": "658bb572-6e13-4b0b-9b65-2ba9e06e929c",
   "metadata": {
    "tags": []
   },
   "outputs": [],
   "source": [
    "df_Reg=df[['Furnace','AI_top','AI_middle','AI_bottom',]]"
   ]
  },
  {
   "cell_type": "code",
   "execution_count": 18,
   "id": "c2ed8ed3-cadd-49de-988c-445e5c004071",
   "metadata": {
    "tags": []
   },
   "outputs": [
    {
     "data": {
      "text/html": [
       "<div>\n",
       "<style scoped>\n",
       "    .dataframe tbody tr th:only-of-type {\n",
       "        vertical-align: middle;\n",
       "    }\n",
       "\n",
       "    .dataframe tbody tr th {\n",
       "        vertical-align: top;\n",
       "    }\n",
       "\n",
       "    .dataframe thead th {\n",
       "        text-align: right;\n",
       "    }\n",
       "</style>\n",
       "<table border=\"1\" class=\"dataframe\">\n",
       "  <thead>\n",
       "    <tr style=\"text-align: right;\">\n",
       "      <th></th>\n",
       "      <th>Furnace</th>\n",
       "      <th>AI_top</th>\n",
       "      <th>AI_middle</th>\n",
       "      <th>AI_bottom</th>\n",
       "    </tr>\n",
       "  </thead>\n",
       "  <tbody>\n",
       "    <tr>\n",
       "      <th>0</th>\n",
       "      <td>8.50000</td>\n",
       "      <td>2.00000</td>\n",
       "      <td>3.00000</td>\n",
       "      <td>4.00000</td>\n",
       "    </tr>\n",
       "    <tr>\n",
       "      <th>1</th>\n",
       "      <td>8.50735</td>\n",
       "      <td>2.00360</td>\n",
       "      <td>3.00954</td>\n",
       "      <td>3.99831</td>\n",
       "    </tr>\n",
       "    <tr>\n",
       "      <th>2</th>\n",
       "      <td>8.50977</td>\n",
       "      <td>2.00870</td>\n",
       "      <td>2.99518</td>\n",
       "      <td>3.97746</td>\n",
       "    </tr>\n",
       "    <tr>\n",
       "      <th>3</th>\n",
       "      <td>8.50838</td>\n",
       "      <td>2.00385</td>\n",
       "      <td>3.01356</td>\n",
       "      <td>3.97262</td>\n",
       "    </tr>\n",
       "    <tr>\n",
       "      <th>4</th>\n",
       "      <td>8.50365</td>\n",
       "      <td>1.99852</td>\n",
       "      <td>3.02963</td>\n",
       "      <td>3.98841</td>\n",
       "    </tr>\n",
       "  </tbody>\n",
       "</table>\n",
       "</div>"
      ],
      "text/plain": [
       "   Furnace   AI_top  AI_middle  AI_bottom\n",
       "0  8.50000  2.00000    3.00000    4.00000\n",
       "1  8.50735  2.00360    3.00954    3.99831\n",
       "2  8.50977  2.00870    2.99518    3.97746\n",
       "3  8.50838  2.00385    3.01356    3.97262\n",
       "4  8.50365  1.99852    3.02963    3.98841"
      ]
     },
     "execution_count": 18,
     "metadata": {},
     "output_type": "execute_result"
    }
   ],
   "source": [
    "df_Reg.head()"
   ]
  },
  {
   "cell_type": "code",
   "execution_count": 19,
   "id": "6adf6f78-60d3-4222-bd26-b96581b66406",
   "metadata": {
    "tags": []
   },
   "outputs": [
    {
     "data": {
      "text/html": [
       "<div>\n",
       "<style scoped>\n",
       "    .dataframe tbody tr th:only-of-type {\n",
       "        vertical-align: middle;\n",
       "    }\n",
       "\n",
       "    .dataframe tbody tr th {\n",
       "        vertical-align: top;\n",
       "    }\n",
       "\n",
       "    .dataframe thead th {\n",
       "        text-align: right;\n",
       "    }\n",
       "</style>\n",
       "<table border=\"1\" class=\"dataframe\">\n",
       "  <thead>\n",
       "    <tr style=\"text-align: right;\">\n",
       "      <th></th>\n",
       "      <th>Furnace</th>\n",
       "      <th>AI_top</th>\n",
       "      <th>AI_middle</th>\n",
       "      <th>AI_bottom</th>\n",
       "    </tr>\n",
       "  </thead>\n",
       "  <tbody>\n",
       "    <tr>\n",
       "      <th>count</th>\n",
       "      <td>5729.000000</td>\n",
       "      <td>5729.000000</td>\n",
       "      <td>5729.000000</td>\n",
       "      <td>5729.000000</td>\n",
       "    </tr>\n",
       "    <tr>\n",
       "      <th>mean</th>\n",
       "      <td>9.041685</td>\n",
       "      <td>2.129367</td>\n",
       "      <td>3.352078</td>\n",
       "      <td>3.965614</td>\n",
       "    </tr>\n",
       "    <tr>\n",
       "      <th>std</th>\n",
       "      <td>0.535607</td>\n",
       "      <td>0.439436</td>\n",
       "      <td>0.233710</td>\n",
       "      <td>0.360089</td>\n",
       "    </tr>\n",
       "    <tr>\n",
       "      <th>min</th>\n",
       "      <td>7.999970</td>\n",
       "      <td>0.840555</td>\n",
       "      <td>2.820780</td>\n",
       "      <td>3.067540</td>\n",
       "    </tr>\n",
       "    <tr>\n",
       "      <th>25%</th>\n",
       "      <td>8.568900</td>\n",
       "      <td>1.831880</td>\n",
       "      <td>3.174090</td>\n",
       "      <td>3.773500</td>\n",
       "    </tr>\n",
       "    <tr>\n",
       "      <th>50%</th>\n",
       "      <td>9.010910</td>\n",
       "      <td>2.120570</td>\n",
       "      <td>3.306720</td>\n",
       "      <td>4.013200</td>\n",
       "    </tr>\n",
       "    <tr>\n",
       "      <th>75%</th>\n",
       "      <td>9.415850</td>\n",
       "      <td>2.439360</td>\n",
       "      <td>3.520840</td>\n",
       "      <td>4.213050</td>\n",
       "    </tr>\n",
       "    <tr>\n",
       "      <th>max</th>\n",
       "      <td>10.611500</td>\n",
       "      <td>3.297840</td>\n",
       "      <td>3.930950</td>\n",
       "      <td>4.856360</td>\n",
       "    </tr>\n",
       "  </tbody>\n",
       "</table>\n",
       "</div>"
      ],
      "text/plain": [
       "           Furnace       AI_top    AI_middle    AI_bottom\n",
       "count  5729.000000  5729.000000  5729.000000  5729.000000\n",
       "mean      9.041685     2.129367     3.352078     3.965614\n",
       "std       0.535607     0.439436     0.233710     0.360089\n",
       "min       7.999970     0.840555     2.820780     3.067540\n",
       "25%       8.568900     1.831880     3.174090     3.773500\n",
       "50%       9.010910     2.120570     3.306720     4.013200\n",
       "75%       9.415850     2.439360     3.520840     4.213050\n",
       "max      10.611500     3.297840     3.930950     4.856360"
      ]
     },
     "execution_count": 19,
     "metadata": {},
     "output_type": "execute_result"
    }
   ],
   "source": [
    "df_Reg.describe()"
   ]
  },
  {
   "cell_type": "code",
   "execution_count": 20,
   "id": "610043ae-16f5-4f0e-a7fa-3bcef6d60b40",
   "metadata": {
    "tags": []
   },
   "outputs": [
    {
     "data": {
      "text/plain": [
       "Furnace      0\n",
       "AI_top       0\n",
       "AI_middle    0\n",
       "AI_bottom    0\n",
       "dtype: int64"
      ]
     },
     "execution_count": 20,
     "metadata": {},
     "output_type": "execute_result"
    }
   ],
   "source": [
    "df_Reg.isnull().sum()"
   ]
  },
  {
   "cell_type": "code",
   "execution_count": 21,
   "id": "9b12bad3-ec36-4d66-bb31-e30858dc59d7",
   "metadata": {
    "tags": []
   },
   "outputs": [
    {
     "data": {
      "text/html": [
       "<div>\n",
       "<style scoped>\n",
       "    .dataframe tbody tr th:only-of-type {\n",
       "        vertical-align: middle;\n",
       "    }\n",
       "\n",
       "    .dataframe tbody tr th {\n",
       "        vertical-align: top;\n",
       "    }\n",
       "\n",
       "    .dataframe thead th {\n",
       "        text-align: right;\n",
       "    }\n",
       "</style>\n",
       "<table border=\"1\" class=\"dataframe\">\n",
       "  <thead>\n",
       "    <tr style=\"text-align: right;\">\n",
       "      <th></th>\n",
       "      <th>Furnace</th>\n",
       "      <th>AI_top</th>\n",
       "      <th>AI_middle</th>\n",
       "      <th>AI_bottom</th>\n",
       "    </tr>\n",
       "  </thead>\n",
       "  <tbody>\n",
       "    <tr>\n",
       "      <th>Furnace</th>\n",
       "      <td>1.000000</td>\n",
       "      <td>0.407673</td>\n",
       "      <td>0.171360</td>\n",
       "      <td>-0.687598</td>\n",
       "    </tr>\n",
       "    <tr>\n",
       "      <th>AI_top</th>\n",
       "      <td>0.407673</td>\n",
       "      <td>1.000000</td>\n",
       "      <td>0.538482</td>\n",
       "      <td>-0.553021</td>\n",
       "    </tr>\n",
       "    <tr>\n",
       "      <th>AI_middle</th>\n",
       "      <td>0.171360</td>\n",
       "      <td>0.538482</td>\n",
       "      <td>1.000000</td>\n",
       "      <td>-0.457908</td>\n",
       "    </tr>\n",
       "    <tr>\n",
       "      <th>AI_bottom</th>\n",
       "      <td>-0.687598</td>\n",
       "      <td>-0.553021</td>\n",
       "      <td>-0.457908</td>\n",
       "      <td>1.000000</td>\n",
       "    </tr>\n",
       "  </tbody>\n",
       "</table>\n",
       "</div>"
      ],
      "text/plain": [
       "            Furnace    AI_top  AI_middle  AI_bottom\n",
       "Furnace    1.000000  0.407673   0.171360  -0.687598\n",
       "AI_top     0.407673  1.000000   0.538482  -0.553021\n",
       "AI_middle  0.171360  0.538482   1.000000  -0.457908\n",
       "AI_bottom -0.687598 -0.553021  -0.457908   1.000000"
      ]
     },
     "execution_count": 21,
     "metadata": {},
     "output_type": "execute_result"
    }
   ],
   "source": [
    "df_Reg.corr()"
   ]
  },
  {
   "cell_type": "code",
   "execution_count": 22,
   "id": "42ea75c9-9cd6-45f0-8a93-dba388ea24f4",
   "metadata": {
    "tags": []
   },
   "outputs": [],
   "source": [
    "X=df_Reg.iloc[:,1:].values\n",
    "y=df_Reg.iloc[:,0].values"
   ]
  },
  {
   "cell_type": "code",
   "execution_count": 24,
   "id": "3a15a026-834f-4084-86dd-e17e9d03b00f",
   "metadata": {
    "tags": []
   },
   "outputs": [
    {
     "data": {
      "text/plain": [
       "8.5"
      ]
     },
     "execution_count": 24,
     "metadata": {},
     "output_type": "execute_result"
    }
   ],
   "source": [
    "y[0]"
   ]
  },
  {
   "cell_type": "code",
   "execution_count": 16,
   "id": "2aebaa63-812b-4921-b715-df56353659f0",
   "metadata": {
    "tags": []
   },
   "outputs": [
    {
     "data": {
      "text/plain": [
       "(5729, 4)"
      ]
     },
     "execution_count": 16,
     "metadata": {},
     "output_type": "execute_result"
    }
   ],
   "source": [
    "df_np=df_Reg.to_numpy()\n",
    "df_np.shape"
   ]
  },
  {
   "cell_type": "code",
   "execution_count": 17,
   "id": "a61bc6bd-540e-40ab-bc40-dd20148aad40",
   "metadata": {
    "tags": []
   },
   "outputs": [
    {
     "data": {
      "text/plain": [
       "((5729,), (5729, 3))"
      ]
     },
     "execution_count": 17,
     "metadata": {},
     "output_type": "execute_result"
    }
   ],
   "source": [
    "target=df_np[:,0]\n",
    "feature=df_np[:,1:]\n",
    "target.shape,feature.shape"
   ]
  },
  {
   "cell_type": "code",
   "execution_count": 63,
   "id": "e4941595-92cb-4a2d-9cb1-18bcd97ff80d",
   "metadata": {
    "tags": []
   },
   "outputs": [
    {
     "data": {
      "text/plain": [
       "0       2.63081\n",
       "1       2.36694\n",
       "2       1.51664\n",
       "3       2.06310\n",
       "4       1.67002\n",
       "         ...   \n",
       "3833    2.78767\n",
       "3834    2.41280\n",
       "3835    2.57112\n",
       "3836    2.44902\n",
       "3837    2.21223\n",
       "Name: 0, Length: 3838, dtype: float64"
      ]
     },
     "execution_count": 63,
     "metadata": {},
     "output_type": "execute_result"
    }
   ],
   "source": [
    "train_data[0]"
   ]
  },
  {
   "cell_type": "code",
   "execution_count": 25,
   "id": "5150da97-cbea-44fd-a692-208ff46be488",
   "metadata": {
    "tags": []
   },
   "outputs": [],
   "source": [
    "X_train, X_test, y_train, y_test = train_test_split(X, y, test_size=0.33, random_state=42)"
   ]
  },
  {
   "cell_type": "code",
   "execution_count": 26,
   "id": "f6c9388a-529b-4969-b45a-544411c312c6",
   "metadata": {
    "tags": []
   },
   "outputs": [],
   "source": [
    "X_val, X_test, y_val, y_test = train_test_split(X_test, y_test, test_size=0.5, random_state=42)"
   ]
  },
  {
   "cell_type": "code",
   "execution_count": 28,
   "id": "6719a6ed-9cb7-4a71-91b6-92e4833184b8",
   "metadata": {
    "tags": []
   },
   "outputs": [
    {
     "data": {
      "text/plain": [
       "9.63946"
      ]
     },
     "execution_count": 28,
     "metadata": {},
     "output_type": "execute_result"
    }
   ],
   "source": [
    "y_train[0]"
   ]
  },
  {
   "cell_type": "code",
   "execution_count": 29,
   "id": "1e9f7678-94fa-4cf6-987f-6c1ab547b119",
   "metadata": {
    "tags": []
   },
   "outputs": [],
   "source": [
    "train_data = np.concatenate((y_train.reshape(-1,1), X_train), axis=1)\n",
    "test_data = np.concatenate((y_test.reshape(-1,1), X_test), axis=1)\n",
    "val_data = np.concatenate((y_val.reshape(-1,1), X_val), axis=1)"
   ]
  },
  {
   "cell_type": "code",
   "execution_count": 31,
   "id": "40880568-9e92-430f-b9fb-7ea246c71ee3",
   "metadata": {
    "tags": []
   },
   "outputs": [
    {
     "data": {
      "text/plain": [
       "array([9.63946, 2.63081, 3.44818, 3.23914])"
      ]
     },
     "execution_count": 31,
     "metadata": {},
     "output_type": "execute_result"
    }
   ],
   "source": [
    "train_data[0]"
   ]
  },
  {
   "cell_type": "code",
   "execution_count": 32,
   "id": "c2180cbb-52af-4b3d-bfcf-2a58c9af2a78",
   "metadata": {
    "tags": []
   },
   "outputs": [],
   "source": [
    "train_data=pd.DataFrame(train_data, index=None,)\n",
    "test_data=pd.DataFrame(test_data, index=None,)\n",
    "val_data=pd.DataFrame(val_data, index=None, )"
   ]
  },
  {
   "cell_type": "code",
   "execution_count": 38,
   "id": "d83a9a4f-cfd2-4390-a74a-3fe297f8019a",
   "metadata": {},
   "outputs": [
    {
     "name": "stdout",
     "output_type": "stream",
     "text": [
      "s3://fractionatordatalstm/control_furnace/train/train.csv\n",
      "s3://fractionatordatalstm/control_furnace/val/val.csv\n",
      "s3://fractionatordatalstm/control_furnace/test/test.csv\n"
     ]
    }
   ],
   "source": [
    "import os\n",
    "prefix=\"control_furnace\"\n",
    "train_csv_path='s3://{}/{}/{}/{}'.format(bucket_name,prefix,'train','train.csv')\n",
    "val_csv_path='s3://{}/{}/{}/{}'.format(bucket_name,prefix,'val','val.csv')\n",
    "test_csv_path='s3://{}/{}/{}/{}'.format(bucket_name,prefix,'test','test.csv')\n",
    "print(train_csv_path)\n",
    "print(val_csv_path)\n",
    "print(test_csv_path)\n"
   ]
  },
  {
   "cell_type": "code",
   "execution_count": 39,
   "id": "a825c4a9-3aee-4f26-95f1-b527437e1a44",
   "metadata": {},
   "outputs": [],
   "source": [
    "train_data.to_csv(train_csv_path,index=False,header=False)\n",
    "val_data.to_csv(val_csv_path,index=False,header=False)\n",
    "test_data.to_csv(test_csv_path,index=False,header=False)\n"
   ]
  },
  {
   "cell_type": "code",
   "execution_count": 40,
   "id": "dd7f47c0-686d-4ea6-b4a9-1d8651da9dae",
   "metadata": {},
   "outputs": [
    {
     "name": "stdout",
     "output_type": "stream",
     "text": [
      "s3://fractionatordatalstm/control_furnace/output/\n"
     ]
    }
   ],
   "source": [
    "output_path=\"s3://{}/{}/{}/\".format(bucket_name,prefix,'output')\n",
    "print(output_path)"
   ]
  },
  {
   "cell_type": "code",
   "execution_count": 41,
   "id": "27c58e94-aed9-4b8e-9b76-4f6c0b884772",
   "metadata": {},
   "outputs": [],
   "source": [
    "content_type=\"csv\"\n",
    "train_input=TrainingInput(\"s3://{}/{}/{}/\".format(bucket_name,prefix,'train',content_type=content_type))\n",
    "val_input=TrainingInput(\"s3://{}/{}/{}/\".format(bucket_name,prefix,'val',content_type=content_type))\n",
    "test_input=TrainingInput(\"s3://{}/{}/{}/\".format(bucket_name,prefix,'test',content_type=content_type))"
   ]
  },
  {
   "cell_type": "code",
   "execution_count": 55,
   "id": "0c24acbf-90b6-4807-af69-fc8c32022fb6",
   "metadata": {},
   "outputs": [],
   "source": [
    "test_df=pd.read_csv(\"test.csv\")\n",
    "train_df=pd.read_csv(\"train.csv\")"
   ]
  },
  {
   "cell_type": "code",
   "execution_count": 56,
   "id": "db4a3c09-7184-46c0-a166-6820e1442e6b",
   "metadata": {},
   "outputs": [
    {
     "data": {
      "text/html": [
       "<div>\n",
       "<style scoped>\n",
       "    .dataframe tbody tr th:only-of-type {\n",
       "        vertical-align: middle;\n",
       "    }\n",
       "\n",
       "    .dataframe tbody tr th {\n",
       "        vertical-align: top;\n",
       "    }\n",
       "\n",
       "    .dataframe thead th {\n",
       "        text-align: right;\n",
       "    }\n",
       "</style>\n",
       "<table border=\"1\" class=\"dataframe\">\n",
       "  <thead>\n",
       "    <tr style=\"text-align: right;\">\n",
       "      <th></th>\n",
       "      <th>9.23188</th>\n",
       "      <th>2.0362</th>\n",
       "      <th>3.38643</th>\n",
       "      <th>3.89379</th>\n",
       "    </tr>\n",
       "  </thead>\n",
       "  <tbody>\n",
       "    <tr>\n",
       "      <th>0</th>\n",
       "      <td>8.83145</td>\n",
       "      <td>1.87453</td>\n",
       "      <td>3.45013</td>\n",
       "      <td>3.90349</td>\n",
       "    </tr>\n",
       "    <tr>\n",
       "      <th>1</th>\n",
       "      <td>9.11514</td>\n",
       "      <td>2.09413</td>\n",
       "      <td>3.68392</td>\n",
       "      <td>3.99708</td>\n",
       "    </tr>\n",
       "    <tr>\n",
       "      <th>2</th>\n",
       "      <td>8.61245</td>\n",
       "      <td>2.47046</td>\n",
       "      <td>3.66139</td>\n",
       "      <td>4.21000</td>\n",
       "    </tr>\n",
       "    <tr>\n",
       "      <th>3</th>\n",
       "      <td>8.20437</td>\n",
       "      <td>2.35434</td>\n",
       "      <td>3.36145</td>\n",
       "      <td>3.96043</td>\n",
       "    </tr>\n",
       "    <tr>\n",
       "      <th>4</th>\n",
       "      <td>8.48909</td>\n",
       "      <td>1.77156</td>\n",
       "      <td>3.12398</td>\n",
       "      <td>4.43154</td>\n",
       "    </tr>\n",
       "  </tbody>\n",
       "</table>\n",
       "</div>"
      ],
      "text/plain": [
       "   9.23188   2.0362  3.38643  3.89379\n",
       "0  8.83145  1.87453  3.45013  3.90349\n",
       "1  9.11514  2.09413  3.68392  3.99708\n",
       "2  8.61245  2.47046  3.66139  4.21000\n",
       "3  8.20437  2.35434  3.36145  3.96043\n",
       "4  8.48909  1.77156  3.12398  4.43154"
      ]
     },
     "execution_count": 56,
     "metadata": {},
     "output_type": "execute_result"
    }
   ],
   "source": [
    "test_df.head()"
   ]
  },
  {
   "cell_type": "code",
   "execution_count": 46,
   "id": "c8b61e3a-426a-4cee-8e11-d9e447993da1",
   "metadata": {},
   "outputs": [
    {
     "data": {
      "text/html": [
       "<div>\n",
       "<style scoped>\n",
       "    .dataframe tbody tr th:only-of-type {\n",
       "        vertical-align: middle;\n",
       "    }\n",
       "\n",
       "    .dataframe tbody tr th {\n",
       "        vertical-align: top;\n",
       "    }\n",
       "\n",
       "    .dataframe thead th {\n",
       "        text-align: right;\n",
       "    }\n",
       "</style>\n",
       "<table border=\"1\" class=\"dataframe\">\n",
       "  <thead>\n",
       "    <tr style=\"text-align: right;\">\n",
       "      <th></th>\n",
       "      <th>9.63946</th>\n",
       "      <th>2.63081</th>\n",
       "      <th>3.44818</th>\n",
       "      <th>3.23914</th>\n",
       "    </tr>\n",
       "  </thead>\n",
       "  <tbody>\n",
       "    <tr>\n",
       "      <th>0</th>\n",
       "      <td>9.91781</td>\n",
       "      <td>2.36694</td>\n",
       "      <td>3.36823</td>\n",
       "      <td>3.80285</td>\n",
       "    </tr>\n",
       "    <tr>\n",
       "      <th>1</th>\n",
       "      <td>9.04111</td>\n",
       "      <td>1.51664</td>\n",
       "      <td>3.13586</td>\n",
       "      <td>3.97599</td>\n",
       "    </tr>\n",
       "    <tr>\n",
       "      <th>2</th>\n",
       "      <td>9.87153</td>\n",
       "      <td>2.06310</td>\n",
       "      <td>3.04215</td>\n",
       "      <td>3.79857</td>\n",
       "    </tr>\n",
       "    <tr>\n",
       "      <th>3</th>\n",
       "      <td>9.68077</td>\n",
       "      <td>1.67002</td>\n",
       "      <td>3.07148</td>\n",
       "      <td>4.19419</td>\n",
       "    </tr>\n",
       "    <tr>\n",
       "      <th>4</th>\n",
       "      <td>8.61546</td>\n",
       "      <td>2.46116</td>\n",
       "      <td>3.86426</td>\n",
       "      <td>3.77654</td>\n",
       "    </tr>\n",
       "  </tbody>\n",
       "</table>\n",
       "</div>"
      ],
      "text/plain": [
       "   9.63946  2.63081  3.44818  3.23914\n",
       "0  9.91781  2.36694  3.36823  3.80285\n",
       "1  9.04111  1.51664  3.13586  3.97599\n",
       "2  9.87153  2.06310  3.04215  3.79857\n",
       "3  9.68077  1.67002  3.07148  4.19419\n",
       "4  8.61546  2.46116  3.86426  3.77654"
      ]
     },
     "execution_count": 46,
     "metadata": {},
     "output_type": "execute_result"
    }
   ],
   "source": [
    "train_df.head()"
   ]
  },
  {
   "cell_type": "code",
   "execution_count": 47,
   "id": "95b865f3-b83d-4ae1-aa1f-06c4c5718c9e",
   "metadata": {},
   "outputs": [],
   "source": [
    "import sagemaker\n",
    "from sagemaker import image_uris\n",
    "from sagemaker.session import Session\n",
    "from sagemaker.inputs import TrainingInput"
   ]
  },
  {
   "cell_type": "code",
   "execution_count": 25,
   "id": "0eccf52c-ce14-4505-9ca7-74477142bd32",
   "metadata": {
    "collapsed": true,
    "jupyter": {
     "outputs_hidden": true,
     "source_hidden": true
    },
    "tags": []
   },
   "outputs": [
    {
     "ename": "TypeError",
     "evalue": "'int' object is not callable",
     "output_type": "error",
     "traceback": [
      "\u001b[0;31m---------------------------------------------------------------------------\u001b[0m",
      "\u001b[0;31mTypeError\u001b[0m                                 Traceback (most recent call last)",
      "\u001b[0;32m<ipython-input-25-9afbbd64623b>\u001b[0m in \u001b[0;36m<module>\u001b[0;34m\u001b[0m\n\u001b[1;32m     36\u001b[0m \u001b[0;34m\u001b[0m\u001b[0m\n\u001b[1;32m     37\u001b[0m \u001b[0;31m# Define PyTorch data loaders\u001b[0m\u001b[0;34m\u001b[0m\u001b[0;34m\u001b[0m\u001b[0;34m\u001b[0m\u001b[0m\n\u001b[0;32m---> 38\u001b[0;31m \u001b[0mtrain_dataset\u001b[0m \u001b[0;34m=\u001b[0m \u001b[0mTensorDataset\u001b[0m\u001b[0;34m(\u001b[0m\u001b[0mX_train\u001b[0m\u001b[0;34m,\u001b[0m \u001b[0my_train\u001b[0m\u001b[0;34m)\u001b[0m\u001b[0;34m\u001b[0m\u001b[0;34m\u001b[0m\u001b[0m\n\u001b[0m\u001b[1;32m     39\u001b[0m \u001b[0mtrain_loader\u001b[0m \u001b[0;34m=\u001b[0m \u001b[0mDataLoader\u001b[0m\u001b[0;34m(\u001b[0m\u001b[0mtrain_dataset\u001b[0m\u001b[0;34m,\u001b[0m \u001b[0mbatch_size\u001b[0m\u001b[0;34m=\u001b[0m\u001b[0;36m32\u001b[0m\u001b[0;34m,\u001b[0m \u001b[0mshuffle\u001b[0m\u001b[0;34m=\u001b[0m\u001b[0;32mTrue\u001b[0m\u001b[0;34m)\u001b[0m\u001b[0;34m\u001b[0m\u001b[0;34m\u001b[0m\u001b[0m\n\u001b[1;32m     40\u001b[0m \u001b[0mval_dataset\u001b[0m \u001b[0;34m=\u001b[0m \u001b[0mTensorDataset\u001b[0m\u001b[0;34m(\u001b[0m\u001b[0mX_val\u001b[0m\u001b[0;34m,\u001b[0m \u001b[0my_val\u001b[0m\u001b[0;34m)\u001b[0m\u001b[0;34m\u001b[0m\u001b[0;34m\u001b[0m\u001b[0m\n",
      "\u001b[0;32m/opt/conda/lib/python3.6/site-packages/torch/utils/data/dataset.py\u001b[0m in \u001b[0;36m__init__\u001b[0;34m(self, *tensors)\u001b[0m\n\u001b[1;32m    165\u001b[0m \u001b[0;34m\u001b[0m\u001b[0m\n\u001b[1;32m    166\u001b[0m     \u001b[0;32mdef\u001b[0m \u001b[0m__init__\u001b[0m\u001b[0;34m(\u001b[0m\u001b[0mself\u001b[0m\u001b[0;34m,\u001b[0m \u001b[0;34m*\u001b[0m\u001b[0mtensors\u001b[0m\u001b[0;34m:\u001b[0m \u001b[0mTensor\u001b[0m\u001b[0;34m)\u001b[0m \u001b[0;34m->\u001b[0m \u001b[0;32mNone\u001b[0m\u001b[0;34m:\u001b[0m\u001b[0;34m\u001b[0m\u001b[0;34m\u001b[0m\u001b[0m\n\u001b[0;32m--> 167\u001b[0;31m         \u001b[0;32massert\u001b[0m \u001b[0mall\u001b[0m\u001b[0;34m(\u001b[0m\u001b[0mtensors\u001b[0m\u001b[0;34m[\u001b[0m\u001b[0;36m0\u001b[0m\u001b[0;34m]\u001b[0m\u001b[0;34m.\u001b[0m\u001b[0msize\u001b[0m\u001b[0;34m(\u001b[0m\u001b[0;36m0\u001b[0m\u001b[0;34m)\u001b[0m \u001b[0;34m==\u001b[0m \u001b[0mtensor\u001b[0m\u001b[0;34m.\u001b[0m\u001b[0msize\u001b[0m\u001b[0;34m(\u001b[0m\u001b[0;36m0\u001b[0m\u001b[0;34m)\u001b[0m \u001b[0;32mfor\u001b[0m \u001b[0mtensor\u001b[0m \u001b[0;32min\u001b[0m \u001b[0mtensors\u001b[0m\u001b[0;34m)\u001b[0m\u001b[0;34m,\u001b[0m \u001b[0;34m\"Size mismatch between tensors\"\u001b[0m\u001b[0;34m\u001b[0m\u001b[0;34m\u001b[0m\u001b[0m\n\u001b[0m\u001b[1;32m    168\u001b[0m         \u001b[0mself\u001b[0m\u001b[0;34m.\u001b[0m\u001b[0mtensors\u001b[0m \u001b[0;34m=\u001b[0m \u001b[0mtensors\u001b[0m\u001b[0;34m\u001b[0m\u001b[0;34m\u001b[0m\u001b[0m\n\u001b[1;32m    169\u001b[0m \u001b[0;34m\u001b[0m\u001b[0m\n",
      "\u001b[0;32m/opt/conda/lib/python3.6/site-packages/torch/utils/data/dataset.py\u001b[0m in \u001b[0;36m<genexpr>\u001b[0;34m(.0)\u001b[0m\n\u001b[1;32m    165\u001b[0m \u001b[0;34m\u001b[0m\u001b[0m\n\u001b[1;32m    166\u001b[0m     \u001b[0;32mdef\u001b[0m \u001b[0m__init__\u001b[0m\u001b[0;34m(\u001b[0m\u001b[0mself\u001b[0m\u001b[0;34m,\u001b[0m \u001b[0;34m*\u001b[0m\u001b[0mtensors\u001b[0m\u001b[0;34m:\u001b[0m \u001b[0mTensor\u001b[0m\u001b[0;34m)\u001b[0m \u001b[0;34m->\u001b[0m \u001b[0;32mNone\u001b[0m\u001b[0;34m:\u001b[0m\u001b[0;34m\u001b[0m\u001b[0;34m\u001b[0m\u001b[0m\n\u001b[0;32m--> 167\u001b[0;31m         \u001b[0;32massert\u001b[0m \u001b[0mall\u001b[0m\u001b[0;34m(\u001b[0m\u001b[0mtensors\u001b[0m\u001b[0;34m[\u001b[0m\u001b[0;36m0\u001b[0m\u001b[0;34m]\u001b[0m\u001b[0;34m.\u001b[0m\u001b[0msize\u001b[0m\u001b[0;34m(\u001b[0m\u001b[0;36m0\u001b[0m\u001b[0;34m)\u001b[0m \u001b[0;34m==\u001b[0m \u001b[0mtensor\u001b[0m\u001b[0;34m.\u001b[0m\u001b[0msize\u001b[0m\u001b[0;34m(\u001b[0m\u001b[0;36m0\u001b[0m\u001b[0;34m)\u001b[0m \u001b[0;32mfor\u001b[0m \u001b[0mtensor\u001b[0m \u001b[0;32min\u001b[0m \u001b[0mtensors\u001b[0m\u001b[0;34m)\u001b[0m\u001b[0;34m,\u001b[0m \u001b[0;34m\"Size mismatch between tensors\"\u001b[0m\u001b[0;34m\u001b[0m\u001b[0;34m\u001b[0m\u001b[0m\n\u001b[0m\u001b[1;32m    168\u001b[0m         \u001b[0mself\u001b[0m\u001b[0;34m.\u001b[0m\u001b[0mtensors\u001b[0m \u001b[0;34m=\u001b[0m \u001b[0mtensors\u001b[0m\u001b[0;34m\u001b[0m\u001b[0;34m\u001b[0m\u001b[0m\n\u001b[1;32m    169\u001b[0m \u001b[0;34m\u001b[0m\u001b[0m\n",
      "\u001b[0;31mTypeError\u001b[0m: 'int' object is not callable"
     ]
    }
   ],
   "source": [
    "import torch\n",
    "import torch.nn as nn\n",
    "from torch.utils.data import DataLoader, TensorDataset\n",
    "from torch.optim import Adam\n",
    "\n",
    "# Load data\n",
    "data = df_np\n",
    "\n",
    "# Define input and output sequences\n",
    "X = df_np[:, :-1]\n",
    "y = df_np[:, -1]\n",
    "\n",
    "# Split data into training and validation sets\n",
    "split_ratio = 0.8\n",
    "split_index = int(len(X) * split_ratio)\n",
    "X_train, y_train = X[:split_index], y[:split_index]\n",
    "X_val, y_val = X[split_index:], y[split_index:]\n",
    "\n",
    "# Define PyTorch model\n",
    "class LSTMRegressor(nn.Module):\n",
    "    def __init__(self, input_size, hidden_size, num_layers, output_size):\n",
    "        super().__init__()\n",
    "        self.lstm = nn.LSTM(input_size, hidden_size, num_layers, batch_first=True)\n",
    "        self.fc = nn.Linear(hidden_size, output_size)\n",
    "\n",
    "    def forward(self, x):\n",
    "        out, _ = self.lstm(x)\n",
    "        out = self.fc(out[:, -1, :])\n",
    "        return out\n",
    "\n",
    "model = LSTMRegressor(input_size=3, hidden_size=64, num_layers=1, output_size=1)\n",
    "\n",
    "# Define loss function and optimizer\n",
    "criterion = nn.MSELoss()\n",
    "optimizer = Adam(model.parameters(), lr=0.001)\n",
    "\n",
    "# Define PyTorch data loaders\n",
    "train_dataset = TensorDataset(X_train, y_train)\n",
    "train_loader = DataLoader(train_dataset, batch_size=32, shuffle=True)\n",
    "val_dataset = TensorDataset(X_val, y_val)\n",
    "val_loader = DataLoader(val_dataset, batch_size=32, shuffle=False)\n",
    "\n"
   ]
  },
  {
   "cell_type": "code",
   "execution_count": null,
   "id": "8d76a4fe-2aae-4080-9f7d-a8a923820d6f",
   "metadata": {
    "jupyter": {
     "source_hidden": true
    },
    "tags": []
   },
   "outputs": [],
   "source": [
    "# Train PyTorch model\n",
    "num_epochs = 50\n",
    "for epoch in range(num_epochs):\n",
    "    for i, (inputs, labels) in enumerate(train_loader):\n",
    "        optimizer.zero_grad()\n",
    "        outputs = model(inputs)\n",
    "        loss = criterion(outputs.squeeze(), labels)\n",
    "        loss.backward()\n",
    "        optimizer.step()\n",
    "\n",
    "    with torch.no_grad():\n",
    "        val_loss = 0\n",
    "        for inputs, labels in val_loader:\n",
    "            outputs = model(inputs)\n",
    "            val_loss += criterion(outputs.squeeze(), labels)\n",
    "        val_loss /= len(val_loader)\n",
    "\n",
    "    print(f'Epoch {epoch+1}/{num_epochs}: train loss={loss.item():.4f}, val loss={val_loss.item():.4f}')\n",
    "\n",
    "# Save model\n",
    "torch.save(model.state_dict(), 'lstm_regression_model.pt')"
   ]
  },
  {
   "cell_type": "code",
   "execution_count": 48,
   "id": "eb96bf76-e10e-4792-aad4-62364fb9628d",
   "metadata": {},
   "outputs": [],
   "source": [
    "#Here, we use the execution role associated with the current notebook instance\n",
    "#as the AWS account role with SageMaker access. It has necessary permissions, including access to your data in S3.\n",
    "\n",
    "import sagemaker, boto3, json\n",
    "from sagemaker import get_execution_role\n",
    "\n",
    "aws_role = get_execution_role()\n",
    "aws_region = boto3.Session().region_name\n",
    "sess = sagemaker.Session()"
   ]
  },
  {
   "cell_type": "markdown",
   "id": "3466790e-6e88-454e-983c-58b6fdd00ba3",
   "metadata": {
    "jupyter": {
     "source_hidden": true
    },
    "tags": []
   },
   "source": [
    "If you want to bring your own dataset, below are the instructions on how the training data should be formatted as input to the model.\n",
    "\n",
    "A S3 path should contain two sub-directories 'train/', 'validation/' (optional), and a json-format file named 'categorical_index.json' (optional). Each sub-directory contains a 'data.csv' file (The Abalone dataset used in this example has been prepared and saved in training_dataset_s3_path shown below).\n",
    "\n",
    "The 'data.csv' files under sub-directory 'train/' and 'validation/' are for training and validation, respectively. The validation data is used to compute a validation score at the end of each boosting iteration. An early stopping is applied when the validation score stops improving. If the validation data is not provided, a 20% of training data is randomly sampled to serve as the validation data.\n",
    "\n",
    "The first column of the 'data.csv' should have the corresponding target variable. The rest of other columns should have the corresponding predictor variables (features).\n",
    "\n",
    "If the predictors include categorical feature(s), a json-format file named 'categorical_index.json' should be included in the input directory to indicate the column index(es) of the categorical features. Within the json-format file, it should have a python directory where the key is a string of 'cat_index_list' and the value is a list of unique integer(s). Each integer in the list indicates the column index of categorical features in the 'data.csv'. The range of each integer should be more than 0 (index 0 indicates the target) and less than the total number of columns. If the data set does not contain any categorical feature, the TabTransformer algorithm is equivalently a multi-layer perceptron (MLP).\n",
    "\n",
    "The target column must be encoded as non-negative integers (int) less than Int32.MaxValue (2147483647). It is best to use a contiguous range of integers started from zero.\n",
    "\n",
    "All the categorical features do not need to be encoded as non-negative integers and can be kept as their original formats.\n",
    "\n",
    "Note. The number of json-format files should be no more than 1 in the input directory.\n",
    "\n",
    "Citations:\n",
    "\n",
    "Dua, D. and Graff, C. (2019). UCI Machine Learning Repository [http://archive.ics.uci.edu/ml]. Irvine, CA: University of California, School of Information and Computer Science"
   ]
  },
  {
   "cell_type": "markdown",
   "id": "37b89046-8d61-496e-b122-606c41921b84",
   "metadata": {},
   "source": [
    "2.1. Retrieve Training Artifacts"
   ]
  },
  {
   "cell_type": "code",
   "execution_count": 49,
   "id": "45932db7-ee02-44f6-aa22-d167fa587f8b",
   "metadata": {},
   "outputs": [],
   "source": [
    "from sagemaker import image_uris\n",
    "from sagemaker import model_uris \n",
    "from sagemaker import script_uris\n",
    "\n",
    "train_model_id, train_model_version, train_scope = (\n",
    "    \"pytorch-tabtransformerregression-model\",\n",
    "    \"*\",\n",
    "    \"training\",\n",
    ")\n",
    "\n",
    "training_instance_type = \"ml.m5.2xlarge\"\n",
    "\n",
    "# Retrieve the docker image\n",
    "train_image_uri = image_uris.retrieve(\n",
    "    region=None,\n",
    "    framework=None,\n",
    "    model_id=train_model_id,\n",
    "    model_version=train_model_version,\n",
    "    image_scope=train_scope,\n",
    "    instance_type=training_instance_type,\n",
    ")\n",
    "# Retrieve the training script\n",
    "train_source_uri = script_uris.retrieve(\n",
    "    model_id=train_model_id, model_version=train_model_version, script_scope=train_scope\n",
    ")\n",
    "# Retrieve the pre-trained model tarball to further fine-tune. In tabular case, however, the pre-trained model tarball is dummy and fine-tune means training from scratch.\n",
    "train_model_uri = model_uris.retrieve(\n",
    "    model_id=train_model_id, model_version=train_model_version, model_scope=train_scope\n",
    ")"
   ]
  },
  {
   "cell_type": "markdown",
   "id": "ccc4c8e4-c6fb-49e4-b7fe-5be91fedff52",
   "metadata": {},
   "source": [
    "2.2. Set Training Parameters"
   ]
  },
  {
   "cell_type": "code",
   "execution_count": 50,
   "id": "2699f87e-f7e1-4e91-9ca0-d355dff39919",
   "metadata": {},
   "outputs": [],
   "source": [
    "# Sample training data is available in this bucket\n",
    "#training_data_bucket = f\"jumpstart-cache-prod-{aws_region}\"\n",
    "#training_data_prefix = \"training-datasets/tabular_regress/\"\n",
    "\n",
    "training_dataset_s3_path = train_csv_path\n",
    "#f\"s3://{training_data_bucket}/{training_data_prefix}\"\n",
    "\n",
    "#output_bucket = sess.default_bucket()\n",
    "#output_prefix = \"jumpstart-example-tabular-training\"\n",
    "\n",
    "s3_output_location = output_path\n",
    "#f\"s3://{output_bucket}/{output_prefix}/output\""
   ]
  },
  {
   "cell_type": "code",
   "execution_count": 51,
   "id": "5133234e-ba41-45d1-bb99-e0c41fcd2a8f",
   "metadata": {},
   "outputs": [
    {
     "name": "stdout",
     "output_type": "stream",
     "text": [
      "{'n_epochs': '80', 'patience': '15', 'learning_rate': '0.001', 'batch_size': '128', 'input_dim': '32', 'n_blocks': '4', 'attn_dropout': '0.2', 'mlp_dropout': '0.1', 'frac_shared_embed': '0.25'}\n"
     ]
    }
   ],
   "source": [
    "from sagemaker import hyperparameters\n",
    "\n",
    "# Retrieve the default hyper-parameters for training the model\n",
    "hyperparameters = hyperparameters.retrieve_default(\n",
    "    model_id=train_model_id, model_version=train_model_version\n",
    ")\n",
    "\n",
    "# [Optional] Override default hyperparameters with custom values\n",
    "hyperparameters[\"n_epochs\"] = \"80\"\n",
    "print(hyperparameters)"
   ]
  },
  {
   "cell_type": "markdown",
   "id": "39af033d-479f-41a3-b589-b155ea4d2594",
   "metadata": {},
   "source": [
    "2.3. Train with Automatic Model Tuning\n"
   ]
  },
  {
   "cell_type": "code",
   "execution_count": 52,
   "id": "f3d77cf7-3bd1-462b-a983-7509def1c9dc",
   "metadata": {},
   "outputs": [],
   "source": [
    "from sagemaker.tuner import ContinuousParameter, CategoricalParameter, HyperparameterTuner\n",
    "\n",
    "use_amt = True\n",
    "\n",
    "hyperparameter_ranges = {\n",
    "    \"learning_rate\": ContinuousParameter(0.001, 0.01, scaling_type=\"Auto\"),\n",
    "    \"batch_size\": CategoricalParameter([128, 256, 512]),\n",
    "    \"attn_dropout\": ContinuousParameter(0.0, 0.8, scaling_type=\"Auto\"),\n",
    "    \"mlp_dropout\": ContinuousParameter(0.0, 0.8, scaling_type=\"Auto\"),\n",
    "}"
   ]
  },
  {
   "cell_type": "code",
   "execution_count": null,
   "id": "944d9150-2967-4e37-b67a-5a698aa09ad8",
   "metadata": {},
   "outputs": [],
   "source": [
    "2.4. Start Training\n",
    "We start by creating the estimator object with all the required assets and then launch the training job."
   ]
  },
  {
   "cell_type": "code",
   "execution_count": 53,
   "id": "c59a027e-73d5-46d6-944a-57255b5a456d",
   "metadata": {},
   "outputs": [
    {
     "name": "stderr",
     "output_type": "stream",
     "text": [
      "No finished training job found associated with this estimator. Please make sure this estimator is only used for building workflow config\n"
     ]
    },
    {
     "name": "stdout",
     "output_type": "stream",
     "text": [
      "................................................................................................................!\n"
     ]
    }
   ],
   "source": [
    "from sagemaker.estimator import Estimator\n",
    "from sagemaker.utils import name_from_base\n",
    "\n",
    "training_job_name = name_from_base(f\"jumpstart-{train_model_id}-training\")\n",
    "\n",
    "# Create SageMaker Estimator instance\n",
    "tabular_estimator = Estimator(\n",
    "    role=aws_role,\n",
    "    image_uri=train_image_uri,\n",
    "    source_dir=train_source_uri,\n",
    "    model_uri=train_model_uri,\n",
    "    entry_point=\"transfer_learning.py\",\n",
    "    instance_count=1,\n",
    "    instance_type=training_instance_type,\n",
    "    max_run=360000,\n",
    "    hyperparameters=hyperparameters,\n",
    "    output_path=s3_output_location,\n",
    ")\n",
    "\n",
    "if use_amt:\n",
    "\n",
    "    tuner = HyperparameterTuner(\n",
    "        tabular_estimator,\n",
    "        \"r2\",\n",
    "        hyperparameter_ranges,\n",
    "        [{\"Name\": \"r2\", \"Regex\": \"metrics={'r2': (\\\\S+)}\"}],\n",
    "        max_jobs=10,  # increase the max_jobs to achieve better performance from hyperparameter tuning\n",
    "        max_parallel_jobs=2,\n",
    "        objective_type=\"Maximize\",\n",
    "        base_tuning_job_name=training_job_name,\n",
    "    )\n",
    "\n",
    "    tuner.fit({\"training\": training_dataset_s3_path}, logs=True)\n",
    "\n",
    "else:\n",
    "    # Launch a SageMaker Training job by passing s3 path of the training data\n",
    "    tabular_estimator.fit(\n",
    "        {\"training\": training_dataset_s3_path}, logs=True, job_name=training_job_name\n",
    "    )\n"
   ]
  },
  {
   "cell_type": "code",
   "execution_count": null,
   "id": "39107bf4-167f-420d-bcd3-a787d77170ea",
   "metadata": {},
   "outputs": [],
   "source": [
    "3. Deploy and Run Inference on the Trained Tabular Model\n",
    "In this section, you learn how to query an existing endpoint and make predictions of the examples you input. For each example, the model will output a numerical value to estimate the corresponding target value.\n",
    "\n",
    "We start by retrieving the artifacts and deploy the tabular_estimator that we trained."
   ]
  },
  {
   "cell_type": "code",
   "execution_count": 54,
   "id": "82cb4d13-59bf-4786-8d28-900d41463582",
   "metadata": {},
   "outputs": [
    {
     "name": "stdout",
     "output_type": "stream",
     "text": [
      "\n",
      "2023-05-13 10:44:19 Starting - Found matching resource for reuse\n",
      "2023-05-13 10:44:19 Downloading - Downloading input data\n",
      "2023-05-13 10:44:19 Training - Training image download completed. Training in progress.\n",
      "2023-05-13 10:44:19 Uploading - Uploading generated training model\n",
      "2023-05-13 10:44:19 Completed - Resource reused by training job: jumpstart-pytorch-ta-230513-1037-008-4771d809\n",
      "-----!"
     ]
    }
   ],
   "source": [
    "inference_instance_type = \"ml.m5.2xlarge\"\n",
    "\n",
    "# Retrieve the inference docker container uri\n",
    "deploy_image_uri = image_uris.retrieve(\n",
    "    region=None,\n",
    "    framework=None,\n",
    "    image_scope=\"inference\",\n",
    "    model_id=train_model_id,\n",
    "    model_version=train_model_version,\n",
    "    instance_type=inference_instance_type,\n",
    ")\n",
    "# Retrieve the inference script uri\n",
    "deploy_source_uri = script_uris.retrieve(\n",
    "    model_id=train_model_id, model_version=train_model_version, script_scope=\"inference\"\n",
    ")\n",
    "\n",
    "endpoint_name = name_from_base(f\"jumpstart-example-{train_model_id}-\")\n",
    "\n",
    "# Use the estimator from the previous step to deploy to a SageMaker endpoint\n",
    "predictor = (tuner if use_amt else tabular_estimator).deploy(\n",
    "    initial_instance_count=1,\n",
    "    instance_type=inference_instance_type,\n",
    "    entry_point=\"inference.py\",\n",
    "    image_uri=deploy_image_uri,\n",
    "    source_dir=deploy_source_uri,\n",
    "    endpoint_name=endpoint_name,\n",
    ")"
   ]
  },
  {
   "cell_type": "code",
   "execution_count": 56,
   "id": "8f3c3eca-5401-41c3-aa9c-5ac8f4819b97",
   "metadata": {
    "collapsed": true,
    "jupyter": {
     "outputs_hidden": true
    },
    "tags": []
   },
   "outputs": [
    {
     "ename": "ClientError",
     "evalue": "An error occurred (404) when calling the HeadObject operation: Not Found",
     "output_type": "error",
     "traceback": [
      "\u001b[0;31m---------------------------------------------------------------------------\u001b[0m",
      "\u001b[0;31mClientError\u001b[0m                               Traceback (most recent call last)",
      "\u001b[0;32m<ipython-input-56-f7c2efc8ab1d>\u001b[0m in \u001b[0;36m<module>\u001b[0;34m\u001b[0m\n\u001b[1;32m      4\u001b[0m \u001b[0mbucket\u001b[0m \u001b[0;34m=\u001b[0m \u001b[0ms3\u001b[0m\u001b[0;34m.\u001b[0m\u001b[0mBucket\u001b[0m\u001b[0;34m(\u001b[0m\u001b[0mbucket_name\u001b[0m\u001b[0;34m)\u001b[0m\u001b[0;34m\u001b[0m\u001b[0;34m\u001b[0m\u001b[0m\n\u001b[1;32m      5\u001b[0m \u001b[0;34m\u001b[0m\u001b[0m\n\u001b[0;32m----> 6\u001b[0;31m \u001b[0mbucket\u001b[0m\u001b[0;34m.\u001b[0m\u001b[0mdownload_file\u001b[0m\u001b[0;34m(\u001b[0m\u001b[0;34m'/control_furnace/test/'\u001b[0m\u001b[0;34m,\u001b[0m\u001b[0;34m'test.csv'\u001b[0m\u001b[0;34m)\u001b[0m\u001b[0;34m\u001b[0m\u001b[0;34m\u001b[0m\u001b[0m\n\u001b[0m",
      "\u001b[0;32m/opt/conda/lib/python3.7/site-packages/boto3/s3/inject.py\u001b[0m in \u001b[0;36mbucket_download_file\u001b[0;34m(self, Key, Filename, ExtraArgs, Callback, Config)\u001b[0m\n\u001b[1;32m    281\u001b[0m         \u001b[0mExtraArgs\u001b[0m\u001b[0;34m=\u001b[0m\u001b[0mExtraArgs\u001b[0m\u001b[0;34m,\u001b[0m\u001b[0;34m\u001b[0m\u001b[0;34m\u001b[0m\u001b[0m\n\u001b[1;32m    282\u001b[0m         \u001b[0mCallback\u001b[0m\u001b[0;34m=\u001b[0m\u001b[0mCallback\u001b[0m\u001b[0;34m,\u001b[0m\u001b[0;34m\u001b[0m\u001b[0;34m\u001b[0m\u001b[0m\n\u001b[0;32m--> 283\u001b[0;31m         \u001b[0mConfig\u001b[0m\u001b[0;34m=\u001b[0m\u001b[0mConfig\u001b[0m\u001b[0;34m,\u001b[0m\u001b[0;34m\u001b[0m\u001b[0;34m\u001b[0m\u001b[0m\n\u001b[0m\u001b[1;32m    284\u001b[0m     )\n\u001b[1;32m    285\u001b[0m \u001b[0;34m\u001b[0m\u001b[0m\n",
      "\u001b[0;32m/opt/conda/lib/python3.7/site-packages/boto3/s3/inject.py\u001b[0m in \u001b[0;36mdownload_file\u001b[0;34m(self, Bucket, Key, Filename, ExtraArgs, Callback, Config)\u001b[0m\n\u001b[1;32m    193\u001b[0m             \u001b[0mfilename\u001b[0m\u001b[0;34m=\u001b[0m\u001b[0mFilename\u001b[0m\u001b[0;34m,\u001b[0m\u001b[0;34m\u001b[0m\u001b[0;34m\u001b[0m\u001b[0m\n\u001b[1;32m    194\u001b[0m             \u001b[0mextra_args\u001b[0m\u001b[0;34m=\u001b[0m\u001b[0mExtraArgs\u001b[0m\u001b[0;34m,\u001b[0m\u001b[0;34m\u001b[0m\u001b[0;34m\u001b[0m\u001b[0m\n\u001b[0;32m--> 195\u001b[0;31m             \u001b[0mcallback\u001b[0m\u001b[0;34m=\u001b[0m\u001b[0mCallback\u001b[0m\u001b[0;34m,\u001b[0m\u001b[0;34m\u001b[0m\u001b[0;34m\u001b[0m\u001b[0m\n\u001b[0m\u001b[1;32m    196\u001b[0m         )\n\u001b[1;32m    197\u001b[0m \u001b[0;34m\u001b[0m\u001b[0m\n",
      "\u001b[0;32m/opt/conda/lib/python3.7/site-packages/boto3/s3/transfer.py\u001b[0m in \u001b[0;36mdownload_file\u001b[0;34m(self, bucket, key, filename, extra_args, callback)\u001b[0m\n\u001b[1;32m    324\u001b[0m         )\n\u001b[1;32m    325\u001b[0m         \u001b[0;32mtry\u001b[0m\u001b[0;34m:\u001b[0m\u001b[0;34m\u001b[0m\u001b[0;34m\u001b[0m\u001b[0m\n\u001b[0;32m--> 326\u001b[0;31m             \u001b[0mfuture\u001b[0m\u001b[0;34m.\u001b[0m\u001b[0mresult\u001b[0m\u001b[0;34m(\u001b[0m\u001b[0;34m)\u001b[0m\u001b[0;34m\u001b[0m\u001b[0;34m\u001b[0m\u001b[0m\n\u001b[0m\u001b[1;32m    327\u001b[0m         \u001b[0;31m# This is for backwards compatibility where when retries are\u001b[0m\u001b[0;34m\u001b[0m\u001b[0;34m\u001b[0m\u001b[0;34m\u001b[0m\u001b[0m\n\u001b[1;32m    328\u001b[0m         \u001b[0;31m# exceeded we need to throw the same error from boto3 instead of\u001b[0m\u001b[0;34m\u001b[0m\u001b[0;34m\u001b[0m\u001b[0;34m\u001b[0m\u001b[0m\n",
      "\u001b[0;32m/opt/conda/lib/python3.7/site-packages/s3transfer/futures.py\u001b[0m in \u001b[0;36mresult\u001b[0;34m(self)\u001b[0m\n\u001b[1;32m    101\u001b[0m             \u001b[0;31m# however if a KeyboardInterrupt is raised we want want to exit\u001b[0m\u001b[0;34m\u001b[0m\u001b[0;34m\u001b[0m\u001b[0;34m\u001b[0m\u001b[0m\n\u001b[1;32m    102\u001b[0m             \u001b[0;31m# out of this and propagate the exception.\u001b[0m\u001b[0;34m\u001b[0m\u001b[0;34m\u001b[0m\u001b[0;34m\u001b[0m\u001b[0m\n\u001b[0;32m--> 103\u001b[0;31m             \u001b[0;32mreturn\u001b[0m \u001b[0mself\u001b[0m\u001b[0;34m.\u001b[0m\u001b[0m_coordinator\u001b[0m\u001b[0;34m.\u001b[0m\u001b[0mresult\u001b[0m\u001b[0;34m(\u001b[0m\u001b[0;34m)\u001b[0m\u001b[0;34m\u001b[0m\u001b[0;34m\u001b[0m\u001b[0m\n\u001b[0m\u001b[1;32m    104\u001b[0m         \u001b[0;32mexcept\u001b[0m \u001b[0mKeyboardInterrupt\u001b[0m \u001b[0;32mas\u001b[0m \u001b[0me\u001b[0m\u001b[0;34m:\u001b[0m\u001b[0;34m\u001b[0m\u001b[0;34m\u001b[0m\u001b[0m\n\u001b[1;32m    105\u001b[0m             \u001b[0mself\u001b[0m\u001b[0;34m.\u001b[0m\u001b[0mcancel\u001b[0m\u001b[0;34m(\u001b[0m\u001b[0;34m)\u001b[0m\u001b[0;34m\u001b[0m\u001b[0;34m\u001b[0m\u001b[0m\n",
      "\u001b[0;32m/opt/conda/lib/python3.7/site-packages/s3transfer/futures.py\u001b[0m in \u001b[0;36mresult\u001b[0;34m(self)\u001b[0m\n\u001b[1;32m    264\u001b[0m         \u001b[0;31m# final result.\u001b[0m\u001b[0;34m\u001b[0m\u001b[0;34m\u001b[0m\u001b[0;34m\u001b[0m\u001b[0m\n\u001b[1;32m    265\u001b[0m         \u001b[0;32mif\u001b[0m \u001b[0mself\u001b[0m\u001b[0;34m.\u001b[0m\u001b[0m_exception\u001b[0m\u001b[0;34m:\u001b[0m\u001b[0;34m\u001b[0m\u001b[0;34m\u001b[0m\u001b[0m\n\u001b[0;32m--> 266\u001b[0;31m             \u001b[0;32mraise\u001b[0m \u001b[0mself\u001b[0m\u001b[0;34m.\u001b[0m\u001b[0m_exception\u001b[0m\u001b[0;34m\u001b[0m\u001b[0;34m\u001b[0m\u001b[0m\n\u001b[0m\u001b[1;32m    267\u001b[0m         \u001b[0;32mreturn\u001b[0m \u001b[0mself\u001b[0m\u001b[0;34m.\u001b[0m\u001b[0m_result\u001b[0m\u001b[0;34m\u001b[0m\u001b[0;34m\u001b[0m\u001b[0m\n\u001b[1;32m    268\u001b[0m \u001b[0;34m\u001b[0m\u001b[0m\n",
      "\u001b[0;32m/opt/conda/lib/python3.7/site-packages/s3transfer/tasks.py\u001b[0m in \u001b[0;36m_main\u001b[0;34m(self, transfer_future, **kwargs)\u001b[0m\n\u001b[1;32m    267\u001b[0m             \u001b[0;31m# Call the submit method to start submitting tasks to execute the\u001b[0m\u001b[0;34m\u001b[0m\u001b[0;34m\u001b[0m\u001b[0;34m\u001b[0m\u001b[0m\n\u001b[1;32m    268\u001b[0m             \u001b[0;31m# transfer.\u001b[0m\u001b[0;34m\u001b[0m\u001b[0;34m\u001b[0m\u001b[0;34m\u001b[0m\u001b[0m\n\u001b[0;32m--> 269\u001b[0;31m             \u001b[0mself\u001b[0m\u001b[0;34m.\u001b[0m\u001b[0m_submit\u001b[0m\u001b[0;34m(\u001b[0m\u001b[0mtransfer_future\u001b[0m\u001b[0;34m=\u001b[0m\u001b[0mtransfer_future\u001b[0m\u001b[0;34m,\u001b[0m \u001b[0;34m**\u001b[0m\u001b[0mkwargs\u001b[0m\u001b[0;34m)\u001b[0m\u001b[0;34m\u001b[0m\u001b[0;34m\u001b[0m\u001b[0m\n\u001b[0m\u001b[1;32m    270\u001b[0m         \u001b[0;32mexcept\u001b[0m \u001b[0mBaseException\u001b[0m \u001b[0;32mas\u001b[0m \u001b[0me\u001b[0m\u001b[0;34m:\u001b[0m\u001b[0;34m\u001b[0m\u001b[0;34m\u001b[0m\u001b[0m\n\u001b[1;32m    271\u001b[0m             \u001b[0;31m# If there was an exception raised during the submission of task\u001b[0m\u001b[0;34m\u001b[0m\u001b[0;34m\u001b[0m\u001b[0;34m\u001b[0m\u001b[0m\n",
      "\u001b[0;32m/opt/conda/lib/python3.7/site-packages/s3transfer/download.py\u001b[0m in \u001b[0;36m_submit\u001b[0;34m(self, client, config, osutil, request_executor, io_executor, transfer_future, bandwidth_limiter)\u001b[0m\n\u001b[1;32m    355\u001b[0m                 \u001b[0mBucket\u001b[0m\u001b[0;34m=\u001b[0m\u001b[0mtransfer_future\u001b[0m\u001b[0;34m.\u001b[0m\u001b[0mmeta\u001b[0m\u001b[0;34m.\u001b[0m\u001b[0mcall_args\u001b[0m\u001b[0;34m.\u001b[0m\u001b[0mbucket\u001b[0m\u001b[0;34m,\u001b[0m\u001b[0;34m\u001b[0m\u001b[0;34m\u001b[0m\u001b[0m\n\u001b[1;32m    356\u001b[0m                 \u001b[0mKey\u001b[0m\u001b[0;34m=\u001b[0m\u001b[0mtransfer_future\u001b[0m\u001b[0;34m.\u001b[0m\u001b[0mmeta\u001b[0m\u001b[0;34m.\u001b[0m\u001b[0mcall_args\u001b[0m\u001b[0;34m.\u001b[0m\u001b[0mkey\u001b[0m\u001b[0;34m,\u001b[0m\u001b[0;34m\u001b[0m\u001b[0;34m\u001b[0m\u001b[0m\n\u001b[0;32m--> 357\u001b[0;31m                 \u001b[0;34m**\u001b[0m\u001b[0mtransfer_future\u001b[0m\u001b[0;34m.\u001b[0m\u001b[0mmeta\u001b[0m\u001b[0;34m.\u001b[0m\u001b[0mcall_args\u001b[0m\u001b[0;34m.\u001b[0m\u001b[0mextra_args\u001b[0m\u001b[0;34m,\u001b[0m\u001b[0;34m\u001b[0m\u001b[0;34m\u001b[0m\u001b[0m\n\u001b[0m\u001b[1;32m    358\u001b[0m             )\n\u001b[1;32m    359\u001b[0m             transfer_future.meta.provide_transfer_size(\n",
      "\u001b[0;32m/opt/conda/lib/python3.7/site-packages/botocore/client.py\u001b[0m in \u001b[0;36m_api_call\u001b[0;34m(self, *args, **kwargs)\u001b[0m\n\u001b[1;32m    528\u001b[0m                 )\n\u001b[1;32m    529\u001b[0m             \u001b[0;31m# The \"self\" in this scope is referring to the BaseClient.\u001b[0m\u001b[0;34m\u001b[0m\u001b[0;34m\u001b[0m\u001b[0;34m\u001b[0m\u001b[0m\n\u001b[0;32m--> 530\u001b[0;31m             \u001b[0;32mreturn\u001b[0m \u001b[0mself\u001b[0m\u001b[0;34m.\u001b[0m\u001b[0m_make_api_call\u001b[0m\u001b[0;34m(\u001b[0m\u001b[0moperation_name\u001b[0m\u001b[0;34m,\u001b[0m \u001b[0mkwargs\u001b[0m\u001b[0;34m)\u001b[0m\u001b[0;34m\u001b[0m\u001b[0;34m\u001b[0m\u001b[0m\n\u001b[0m\u001b[1;32m    531\u001b[0m \u001b[0;34m\u001b[0m\u001b[0m\n\u001b[1;32m    532\u001b[0m         \u001b[0m_api_call\u001b[0m\u001b[0;34m.\u001b[0m\u001b[0m__name__\u001b[0m \u001b[0;34m=\u001b[0m \u001b[0mstr\u001b[0m\u001b[0;34m(\u001b[0m\u001b[0mpy_operation_name\u001b[0m\u001b[0;34m)\u001b[0m\u001b[0;34m\u001b[0m\u001b[0;34m\u001b[0m\u001b[0m\n",
      "\u001b[0;32m/opt/conda/lib/python3.7/site-packages/botocore/client.py\u001b[0m in \u001b[0;36m_make_api_call\u001b[0;34m(self, operation_name, api_params)\u001b[0m\n\u001b[1;32m    958\u001b[0m             \u001b[0merror_code\u001b[0m \u001b[0;34m=\u001b[0m \u001b[0mparsed_response\u001b[0m\u001b[0;34m.\u001b[0m\u001b[0mget\u001b[0m\u001b[0;34m(\u001b[0m\u001b[0;34m\"Error\"\u001b[0m\u001b[0;34m,\u001b[0m \u001b[0;34m{\u001b[0m\u001b[0;34m}\u001b[0m\u001b[0;34m)\u001b[0m\u001b[0;34m.\u001b[0m\u001b[0mget\u001b[0m\u001b[0;34m(\u001b[0m\u001b[0;34m\"Code\"\u001b[0m\u001b[0;34m)\u001b[0m\u001b[0;34m\u001b[0m\u001b[0;34m\u001b[0m\u001b[0m\n\u001b[1;32m    959\u001b[0m             \u001b[0merror_class\u001b[0m \u001b[0;34m=\u001b[0m \u001b[0mself\u001b[0m\u001b[0;34m.\u001b[0m\u001b[0mexceptions\u001b[0m\u001b[0;34m.\u001b[0m\u001b[0mfrom_code\u001b[0m\u001b[0;34m(\u001b[0m\u001b[0merror_code\u001b[0m\u001b[0;34m)\u001b[0m\u001b[0;34m\u001b[0m\u001b[0;34m\u001b[0m\u001b[0m\n\u001b[0;32m--> 960\u001b[0;31m             \u001b[0;32mraise\u001b[0m \u001b[0merror_class\u001b[0m\u001b[0;34m(\u001b[0m\u001b[0mparsed_response\u001b[0m\u001b[0;34m,\u001b[0m \u001b[0moperation_name\u001b[0m\u001b[0;34m)\u001b[0m\u001b[0;34m\u001b[0m\u001b[0;34m\u001b[0m\u001b[0m\n\u001b[0m\u001b[1;32m    961\u001b[0m         \u001b[0;32melse\u001b[0m\u001b[0;34m:\u001b[0m\u001b[0;34m\u001b[0m\u001b[0;34m\u001b[0m\u001b[0m\n\u001b[1;32m    962\u001b[0m             \u001b[0;32mreturn\u001b[0m \u001b[0mparsed_response\u001b[0m\u001b[0;34m\u001b[0m\u001b[0;34m\u001b[0m\u001b[0m\n",
      "\u001b[0;31mClientError\u001b[0m: An error occurred (404) when calling the HeadObject operation: Not Found"
     ]
    }
   ],
   "source": [
    "import boto3\n",
    "\n",
    "s3 = boto3.resource('s3')\n",
    "bucket = s3.Bucket(bucket_name)\n",
    "\n",
    "bucket.download_file('/control_furnace/test/','test.csv')"
   ]
  },
  {
   "cell_type": "code",
   "execution_count": 55,
   "id": "0370f285-be8f-457b-ab9f-8acf58b8d221",
   "metadata": {
    "tags": []
   },
   "outputs": [
    {
     "name": "stdout",
     "output_type": "stream",
     "text": [
      "The object does not exist.\n"
     ]
    }
   ],
   "source": [
    "import boto3\n",
    "import botocore\n",
    "\n",
    "BUCKET_NAME = bucket_name\n",
    "# replace with your bucket name\n",
    "KEY = '/control_furnace/test/' # replace with your object key\n",
    "\n",
    "s3 = boto3.resource('s3')\n",
    "\n",
    "try:\n",
    "    s3.Bucket(BUCKET_NAME).download_file(KEY, 'test .csv')\n",
    "except botocore.exceptions.ClientError as e:\n",
    "    if e.response['Error']['Code'] == \"404\":\n",
    "        print(\"The object does not exist.\")\n",
    "    else:\n",
    "        raise"
   ]
  },
  {
   "cell_type": "code",
   "execution_count": null,
   "id": "8cfe0ea6-e2f6-4808-b782-7149cf834bb5",
   "metadata": {},
   "outputs": [],
   "source": [
    "s3://fractionatordatalstm/control_furnace/test/test.csv"
   ]
  },
  {
   "cell_type": "code",
   "execution_count": 57,
   "id": "666fddb2-87d2-4825-b661-6170e3fdd970",
   "metadata": {},
   "outputs": [
    {
     "ename": "TypeError",
     "evalue": "download_file() missing 2 required positional arguments: 'Key' and 'Filename'",
     "output_type": "error",
     "traceback": [
      "\u001b[0;31m---------------------------------------------------------------------------\u001b[0m",
      "\u001b[0;31mTypeError\u001b[0m                                 Traceback (most recent call last)",
      "\u001b[0;32m<ipython-input-57-4c2ca278b9a6>\u001b[0m in \u001b[0;36m<module>\u001b[0;34m\u001b[0m\n\u001b[1;32m      5\u001b[0m \u001b[0;31m#test_data_file_name = \"data.csv\"\u001b[0m\u001b[0;34m\u001b[0m\u001b[0;34m\u001b[0m\u001b[0;34m\u001b[0m\u001b[0m\n\u001b[1;32m      6\u001b[0m \u001b[0;34m\u001b[0m\u001b[0m\n\u001b[0;32m----> 7\u001b[0;31m boto3.client(\"s3\").download_file('s3://fractionatordatalstm/control_furnace/test/test.csv'\n\u001b[0m\u001b[1;32m      8\u001b[0m \u001b[0;34m\u001b[0m\u001b[0m\n\u001b[1;32m      9\u001b[0m )\n",
      "\u001b[0;31mTypeError\u001b[0m: download_file() missing 2 required positional arguments: 'Key' and 'Filename'"
     ]
    }
   ],
   "source": [
    "#Next, we download a hold-out Abalone test data from the S3 bucket for inference.\n",
    "\n",
    "#jumpstart_assets_bucket = f\"jumpstart-cache-prod-{aws_region}\"\n",
    "#test_data_prefix = \"training-datasets/tabular_regress/test\"\n",
    "#test_data_file_name = \"data.csv\"\n",
    "\n",
    "boto3.client(\"s3\").download_file('s3://fractionatordatalstm/control_furnace/test/test.csv'\n",
    "   \n",
    ")\n",
    " #jumpstart_assets_bucket, f\"{test_data_prefix}/{test_data_file_name}\", test_data_file_name\n"
   ]
  },
  {
   "cell_type": "markdown",
   "id": "61b2e00c-b840-4da6-9301-2906a45f2863",
   "metadata": {},
   "source": [
    "Next, we read the Abalone test data into pandas data frame, prepare the ground truth target and \n",
    "predicting features to send into the endpoint.\n",
    "\n",
    "Below is the screenshot of the first 5 examples in the Abalone test set. \n",
    "All of the test examples with features from Feature_1 to Feature_8 are sent into the deployed model \n",
    "to get model predictions, to estimate the ground truth Target column."
   ]
  },
  {
   "cell_type": "code",
   "execution_count": 53,
   "id": "07e23045-2372-45bd-9d4c-f77015bc27c5",
   "metadata": {
    "tags": []
   },
   "outputs": [],
   "source": [
    "df_test = pd.read_csv('test .csv')"
   ]
  },
  {
   "cell_type": "code",
   "execution_count": 57,
   "id": "1f3e4d4f-b21c-4bc1-93c0-2a9df389e5bd",
   "metadata": {},
   "outputs": [
    {
     "name": "stdout",
     "output_type": "stream",
     "text": [
      "\u001b[1mThe test dataset contains 946 examples and 4 columns.\u001b[0m\n",
      "\n",
      "\u001b[1mThe first 5 observations of the test data: \u001b[0m\n"
     ]
    },
    {
     "data": {
      "text/html": [
       "<div>\n",
       "<style scoped>\n",
       "    .dataframe tbody tr th:only-of-type {\n",
       "        vertical-align: middle;\n",
       "    }\n",
       "\n",
       "    .dataframe tbody tr th {\n",
       "        vertical-align: top;\n",
       "    }\n",
       "\n",
       "    .dataframe thead th {\n",
       "        text-align: right;\n",
       "    }\n",
       "</style>\n",
       "<table border=\"1\" class=\"dataframe\">\n",
       "  <thead>\n",
       "    <tr style=\"text-align: right;\">\n",
       "      <th></th>\n",
       "      <th>Target</th>\n",
       "      <th>Feature_1</th>\n",
       "      <th>Feature_2</th>\n",
       "      <th>Feature_3</th>\n",
       "    </tr>\n",
       "  </thead>\n",
       "  <tbody>\n",
       "    <tr>\n",
       "      <th>0</th>\n",
       "      <td>9.23188</td>\n",
       "      <td>2.03620</td>\n",
       "      <td>3.38643</td>\n",
       "      <td>3.89379</td>\n",
       "    </tr>\n",
       "    <tr>\n",
       "      <th>1</th>\n",
       "      <td>8.83145</td>\n",
       "      <td>1.87453</td>\n",
       "      <td>3.45013</td>\n",
       "      <td>3.90349</td>\n",
       "    </tr>\n",
       "    <tr>\n",
       "      <th>2</th>\n",
       "      <td>9.11514</td>\n",
       "      <td>2.09413</td>\n",
       "      <td>3.68392</td>\n",
       "      <td>3.99708</td>\n",
       "    </tr>\n",
       "    <tr>\n",
       "      <th>3</th>\n",
       "      <td>8.61245</td>\n",
       "      <td>2.47046</td>\n",
       "      <td>3.66139</td>\n",
       "      <td>4.21000</td>\n",
       "    </tr>\n",
       "    <tr>\n",
       "      <th>4</th>\n",
       "      <td>8.20437</td>\n",
       "      <td>2.35434</td>\n",
       "      <td>3.36145</td>\n",
       "      <td>3.96043</td>\n",
       "    </tr>\n",
       "  </tbody>\n",
       "</table>\n",
       "</div>"
      ],
      "text/plain": [
       "    Target  Feature_1  Feature_2  Feature_3\n",
       "0  9.23188    2.03620    3.38643    3.89379\n",
       "1  8.83145    1.87453    3.45013    3.90349\n",
       "2  9.11514    2.09413    3.68392    3.99708\n",
       "3  8.61245    2.47046    3.66139    4.21000\n",
       "4  8.20437    2.35434    3.36145    3.96043"
      ]
     },
     "execution_count": 57,
     "metadata": {},
     "output_type": "execute_result"
    }
   ],
   "source": [
    "newline, bold, unbold = \"\\n\", \"\\033[1m\", \"\\033[0m\"\n",
    "\n",
    "import numpy as np\n",
    "import pandas as pd\n",
    "from sklearn.metrics import mean_absolute_error\n",
    "from sklearn.metrics import mean_squared_error\n",
    "from sklearn.metrics import r2_score\n",
    "import matplotlib.pyplot as plt\n",
    "\n",
    "# read the data\n",
    "test_data = pd.read_csv('test.csv', header=None)\n",
    "test_data.columns = [\"Target\"] + [f\"Feature_{i}\" for i in range(1, test_data.shape[1])]\n",
    "\n",
    "num_examples, num_columns = test_data.shape\n",
    "print(\n",
    "    f\"{bold}The test dataset contains {num_examples} examples and {num_columns} columns.{unbold}\\n\"\n",
    ")\n",
    "\n",
    "# prepare the ground truth target and predicting features to send into the endpoint.\n",
    "ground_truth_label, features = test_data.iloc[:, :1], test_data.iloc[:, 1:]\n",
    "\n",
    "print(\n",
    "    f\"{bold}The first 5 observations of the test data: {unbold}\")  \n",
    "# Feature_1 is the categorical variables and rest of other features are numeric variables.\n",
    "test_data.head(5)"
   ]
  },
  {
   "cell_type": "markdown",
   "id": "b3144e76-1ca4-420c-93d1-ba7938ee05cd",
   "metadata": {},
   "source": [
    "The following code queries the endpoint you have created to get the prediction for each test example. \n",
    "The query_endpoint() function returns a array-like of shape (num_examples, ).\n",
    "\n"
   ]
  },
  {
   "cell_type": "code",
   "execution_count": 58,
   "id": "8d2d87cc-126a-40b9-8fd6-9283e8d239c0",
   "metadata": {},
   "outputs": [],
   "source": [
    "content_type = \"text/csv\"\n",
    "\n",
    "\n",
    "def query_endpoint(encoded_tabular_data):\n",
    "    client = boto3.client(\"runtime.sagemaker\")\n",
    "    response = client.invoke_endpoint(\n",
    "        EndpointName=endpoint_name, ContentType=content_type, Body=encoded_tabular_data\n",
    "    )\n",
    "    return response\n",
    "\n",
    "\n",
    "def parse_resonse(query_response):\n",
    "    predictions = json.loads(query_response[\"Body\"].read())\n",
    "    return np.array(predictions[\"prediction\"])\n",
    "\n",
    "\n",
    "query_response = query_endpoint(features.to_csv(header=False, index=False).encode(\"utf-8\"))\n",
    "model_predictions = parse_resonse(query_response)"
   ]
  },
  {
   "cell_type": "markdown",
   "id": "39478159-d626-44cb-8d4e-afbe1ba0566f",
   "metadata": {},
   "source": [
    "4. Evaluate the Prediction Results Returned from the Endpoint"
   ]
  },
  {
   "cell_type": "raw",
   "id": "3d989dea-1b64-4597-a0f6-3b4d30fef9fb",
   "metadata": {},
   "source": [
    "\n",
    "We evaluate the predictions results returned from the endpoint by following two ways.\n",
    "\n",
    "Visualize the prediction results by a residual plot to compare the model predictions and ground truth targets.\n",
    "\n",
    "Measure the prediction results quantitatively."
   ]
  },
  {
   "cell_type": "code",
   "execution_count": 59,
   "id": "9a4c22cf-5ab8-4135-9e89-d132ec6e2cbf",
   "metadata": {},
   "outputs": [
    {
     "data": {
      "image/png": "[encoded data removed]",
      "text/plain": [
       "<Figure size 640x480 with 1 Axes>"
      ]
     },
     "metadata": {},
     "output_type": "display_data"
    }
   ],
   "source": [
    "# Visualization: a residual plot to compare the model predictions and ground truth targets. For each example, the residual value\n",
    "# is the subtraction between the prediction and ground truth target.\n",
    "# We can see that the points in the residual plot are randomly dispersed around the horizontal axis y = 0,\n",
    "# which indicates the fitted regression model is appropriate for the ABALONE data\n",
    "\n",
    "residuals = ground_truth_label.values[:, 0] - model_predictions\n",
    "plt.scatter(model_predictions, residuals, color=\"blue\", s=40)\n",
    "plt.hlines(y=0, xmin=4, xmax=18)\n",
    "plt.xlabel(\"Predicted Values\", fontsize=18)\n",
    "plt.ylabel(\"Residuals\", fontsize=18)\n",
    "plt.show()\n"
   ]
  },
  {
   "cell_type": "code",
   "execution_count": 60,
   "id": "cf5ea82a-bf17-41c0-9612-f3d7f6af7065",
   "metadata": {},
   "outputs": [
    {
     "name": "stdout",
     "output_type": "stream",
     "text": [
      "\u001b[1mEvaluation result on test data\u001b[0m:\n",
      "\u001b[1mr2_score\u001b[0m: 0.721307231743318\n",
      "\u001b[1mmean_squared_error\u001b[0m: 0.08313233403998127\n",
      "\u001b[1mmean_absolute_error\u001b[0m: 0.21150505945217787\n",
      "\n"
     ]
    }
   ],
   "source": [
    "# Evaluate the model predictions quantitatively.\n",
    "eval_r2_score = r2_score(ground_truth_label.values, model_predictions)\n",
    "eval_mse_score = mean_squared_error(ground_truth_label.values, model_predictions)\n",
    "eval_mae_score = mean_absolute_error(ground_truth_label.values, model_predictions)\n",
    "print(\n",
    "    f\"{bold}Evaluation result on test data{unbold}:{newline}\"\n",
    "    f\"{bold}{r2_score.__name__}{unbold}: {eval_r2_score}{newline}\"\n",
    "    f\"{bold}{mean_squared_error.__name__}{unbold}: {eval_mse_score}{newline}\"\n",
    "    f\"{bold}{mean_absolute_error.__name__}{unbold}: {eval_mae_score}{newline}\"\n",
    ")\n"
   ]
  },
  {
   "cell_type": "code",
   "execution_count": 61,
   "id": "097a5ed7-7c60-42ab-80f0-a89a226ee77c",
   "metadata": {},
   "outputs": [],
   "source": [
    "# Delete the SageMaker endpoint and the attached resources\n",
    "predictor.delete_model()\n",
    "predictor.delete_endpoint()"
   ]
  },
  {
   "cell_type": "code",
   "execution_count": null,
   "id": "c427e8fc-1d83-4965-b5b9-f42c34bf495e",
   "metadata": {},
   "outputs": [],
   "source": []
  }
 ],
 "metadata": {
  "availableInstances": [
   {
    "_defaultOrder": 0,
    "_isFastLaunch": true,
    "category": "General purpose",
    "gpuNum": 0,
    "hideHardwareSpecs": false,
    "memoryGiB": 4,
    "name": "ml.t3.medium",
    "vcpuNum": 2
   },
   {
    "_defaultOrder": 1,
    "_isFastLaunch": false,
    "category": "General purpose",
    "gpuNum": 0,
    "hideHardwareSpecs": false,
    "memoryGiB": 8,
    "name": "ml.t3.large",
    "vcpuNum": 2
   },
   {
    "_defaultOrder": 2,
    "_isFastLaunch": false,
    "category": "General purpose",
    "gpuNum": 0,
    "hideHardwareSpecs": false,
    "memoryGiB": 16,
    "name": "ml.t3.xlarge",
    "vcpuNum": 4
   },
   {
    "_defaultOrder": 3,
    "_isFastLaunch": false,
    "category": "General purpose",
    "gpuNum": 0,
    "hideHardwareSpecs": false,
    "memoryGiB": 32,
    "name": "ml.t3.2xlarge",
    "vcpuNum": 8
   },
   {
    "_defaultOrder": 4,
    "_isFastLaunch": true,
    "category": "General purpose",
    "gpuNum": 0,
    "hideHardwareSpecs": false,
    "memoryGiB": 8,
    "name": "ml.m5.large",
    "vcpuNum": 2
   },
   {
    "_defaultOrder": 5,
    "_isFastLaunch": false,
    "category": "General purpose",
    "gpuNum": 0,
    "hideHardwareSpecs": false,
    "memoryGiB": 16,
    "name": "ml.m5.xlarge",
    "vcpuNum": 4
   },
   {
    "_defaultOrder": 6,
    "_isFastLaunch": false,
    "category": "General purpose",
    "gpuNum": 0,
    "hideHardwareSpecs": false,
    "memoryGiB": 32,
    "name": "ml.m5.2xlarge",
    "vcpuNum": 8
   },
   {
    "_defaultOrder": 7,
    "_isFastLaunch": false,
    "category": "General purpose",
    "gpuNum": 0,
    "hideHardwareSpecs": false,
    "memoryGiB": 64,
    "name": "ml.m5.4xlarge",
    "vcpuNum": 16
   },
   {
    "_defaultOrder": 8,
    "_isFastLaunch": false,
    "category": "General purpose",
    "gpuNum": 0,
    "hideHardwareSpecs": false,
    "memoryGiB": 128,
    "name": "ml.m5.8xlarge",
    "vcpuNum": 32
   },
   {
    "_defaultOrder": 9,
    "_isFastLaunch": false,
    "category": "General purpose",
    "gpuNum": 0,
    "hideHardwareSpecs": false,
    "memoryGiB": 192,
    "name": "ml.m5.12xlarge",
    "vcpuNum": 48
   },
   {
    "_defaultOrder": 10,
    "_isFastLaunch": false,
    "category": "General purpose",
    "gpuNum": 0,
    "hideHardwareSpecs": false,
    "memoryGiB": 256,
    "name": "ml.m5.16xlarge",
    "vcpuNum": 64
   },
   {
    "_defaultOrder": 11,
    "_isFastLaunch": false,
    "category": "General purpose",
    "gpuNum": 0,
    "hideHardwareSpecs": false,
    "memoryGiB": 384,
    "name": "ml.m5.24xlarge",
    "vcpuNum": 96
   },
   {
    "_defaultOrder": 12,
    "_isFastLaunch": false,
    "category": "General purpose",
    "gpuNum": 0,
    "hideHardwareSpecs": false,
    "memoryGiB": 8,
    "name": "ml.m5d.large",
    "vcpuNum": 2
   },
   {
    "_defaultOrder": 13,
    "_isFastLaunch": false,
    "category": "General purpose",
    "gpuNum": 0,
    "hideHardwareSpecs": false,
    "memoryGiB": 16,
    "name": "ml.m5d.xlarge",
    "vcpuNum": 4
   },
   {
    "_defaultOrder": 14,
    "_isFastLaunch": false,
    "category": "General purpose",
    "gpuNum": 0,
    "hideHardwareSpecs": false,
    "memoryGiB": 32,
    "name": "ml.m5d.2xlarge",
    "vcpuNum": 8
   },
   {
    "_defaultOrder": 15,
    "_isFastLaunch": false,
    "category": "General purpose",
    "gpuNum": 0,
    "hideHardwareSpecs": false,
    "memoryGiB": 64,
    "name": "ml.m5d.4xlarge",
    "vcpuNum": 16
   },
   {
    "_defaultOrder": 16,
    "_isFastLaunch": false,
    "category": "General purpose",
    "gpuNum": 0,
    "hideHardwareSpecs": false,
    "memoryGiB": 128,
    "name": "ml.m5d.8xlarge",
    "vcpuNum": 32
   },
   {
    "_defaultOrder": 17,
    "_isFastLaunch": false,
    "category": "General purpose",
    "gpuNum": 0,
    "hideHardwareSpecs": false,
    "memoryGiB": 192,
    "name": "ml.m5d.12xlarge",
    "vcpuNum": 48
   },
   {
    "_defaultOrder": 18,
    "_isFastLaunch": false,
    "category": "General purpose",
    "gpuNum": 0,
    "hideHardwareSpecs": false,
    "memoryGiB": 256,
    "name": "ml.m5d.16xlarge",
    "vcpuNum": 64
   },
   {
    "_defaultOrder": 19,
    "_isFastLaunch": false,
    "category": "General purpose",
    "gpuNum": 0,
    "hideHardwareSpecs": false,
    "memoryGiB": 384,
    "name": "ml.m5d.24xlarge",
    "vcpuNum": 96
   },
   {
    "_defaultOrder": 20,
    "_isFastLaunch": false,
    "category": "General purpose",
    "gpuNum": 0,
    "hideHardwareSpecs": true,
    "memoryGiB": 0,
    "name": "ml.geospatial.interactive",
    "supportedImageNames": [
     "sagemaker-geospatial-v1-0"
    ],
    "vcpuNum": 0
   },
   {
    "_defaultOrder": 21,
    "_isFastLaunch": true,
    "category": "Compute optimized",
    "gpuNum": 0,
    "hideHardwareSpecs": false,
    "memoryGiB": 4,
    "name": "ml.c5.large",
    "vcpuNum": 2
   },
   {
    "_defaultOrder": 22,
    "_isFastLaunch": false,
    "category": "Compute optimized",
    "gpuNum": 0,
    "hideHardwareSpecs": false,
    "memoryGiB": 8,
    "name": "ml.c5.xlarge",
    "vcpuNum": 4
   },
   {
    "_defaultOrder": 23,
    "_isFastLaunch": false,
    "category": "Compute optimized",
    "gpuNum": 0,
    "hideHardwareSpecs": false,
    "memoryGiB": 16,
    "name": "ml.c5.2xlarge",
    "vcpuNum": 8
   },
   {
    "_defaultOrder": 24,
    "_isFastLaunch": false,
    "category": "Compute optimized",
    "gpuNum": 0,
    "hideHardwareSpecs": false,
    "memoryGiB": 32,
    "name": "ml.c5.4xlarge",
    "vcpuNum": 16
   },
   {
    "_defaultOrder": 25,
    "_isFastLaunch": false,
    "category": "Compute optimized",
    "gpuNum": 0,
    "hideHardwareSpecs": false,
    "memoryGiB": 72,
    "name": "ml.c5.9xlarge",
    "vcpuNum": 36
   },
   {
    "_defaultOrder": 26,
    "_isFastLaunch": false,
    "category": "Compute optimized",
    "gpuNum": 0,
    "hideHardwareSpecs": false,
    "memoryGiB": 96,
    "name": "ml.c5.12xlarge",
    "vcpuNum": 48
   },
   {
    "_defaultOrder": 27,
    "_isFastLaunch": false,
    "category": "Compute optimized",
    "gpuNum": 0,
    "hideHardwareSpecs": false,
    "memoryGiB": 144,
    "name": "ml.c5.18xlarge",
    "vcpuNum": 72
   },
   {
    "_defaultOrder": 28,
    "_isFastLaunch": false,
    "category": "Compute optimized",
    "gpuNum": 0,
    "hideHardwareSpecs": false,
    "memoryGiB": 192,
    "name": "ml.c5.24xlarge",
    "vcpuNum": 96
   },
   {
    "_defaultOrder": 29,
    "_isFastLaunch": true,
    "category": "Accelerated computing",
    "gpuNum": 1,
    "hideHardwareSpecs": false,
    "memoryGiB": 16,
    "name": "ml.g4dn.xlarge",
    "vcpuNum": 4
   },
   {
    "_defaultOrder": 30,
    "_isFastLaunch": false,
    "category": "Accelerated computing",
    "gpuNum": 1,
    "hideHardwareSpecs": false,
    "memoryGiB": 32,
    "name": "ml.g4dn.2xlarge",
    "vcpuNum": 8
   },
   {
    "_defaultOrder": 31,
    "_isFastLaunch": false,
    "category": "Accelerated computing",
    "gpuNum": 1,
    "hideHardwareSpecs": false,
    "memoryGiB": 64,
    "name": "ml.g4dn.4xlarge",
    "vcpuNum": 16
   },
   {
    "_defaultOrder": 32,
    "_isFastLaunch": false,
    "category": "Accelerated computing",
    "gpuNum": 1,
    "hideHardwareSpecs": false,
    "memoryGiB": 128,
    "name": "ml.g4dn.8xlarge",
    "vcpuNum": 32
   },
   {
    "_defaultOrder": 33,
    "_isFastLaunch": false,
    "category": "Accelerated computing",
    "gpuNum": 4,
    "hideHardwareSpecs": false,
    "memoryGiB": 192,
    "name": "ml.g4dn.12xlarge",
    "vcpuNum": 48
   },
   {
    "_defaultOrder": 34,
    "_isFastLaunch": false,
    "category": "Accelerated computing",
    "gpuNum": 1,
    "hideHardwareSpecs": false,
    "memoryGiB": 256,
    "name": "ml.g4dn.16xlarge",
    "vcpuNum": 64
   },
   {
    "_defaultOrder": 35,
    "_isFastLaunch": false,
    "category": "Accelerated computing",
    "gpuNum": 1,
    "hideHardwareSpecs": false,
    "memoryGiB": 61,
    "name": "ml.p3.2xlarge",
    "vcpuNum": 8
   },
   {
    "_defaultOrder": 36,
    "_isFastLaunch": false,
    "category": "Accelerated computing",
    "gpuNum": 4,
    "hideHardwareSpecs": false,
    "memoryGiB": 244,
    "name": "ml.p3.8xlarge",
    "vcpuNum": 32
   },
   {
    "_defaultOrder": 37,
    "_isFastLaunch": false,
    "category": "Accelerated computing",
    "gpuNum": 8,
    "hideHardwareSpecs": false,
    "memoryGiB": 488,
    "name": "ml.p3.16xlarge",
    "vcpuNum": 64
   },
   {
    "_defaultOrder": 38,
    "_isFastLaunch": false,
    "category": "Accelerated computing",
    "gpuNum": 8,
    "hideHardwareSpecs": false,
    "memoryGiB": 768,
    "name": "ml.p3dn.24xlarge",
    "vcpuNum": 96
   },
   {
    "_defaultOrder": 39,
    "_isFastLaunch": false,
    "category": "Memory Optimized",
    "gpuNum": 0,
    "hideHardwareSpecs": false,
    "memoryGiB": 16,
    "name": "ml.r5.large",
    "vcpuNum": 2
   },
   {
    "_defaultOrder": 40,
    "_isFastLaunch": false,
    "category": "Memory Optimized",
    "gpuNum": 0,
    "hideHardwareSpecs": false,
    "memoryGiB": 32,
    "name": "ml.r5.xlarge",
    "vcpuNum": 4
   },
   {
    "_defaultOrder": 41,
    "_isFastLaunch": false,
    "category": "Memory Optimized",
    "gpuNum": 0,
    "hideHardwareSpecs": false,
    "memoryGiB": 64,
    "name": "ml.r5.2xlarge",
    "vcpuNum": 8
   },
   {
    "_defaultOrder": 42,
    "_isFastLaunch": false,
    "category": "Memory Optimized",
    "gpuNum": 0,
    "hideHardwareSpecs": false,
    "memoryGiB": 128,
    "name": "ml.r5.4xlarge",
    "vcpuNum": 16
   },
   {
    "_defaultOrder": 43,
    "_isFastLaunch": false,
    "category": "Memory Optimized",
    "gpuNum": 0,
    "hideHardwareSpecs": false,
    "memoryGiB": 256,
    "name": "ml.r5.8xlarge",
    "vcpuNum": 32
   },
   {
    "_defaultOrder": 44,
    "_isFastLaunch": false,
    "category": "Memory Optimized",
    "gpuNum": 0,
    "hideHardwareSpecs": false,
    "memoryGiB": 384,
    "name": "ml.r5.12xlarge",
    "vcpuNum": 48
   },
   {
    "_defaultOrder": 45,
    "_isFastLaunch": false,
    "category": "Memory Optimized",
    "gpuNum": 0,
    "hideHardwareSpecs": false,
    "memoryGiB": 512,
    "name": "ml.r5.16xlarge",
    "vcpuNum": 64
   },
   {
    "_defaultOrder": 46,
    "_isFastLaunch": false,
    "category": "Memory Optimized",
    "gpuNum": 0,
    "hideHardwareSpecs": false,
    "memoryGiB": 768,
    "name": "ml.r5.24xlarge",
    "vcpuNum": 96
   },
   {
    "_defaultOrder": 47,
    "_isFastLaunch": false,
    "category": "Accelerated computing",
    "gpuNum": 1,
    "hideHardwareSpecs": false,
    "memoryGiB": 16,
    "name": "ml.g5.xlarge",
    "vcpuNum": 4
   },
   {
    "_defaultOrder": 48,
    "_isFastLaunch": false,
    "category": "Accelerated computing",
    "gpuNum": 1,
    "hideHardwareSpecs": false,
    "memoryGiB": 32,
    "name": "ml.g5.2xlarge",
    "vcpuNum": 8
   },
   {
    "_defaultOrder": 49,
    "_isFastLaunch": false,
    "category": "Accelerated computing",
    "gpuNum": 1,
    "hideHardwareSpecs": false,
    "memoryGiB": 64,
    "name": "ml.g5.4xlarge",
    "vcpuNum": 16
   },
   {
    "_defaultOrder": 50,
    "_isFastLaunch": false,
    "category": "Accelerated computing",
    "gpuNum": 1,
    "hideHardwareSpecs": false,
    "memoryGiB": 128,
    "name": "ml.g5.8xlarge",
    "vcpuNum": 32
   },
   {
    "_defaultOrder": 51,
    "_isFastLaunch": false,
    "category": "Accelerated computing",
    "gpuNum": 1,
    "hideHardwareSpecs": false,
    "memoryGiB": 256,
    "name": "ml.g5.16xlarge",
    "vcpuNum": 64
   },
   {
    "_defaultOrder": 52,
    "_isFastLaunch": false,
    "category": "Accelerated computing",
    "gpuNum": 4,
    "hideHardwareSpecs": false,
    "memoryGiB": 192,
    "name": "ml.g5.12xlarge",
    "vcpuNum": 48
   },
   {
    "_defaultOrder": 53,
    "_isFastLaunch": false,
    "category": "Accelerated computing",
    "gpuNum": 4,
    "hideHardwareSpecs": false,
    "memoryGiB": 384,
    "name": "ml.g5.24xlarge",
    "vcpuNum": 96
   },
   {
    "_defaultOrder": 54,
    "_isFastLaunch": false,
    "category": "Accelerated computing",
    "gpuNum": 8,
    "hideHardwareSpecs": false,
    "memoryGiB": 768,
    "name": "ml.g5.48xlarge",
    "vcpuNum": 192
   },
   {
    "_defaultOrder": 55,
    "_isFastLaunch": false,
    "category": "Accelerated computing",
    "gpuNum": 8,
    "hideHardwareSpecs": false,
    "memoryGiB": 1152,
    "name": "ml.p4d.24xlarge",
    "vcpuNum": 96
   },
   {
    "_defaultOrder": 56,
    "_isFastLaunch": false,
    "category": "Accelerated computing",
    "gpuNum": 8,
    "hideHardwareSpecs": false,
    "memoryGiB": 1152,
    "name": "ml.p4de.24xlarge",
    "vcpuNum": 96
   }
  ],
  "instance_type": "ml.t3.medium",
  "kernelspec": {
   "display_name": "Python 3 (Data Science)",
   "language": "python",
   "name": "python3__SAGEMAKER_INTERNAL__arn:aws:sagemaker:us-east-1:081325390199:image/datascience-1.0"
  },
  "language_info": {
   "codemirror_mode": {
    "name": "ipython",
    "version": 3
   },
   "file_extension": ".py",
   "mimetype": "text/x-python",
   "name": "python",
   "nbconvert_exporter": "python",
   "pygments_lexer": "ipython3",
   "version": "3.7.10"
  }
 },
 "nbformat": 4,
 "nbformat_minor": 5
}
