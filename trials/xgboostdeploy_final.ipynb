{
 "cells": [
  {
   "cell_type": "code",
   "execution_count": 2,
   "id": "64df4ccc-6637-42b3-8a50-955a93856804",
   "metadata": {
    "tags": []
   },
   "outputs": [],
   "source": [
    "import boto3\n",
    "s3=boto3.resource('s3')"
   ]
  },
  {
   "cell_type": "code",
   "execution_count": 3,
   "id": "6dee833c-a592-47a6-96f8-75e9e1305b8f",
   "metadata": {
    "tags": []
   },
   "outputs": [
    {
     "name": "stdout",
     "output_type": "stream",
     "text": [
      "S3 bucket fractionatordata was created\n"
     ]
    }
   ],
   "source": [
    "bucket_name='fractionatordata'\n",
    "try:\n",
    "    s3.create_bucket(Bucket=bucket_name)\n",
    "    print(\"S3 bucket {} was created\".format(bucket_name))\n",
    "except Exception as e:\n",
    "    print(\"S3 error: \",e)"
   ]
  },
  {
   "cell_type": "code",
   "execution_count": 4,
   "id": "20c4fc09-706e-4302-bff0-5b5212a63348",
   "metadata": {
    "tags": []
   },
   "outputs": [],
   "source": [
    "import numpy as np\n",
    "import matplotlib.pyplot as plt\n",
    "import pandas as pd\n",
    "import sklearn\n",
    "from scipy import stats\n",
    "from sklearn.metrics import mean_absolute_error \n",
    "from sklearn.metrics import mean_squared_error \n",
    "from sklearn.metrics import median_absolute_error\n",
    "from datetime import date\n",
    "from sklearn.preprocessing import MinMaxScaler\n"
   ]
  },
  {
   "cell_type": "code",
   "execution_count": 5,
   "id": "a2a75a31-2158-429c-ae64-bf8954a97c79",
   "metadata": {
    "tags": []
   },
   "outputs": [],
   "source": [
    "df=pd.read_csv('Fractionator.csv')"
   ]
  },
  {
   "cell_type": "code",
   "execution_count": 6,
   "id": "bf997e2e-fc26-469a-800e-0f09135b4005",
   "metadata": {
    "tags": []
   },
   "outputs": [],
   "source": [
    "df['Time']=pd.to_datetime(df['Time'])"
   ]
  },
  {
   "cell_type": "code",
   "execution_count": 7,
   "id": "38caa96e-d776-4ff3-b890-17df9c287827",
   "metadata": {
    "tags": []
   },
   "outputs": [],
   "source": [
    "df=df[(np.abs(stats.zscore(df[\"AI_2020_OVERHEAD_C5'S_MOL\"])) < 3)]"
   ]
  },
  {
   "cell_type": "code",
   "execution_count": 8,
   "id": "d7fedc69-d502-4ef8-9089-63809e2a3bfa",
   "metadata": {
    "tags": []
   },
   "outputs": [],
   "source": [
    "df.rename(columns = {\"AI_2020_OVERHEAD_C5'S_MOL\":\"AI_top\",\"AI_2021_MIDDLE_C7'S_MOL\":\"AI_middle\",\"AI_2022_BOTTOM_C3'S_MOL\":\"AI_bottom\",\n",
    "                          'FIC_2100_PV_FEED_FURNACE_FUEL_SCFH':'Furnace' ,'FIC_2004_PV_TOP_REFLUX_MBBL/D':'Reflux_top',\n",
    "                    'FI-2005_PV_FEED_FLOW_MBBL/D':'Feed'\n",
    " }, inplace = True)"
   ]
  },
  {
   "cell_type": "code",
   "execution_count": 9,
   "id": "c5f03b5c-eb1b-41e4-8974-703cb0306043",
   "metadata": {
    "tags": []
   },
   "outputs": [],
   "source": [
    "df_uni=df[['AI_top','Furnace','Feed','Reflux_top',]]"
   ]
  },
  {
   "cell_type": "code",
   "execution_count": 10,
   "id": "50c85427-dbb3-492a-8647-229b7d6b782c",
   "metadata": {
    "tags": []
   },
   "outputs": [],
   "source": [
    "df_Xgb=df_uni[['AI_top']]"
   ]
  },
  {
   "cell_type": "code",
   "execution_count": 11,
   "id": "5ca219b6-282f-44b4-9934-ff19415f9cdb",
   "metadata": {
    "tags": []
   },
   "outputs": [
    {
     "data": {
      "text/html": [
       "<div>\n",
       "<style scoped>\n",
       "    .dataframe tbody tr th:only-of-type {\n",
       "        vertical-align: middle;\n",
       "    }\n",
       "\n",
       "    .dataframe tbody tr th {\n",
       "        vertical-align: top;\n",
       "    }\n",
       "\n",
       "    .dataframe thead th {\n",
       "        text-align: right;\n",
       "    }\n",
       "</style>\n",
       "<table border=\"1\" class=\"dataframe\">\n",
       "  <thead>\n",
       "    <tr style=\"text-align: right;\">\n",
       "      <th></th>\n",
       "      <th>AI_top</th>\n",
       "    </tr>\n",
       "  </thead>\n",
       "  <tbody>\n",
       "    <tr>\n",
       "      <th>0</th>\n",
       "      <td>2.00000</td>\n",
       "    </tr>\n",
       "    <tr>\n",
       "      <th>1</th>\n",
       "      <td>2.00360</td>\n",
       "    </tr>\n",
       "    <tr>\n",
       "      <th>2</th>\n",
       "      <td>2.00870</td>\n",
       "    </tr>\n",
       "    <tr>\n",
       "      <th>3</th>\n",
       "      <td>2.00385</td>\n",
       "    </tr>\n",
       "    <tr>\n",
       "      <th>4</th>\n",
       "      <td>1.99852</td>\n",
       "    </tr>\n",
       "  </tbody>\n",
       "</table>\n",
       "</div>"
      ],
      "text/plain": [
       "    AI_top\n",
       "0  2.00000\n",
       "1  2.00360\n",
       "2  2.00870\n",
       "3  2.00385\n",
       "4  1.99852"
      ]
     },
     "execution_count": 11,
     "metadata": {},
     "output_type": "execute_result"
    }
   ],
   "source": [
    "df_Xgb.head()"
   ]
  },
  {
   "cell_type": "code",
   "execution_count": 12,
   "id": "c3d96332-bd22-4a3a-91f2-5b3406e5f4f0",
   "metadata": {
    "tags": []
   },
   "outputs": [],
   "source": [
    "def df_to_X_y(df, window_size=10):\n",
    "  df_np = df_Xgb.to_numpy()\n",
    "  X = []\n",
    "  y = []\n",
    "  for i in range(len(df_np)-window_size):\n",
    "    row = [r for r in df_np[i:i+window_size]]\n",
    "    X.append(row)\n",
    "    label = df_np[i+window_size][0]\n",
    "    y.append(label)\n",
    "  return np.array(X), np.array(y)"
   ]
  },
  {
   "cell_type": "code",
   "execution_count": 13,
   "id": "659df495-5a81-4995-bc41-d9a7d6156d0b",
   "metadata": {
    "tags": []
   },
   "outputs": [
    {
     "data": {
      "text/plain": [
       "((5719, 10, 1), (5719,))"
      ]
     },
     "execution_count": 13,
     "metadata": {},
     "output_type": "execute_result"
    }
   ],
   "source": [
    "X,y= df_to_X_y(df_Xgb,window_size=10)\n",
    "X.shape, y.shape"
   ]
  },
  {
   "cell_type": "code",
   "execution_count": 14,
   "id": "35c73c7b-18cc-4d87-a9f5-1ec842fd44a5",
   "metadata": {
    "tags": []
   },
   "outputs": [
    {
     "name": "stdout",
     "output_type": "stream",
     "text": [
      "(5719,)\n"
     ]
    },
    {
     "data": {
      "text/plain": [
       "(5719, 10)"
      ]
     },
     "execution_count": 14,
     "metadata": {},
     "output_type": "execute_result"
    }
   ],
   "source": [
    "y=y.reshape([5719])\n",
    "print(y.shape)\n",
    "X=X.reshape([5719,10])\n",
    "X.shape"
   ]
  },
  {
   "cell_type": "code",
   "execution_count": 15,
   "id": "aa241d4d-fed3-493f-b5bb-41385d956cca",
   "metadata": {
    "tags": []
   },
   "outputs": [
    {
     "data": {
      "text/html": [
       "<div>\n",
       "<style scoped>\n",
       "    .dataframe tbody tr th:only-of-type {\n",
       "        vertical-align: middle;\n",
       "    }\n",
       "\n",
       "    .dataframe tbody tr th {\n",
       "        vertical-align: top;\n",
       "    }\n",
       "\n",
       "    .dataframe thead th {\n",
       "        text-align: right;\n",
       "    }\n",
       "</style>\n",
       "<table border=\"1\" class=\"dataframe\">\n",
       "  <thead>\n",
       "    <tr style=\"text-align: right;\">\n",
       "      <th></th>\n",
       "      <th>t0</th>\n",
       "      <th>t1</th>\n",
       "      <th>t2</th>\n",
       "      <th>t3</th>\n",
       "      <th>t4</th>\n",
       "      <th>t5</th>\n",
       "      <th>t6</th>\n",
       "      <th>t7</th>\n",
       "      <th>t8</th>\n",
       "      <th>t9</th>\n",
       "    </tr>\n",
       "  </thead>\n",
       "  <tbody>\n",
       "    <tr>\n",
       "      <th>0</th>\n",
       "      <td>2.00000</td>\n",
       "      <td>2.00360</td>\n",
       "      <td>2.00870</td>\n",
       "      <td>2.00385</td>\n",
       "      <td>1.99852</td>\n",
       "      <td>1.99710</td>\n",
       "      <td>2.00260</td>\n",
       "      <td>2.01440</td>\n",
       "      <td>2.01669</td>\n",
       "      <td>2.02368</td>\n",
       "    </tr>\n",
       "    <tr>\n",
       "      <th>1</th>\n",
       "      <td>2.00360</td>\n",
       "      <td>2.00870</td>\n",
       "      <td>2.00385</td>\n",
       "      <td>1.99852</td>\n",
       "      <td>1.99710</td>\n",
       "      <td>2.00260</td>\n",
       "      <td>2.01440</td>\n",
       "      <td>2.01669</td>\n",
       "      <td>2.02368</td>\n",
       "      <td>2.01608</td>\n",
       "    </tr>\n",
       "    <tr>\n",
       "      <th>2</th>\n",
       "      <td>2.00870</td>\n",
       "      <td>2.00385</td>\n",
       "      <td>1.99852</td>\n",
       "      <td>1.99710</td>\n",
       "      <td>2.00260</td>\n",
       "      <td>2.01440</td>\n",
       "      <td>2.01669</td>\n",
       "      <td>2.02368</td>\n",
       "      <td>2.01608</td>\n",
       "      <td>2.02237</td>\n",
       "    </tr>\n",
       "    <tr>\n",
       "      <th>3</th>\n",
       "      <td>2.00385</td>\n",
       "      <td>1.99852</td>\n",
       "      <td>1.99710</td>\n",
       "      <td>2.00260</td>\n",
       "      <td>2.01440</td>\n",
       "      <td>2.01669</td>\n",
       "      <td>2.02368</td>\n",
       "      <td>2.01608</td>\n",
       "      <td>2.02237</td>\n",
       "      <td>2.02020</td>\n",
       "    </tr>\n",
       "    <tr>\n",
       "      <th>4</th>\n",
       "      <td>1.99852</td>\n",
       "      <td>1.99710</td>\n",
       "      <td>2.00260</td>\n",
       "      <td>2.01440</td>\n",
       "      <td>2.01669</td>\n",
       "      <td>2.02368</td>\n",
       "      <td>2.01608</td>\n",
       "      <td>2.02237</td>\n",
       "      <td>2.02020</td>\n",
       "      <td>2.01924</td>\n",
       "    </tr>\n",
       "  </tbody>\n",
       "</table>\n",
       "</div>"
      ],
      "text/plain": [
       "        t0       t1       t2       t3       t4       t5       t6       t7  \\\n",
       "0  2.00000  2.00360  2.00870  2.00385  1.99852  1.99710  2.00260  2.01440   \n",
       "1  2.00360  2.00870  2.00385  1.99852  1.99710  2.00260  2.01440  2.01669   \n",
       "2  2.00870  2.00385  1.99852  1.99710  2.00260  2.01440  2.01669  2.02368   \n",
       "3  2.00385  1.99852  1.99710  2.00260  2.01440  2.01669  2.02368  2.01608   \n",
       "4  1.99852  1.99710  2.00260  2.01440  2.01669  2.02368  2.01608  2.02237   \n",
       "\n",
       "        t8       t9  \n",
       "0  2.01669  2.02368  \n",
       "1  2.02368  2.01608  \n",
       "2  2.01608  2.02237  \n",
       "3  2.02237  2.02020  \n",
       "4  2.02020  2.01924  "
      ]
     },
     "execution_count": 15,
     "metadata": {},
     "output_type": "execute_result"
    }
   ],
   "source": [
    "X_dataframe=pd.DataFrame(X,columns=['t0','t1','t2','t3','t4','t5','t6','t7','t8','t9'])\n",
    "X_dataframe.head()"
   ]
  },
  {
   "cell_type": "code",
   "execution_count": 16,
   "id": "8145937b-a19b-414d-a41c-a15af5799714",
   "metadata": {
    "tags": []
   },
   "outputs": [
    {
     "data": {
      "text/html": [
       "<div>\n",
       "<style scoped>\n",
       "    .dataframe tbody tr th:only-of-type {\n",
       "        vertical-align: middle;\n",
       "    }\n",
       "\n",
       "    .dataframe tbody tr th {\n",
       "        vertical-align: top;\n",
       "    }\n",
       "\n",
       "    .dataframe thead th {\n",
       "        text-align: right;\n",
       "    }\n",
       "</style>\n",
       "<table border=\"1\" class=\"dataframe\">\n",
       "  <thead>\n",
       "    <tr style=\"text-align: right;\">\n",
       "      <th></th>\n",
       "      <th>t10</th>\n",
       "    </tr>\n",
       "  </thead>\n",
       "  <tbody>\n",
       "    <tr>\n",
       "      <th>0</th>\n",
       "      <td>2.01608</td>\n",
       "    </tr>\n",
       "    <tr>\n",
       "      <th>1</th>\n",
       "      <td>2.02237</td>\n",
       "    </tr>\n",
       "    <tr>\n",
       "      <th>2</th>\n",
       "      <td>2.02020</td>\n",
       "    </tr>\n",
       "    <tr>\n",
       "      <th>3</th>\n",
       "      <td>2.01924</td>\n",
       "    </tr>\n",
       "    <tr>\n",
       "      <th>4</th>\n",
       "      <td>2.01335</td>\n",
       "    </tr>\n",
       "  </tbody>\n",
       "</table>\n",
       "</div>"
      ],
      "text/plain": [
       "       t10\n",
       "0  2.01608\n",
       "1  2.02237\n",
       "2  2.02020\n",
       "3  2.01924\n",
       "4  2.01335"
      ]
     },
     "execution_count": 16,
     "metadata": {},
     "output_type": "execute_result"
    }
   ],
   "source": [
    "y_dataframe=pd.DataFrame(y,columns=['t10'])\n",
    "y_dataframe.head()"
   ]
  },
  {
   "cell_type": "code",
   "execution_count": 17,
   "id": "657e9944-0f72-451f-ad58-05c9f82a8343",
   "metadata": {
    "tags": []
   },
   "outputs": [
    {
     "data": {
      "text/html": [
       "<div>\n",
       "<style scoped>\n",
       "    .dataframe tbody tr th:only-of-type {\n",
       "        vertical-align: middle;\n",
       "    }\n",
       "\n",
       "    .dataframe tbody tr th {\n",
       "        vertical-align: top;\n",
       "    }\n",
       "\n",
       "    .dataframe thead th {\n",
       "        text-align: right;\n",
       "    }\n",
       "</style>\n",
       "<table border=\"1\" class=\"dataframe\">\n",
       "  <thead>\n",
       "    <tr style=\"text-align: right;\">\n",
       "      <th></th>\n",
       "      <th>t10</th>\n",
       "      <th>t0</th>\n",
       "      <th>t1</th>\n",
       "      <th>t2</th>\n",
       "      <th>t3</th>\n",
       "      <th>t4</th>\n",
       "      <th>t5</th>\n",
       "      <th>t6</th>\n",
       "      <th>t7</th>\n",
       "      <th>t8</th>\n",
       "      <th>t9</th>\n",
       "    </tr>\n",
       "  </thead>\n",
       "  <tbody>\n",
       "    <tr>\n",
       "      <th>0</th>\n",
       "      <td>2.01608</td>\n",
       "      <td>2.00000</td>\n",
       "      <td>2.00360</td>\n",
       "      <td>2.00870</td>\n",
       "      <td>2.00385</td>\n",
       "      <td>1.99852</td>\n",
       "      <td>1.99710</td>\n",
       "      <td>2.00260</td>\n",
       "      <td>2.01440</td>\n",
       "      <td>2.01669</td>\n",
       "      <td>2.02368</td>\n",
       "    </tr>\n",
       "    <tr>\n",
       "      <th>1</th>\n",
       "      <td>2.02237</td>\n",
       "      <td>2.00360</td>\n",
       "      <td>2.00870</td>\n",
       "      <td>2.00385</td>\n",
       "      <td>1.99852</td>\n",
       "      <td>1.99710</td>\n",
       "      <td>2.00260</td>\n",
       "      <td>2.01440</td>\n",
       "      <td>2.01669</td>\n",
       "      <td>2.02368</td>\n",
       "      <td>2.01608</td>\n",
       "    </tr>\n",
       "    <tr>\n",
       "      <th>2</th>\n",
       "      <td>2.02020</td>\n",
       "      <td>2.00870</td>\n",
       "      <td>2.00385</td>\n",
       "      <td>1.99852</td>\n",
       "      <td>1.99710</td>\n",
       "      <td>2.00260</td>\n",
       "      <td>2.01440</td>\n",
       "      <td>2.01669</td>\n",
       "      <td>2.02368</td>\n",
       "      <td>2.01608</td>\n",
       "      <td>2.02237</td>\n",
       "    </tr>\n",
       "    <tr>\n",
       "      <th>3</th>\n",
       "      <td>2.01924</td>\n",
       "      <td>2.00385</td>\n",
       "      <td>1.99852</td>\n",
       "      <td>1.99710</td>\n",
       "      <td>2.00260</td>\n",
       "      <td>2.01440</td>\n",
       "      <td>2.01669</td>\n",
       "      <td>2.02368</td>\n",
       "      <td>2.01608</td>\n",
       "      <td>2.02237</td>\n",
       "      <td>2.02020</td>\n",
       "    </tr>\n",
       "    <tr>\n",
       "      <th>4</th>\n",
       "      <td>2.01335</td>\n",
       "      <td>1.99852</td>\n",
       "      <td>1.99710</td>\n",
       "      <td>2.00260</td>\n",
       "      <td>2.01440</td>\n",
       "      <td>2.01669</td>\n",
       "      <td>2.02368</td>\n",
       "      <td>2.01608</td>\n",
       "      <td>2.02237</td>\n",
       "      <td>2.02020</td>\n",
       "      <td>2.01924</td>\n",
       "    </tr>\n",
       "  </tbody>\n",
       "</table>\n",
       "</div>"
      ],
      "text/plain": [
       "       t10       t0       t1       t2       t3       t4       t5       t6  \\\n",
       "0  2.01608  2.00000  2.00360  2.00870  2.00385  1.99852  1.99710  2.00260   \n",
       "1  2.02237  2.00360  2.00870  2.00385  1.99852  1.99710  2.00260  2.01440   \n",
       "2  2.02020  2.00870  2.00385  1.99852  1.99710  2.00260  2.01440  2.01669   \n",
       "3  2.01924  2.00385  1.99852  1.99710  2.00260  2.01440  2.01669  2.02368   \n",
       "4  2.01335  1.99852  1.99710  2.00260  2.01440  2.01669  2.02368  2.01608   \n",
       "\n",
       "        t7       t8       t9  \n",
       "0  2.01440  2.01669  2.02368  \n",
       "1  2.01669  2.02368  2.01608  \n",
       "2  2.02368  2.01608  2.02237  \n",
       "3  2.01608  2.02237  2.02020  \n",
       "4  2.02237  2.02020  2.01924  "
      ]
     },
     "execution_count": 17,
     "metadata": {},
     "output_type": "execute_result"
    }
   ],
   "source": [
    "xy=pd.DataFrame()\n",
    "xy['t10']=y_dataframe['t10']\n",
    "xy[['t0','t1','t2','t3','t4','t5','t6','t7','t8','t9']]=X_dataframe[['t0','t1','t2','t3','t4','t5','t6','t7','t8','t9']]\n",
    "xy.head()\n",
    "\n"
   ]
  },
  {
   "cell_type": "code",
   "execution_count": 18,
   "id": "8fe9ad3f-3da3-4cf3-bcfa-664e29bde149",
   "metadata": {
    "tags": []
   },
   "outputs": [
    {
     "data": {
      "text/html": [
       "<div>\n",
       "<style scoped>\n",
       "    .dataframe tbody tr th:only-of-type {\n",
       "        vertical-align: middle;\n",
       "    }\n",
       "\n",
       "    .dataframe tbody tr th {\n",
       "        vertical-align: top;\n",
       "    }\n",
       "\n",
       "    .dataframe thead th {\n",
       "        text-align: right;\n",
       "    }\n",
       "</style>\n",
       "<table border=\"1\" class=\"dataframe\">\n",
       "  <thead>\n",
       "    <tr style=\"text-align: right;\">\n",
       "      <th></th>\n",
       "      <th>t10</th>\n",
       "      <th>t0</th>\n",
       "      <th>t1</th>\n",
       "      <th>t2</th>\n",
       "      <th>t3</th>\n",
       "      <th>t4</th>\n",
       "      <th>t5</th>\n",
       "      <th>t6</th>\n",
       "      <th>t7</th>\n",
       "      <th>t8</th>\n",
       "      <th>t9</th>\n",
       "    </tr>\n",
       "  </thead>\n",
       "  <tbody>\n",
       "    <tr>\n",
       "      <th>5714</th>\n",
       "      <td>1.66446</td>\n",
       "      <td>1.71108</td>\n",
       "      <td>1.71109</td>\n",
       "      <td>1.69975</td>\n",
       "      <td>1.69506</td>\n",
       "      <td>1.68498</td>\n",
       "      <td>1.68894</td>\n",
       "      <td>1.68242</td>\n",
       "      <td>1.68244</td>\n",
       "      <td>1.67338</td>\n",
       "      <td>1.67325</td>\n",
       "    </tr>\n",
       "    <tr>\n",
       "      <th>5715</th>\n",
       "      <td>1.66227</td>\n",
       "      <td>1.71109</td>\n",
       "      <td>1.69975</td>\n",
       "      <td>1.69506</td>\n",
       "      <td>1.68498</td>\n",
       "      <td>1.68894</td>\n",
       "      <td>1.68242</td>\n",
       "      <td>1.68244</td>\n",
       "      <td>1.67338</td>\n",
       "      <td>1.67325</td>\n",
       "      <td>1.66446</td>\n",
       "    </tr>\n",
       "    <tr>\n",
       "      <th>5716</th>\n",
       "      <td>1.65845</td>\n",
       "      <td>1.69975</td>\n",
       "      <td>1.69506</td>\n",
       "      <td>1.68498</td>\n",
       "      <td>1.68894</td>\n",
       "      <td>1.68242</td>\n",
       "      <td>1.68244</td>\n",
       "      <td>1.67338</td>\n",
       "      <td>1.67325</td>\n",
       "      <td>1.66446</td>\n",
       "      <td>1.66227</td>\n",
       "    </tr>\n",
       "    <tr>\n",
       "      <th>5717</th>\n",
       "      <td>1.67002</td>\n",
       "      <td>1.69506</td>\n",
       "      <td>1.68498</td>\n",
       "      <td>1.68894</td>\n",
       "      <td>1.68242</td>\n",
       "      <td>1.68244</td>\n",
       "      <td>1.67338</td>\n",
       "      <td>1.67325</td>\n",
       "      <td>1.66446</td>\n",
       "      <td>1.66227</td>\n",
       "      <td>1.65845</td>\n",
       "    </tr>\n",
       "    <tr>\n",
       "      <th>5718</th>\n",
       "      <td>1.67681</td>\n",
       "      <td>1.68498</td>\n",
       "      <td>1.68894</td>\n",
       "      <td>1.68242</td>\n",
       "      <td>1.68244</td>\n",
       "      <td>1.67338</td>\n",
       "      <td>1.67325</td>\n",
       "      <td>1.66446</td>\n",
       "      <td>1.66227</td>\n",
       "      <td>1.65845</td>\n",
       "      <td>1.67002</td>\n",
       "    </tr>\n",
       "  </tbody>\n",
       "</table>\n",
       "</div>"
      ],
      "text/plain": [
       "          t10       t0       t1       t2       t3       t4       t5       t6  \\\n",
       "5714  1.66446  1.71108  1.71109  1.69975  1.69506  1.68498  1.68894  1.68242   \n",
       "5715  1.66227  1.71109  1.69975  1.69506  1.68498  1.68894  1.68242  1.68244   \n",
       "5716  1.65845  1.69975  1.69506  1.68498  1.68894  1.68242  1.68244  1.67338   \n",
       "5717  1.67002  1.69506  1.68498  1.68894  1.68242  1.68244  1.67338  1.67325   \n",
       "5718  1.67681  1.68498  1.68894  1.68242  1.68244  1.67338  1.67325  1.66446   \n",
       "\n",
       "           t7       t8       t9  \n",
       "5714  1.68244  1.67338  1.67325  \n",
       "5715  1.67338  1.67325  1.66446  \n",
       "5716  1.67325  1.66446  1.66227  \n",
       "5717  1.66446  1.66227  1.65845  \n",
       "5718  1.66227  1.65845  1.67002  "
      ]
     },
     "execution_count": 18,
     "metadata": {},
     "output_type": "execute_result"
    }
   ],
   "source": [
    "xy.tail(5)"
   ]
  },
  {
   "cell_type": "code",
   "execution_count": 19,
   "id": "ef6860e2-337b-424a-9c31-82b22f0088e2",
   "metadata": {
    "tags": []
   },
   "outputs": [
    {
     "data": {
      "text/html": [
       "<div>\n",
       "<style scoped>\n",
       "    .dataframe tbody tr th:only-of-type {\n",
       "        vertical-align: middle;\n",
       "    }\n",
       "\n",
       "    .dataframe tbody tr th {\n",
       "        vertical-align: top;\n",
       "    }\n",
       "\n",
       "    .dataframe thead th {\n",
       "        text-align: right;\n",
       "    }\n",
       "</style>\n",
       "<table border=\"1\" class=\"dataframe\">\n",
       "  <thead>\n",
       "    <tr style=\"text-align: right;\">\n",
       "      <th></th>\n",
       "      <th>t0</th>\n",
       "      <th>t1</th>\n",
       "      <th>t2</th>\n",
       "      <th>t3</th>\n",
       "      <th>t4</th>\n",
       "      <th>t5</th>\n",
       "      <th>t6</th>\n",
       "      <th>t7</th>\n",
       "      <th>t8</th>\n",
       "      <th>t9</th>\n",
       "    </tr>\n",
       "  </thead>\n",
       "  <tbody>\n",
       "    <tr>\n",
       "      <th>0</th>\n",
       "      <td>2.00000</td>\n",
       "      <td>2.00360</td>\n",
       "      <td>2.00870</td>\n",
       "      <td>2.00385</td>\n",
       "      <td>1.99852</td>\n",
       "      <td>1.99710</td>\n",
       "      <td>2.00260</td>\n",
       "      <td>2.01440</td>\n",
       "      <td>2.01669</td>\n",
       "      <td>2.02368</td>\n",
       "    </tr>\n",
       "    <tr>\n",
       "      <th>1</th>\n",
       "      <td>2.00360</td>\n",
       "      <td>2.00870</td>\n",
       "      <td>2.00385</td>\n",
       "      <td>1.99852</td>\n",
       "      <td>1.99710</td>\n",
       "      <td>2.00260</td>\n",
       "      <td>2.01440</td>\n",
       "      <td>2.01669</td>\n",
       "      <td>2.02368</td>\n",
       "      <td>2.01608</td>\n",
       "    </tr>\n",
       "    <tr>\n",
       "      <th>2</th>\n",
       "      <td>2.00870</td>\n",
       "      <td>2.00385</td>\n",
       "      <td>1.99852</td>\n",
       "      <td>1.99710</td>\n",
       "      <td>2.00260</td>\n",
       "      <td>2.01440</td>\n",
       "      <td>2.01669</td>\n",
       "      <td>2.02368</td>\n",
       "      <td>2.01608</td>\n",
       "      <td>2.02237</td>\n",
       "    </tr>\n",
       "    <tr>\n",
       "      <th>3</th>\n",
       "      <td>2.00385</td>\n",
       "      <td>1.99852</td>\n",
       "      <td>1.99710</td>\n",
       "      <td>2.00260</td>\n",
       "      <td>2.01440</td>\n",
       "      <td>2.01669</td>\n",
       "      <td>2.02368</td>\n",
       "      <td>2.01608</td>\n",
       "      <td>2.02237</td>\n",
       "      <td>2.02020</td>\n",
       "    </tr>\n",
       "    <tr>\n",
       "      <th>4</th>\n",
       "      <td>1.99852</td>\n",
       "      <td>1.99710</td>\n",
       "      <td>2.00260</td>\n",
       "      <td>2.01440</td>\n",
       "      <td>2.01669</td>\n",
       "      <td>2.02368</td>\n",
       "      <td>2.01608</td>\n",
       "      <td>2.02237</td>\n",
       "      <td>2.02020</td>\n",
       "      <td>2.01924</td>\n",
       "    </tr>\n",
       "    <tr>\n",
       "      <th>...</th>\n",
       "      <td>...</td>\n",
       "      <td>...</td>\n",
       "      <td>...</td>\n",
       "      <td>...</td>\n",
       "      <td>...</td>\n",
       "      <td>...</td>\n",
       "      <td>...</td>\n",
       "      <td>...</td>\n",
       "      <td>...</td>\n",
       "      <td>...</td>\n",
       "    </tr>\n",
       "    <tr>\n",
       "      <th>5714</th>\n",
       "      <td>1.71108</td>\n",
       "      <td>1.71109</td>\n",
       "      <td>1.69975</td>\n",
       "      <td>1.69506</td>\n",
       "      <td>1.68498</td>\n",
       "      <td>1.68894</td>\n",
       "      <td>1.68242</td>\n",
       "      <td>1.68244</td>\n",
       "      <td>1.67338</td>\n",
       "      <td>1.67325</td>\n",
       "    </tr>\n",
       "    <tr>\n",
       "      <th>5715</th>\n",
       "      <td>1.71109</td>\n",
       "      <td>1.69975</td>\n",
       "      <td>1.69506</td>\n",
       "      <td>1.68498</td>\n",
       "      <td>1.68894</td>\n",
       "      <td>1.68242</td>\n",
       "      <td>1.68244</td>\n",
       "      <td>1.67338</td>\n",
       "      <td>1.67325</td>\n",
       "      <td>1.66446</td>\n",
       "    </tr>\n",
       "    <tr>\n",
       "      <th>5716</th>\n",
       "      <td>1.69975</td>\n",
       "      <td>1.69506</td>\n",
       "      <td>1.68498</td>\n",
       "      <td>1.68894</td>\n",
       "      <td>1.68242</td>\n",
       "      <td>1.68244</td>\n",
       "      <td>1.67338</td>\n",
       "      <td>1.67325</td>\n",
       "      <td>1.66446</td>\n",
       "      <td>1.66227</td>\n",
       "    </tr>\n",
       "    <tr>\n",
       "      <th>5717</th>\n",
       "      <td>1.69506</td>\n",
       "      <td>1.68498</td>\n",
       "      <td>1.68894</td>\n",
       "      <td>1.68242</td>\n",
       "      <td>1.68244</td>\n",
       "      <td>1.67338</td>\n",
       "      <td>1.67325</td>\n",
       "      <td>1.66446</td>\n",
       "      <td>1.66227</td>\n",
       "      <td>1.65845</td>\n",
       "    </tr>\n",
       "    <tr>\n",
       "      <th>5718</th>\n",
       "      <td>1.68498</td>\n",
       "      <td>1.68894</td>\n",
       "      <td>1.68242</td>\n",
       "      <td>1.68244</td>\n",
       "      <td>1.67338</td>\n",
       "      <td>1.67325</td>\n",
       "      <td>1.66446</td>\n",
       "      <td>1.66227</td>\n",
       "      <td>1.65845</td>\n",
       "      <td>1.67002</td>\n",
       "    </tr>\n",
       "  </tbody>\n",
       "</table>\n",
       "<p>5719 rows × 10 columns</p>\n",
       "</div>"
      ],
      "text/plain": [
       "           t0       t1       t2       t3       t4       t5       t6       t7  \\\n",
       "0     2.00000  2.00360  2.00870  2.00385  1.99852  1.99710  2.00260  2.01440   \n",
       "1     2.00360  2.00870  2.00385  1.99852  1.99710  2.00260  2.01440  2.01669   \n",
       "2     2.00870  2.00385  1.99852  1.99710  2.00260  2.01440  2.01669  2.02368   \n",
       "3     2.00385  1.99852  1.99710  2.00260  2.01440  2.01669  2.02368  2.01608   \n",
       "4     1.99852  1.99710  2.00260  2.01440  2.01669  2.02368  2.01608  2.02237   \n",
       "...       ...      ...      ...      ...      ...      ...      ...      ...   \n",
       "5714  1.71108  1.71109  1.69975  1.69506  1.68498  1.68894  1.68242  1.68244   \n",
       "5715  1.71109  1.69975  1.69506  1.68498  1.68894  1.68242  1.68244  1.67338   \n",
       "5716  1.69975  1.69506  1.68498  1.68894  1.68242  1.68244  1.67338  1.67325   \n",
       "5717  1.69506  1.68498  1.68894  1.68242  1.68244  1.67338  1.67325  1.66446   \n",
       "5718  1.68498  1.68894  1.68242  1.68244  1.67338  1.67325  1.66446  1.66227   \n",
       "\n",
       "           t8       t9  \n",
       "0     2.01669  2.02368  \n",
       "1     2.02368  2.01608  \n",
       "2     2.01608  2.02237  \n",
       "3     2.02237  2.02020  \n",
       "4     2.02020  2.01924  \n",
       "...       ...      ...  \n",
       "5714  1.67338  1.67325  \n",
       "5715  1.67325  1.66446  \n",
       "5716  1.66446  1.66227  \n",
       "5717  1.66227  1.65845  \n",
       "5718  1.65845  1.67002  \n",
       "\n",
       "[5719 rows x 10 columns]"
      ]
     },
     "execution_count": 19,
     "metadata": {},
     "output_type": "execute_result"
    }
   ],
   "source": [
    "df_data_features=xy.iloc[:,1:]\n",
    "df_data_features"
   ]
  },
  {
   "cell_type": "code",
   "execution_count": 20,
   "id": "059d990b-daac-439a-a75a-60a760feadb7",
   "metadata": {
    "tags": []
   },
   "outputs": [
    {
     "data": {
      "text/plain": [
       "0       2.01608\n",
       "1       2.02237\n",
       "2       2.02020\n",
       "3       2.01924\n",
       "4       2.01335\n",
       "         ...   \n",
       "5714    1.66446\n",
       "5715    1.66227\n",
       "5716    1.65845\n",
       "5717    1.67002\n",
       "5718    1.67681\n",
       "Name: Targets, Length: 5719, dtype: float64"
      ]
     },
     "execution_count": 20,
     "metadata": {},
     "output_type": "execute_result"
    }
   ],
   "source": [
    "df_data_target=xy.iloc[:,0].rename(\"Targets\")\n",
    "df_data_target"
   ]
  },
  {
   "cell_type": "code",
   "execution_count": 23,
   "id": "bacfc6b8-c200-4d08-928d-7ffe5217ce48",
   "metadata": {
    "tags": []
   },
   "outputs": [
    {
     "data": {
      "text/plain": [
       "4575"
      ]
     },
     "execution_count": 23,
     "metadata": {},
     "output_type": "execute_result"
    }
   ],
   "source": [
    "split_index = int(len(xy) * 0.8)\n",
    "\n",
    "split_index"
   ]
  },
  {
   "cell_type": "code",
   "execution_count": 21,
   "id": "7322728c-2024-4871-a888-e34331674129",
   "metadata": {
    "tags": []
   },
   "outputs": [
    {
     "data": {
      "text/plain": [
       "((4575, 11), (1144, 11))"
      ]
     },
     "execution_count": 21,
     "metadata": {},
     "output_type": "execute_result"
    }
   ],
   "source": [
    "train_data,test_data=np.split(xy,[int(len(xy)*0.8)] )\n",
    "train_data.shape,test_data.shape"
   ]
  },
  {
   "cell_type": "code",
   "execution_count": 138,
   "id": "4b44a81e-c6e5-4dd2-86f5-121c816a23ec",
   "metadata": {
    "tags": []
   },
   "outputs": [
    {
     "name": "stdout",
     "output_type": "stream",
     "text": [
      "(4575, 11) (1144, 11)\n"
     ]
    }
   ],
   "source": [
    "train_data=xy.iloc[:split_index,:]\n",
    "test_data=xy.iloc[split_index:,:]\n",
    "#,test_data=np.split(xy,split_index)\n",
    "print(train_data.shape,test_data.shape)"
   ]
  },
  {
   "cell_type": "code",
   "execution_count": 24,
   "id": "b35dde49-5c05-450d-a5b0-da268dea47ab",
   "metadata": {
    "tags": []
   },
   "outputs": [
    {
     "data": {
      "text/plain": [
       "((4575, 10), (1144, 10), (4575,), (1144,))"
      ]
     },
     "execution_count": 24,
     "metadata": {},
     "output_type": "execute_result"
    }
   ],
   "source": [
    "\n",
    "X_train = X[:split_index]\n",
    "X_test = X[split_index:]\n",
    "\n",
    "y_train = y[:split_index]\n",
    "y_test = y[split_index:]\n",
    "\n",
    "X_train.shape, X_test.shape, y_train.shape, y_test.shape"
   ]
  },
  {
   "cell_type": "code",
   "execution_count": 25,
   "id": "0d205cd5-172c-4788-8418-1415ff1dbbe8",
   "metadata": {
    "tags": []
   },
   "outputs": [
    {
     "name": "stdout",
     "output_type": "stream",
     "text": [
      "s3://fractionatordata/xgboost_ai_top/train/train.csv\n",
      "s3://fractionatordata/xgboost_ai_top/test/test.csv\n"
     ]
    }
   ],
   "source": [
    "import os\n",
    "prefix=\"xgboost_ai_top\"\n",
    "train_csv_path='s3://{}/{}/{}/{}'.format(bucket_name,prefix,'train','train.csv')\n",
    "test_csv_path='s3://{}/{}/{}/{}'.format(bucket_name,prefix,'test','test.csv')\n",
    "print(train_csv_path)\n",
    "print(test_csv_path)\n"
   ]
  },
  {
   "cell_type": "code",
   "execution_count": 26,
   "id": "dfb4a785-4586-4dfe-8703-9a177c63e24f",
   "metadata": {
    "scrolled": true,
    "tags": []
   },
   "outputs": [],
   "source": [
    "train_data.to_csv(train_csv_path,index=False,header=False)\n",
    "test_data.to_csv(test_csv_path,index=False,header=False)\n"
   ]
  },
  {
   "cell_type": "code",
   "execution_count": 27,
   "id": "58a31a0e-9116-498e-8883-29c30a4b0b14",
   "metadata": {
    "tags": []
   },
   "outputs": [],
   "source": [
    "import sagemaker\n",
    "from sagemaker import image_uris\n",
    "from sagemaker.session import Session\n",
    "from sagemaker.inputs import TrainingInput"
   ]
  },
  {
   "cell_type": "code",
   "execution_count": 172,
   "id": "3e3d1a73-a6f8-4a4d-9390-fa69d3c4df8c",
   "metadata": {},
   "outputs": [
    {
     "name": "stderr",
     "output_type": "stream",
     "text": [
      "INFO:sagemaker.image_uris:Ignoring unnecessary instance type: None.\n"
     ]
    },
    {
     "data": {
      "text/plain": [
       "'683313688378.dkr.ecr.us-east-1.amazonaws.com/sagemaker-xgboost:1.5-1'"
      ]
     },
     "metadata": {},
     "output_type": "display_data"
    }
   ],
   "source": [
    "xgboost_container=image_uris.retrieve('xgboost',boto3.Session().region_name,\"1.5-1\")\n",
    "display(xgboost_container)"
   ]
  },
  {
   "cell_type": "code",
   "execution_count": 28,
   "id": "7d11cfbd-2cb6-4a81-8acb-87a901660fce",
   "metadata": {
    "tags": []
   },
   "outputs": [
    {
     "name": "stdout",
     "output_type": "stream",
     "text": [
      "Collecting xgboost\n",
      "  Downloading xgboost-1.6.2-py3-none-manylinux2014_x86_64.whl (255.9 MB)\n",
      "\u001b[2K     \u001b[90m━━━━━━━━━━━━━━━━━━━━━━━━━━━━━━━━━━━━━━━\u001b[0m \u001b[32m255.9/255.9 MB\u001b[0m \u001b[31m3.1 MB/s\u001b[0m eta \u001b[36m0:00:00\u001b[0m00:01\u001b[0m00:01\u001b[0m\n",
      "\u001b[?25hRequirement already satisfied: numpy in /opt/conda/lib/python3.7/site-packages (from xgboost) (1.21.6)\n",
      "Requirement already satisfied: scipy in /opt/conda/lib/python3.7/site-packages (from xgboost) (1.4.1)\n",
      "Installing collected packages: xgboost\n",
      "Successfully installed xgboost-1.6.2\n",
      "\u001b[33mWARNING: Running pip as the 'root' user can result in broken permissions and conflicting behaviour with the system package manager. It is recommended to use a virtual environment instead: https://pip.pypa.io/warnings/venv\u001b[0m\u001b[33m\n",
      "\u001b[0m\n",
      "\u001b[1m[\u001b[0m\u001b[34;49mnotice\u001b[0m\u001b[1;39;49m]\u001b[0m\u001b[39;49m A new release of pip is available: \u001b[0m\u001b[31;49m23.0.1\u001b[0m\u001b[39;49m -> \u001b[0m\u001b[32;49m23.1.1\u001b[0m\n",
      "\u001b[1m[\u001b[0m\u001b[34;49mnotice\u001b[0m\u001b[1;39;49m]\u001b[0m\u001b[39;49m To update, run: \u001b[0m\u001b[32;49mpip install --upgrade pip\u001b[0m\n"
     ]
    }
   ],
   "source": [
    "! pip install xgboost\n",
    " "
   ]
  },
  {
   "cell_type": "code",
   "execution_count": 29,
   "id": "ee54cac8-f909-4234-8329-74c130b32754",
   "metadata": {
    "tags": []
   },
   "outputs": [
    {
     "name": "stdout",
     "output_type": "stream",
     "text": [
      "s3://fractionatordata/xgboost_ai_top/output/\n"
     ]
    }
   ],
   "source": [
    "output_path=\"s3://{}/{}/{}/\".format(bucket_name,prefix,'output')\n",
    "print(output_path)"
   ]
  },
  {
   "cell_type": "code",
   "execution_count": 30,
   "id": "750fe400-f476-4e92-823c-d210e9290269",
   "metadata": {
    "tags": []
   },
   "outputs": [],
   "source": [
    "content_type=\"csv\"\n",
    "train_input=TrainingInput(\"s3://{}/{}/{}/\".format(bucket_name,prefix,'train',content_type=content_type))\n",
    "test_input=TrainingInput(\"s3://{}/{}/{}/\".format(bucket_name,prefix,'test',content_type=content_type))"
   ]
  },
  {
   "cell_type": "code",
   "execution_count": 31,
   "id": "52280e84-e043-41c0-b474-200408270f52",
   "metadata": {
    "tags": []
   },
   "outputs": [],
   "source": [
    "hyperparams = {\n",
    "    \"max_depth\": \"5\",\n",
    "    \"eta\": \"0.2\",\n",
    "    \"gamma\": \"4\",\n",
    "    \"min_child_weight\": \"6\",\n",
    "    \"subsample\": \"0.7\",\n",
    "    \"objective\": \"reg:squarederror\",\n",
    "    \"num_round\": \"50\",\n",
    "    \"verbosity\": \"2\",\n",
    "}\n",
    "\n",
    "instance_type = \"ml.m5.2xlarge\"\n",
    "output_path =output_path\n",
    "content_type = \"csv\""
   ]
  },
  {
   "cell_type": "code",
   "execution_count": 32,
   "id": "33ad80ba-a468-4662-8130-8c38c0468065",
   "metadata": {
    "tags": []
   },
   "outputs": [],
   "source": [
    "# Open Source distributed script mode\n",
    "from sagemaker.session import Session\n",
    "from sagemaker.inputs import TrainingInput\n",
    "from sagemaker.xgboost.estimator import XGBoost\n",
    "\n",
    "session = Session()\n",
    "script_path = \"train.py\"\n",
    "\n",
    "xgb_script_mode_estimator = XGBoost(\n",
    "    entry_point=script_path,\n",
    "    framework_version=\"1.7-1\",  # Note: framework_version is mandatory\n",
    "    hyperparameters=hyperparams,\n",
    "    role=sagemaker.get_execution_role(),\n",
    "    instance_count=1,\n",
    "    instance_type=instance_type,\n",
    "    output_path=output_path,\n",
    ")\n"
   ]
  },
  {
   "cell_type": "code",
   "execution_count": 33,
   "id": "cd49e4dc-e927-4db8-a0d6-7f4be945d9a5",
   "metadata": {
    "collapsed": true,
    "jupyter": {
     "outputs_hidden": true
    },
    "tags": []
   },
   "outputs": [
    {
     "name": "stderr",
     "output_type": "stream",
     "text": [
      "INFO:sagemaker:Creating training-job with name: sagemaker-xgboost-2023-04-23-19-59-03-609\n"
     ]
    },
    {
     "name": "stdout",
     "output_type": "stream",
     "text": [
      "2023-04-23 19:59:04 Starting - Starting the training job...\n",
      "2023-04-23 19:59:20 Starting - Preparing the instances for training...\n",
      "2023-04-23 20:00:01 Downloading - Downloading input data...\n",
      "2023-04-23 20:00:21 Training - Downloading the training image...\n",
      "2023-04-23 20:01:12 Uploading - Uploading generated training model\u001b[34m[2023-04-23 20:01:04.745 ip-10-0-66-241.ec2.internal:7 INFO utils.py:28] RULE_JOB_STOP_SIGNAL_FILENAME: None\u001b[0m\n",
      "\u001b[34m[2023-04-23 20:01:04.827 ip-10-0-66-241.ec2.internal:7 INFO profiler_config_parser.py:111] User has disabled profiler.\u001b[0m\n",
      "\u001b[34m[2023-04-23:20:01:05:INFO] Imported framework sagemaker_xgboost_container.training\u001b[0m\n",
      "\u001b[34m[2023-04-23:20:01:05:INFO] No GPUs detected (normal if no gpus installed)\u001b[0m\n",
      "\u001b[34m[2023-04-23:20:01:05:INFO] Invoking user training script.\u001b[0m\n",
      "\u001b[34m[2023-04-23:20:01:05:INFO] Module train does not provide a setup.py. \u001b[0m\n",
      "\u001b[34mGenerating setup.py\u001b[0m\n",
      "\u001b[34m[2023-04-23:20:01:05:INFO] Generating setup.cfg\u001b[0m\n",
      "\u001b[34m[2023-04-23:20:01:05:INFO] Generating MANIFEST.in\u001b[0m\n",
      "\u001b[34m[2023-04-23:20:01:05:INFO] Installing module with the following command:\u001b[0m\n",
      "\u001b[34m/miniconda3/bin/python3 -m pip install . \u001b[0m\n",
      "\u001b[34mProcessing /opt/ml/code\n",
      "  Preparing metadata (setup.py): started\u001b[0m\n",
      "\u001b[34m  Preparing metadata (setup.py): finished with status 'done'\u001b[0m\n",
      "\u001b[34mBuilding wheels for collected packages: train\n",
      "  Building wheel for train (setup.py): started\n",
      "  Building wheel for train (setup.py): finished with status 'done'\n",
      "  Created wheel for train: filename=train-1.0.0-py2.py3-none-any.whl size=5863 sha256=f1c79a099977d5292f9cac12d2d66576114e38883b8f5769d9f17cf5e85b2ea9\n",
      "  Stored in directory: /home/model-server/tmp/pip-ephem-wheel-cache-3ihn2mdq/wheels/f3/75/57/158162e9eab7af12b5c338c279b3a81f103b89d74eeb911c00\u001b[0m\n",
      "\u001b[34mSuccessfully built train\u001b[0m\n",
      "\u001b[34mInstalling collected packages: train\u001b[0m\n",
      "\u001b[34mSuccessfully installed train-1.0.0\u001b[0m\n",
      "\u001b[34mWARNING: Running pip as the 'root' user can result in broken permissions and conflicting behaviour with the system package manager. It is recommended to use a virtual environment instead: https://pip.pypa.io/warnings/venv\u001b[0m\n",
      "\u001b[34m[2023-04-23:20:01:06:INFO] No GPUs detected (normal if no gpus installed)\u001b[0m\n",
      "\u001b[34m[2023-04-23:20:01:06:INFO] Invoking user script\u001b[0m\n",
      "\u001b[34mTraining Env:\u001b[0m\n",
      "\u001b[34m{\n",
      "    \"additional_framework_parameters\": {},\n",
      "    \"channel_input_dirs\": {\n",
      "        \"train\": \"/opt/ml/input/data/train\",\n",
      "        \"validation\": \"/opt/ml/input/data/validation\"\n",
      "    },\n",
      "    \"current_host\": \"algo-1\",\n",
      "    \"framework_module\": \"sagemaker_xgboost_container.training:main\",\n",
      "    \"hosts\": [\n",
      "        \"algo-1\"\n",
      "    ],\n",
      "    \"hyperparameters\": {\n",
      "        \"eta\": \"0.2\",\n",
      "        \"gamma\": \"4\",\n",
      "        \"max_depth\": \"5\",\n",
      "        \"min_child_weight\": \"6\",\n",
      "        \"num_round\": \"50\",\n",
      "        \"objective\": \"reg:squarederror\",\n",
      "        \"subsample\": \"0.7\",\n",
      "        \"verbosity\": \"2\"\n",
      "    },\n",
      "    \"input_config_dir\": \"/opt/ml/input/config\",\n",
      "    \"input_data_config\": {\n",
      "        \"train\": {\n",
      "            \"TrainingInputMode\": \"File\",\n",
      "            \"S3DistributionType\": \"FullyReplicated\",\n",
      "            \"RecordWrapperType\": \"None\"\n",
      "        },\n",
      "        \"validation\": {\n",
      "            \"TrainingInputMode\": \"File\",\n",
      "            \"S3DistributionType\": \"FullyReplicated\",\n",
      "            \"RecordWrapperType\": \"None\"\n",
      "        }\n",
      "    },\n",
      "    \"input_dir\": \"/opt/ml/input\",\n",
      "    \"is_master\": true,\n",
      "    \"job_name\": \"sagemaker-xgboost-2023-04-23-19-59-03-609\",\n",
      "    \"log_level\": 20,\n",
      "    \"master_hostname\": \"algo-1\",\n",
      "    \"model_dir\": \"/opt/ml/model\",\n",
      "    \"module_dir\": \"s3://fractionatordata/sagemaker-xgboost-2023-04-23-19-59-03-609/source/sourcedir.tar.gz\",\n",
      "    \"module_name\": \"train\",\n",
      "    \"network_interface_name\": \"eth0\",\n",
      "    \"num_cpus\": 8,\n",
      "    \"num_gpus\": 0,\n",
      "    \"output_data_dir\": \"/opt/ml/output/data\",\n",
      "    \"output_dir\": \"/opt/ml/output\",\n",
      "    \"output_intermediate_dir\": \"/opt/ml/output/intermediate\",\n",
      "    \"resource_config\": {\n",
      "        \"current_host\": \"algo-1\",\n",
      "        \"current_instance_type\": \"ml.m5.2xlarge\",\n",
      "        \"current_group_name\": \"homogeneousCluster\",\n",
      "        \"hosts\": [\n",
      "            \"algo-1\"\n",
      "        ],\n",
      "        \"instance_groups\": [\n",
      "            {\n",
      "                \"instance_group_name\": \"homogeneousCluster\",\n",
      "                \"instance_type\": \"ml.m5.2xlarge\",\n",
      "                \"hosts\": [\n",
      "                    \"algo-1\"\n",
      "                ]\n",
      "            }\n",
      "        ],\n",
      "        \"network_interface_name\": \"eth0\"\n",
      "    },\n",
      "    \"user_entry_point\": \"train.py\"\u001b[0m\n",
      "\u001b[34m}\u001b[0m\n",
      "\u001b[34mEnvironment variables:\u001b[0m\n",
      "\u001b[34mSM_HOSTS=[\"algo-1\"]\u001b[0m\n",
      "\u001b[34mSM_NETWORK_INTERFACE_NAME=eth0\u001b[0m\n",
      "\u001b[34mSM_HPS={\"eta\":\"0.2\",\"gamma\":\"4\",\"max_depth\":\"5\",\"min_child_weight\":\"6\",\"num_round\":\"50\",\"objective\":\"reg:squarederror\",\"subsample\":\"0.7\",\"verbosity\":\"2\"}\u001b[0m\n",
      "\u001b[34mSM_USER_ENTRY_POINT=train.py\u001b[0m\n",
      "\u001b[34mSM_FRAMEWORK_PARAMS={}\u001b[0m\n",
      "\u001b[34mSM_RESOURCE_CONFIG={\"current_group_name\":\"homogeneousCluster\",\"current_host\":\"algo-1\",\"current_instance_type\":\"ml.m5.2xlarge\",\"hosts\":[\"algo-1\"],\"instance_groups\":[{\"hosts\":[\"algo-1\"],\"instance_group_name\":\"homogeneousCluster\",\"instance_type\":\"ml.m5.2xlarge\"}],\"network_interface_name\":\"eth0\"}\u001b[0m\n",
      "\u001b[34mSM_INPUT_DATA_CONFIG={\"train\":{\"RecordWrapperType\":\"None\",\"S3DistributionType\":\"FullyReplicated\",\"TrainingInputMode\":\"File\"},\"validation\":{\"RecordWrapperType\":\"None\",\"S3DistributionType\":\"FullyReplicated\",\"TrainingInputMode\":\"File\"}}\u001b[0m\n",
      "\u001b[34mSM_OUTPUT_DATA_DIR=/opt/ml/output/data\u001b[0m\n",
      "\u001b[34mSM_CHANNELS=[\"train\",\"validation\"]\u001b[0m\n",
      "\u001b[34mSM_CURRENT_HOST=algo-1\u001b[0m\n",
      "\u001b[34mSM_MODULE_NAME=train\u001b[0m\n",
      "\u001b[34mSM_LOG_LEVEL=20\u001b[0m\n",
      "\u001b[34mSM_FRAMEWORK_MODULE=sagemaker_xgboost_container.training:main\u001b[0m\n",
      "\u001b[34mSM_INPUT_DIR=/opt/ml/input\u001b[0m\n",
      "\u001b[34mSM_INPUT_CONFIG_DIR=/opt/ml/input/config\u001b[0m\n",
      "\u001b[34mSM_OUTPUT_DIR=/opt/ml/output\u001b[0m\n",
      "\u001b[34mSM_NUM_CPUS=8\u001b[0m\n",
      "\u001b[34mSM_NUM_GPUS=0\u001b[0m\n",
      "\u001b[34mSM_MODEL_DIR=/opt/ml/model\u001b[0m\n",
      "\u001b[34mSM_MODULE_DIR=s3://fractionatordata/sagemaker-xgboost-2023-04-23-19-59-03-609/source/sourcedir.tar.gz\u001b[0m\n",
      "\u001b[34mSM_TRAINING_ENV={\"additional_framework_parameters\":{},\"channel_input_dirs\":{\"train\":\"/opt/ml/input/data/train\",\"validation\":\"/opt/ml/input/data/validation\"},\"current_host\":\"algo-1\",\"framework_module\":\"sagemaker_xgboost_container.training:main\",\"hosts\":[\"algo-1\"],\"hyperparameters\":{\"eta\":\"0.2\",\"gamma\":\"4\",\"max_depth\":\"5\",\"min_child_weight\":\"6\",\"num_round\":\"50\",\"objective\":\"reg:squarederror\",\"subsample\":\"0.7\",\"verbosity\":\"2\"},\"input_config_dir\":\"/opt/ml/input/config\",\"input_data_config\":{\"train\":{\"RecordWrapperType\":\"None\",\"S3DistributionType\":\"FullyReplicated\",\"TrainingInputMode\":\"File\"},\"validation\":{\"RecordWrapperType\":\"None\",\"S3DistributionType\":\"FullyReplicated\",\"TrainingInputMode\":\"File\"}},\"input_dir\":\"/opt/ml/input\",\"is_master\":true,\"job_name\":\"sagemaker-xgboost-2023-04-23-19-59-03-609\",\"log_level\":20,\"master_hostname\":\"algo-1\",\"model_dir\":\"/opt/ml/model\",\"module_dir\":\"s3://fractionatordata/sagemaker-xgboost-2023-04-23-19-59-03-609/source/sourcedir.tar.gz\",\"module_name\":\"train\",\"network_interface_name\":\"eth0\",\"num_cpus\":8,\"num_gpus\":0,\"output_data_dir\":\"/opt/ml/output/data\",\"output_dir\":\"/opt/ml/output\",\"output_intermediate_dir\":\"/opt/ml/output/intermediate\",\"resource_config\":{\"current_group_name\":\"homogeneousCluster\",\"current_host\":\"algo-1\",\"current_instance_type\":\"ml.m5.2xlarge\",\"hosts\":[\"algo-1\"],\"instance_groups\":[{\"hosts\":[\"algo-1\"],\"instance_group_name\":\"homogeneousCluster\",\"instance_type\":\"ml.m5.2xlarge\"}],\"network_interface_name\":\"eth0\"},\"user_entry_point\":\"train.py\"}\u001b[0m\n",
      "\u001b[34mSM_USER_ARGS=[\"--eta\",\"0.2\",\"--gamma\",\"4\",\"--max_depth\",\"5\",\"--min_child_weight\",\"6\",\"--num_round\",\"50\",\"--objective\",\"reg:squarederror\",\"--subsample\",\"0.7\",\"--verbosity\",\"2\"]\u001b[0m\n",
      "\u001b[34mSM_OUTPUT_INTERMEDIATE_DIR=/opt/ml/output/intermediate\u001b[0m\n",
      "\u001b[34mSM_CHANNEL_TRAIN=/opt/ml/input/data/train\u001b[0m\n",
      "\u001b[34mSM_CHANNEL_VALIDATION=/opt/ml/input/data/validation\u001b[0m\n",
      "\u001b[34mSM_HP_ETA=0.2\u001b[0m\n",
      "\u001b[34mSM_HP_GAMMA=4\u001b[0m\n",
      "\u001b[34mSM_HP_MAX_DEPTH=5\u001b[0m\n",
      "\u001b[34mSM_HP_MIN_CHILD_WEIGHT=6\u001b[0m\n",
      "\u001b[34mSM_HP_NUM_ROUND=50\u001b[0m\n",
      "\u001b[34mSM_HP_OBJECTIVE=reg:squarederror\u001b[0m\n",
      "\u001b[34mSM_HP_SUBSAMPLE=0.7\u001b[0m\n",
      "\u001b[34mSM_HP_VERBOSITY=2\u001b[0m\n",
      "\u001b[34mPYTHONPATH=/miniconda3/bin:/:/miniconda3/lib/python/site-packages/xgboost/dmlc-core/tracker:/miniconda3/lib/python38.zip:/miniconda3/lib/python3.8:/miniconda3/lib/python3.8/lib-dynload:/miniconda3/lib/python3.8/site-packages\u001b[0m\n",
      "\u001b[34mInvoking script with the following command:\u001b[0m\n",
      "\u001b[34m/miniconda3/bin/python3 -m train --eta 0.2 --gamma 4 --max_depth 5 --min_child_weight 6 --num_round 50 --objective reg:squarederror --subsample 0.7 --verbosity 2\u001b[0m\n",
      "\u001b[34m[20:01:07] INFO: ../src/tree/updater_prune.cc:98: tree pruning end, 14 extra nodes, 4 pruned nodes, max_depth=3\u001b[0m\n",
      "\u001b[34m[0]#011train-rmse:1.30633#011validation-rmse:1.51947\u001b[0m\n",
      "\u001b[34m[20:01:07] INFO: ../src/tree/updater_prune.cc:98: tree pruning end, 14 extra nodes, 4 pruned nodes, max_depth=3\u001b[0m\n",
      "\u001b[34m[1]#011train-rmse:1.04643#011validation-rmse:1.21534\u001b[0m\n",
      "\u001b[34m[20:01:07] INFO: ../src/tree/updater_prune.cc:98: tree pruning end, 10 extra nodes, 12 pruned nodes, max_depth=3\u001b[0m\n",
      "\u001b[34m[2]#011train-rmse:0.83875#011validation-rmse:0.97302\u001b[0m\n",
      "\u001b[34m[20:01:07] INFO: ../src/tree/updater_prune.cc:98: tree pruning end, 8 extra nodes, 16 pruned nodes, max_depth=3\u001b[0m\n",
      "\u001b[34m[3]#011train-rmse:0.67256#011validation-rmse:0.77949\u001b[0m\n",
      "\u001b[34m[20:01:08] INFO: ../src/tree/updater_prune.cc:98: tree pruning end, 8 extra nodes, 18 pruned nodes, max_depth=3\u001b[0m\n",
      "\u001b[34m[4]#011train-rmse:0.53939#011validation-rmse:0.62654\u001b[0m\n",
      "\u001b[34m[20:01:08] INFO: ../src/tree/updater_prune.cc:98: tree pruning end, 6 extra nodes, 22 pruned nodes, max_depth=2\u001b[0m\n",
      "\u001b[34m[5]#011train-rmse:0.43338#011validation-rmse:0.50031\u001b[0m\n",
      "\u001b[34m[20:01:08] INFO: ../src/tree/updater_prune.cc:98: tree pruning end, 6 extra nodes, 18 pruned nodes, max_depth=2\u001b[0m\n",
      "\u001b[34m[6]#011train-rmse:0.34831#011validation-rmse:0.40212\u001b[0m\n",
      "\u001b[34m[20:01:08] INFO: ../src/tree/updater_prune.cc:98: tree pruning end, 6 extra nodes, 20 pruned nodes, max_depth=2\u001b[0m\n",
      "\u001b[34m[7]#011train-rmse:0.28026#011validation-rmse:0.32388\u001b[0m\n",
      "\u001b[34m[20:01:08] INFO: ../src/tree/updater_prune.cc:98: tree pruning end, 4 extra nodes, 24 pruned nodes, max_depth=2\u001b[0m\n",
      "\u001b[34m[8]#011train-rmse:0.22659#011validation-rmse:0.25894\u001b[0m\n",
      "\u001b[34m[20:01:08] INFO: ../src/tree/updater_prune.cc:98: tree pruning end, 4 extra nodes, 22 pruned nodes, max_depth=2\u001b[0m\n",
      "\u001b[34m[9]#011train-rmse:0.18354#011validation-rmse:0.20682\u001b[0m\n",
      "\u001b[34m[20:01:08] INFO: ../src/tree/updater_prune.cc:98: tree pruning end, 2 extra nodes, 26 pruned nodes, max_depth=1\u001b[0m\n",
      "\u001b[34m[10]#011train-rmse:0.15043#011validation-rmse:0.16867\u001b[0m\n",
      "\u001b[34m[20:01:08] INFO: ../src/tree/updater_prune.cc:98: tree pruning end, 2 extra nodes, 34 pruned nodes, max_depth=1\u001b[0m\n",
      "\u001b[34m[11]#011train-rmse:0.12421#011validation-rmse:0.13484\u001b[0m\n",
      "\u001b[34m[20:01:08] INFO: ../src/tree/updater_prune.cc:98: tree pruning end, 0 extra nodes, 32 pruned nodes, max_depth=0\u001b[0m\n",
      "\u001b[34m[12]#011train-rmse:0.10576#011validation-rmse:0.11393\u001b[0m\n",
      "\u001b[34m[20:01:08] INFO: ../src/tree/updater_prune.cc:98: tree pruning end, 2 extra nodes, 30 pruned nodes, max_depth=1\u001b[0m\n",
      "\u001b[34m[13]#011train-rmse:0.08992#011validation-rmse:0.09499\u001b[0m\n",
      "\u001b[34m[20:01:08] INFO: ../src/tree/updater_prune.cc:98: tree pruning end, 0 extra nodes, 24 pruned nodes, max_depth=0\u001b[0m\n",
      "\u001b[34m[14]#011train-rmse:0.07959#011validation-rmse:0.08207\u001b[0m\n",
      "\u001b[34m[20:01:08] INFO: ../src/tree/updater_prune.cc:98: tree pruning end, 0 extra nodes, 26 pruned nodes, max_depth=0\u001b[0m\n",
      "\u001b[34m[15]#011train-rmse:0.07213#011validation-rmse:0.07190\u001b[0m\n",
      "\u001b[34m[20:01:08] INFO: ../src/tree/updater_prune.cc:98: tree pruning end, 0 extra nodes, 24 pruned nodes, max_depth=0\u001b[0m\n",
      "\u001b[34m[16]#011train-rmse:0.06698#011validation-rmse:0.06409\u001b[0m\n",
      "\u001b[34m[20:01:08] INFO: ../src/tree/updater_prune.cc:98: tree pruning end, 0 extra nodes, 30 pruned nodes, max_depth=0\u001b[0m\n",
      "\u001b[34m[17]#011train-rmse:0.06363#011validation-rmse:0.05838\u001b[0m\n",
      "\u001b[34m[20:01:08] INFO: ../src/tree/updater_prune.cc:98: tree pruning end, 0 extra nodes, 28 pruned nodes, max_depth=0\u001b[0m\n",
      "\u001b[34m[18]#011train-rmse:0.06130#011validation-rmse:0.05383\u001b[0m\n",
      "\u001b[34m[20:01:08] INFO: ../src/tree/updater_prune.cc:98: tree pruning end, 0 extra nodes, 32 pruned nodes, max_depth=0\u001b[0m\n",
      "\u001b[34m[19]#011train-rmse:0.05980#011validation-rmse:0.05047\u001b[0m\n",
      "\u001b[34m[20:01:08] INFO: ../src/tree/updater_prune.cc:98: tree pruning end, 0 extra nodes, 30 pruned nodes, max_depth=0\u001b[0m\n",
      "\u001b[34m[20]#011train-rmse:0.05878#011validation-rmse:0.04782\u001b[0m\n",
      "\u001b[34m[20:01:08] INFO: ../src/tree/updater_prune.cc:98: tree pruning end, 0 extra nodes, 32 pruned nodes, max_depth=0\u001b[0m\n",
      "\u001b[34m[21]#011train-rmse:0.05811#011validation-rmse:0.04577\u001b[0m\n",
      "\u001b[34m[20:01:08] INFO: ../src/tree/updater_prune.cc:98: tree pruning end, 0 extra nodes, 32 pruned nodes, max_depth=0\u001b[0m\n",
      "\u001b[34m[22]#011train-rmse:0.05768#011validation-rmse:0.04419\u001b[0m\n",
      "\u001b[34m[20:01:08] INFO: ../src/tree/updater_prune.cc:98: tree pruning end, 0 extra nodes, 30 pruned nodes, max_depth=0\u001b[0m\n",
      "\u001b[34m[23]#011train-rmse:0.05740#011validation-rmse:0.04299\u001b[0m\n",
      "\u001b[34m[20:01:08] INFO: ../src/tree/updater_prune.cc:98: tree pruning end, 0 extra nodes, 32 pruned nodes, max_depth=0\u001b[0m\n",
      "\u001b[34m[24]#011train-rmse:0.05725#011validation-rmse:0.04217\u001b[0m\n",
      "\u001b[34m[20:01:08] INFO: ../src/tree/updater_prune.cc:98: tree pruning end, 0 extra nodes, 24 pruned nodes, max_depth=0\u001b[0m\n",
      "\u001b[34m[25]#011train-rmse:0.05713#011validation-rmse:0.04146\u001b[0m\n",
      "\u001b[34m[20:01:08] INFO: ../src/tree/updater_prune.cc:98: tree pruning end, 0 extra nodes, 24 pruned nodes, max_depth=0\u001b[0m\n",
      "\u001b[34m[26]#011train-rmse:0.05706#011validation-rmse:0.04093\u001b[0m\n",
      "\u001b[34m[20:01:08] INFO: ../src/tree/updater_prune.cc:98: tree pruning end, 0 extra nodes, 34 pruned nodes, max_depth=0\u001b[0m\n",
      "\u001b[34m[27]#011train-rmse:0.05702#011validation-rmse:0.04056\u001b[0m\n",
      "\u001b[34m[20:01:08] INFO: ../src/tree/updater_prune.cc:98: tree pruning end, 0 extra nodes, 32 pruned nodes, max_depth=0\u001b[0m\n",
      "\u001b[34m[28]#011train-rmse:0.05698#011validation-rmse:0.04015\u001b[0m\n",
      "\u001b[34m[20:01:08] INFO: ../src/tree/updater_prune.cc:98: tree pruning end, 0 extra nodes, 34 pruned nodes, max_depth=0\u001b[0m\n",
      "\u001b[34m[29]#011train-rmse:0.05696#011validation-rmse:0.03983\u001b[0m\n",
      "\u001b[34m[20:01:08] INFO: ../src/tree/updater_prune.cc:98: tree pruning end, 0 extra nodes, 34 pruned nodes, max_depth=0\u001b[0m\n",
      "\u001b[34m[30]#011train-rmse:0.05695#011validation-rmse:0.03965\u001b[0m\n",
      "\u001b[34m[20:01:08] INFO: ../src/tree/updater_prune.cc:98: tree pruning end, 0 extra nodes, 26 pruned nodes, max_depth=0\u001b[0m\n",
      "\u001b[34m[31]#011train-rmse:0.05694#011validation-rmse:0.03943\u001b[0m\n",
      "\u001b[34m[20:01:08] INFO: ../src/tree/updater_prune.cc:98: tree pruning end, 0 extra nodes, 32 pruned nodes, max_depth=0\u001b[0m\n",
      "\u001b[34m[32]#011train-rmse:0.05693#011validation-rmse:0.03931\u001b[0m\n",
      "\u001b[34m[20:01:08] INFO: ../src/tree/updater_prune.cc:98: tree pruning end, 2 extra nodes, 22 pruned nodes, max_depth=1\u001b[0m\n",
      "\u001b[34m[33]#011train-rmse:0.05331#011validation-rmse:0.03627\u001b[0m\n",
      "\u001b[34m[20:01:08] INFO: ../src/tree/updater_prune.cc:98: tree pruning end, 0 extra nodes, 36 pruned nodes, max_depth=0\u001b[0m\n",
      "\u001b[34m[34]#011train-rmse:0.05331#011validation-rmse:0.03624\u001b[0m\n",
      "\u001b[34m[20:01:08] INFO: ../src/tree/updater_prune.cc:98: tree pruning end, 0 extra nodes, 28 pruned nodes, max_depth=0\u001b[0m\n",
      "\u001b[34m[35]#011train-rmse:0.05331#011validation-rmse:0.03620\u001b[0m\n",
      "\u001b[34m[20:01:08] INFO: ../src/tree/updater_prune.cc:98: tree pruning end, 0 extra nodes, 36 pruned nodes, max_depth=0\u001b[0m\n",
      "\u001b[34m[36]#011train-rmse:0.05331#011validation-rmse:0.03611\u001b[0m\n",
      "\u001b[34m[20:01:08] INFO: ../src/tree/updater_prune.cc:98: tree pruning end, 0 extra nodes, 36 pruned nodes, max_depth=0\u001b[0m\n",
      "\u001b[34m[37]#011train-rmse:0.05331#011validation-rmse:0.03598\u001b[0m\n",
      "\u001b[34m[20:01:08] INFO: ../src/tree/updater_prune.cc:98: tree pruning end, 0 extra nodes, 36 pruned nodes, max_depth=0\u001b[0m\n",
      "\u001b[34m[38]#011train-rmse:0.05331#011validation-rmse:0.03596\u001b[0m\n",
      "\u001b[34m[20:01:08] INFO: ../src/tree/updater_prune.cc:98: tree pruning end, 0 extra nodes, 34 pruned nodes, max_depth=0\u001b[0m\n",
      "\u001b[34m[39]#011train-rmse:0.05331#011validation-rmse:0.03592\u001b[0m\n",
      "\u001b[34m[20:01:08] INFO: ../src/tree/updater_prune.cc:98: tree pruning end, 0 extra nodes, 28 pruned nodes, max_depth=0\u001b[0m\n",
      "\u001b[34m[40]#011train-rmse:0.05331#011validation-rmse:0.03595\u001b[0m\n",
      "\u001b[34m[20:01:08] INFO: ../src/tree/updater_prune.cc:98: tree pruning end, 0 extra nodes, 36 pruned nodes, max_depth=0\u001b[0m\n",
      "\u001b[34m[41]#011train-rmse:0.05331#011validation-rmse:0.03596\u001b[0m\n",
      "\u001b[34m[20:01:08] INFO: ../src/tree/updater_prune.cc:98: tree pruning end, 0 extra nodes, 36 pruned nodes, max_depth=0\u001b[0m\n",
      "\u001b[34m[42]#011train-rmse:0.05331#011validation-rmse:0.03593\u001b[0m\n",
      "\u001b[34m[20:01:08] INFO: ../src/tree/updater_prune.cc:98: tree pruning end, 0 extra nodes, 36 pruned nodes, max_depth=0\u001b[0m\n",
      "\u001b[34m[43]#011train-rmse:0.05331#011validation-rmse:0.03595\u001b[0m\n",
      "\u001b[34m[20:01:08] INFO: ../src/tree/updater_prune.cc:98: tree pruning end, 0 extra nodes, 36 pruned nodes, max_depth=0\u001b[0m\n",
      "\u001b[34m[44]#011train-rmse:0.05331#011validation-rmse:0.03586\u001b[0m\n",
      "\u001b[34m[20:01:08] INFO: ../src/tree/updater_prune.cc:98: tree pruning end, 0 extra nodes, 36 pruned nodes, max_depth=0\u001b[0m\n",
      "\u001b[34m[45]#011train-rmse:0.05331#011validation-rmse:0.03586\u001b[0m\n",
      "\u001b[34m[20:01:08] INFO: ../src/tree/updater_prune.cc:98: tree pruning end, 0 extra nodes, 36 pruned nodes, max_depth=0\u001b[0m\n",
      "\u001b[34m[46]#011train-rmse:0.05331#011validation-rmse:0.03585\u001b[0m\n",
      "\u001b[34m[20:01:08] INFO: ../src/tree/updater_prune.cc:98: tree pruning end, 0 extra nodes, 36 pruned nodes, max_depth=0\u001b[0m\n",
      "\u001b[34m[47]#011train-rmse:0.05331#011validation-rmse:0.03591\u001b[0m\n",
      "\u001b[34m[20:01:08] INFO: ../src/tree/updater_prune.cc:98: tree pruning end, 0 extra nodes, 38 pruned nodes, max_depth=0\u001b[0m\n",
      "\u001b[34m[48]#011train-rmse:0.05331#011validation-rmse:0.03584\u001b[0m\n",
      "\u001b[34m[20:01:08] INFO: ../src/tree/updater_prune.cc:98: tree pruning end, 0 extra nodes, 36 pruned nodes, max_depth=0\u001b[0m\n",
      "\u001b[34m[49]#011train-rmse:0.05331#011validation-rmse:0.03585\u001b[0m\n",
      "\n",
      "2023-04-23 20:01:23 Completed - Training job completed\n",
      "Training seconds: 83\n",
      "Billable seconds: 83\n"
     ]
    }
   ],
   "source": [
    "xgb_script_mode_estimator.fit({\"train\": train_input, \"validation\": test_input})\n"
   ]
  },
  {
   "cell_type": "code",
   "execution_count": 34,
   "id": "0017e52c-bd13-46bb-b6a2-454e05ba8411",
   "metadata": {
    "tags": []
   },
   "outputs": [],
   "source": [
    "from sagemaker.xgboost.model import XGBoostModel\n",
    "from sagemaker.serializers import CSVSerializer"
   ]
  },
  {
   "cell_type": "code",
   "execution_count": null,
   "id": "30a66899-bddd-4f48-9f43-5b17428c59a1",
   "metadata": {
    "tags": []
   },
   "outputs": [
    {
     "name": "stderr",
     "output_type": "stream",
     "text": [
      "INFO:sagemaker:Creating model with name: sagemaker-xgboost-2023-04-23-20-02-45-272\n",
      "INFO:sagemaker:Creating endpoint-config with name sagemaker-xgboost-2023-04-23-20-02-45-272\n",
      "INFO:sagemaker:Creating endpoint with name sagemaker-xgboost-2023-04-23-20-02-45-272\n"
     ]
    },
    {
     "name": "stdout",
     "output_type": "stream",
     "text": [
      "--"
     ]
    }
   ],
   "source": [
    "predictor = xgb_script_mode_estimator.deploy(\n",
    "    initial_instance_count=1, instance_type=\"ml.m5.2xlarge\",\n",
    "serializer=CSVSerializer(),)"
   ]
  },
  {
   "cell_type": "code",
   "execution_count": 43,
   "id": "955c7d17-a193-4351-8e2e-cc7afd9c417a",
   "metadata": {
    "tags": []
   },
   "outputs": [
    {
     "data": {
      "text/plain": [
       "'sagemaker-xgboost-2023-04-23-20-02-45-272'"
      ]
     },
     "execution_count": 43,
     "metadata": {},
     "output_type": "execute_result"
    }
   ],
   "source": [
    "ENDPOINT_NAME=predictor.endpoint_name\n",
    "ENDPOINT_NAME"
   ]
  },
  {
   "cell_type": "code",
   "execution_count": 39,
   "id": "bcee2131-c59a-4de6-9dfa-515d99d53c05",
   "metadata": {
    "tags": []
   },
   "outputs": [
    {
     "data": {
      "text/plain": [
       "(array([3.02232, 3.02497, 3.02772, 3.03216, 3.03337, 3.03509, 3.03924,\n",
       "        3.03716, 3.03911, 3.03898]),\n",
       " array([3.02497, 3.02772, 3.03216, 3.03337, 3.03509, 3.03924, 3.03716,\n",
       "        3.03911, 3.03898, 3.03417]),\n",
       " 3.03417,\n",
       " 3.03501)"
      ]
     },
     "execution_count": 39,
     "metadata": {},
     "output_type": "execute_result"
    }
   ],
   "source": [
    "testing1=X_test[1]\n",
    "testing2=X_test[2]\n",
    "value1=y_test[1]\n",
    "value2=y_test[2]\n",
    "testing1,testing2,value1,value2"
   ]
  },
  {
   "cell_type": "code",
   "execution_count": 41,
   "id": "ef095fd5-5a41-4588-9ea2-e37f2f8f761f",
   "metadata": {
    "tags": []
   },
   "outputs": [
    {
     "data": {
      "text/plain": [
       "[['2.9409072'], ['2.9409072']]"
      ]
     },
     "execution_count": 41,
     "metadata": {},
     "output_type": "execute_result"
    }
   ],
   "source": [
    "prediction=predictor.predict([testing1,testing2])\n",
    "prediction"
   ]
  },
  {
   "cell_type": "markdown",
   "id": "3b7ed70c-017a-44fe-9be1-4a2c5c6fd42e",
   "metadata": {
    "tags": []
   },
   "source": [
    "### lambda handling function\n",
    "> ** make_prediction using lambda "
   ]
  },
  {
   "cell_type": "code",
   "execution_count": 49,
   "id": "bc082937-62b2-4f7e-8c47-27d55015f237",
   "metadata": {
    "tags": []
   },
   "outputs": [],
   "source": [
    "ENDPOINT_NAME='sagemaker-xgboost-2023-04-23-20-02-45-272'\n",
    "runtime = boto3.client('runtime.sagemaker')\n",
    "def lambda_handler(event, context):\n",
    "    inputs=event['data']\n",
    "    result=[]\n",
    "    for input in inputs:\n",
    "        serialized_input=','.join(map(str,input))\n",
    "        \n",
    "        reponse=runtime.invoke_endpoint(EndpointName=ENDPOINT_NAME,\n",
    "                                        ContentType='text/csv', \n",
    "                                        Body=serialized_input)\n",
    "        result.append(reponse['Body'].read().decode('utf-8'))\n",
    "    return result\n",
    "        "
   ]
  },
  {
   "cell_type": "code",
   "execution_count": 45,
   "id": "de5afabd-df45-41b7-ab7a-66357d09e7be",
   "metadata": {
    "tags": []
   },
   "outputs": [],
   "source": [
    "input_jason={\"data\":[testing1,testing2]}"
   ]
  },
  {
   "cell_type": "code",
   "execution_count": 48,
   "id": "eec65bf6-e8e9-4ecd-973c-b7669b0143ca",
   "metadata": {
    "tags": []
   },
   "outputs": [
    {
     "data": {
      "text/plain": [
       "['[2.9409072399139404]', '[2.9409072399139404]']"
      ]
     },
     "execution_count": 48,
     "metadata": {},
     "output_type": "execute_result"
    }
   ],
   "source": [
    "result=lambda_handler(input_jason,None)\n",
    "result"
   ]
  },
  {
   "cell_type": "code",
   "execution_count": 52,
   "id": "594ffb53-3a75-4a0c-8194-0c45109d25bb",
   "metadata": {
    "tags": []
   },
   "outputs": [
    {
     "name": "stderr",
     "output_type": "stream",
     "text": [
      "INFO:sagemaker:Deleting endpoint configuration with name: sagemaker-xgboost-2023-04-23-20-02-45-272\n",
      "INFO:sagemaker:Deleting endpoint with name: sagemaker-xgboost-2023-04-23-20-02-45-272\n"
     ]
    }
   ],
   "source": [
    "predictor.delete_endpoint()"
   ]
  },
  {
   "cell_type": "code",
   "execution_count": null,
   "id": "e99104b9-00ba-48a2-aa45-77e46f60b1d0",
   "metadata": {},
   "outputs": [],
   "source": []
  }
 ],
 "metadata": {
  "availableInstances": [
   {
    "_defaultOrder": 0,
    "_isFastLaunch": true,
    "category": "General purpose",
    "gpuNum": 0,
    "memoryGiB": 4,
    "name": "ml.t3.medium",
    "vcpuNum": 2
   },
   {
    "_defaultOrder": 1,
    "_isFastLaunch": false,
    "category": "General purpose",
    "gpuNum": 0,
    "memoryGiB": 8,
    "name": "ml.t3.large",
    "vcpuNum": 2
   },
   {
    "_defaultOrder": 2,
    "_isFastLaunch": false,
    "category": "General purpose",
    "gpuNum": 0,
    "memoryGiB": 16,
    "name": "ml.t3.xlarge",
    "vcpuNum": 4
   },
   {
    "_defaultOrder": 3,
    "_isFastLaunch": false,
    "category": "General purpose",
    "gpuNum": 0,
    "memoryGiB": 32,
    "name": "ml.t3.2xlarge",
    "vcpuNum": 8
   },
   {
    "_defaultOrder": 4,
    "_isFastLaunch": true,
    "category": "General purpose",
    "gpuNum": 0,
    "memoryGiB": 8,
    "name": "ml.m5.large",
    "vcpuNum": 2
   },
   {
    "_defaultOrder": 5,
    "_isFastLaunch": false,
    "category": "General purpose",
    "gpuNum": 0,
    "memoryGiB": 16,
    "name": "ml.m5.xlarge",
    "vcpuNum": 4
   },
   {
    "_defaultOrder": 6,
    "_isFastLaunch": false,
    "category": "General purpose",
    "gpuNum": 0,
    "memoryGiB": 32,
    "name": "ml.m5.2xlarge",
    "vcpuNum": 8
   },
   {
    "_defaultOrder": 7,
    "_isFastLaunch": false,
    "category": "General purpose",
    "gpuNum": 0,
    "memoryGiB": 64,
    "name": "ml.m5.4xlarge",
    "vcpuNum": 16
   },
   {
    "_defaultOrder": 8,
    "_isFastLaunch": false,
    "category": "General purpose",
    "gpuNum": 0,
    "memoryGiB": 128,
    "name": "ml.m5.8xlarge",
    "vcpuNum": 32
   },
   {
    "_defaultOrder": 9,
    "_isFastLaunch": false,
    "category": "General purpose",
    "gpuNum": 0,
    "memoryGiB": 192,
    "name": "ml.m5.12xlarge",
    "vcpuNum": 48
   },
   {
    "_defaultOrder": 10,
    "_isFastLaunch": false,
    "category": "General purpose",
    "gpuNum": 0,
    "memoryGiB": 256,
    "name": "ml.m5.16xlarge",
    "vcpuNum": 64
   },
   {
    "_defaultOrder": 11,
    "_isFastLaunch": false,
    "category": "General purpose",
    "gpuNum": 0,
    "memoryGiB": 384,
    "name": "ml.m5.24xlarge",
    "vcpuNum": 96
   },
   {
    "_defaultOrder": 12,
    "_isFastLaunch": false,
    "category": "General purpose",
    "gpuNum": 0,
    "memoryGiB": 8,
    "name": "ml.m5d.large",
    "vcpuNum": 2
   },
   {
    "_defaultOrder": 13,
    "_isFastLaunch": false,
    "category": "General purpose",
    "gpuNum": 0,
    "memoryGiB": 16,
    "name": "ml.m5d.xlarge",
    "vcpuNum": 4
   },
   {
    "_defaultOrder": 14,
    "_isFastLaunch": false,
    "category": "General purpose",
    "gpuNum": 0,
    "memoryGiB": 32,
    "name": "ml.m5d.2xlarge",
    "vcpuNum": 8
   },
   {
    "_defaultOrder": 15,
    "_isFastLaunch": false,
    "category": "General purpose",
    "gpuNum": 0,
    "memoryGiB": 64,
    "name": "ml.m5d.4xlarge",
    "vcpuNum": 16
   },
   {
    "_defaultOrder": 16,
    "_isFastLaunch": false,
    "category": "General purpose",
    "gpuNum": 0,
    "memoryGiB": 128,
    "name": "ml.m5d.8xlarge",
    "vcpuNum": 32
   },
   {
    "_defaultOrder": 17,
    "_isFastLaunch": false,
    "category": "General purpose",
    "gpuNum": 0,
    "memoryGiB": 192,
    "name": "ml.m5d.12xlarge",
    "vcpuNum": 48
   },
   {
    "_defaultOrder": 18,
    "_isFastLaunch": false,
    "category": "General purpose",
    "gpuNum": 0,
    "memoryGiB": 256,
    "name": "ml.m5d.16xlarge",
    "vcpuNum": 64
   },
   {
    "_defaultOrder": 19,
    "_isFastLaunch": false,
    "category": "General purpose",
    "gpuNum": 0,
    "memoryGiB": 384,
    "name": "ml.m5d.24xlarge",
    "vcpuNum": 96
   },
   {
    "_defaultOrder": 20,
    "_isFastLaunch": true,
    "category": "Compute optimized",
    "gpuNum": 0,
    "memoryGiB": 4,
    "name": "ml.c5.large",
    "vcpuNum": 2
   },
   {
    "_defaultOrder": 21,
    "_isFastLaunch": false,
    "category": "Compute optimized",
    "gpuNum": 0,
    "memoryGiB": 8,
    "name": "ml.c5.xlarge",
    "vcpuNum": 4
   },
   {
    "_defaultOrder": 22,
    "_isFastLaunch": false,
    "category": "Compute optimized",
    "gpuNum": 0,
    "memoryGiB": 16,
    "name": "ml.c5.2xlarge",
    "vcpuNum": 8
   },
   {
    "_defaultOrder": 23,
    "_isFastLaunch": false,
    "category": "Compute optimized",
    "gpuNum": 0,
    "memoryGiB": 32,
    "name": "ml.c5.4xlarge",
    "vcpuNum": 16
   },
   {
    "_defaultOrder": 24,
    "_isFastLaunch": false,
    "category": "Compute optimized",
    "gpuNum": 0,
    "memoryGiB": 72,
    "name": "ml.c5.9xlarge",
    "vcpuNum": 36
   },
   {
    "_defaultOrder": 25,
    "_isFastLaunch": false,
    "category": "Compute optimized",
    "gpuNum": 0,
    "memoryGiB": 96,
    "name": "ml.c5.12xlarge",
    "vcpuNum": 48
   },
   {
    "_defaultOrder": 26,
    "_isFastLaunch": false,
    "category": "Compute optimized",
    "gpuNum": 0,
    "memoryGiB": 144,
    "name": "ml.c5.18xlarge",
    "vcpuNum": 72
   },
   {
    "_defaultOrder": 27,
    "_isFastLaunch": false,
    "category": "Compute optimized",
    "gpuNum": 0,
    "memoryGiB": 192,
    "name": "ml.c5.24xlarge",
    "vcpuNum": 96
   },
   {
    "_defaultOrder": 28,
    "_isFastLaunch": true,
    "category": "Accelerated computing",
    "gpuNum": 1,
    "memoryGiB": 16,
    "name": "ml.g4dn.xlarge",
    "vcpuNum": 4
   },
   {
    "_defaultOrder": 29,
    "_isFastLaunch": false,
    "category": "Accelerated computing",
    "gpuNum": 1,
    "memoryGiB": 32,
    "name": "ml.g4dn.2xlarge",
    "vcpuNum": 8
   },
   {
    "_defaultOrder": 30,
    "_isFastLaunch": false,
    "category": "Accelerated computing",
    "gpuNum": 1,
    "memoryGiB": 64,
    "name": "ml.g4dn.4xlarge",
    "vcpuNum": 16
   },
   {
    "_defaultOrder": 31,
    "_isFastLaunch": false,
    "category": "Accelerated computing",
    "gpuNum": 1,
    "memoryGiB": 128,
    "name": "ml.g4dn.8xlarge",
    "vcpuNum": 32
   },
   {
    "_defaultOrder": 32,
    "_isFastLaunch": false,
    "category": "Accelerated computing",
    "gpuNum": 4,
    "memoryGiB": 192,
    "name": "ml.g4dn.12xlarge",
    "vcpuNum": 48
   },
   {
    "_defaultOrder": 33,
    "_isFastLaunch": false,
    "category": "Accelerated computing",
    "gpuNum": 1,
    "memoryGiB": 256,
    "name": "ml.g4dn.16xlarge",
    "vcpuNum": 64
   },
   {
    "_defaultOrder": 34,
    "_isFastLaunch": false,
    "category": "Accelerated computing",
    "gpuNum": 1,
    "memoryGiB": 61,
    "name": "ml.p3.2xlarge",
    "vcpuNum": 8
   },
   {
    "_defaultOrder": 35,
    "_isFastLaunch": false,
    "category": "Accelerated computing",
    "gpuNum": 4,
    "memoryGiB": 244,
    "name": "ml.p3.8xlarge",
    "vcpuNum": 32
   },
   {
    "_defaultOrder": 36,
    "_isFastLaunch": false,
    "category": "Accelerated computing",
    "gpuNum": 8,
    "memoryGiB": 488,
    "name": "ml.p3.16xlarge",
    "vcpuNum": 64
   },
   {
    "_defaultOrder": 37,
    "_isFastLaunch": false,
    "category": "Accelerated computing",
    "gpuNum": 8,
    "memoryGiB": 768,
    "name": "ml.p3dn.24xlarge",
    "vcpuNum": 96
   },
   {
    "_defaultOrder": 38,
    "_isFastLaunch": false,
    "category": "Memory Optimized",
    "gpuNum": 0,
    "memoryGiB": 16,
    "name": "ml.r5.large",
    "vcpuNum": 2
   },
   {
    "_defaultOrder": 39,
    "_isFastLaunch": false,
    "category": "Memory Optimized",
    "gpuNum": 0,
    "memoryGiB": 32,
    "name": "ml.r5.xlarge",
    "vcpuNum": 4
   },
   {
    "_defaultOrder": 40,
    "_isFastLaunch": false,
    "category": "Memory Optimized",
    "gpuNum": 0,
    "memoryGiB": 64,
    "name": "ml.r5.2xlarge",
    "vcpuNum": 8
   },
   {
    "_defaultOrder": 41,
    "_isFastLaunch": false,
    "category": "Memory Optimized",
    "gpuNum": 0,
    "memoryGiB": 128,
    "name": "ml.r5.4xlarge",
    "vcpuNum": 16
   },
   {
    "_defaultOrder": 42,
    "_isFastLaunch": false,
    "category": "Memory Optimized",
    "gpuNum": 0,
    "memoryGiB": 256,
    "name": "ml.r5.8xlarge",
    "vcpuNum": 32
   },
   {
    "_defaultOrder": 43,
    "_isFastLaunch": false,
    "category": "Memory Optimized",
    "gpuNum": 0,
    "memoryGiB": 384,
    "name": "ml.r5.12xlarge",
    "vcpuNum": 48
   },
   {
    "_defaultOrder": 44,
    "_isFastLaunch": false,
    "category": "Memory Optimized",
    "gpuNum": 0,
    "memoryGiB": 512,
    "name": "ml.r5.16xlarge",
    "vcpuNum": 64
   },
   {
    "_defaultOrder": 45,
    "_isFastLaunch": false,
    "category": "Memory Optimized",
    "gpuNum": 0,
    "memoryGiB": 768,
    "name": "ml.r5.24xlarge",
    "vcpuNum": 96
   },
   {
    "_defaultOrder": 46,
    "_isFastLaunch": false,
    "category": "Accelerated computing",
    "gpuNum": 1,
    "memoryGiB": 16,
    "name": "ml.g5.xlarge",
    "vcpuNum": 4
   },
   {
    "_defaultOrder": 47,
    "_isFastLaunch": false,
    "category": "Accelerated computing",
    "gpuNum": 1,
    "memoryGiB": 32,
    "name": "ml.g5.2xlarge",
    "vcpuNum": 8
   },
   {
    "_defaultOrder": 48,
    "_isFastLaunch": false,
    "category": "Accelerated computing",
    "gpuNum": 1,
    "memoryGiB": 64,
    "name": "ml.g5.4xlarge",
    "vcpuNum": 16
   },
   {
    "_defaultOrder": 49,
    "_isFastLaunch": false,
    "category": "Accelerated computing",
    "gpuNum": 1,
    "memoryGiB": 128,
    "name": "ml.g5.8xlarge",
    "vcpuNum": 32
   },
   {
    "_defaultOrder": 50,
    "_isFastLaunch": false,
    "category": "Accelerated computing",
    "gpuNum": 1,
    "memoryGiB": 256,
    "name": "ml.g5.16xlarge",
    "vcpuNum": 64
   },
   {
    "_defaultOrder": 51,
    "_isFastLaunch": false,
    "category": "Accelerated computing",
    "gpuNum": 4,
    "memoryGiB": 192,
    "name": "ml.g5.12xlarge",
    "vcpuNum": 48
   },
   {
    "_defaultOrder": 52,
    "_isFastLaunch": false,
    "category": "Accelerated computing",
    "gpuNum": 4,
    "memoryGiB": 384,
    "name": "ml.g5.24xlarge",
    "vcpuNum": 96
   },
   {
    "_defaultOrder": 53,
    "_isFastLaunch": false,
    "category": "Accelerated computing",
    "gpuNum": 8,
    "memoryGiB": 768,
    "name": "ml.g5.48xlarge",
    "vcpuNum": 192
   }
  ],
  "instance_type": "ml.t3.medium",
  "kernelspec": {
   "display_name": "Python 3 (Data Science)",
   "language": "python",
   "name": "python3__SAGEMAKER_INTERNAL__arn:aws:sagemaker:us-east-1:081325390199:image/datascience-1.0"
  },
  "language_info": {
   "codemirror_mode": {
    "name": "ipython",
    "version": 3
   },
   "file_extension": ".py",
   "mimetype": "text/x-python",
   "name": "python",
   "nbconvert_exporter": "python",
   "pygments_lexer": "ipython3",
   "version": "3.7.10"
  }
 },
 "nbformat": 4,
 "nbformat_minor": 5
}
